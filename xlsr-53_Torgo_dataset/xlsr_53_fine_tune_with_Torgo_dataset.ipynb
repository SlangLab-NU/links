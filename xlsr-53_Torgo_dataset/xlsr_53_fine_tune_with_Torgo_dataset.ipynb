{
  "cells": [
    {
      "cell_type": "markdown",
      "metadata": {
        "id": "cWhOHDQ1nE7g"
      },
      "source": [
        " # **Fine-tuning Wav2Vec2 for Torgo DataSet with 🤗 Transformers**"
      ]
    },
    {
      "cell_type": "markdown",
      "metadata": {
        "id": "tQYG5UJVsWxA"
      },
      "source": [
        "# **Ensure that GPU and RAM is set up: will be needed for training purpose**"
      ]
    },
    {
      "cell_type": "code",
      "execution_count": 1,
      "metadata": {
        "id": "BaMHDOzB4iJI"
      },
      "outputs": [],
      "source": [
        "speaker = \"M02\"\n",
        "repo_name = \"torgo_xlsr_finetune-{}-2\".format(speaker)\n"
      ]
    },
    {
      "cell_type": "code",
      "execution_count": 2,
      "metadata": {
        "colab": {
          "base_uri": "https://localhost:8080/"
        },
        "id": "23TOba33L4qf",
        "outputId": "91f13589-96a5-4fc0-fee9-1173267100b3"
      },
      "outputs": [
        {
          "output_type": "stream",
          "name": "stdout",
          "text": [
            "Mon Jul 24 22:21:41 2023       \n",
            "+-----------------------------------------------------------------------------+\n",
            "| NVIDIA-SMI 525.105.17   Driver Version: 525.105.17   CUDA Version: 12.0     |\n",
            "|-------------------------------+----------------------+----------------------+\n",
            "| GPU  Name        Persistence-M| Bus-Id        Disp.A | Volatile Uncorr. ECC |\n",
            "| Fan  Temp  Perf  Pwr:Usage/Cap|         Memory-Usage | GPU-Util  Compute M. |\n",
            "|                               |                      |               MIG M. |\n",
            "|===============================+======================+======================|\n",
            "|   0  Tesla T4            Off  | 00000000:00:04.0 Off |                    0 |\n",
            "| N/A   68C    P8    11W /  70W |      0MiB / 15360MiB |      0%      Default |\n",
            "|                               |                      |                  N/A |\n",
            "+-------------------------------+----------------------+----------------------+\n",
            "                                                                               \n",
            "+-----------------------------------------------------------------------------+\n",
            "| Processes:                                                                  |\n",
            "|  GPU   GI   CI        PID   Type   Process name                  GPU Memory |\n",
            "|        ID   ID                                                   Usage      |\n",
            "|=============================================================================|\n",
            "|  No running processes found                                                 |\n",
            "+-----------------------------------------------------------------------------+\n"
          ]
        }
      ],
      "source": [
        "\n",
        "gpu_info = !nvidia-smi\n",
        "gpu_info = '\\n'.join(gpu_info)\n",
        "if gpu_info.find('failed') >= 0:\n",
        "  print('Not connected to a GPU')\n",
        "else:\n",
        "  print(gpu_info)"
      ]
    },
    {
      "cell_type": "code",
      "execution_count": 3,
      "metadata": {
        "colab": {
          "base_uri": "https://localhost:8080/"
        },
        "id": "m8YOnOFHnaCC",
        "outputId": "865ef4fc-cf3d-4829-8848-73c8d5fa64b2"
      },
      "outputs": [
        {
          "output_type": "stream",
          "name": "stdout",
          "text": [
            "Your runtime has 13.6 gigabytes of available RAM\n",
            "\n",
            "Not using a high-RAM runtime\n"
          ]
        }
      ],
      "source": [
        "# ensure enough memory present so that training does not stop\n",
        "from psutil import virtual_memory\n",
        "ram_gb = virtual_memory().total / 1e9\n",
        "print('Your runtime has {:.1f} gigabytes of available RAM\\n'.format(ram_gb))\n",
        "\n",
        "if ram_gb < 20:\n",
        "  print('Not using a high-RAM runtime')\n",
        "else:\n",
        "  print('You are using a high-RAM runtime!')"
      ]
    },
    {
      "cell_type": "markdown",
      "metadata": {
        "id": "c-7J48yYnyhm"
      },
      "source": [
        "# **Packages needed:** <br>\n",
        "`datasets`: to transform the dataset <br>\n",
        "`transformers`: upgraded version of RNN (allows to process a large quantity of text) <br>\n",
        "`librosa`: needed for the audio files <br>\n",
        "`jiwer`: **most important:** WER metric"
      ]
    },
    {
      "cell_type": "code",
      "execution_count": 4,
      "metadata": {
        "id": "k6-opxm7oqhx"
      },
      "outputs": [],
      "source": [
        "%%capture\n",
        "!pip install datasets==1.18.3\n",
        "!pip install transformers==4.26.1\n",
        "!pip install jiwer\n",
        "!pip install librosa\n",
        "!pip install huggingface-hub\n",
        "# %cd /content/espnet/tools\n",
        "!make CUDA_VERSION=10.2"
      ]
    },
    {
      "cell_type": "markdown",
      "metadata": {
        "id": "uhkFBcsVsFMj"
      },
      "source": [
        "# **Download the torgo dataset that will be finetuned against the state of the art model**"
      ]
    },
    {
      "cell_type": "code",
      "execution_count": 5,
      "metadata": {
        "colab": {
          "base_uri": "https://localhost:8080/",
          "height": 145,
          "referenced_widgets": [
            "86e192e38a484121a44e3e5393ca0557",
            "ac9c3cfadc0a4ce7b1f4bd7f16d41870",
            "5840f881ca584b959fd7a39476997c30",
            "1d80700fdbf145faa3c561e2f8d728e0",
            "f9ac19dde08742e5ba8771273c4b3499",
            "81f7e0c4585242de9fae4b1b144e1b75",
            "426cd67c99a94a709a167853940e1513",
            "b74d13676f524999af0fec556be86aed",
            "6c18ea94282b40888d6f94fa62f80e94",
            "7b84aff5552a46d1a4e83f2e518f886d",
            "dc70f3e73e584a86be6a2f3261970032",
            "9a3a4771ddcd45b784014466ef439eeb",
            "702fc418d412436998d44b789e3a1ca3",
            "49bf51dc63d643d89213917b6372dc29",
            "d77c097b16d14fbe83c13e1e5844e518",
            "b6df76eab0154a75aa7f4428ee28d153",
            "d88c41fa39e64b6cbc81698d45d41968",
            "375777ba64914372b0900bacc5c0a77b",
            "64dd02bc09fc486f9ded9e68b3240b60",
            "d3fe685625794a3199af103d60939d57",
            "c4d207776895430e9ee5d790a6a07122",
            "4aa12d5672f14bbba844d430ef935a66",
            "b6f9fe1473524adc87be9b6dd80bf817",
            "b96e5bfbe60b4a489cdd07bee50f8d18",
            "78fab43b523949bd9552f5e32220c133",
            "fca2525a9a3b41afa9d2d6f199222653",
            "42090f48fe5a43318c70d88e93424969",
            "de5ba366b94a4d018f546d205a05916b",
            "789e3c7e9bd34c748750ddc0c4c12f27",
            "6ad183d1d24a45bdba0ae5ef453d9a1d",
            "100ac4893b0f44c0834134a2980de442",
            "8c5f99c48f5e4aacbf9b805b9a750d64"
          ]
        },
        "id": "4YsQBnIeppkf",
        "outputId": "f4e16389-eb32-41bb-b65a-d8317b1d79a3"
      },
      "outputs": [
        {
          "output_type": "display_data",
          "data": {
            "text/plain": [
              "VBox(children=(HTML(value='<center> <img\\nsrc=https://huggingface.co/front/assets/huggingface_logo-noborder.sv…"
            ],
            "application/vnd.jupyter.widget-view+json": {
              "version_major": 2,
              "version_minor": 0,
              "model_id": "86e192e38a484121a44e3e5393ca0557"
            }
          },
          "metadata": {}
        }
      ],
      "source": [
        "from huggingface_hub import notebook_login\n",
        "\n",
        "notebook_login()"
      ]
    },
    {
      "cell_type": "code",
      "execution_count": 5,
      "metadata": {
        "colab": {
          "base_uri": "https://localhost:8080/"
        },
        "id": "2JG-KdUHYHgn",
        "outputId": "55e6d11d-01a8-4221-f5fc-e1d850e76cd7"
      },
      "outputs": [
        {
          "output_type": "stream",
          "name": "stdout",
          "text": [
            "/content\n",
            "/content/downloads\n"
          ]
        }
      ],
      "source": [
        "%cd /content\n",
        "#!gdown 1TaP_UX2QiiKR_qWMeYtlMgHaXlYRliJ9\n",
        "\n",
        "!mkdir downloads\n",
        "%cd downloads\n",
        "# Original Link\n",
        "# !gdown 1Olr1d6Ro9gb5r9wF7JOk9YSmmbW97djs\n",
        "# !tar -xzf torgo.tar.gz && ls torgo\n",
        "# !ls torgo\n"
      ]
    },
    {
      "cell_type": "code",
      "source": [
        "!pwd"
      ],
      "metadata": {
        "colab": {
          "base_uri": "https://localhost:8080/"
        },
        "id": "I2hgfGfE4uw_",
        "outputId": "e44b8f5e-5252-4b0b-e01f-d11970310c46"
      },
      "execution_count": 7,
      "outputs": [
        {
          "output_type": "stream",
          "name": "stdout",
          "text": [
            "/content/downloads\n"
          ]
        }
      ]
    },
    {
      "cell_type": "code",
      "source": [
        "from google.colab import drive\n",
        "drive.mount('/content/drive')"
      ],
      "metadata": {
        "colab": {
          "base_uri": "https://localhost:8080/"
        },
        "id": "U0cFHl5hvUCt",
        "outputId": "81e4ddad-1c95-4313-b606-a804b5125d81"
      },
      "execution_count": 51,
      "outputs": [
        {
          "output_type": "stream",
          "name": "stdout",
          "text": [
            "Drive already mounted at /content/drive; to attempt to forcibly remount, call drive.mount(\"/content/drive\", force_remount=True).\n"
          ]
        }
      ]
    },
    {
      "cell_type": "code",
      "source": [
        "!pwd"
      ],
      "metadata": {
        "colab": {
          "base_uri": "https://localhost:8080/"
        },
        "id": "-vHC_cPmtYA_",
        "outputId": "88082312-6e00-4fe1-d5c1-b133b49a7437"
      },
      "execution_count": 52,
      "outputs": [
        {
          "output_type": "stream",
          "name": "stdout",
          "text": [
            "/content/downloads\n"
          ]
        }
      ]
    },
    {
      "cell_type": "code",
      "execution_count": 19,
      "metadata": {
        "colab": {
          "base_uri": "https://localhost:8080/"
        },
        "id": "l2gazdZLDk24",
        "outputId": "751f0f7d-f525-475d-9f56-7c81b5f0db05"
      },
      "outputs": [
        {
          "output_type": "stream",
          "name": "stdout",
          "text": [
            "/content/downloads\n"
          ]
        }
      ],
      "source": [
        "# copy Torgo dataset from Google Drive\n",
        "!pwd\n",
        "!cp -r /content/drive/MyDrive/Torgo /content/downloads/Torgo\n"
      ]
    },
    {
      "cell_type": "code",
      "execution_count": 53,
      "metadata": {
        "id": "n-DPliXJcAJv"
      },
      "outputs": [],
      "source": [
        "!cd .."
      ]
    },
    {
      "cell_type": "code",
      "source": [
        "!pwd"
      ],
      "metadata": {
        "colab": {
          "base_uri": "https://localhost:8080/"
        },
        "id": "0f104o3ExlJk",
        "outputId": "abc135ba-d260-4023-83ff-fd9694358abd"
      },
      "execution_count": 54,
      "outputs": [
        {
          "output_type": "stream",
          "name": "stdout",
          "text": [
            "/content/downloads\n"
          ]
        }
      ]
    },
    {
      "cell_type": "code",
      "source": [
        "%cd /content"
      ],
      "metadata": {
        "colab": {
          "base_uri": "https://localhost:8080/"
        },
        "id": "jxOia8HrzrCS",
        "outputId": "d3564fca-bbb3-429b-90b5-c48e64a92e0e"
      },
      "execution_count": 6,
      "outputs": [
        {
          "output_type": "stream",
          "name": "stdout",
          "text": [
            "/content\n"
          ]
        }
      ]
    },
    {
      "cell_type": "code",
      "source": [
        "!pwd"
      ],
      "metadata": {
        "colab": {
          "base_uri": "https://localhost:8080/"
        },
        "id": "waTna5k7zs9h",
        "outputId": "895b07b2-b606-4608-9ef8-12c3cc014a59"
      },
      "execution_count": 7,
      "outputs": [
        {
          "output_type": "stream",
          "name": "stdout",
          "text": [
            "/content\n"
          ]
        }
      ]
    },
    {
      "cell_type": "code",
      "source": [
        "# download the output.csv file\n",
        "!cp -r /content/drive/MyDrive/output_modified.csv /content/"
      ],
      "metadata": {
        "colab": {
          "base_uri": "https://localhost:8080/"
        },
        "id": "9PpmN0h0yvg6",
        "outputId": "48624316-92a4-42ab-8e79-aaa33a233818"
      },
      "execution_count": 8,
      "outputs": [
        {
          "output_type": "stream",
          "name": "stdout",
          "text": [
            "cp: cannot stat '/content/drive/MyDrive/output_modified.csv': No such file or directory\n"
          ]
        }
      ]
    },
    {
      "cell_type": "markdown",
      "metadata": {
        "id": "YMf7m6HVroTr"
      },
      "source": [
        "# **Connect to Hugging Face to store the results of the model**"
      ]
    },
    {
      "cell_type": "code",
      "execution_count": 83,
      "metadata": {
        "id": "coAn273Er4CC"
      },
      "outputs": [],
      "source": [
        "# to store the model checkpoints, we will need to install another package\n",
        "%%capture\n",
        "!apt install git-lfs"
      ]
    },
    {
      "cell_type": "markdown",
      "metadata": {
        "id": "lz_EOnavs0ZY"
      },
      "source": [
        "# **Crucial stage: Preparation of data, Tokenizer and Feature Extractor**"
      ]
    },
    {
      "cell_type": "markdown",
      "metadata": {
        "id": "eJZDuC3itIus"
      },
      "source": [
        "ASR models transcribe speech to text which leads to the requirement of a feature extractor and tokenizer: <br>\n",
        "`feature extractor`: processes speech signal to the required input format: audio processing: feature vector <br>\n",
        "`tokenizer`: converts the model's output to text format <br>\n",
        "`wave2vec2` has the following tokenizer: `wave2vec2CTCTokenizer` and feature extractor: `wave2vec2FeatureExtractor`"
      ]
    },
    {
      "cell_type": "markdown",
      "metadata": {
        "id": "rnw7q-wtyGyy"
      },
      "source": [
        "# **Tokenizer**"
      ]
    },
    {
      "cell_type": "code",
      "execution_count": 9,
      "metadata": {
        "colab": {
          "base_uri": "https://localhost:8080/",
          "height": 364
        },
        "id": "cegn62iAuGQc",
        "outputId": "5b50f0ae-eb54-49a4-e1df-28bcad009721",
        "collapsed": true
      },
      "outputs": [
        {
          "output_type": "error",
          "ename": "FileNotFoundError",
          "evalue": "ignored",
          "traceback": [
            "\u001b[0;31m---------------------------------------------------------------------------\u001b[0m",
            "\u001b[0;31mFileNotFoundError\u001b[0m                         Traceback (most recent call last)",
            "\u001b[0;32m<ipython-input-9-dc9fadac345e>\u001b[0m in \u001b[0;36m<cell line: 4>\u001b[0;34m()\u001b[0m\n\u001b[1;32m      2\u001b[0m \u001b[0;32mfrom\u001b[0m \u001b[0mdatasets\u001b[0m \u001b[0;32mimport\u001b[0m \u001b[0mload_dataset\u001b[0m\u001b[0;34m,\u001b[0m \u001b[0mload_metric\u001b[0m\u001b[0;34m,\u001b[0m \u001b[0mDatasetDict\u001b[0m\u001b[0;34m,\u001b[0m \u001b[0mDataset\u001b[0m\u001b[0;34m,\u001b[0m \u001b[0mAudio\u001b[0m\u001b[0;34m\u001b[0m\u001b[0;34m\u001b[0m\u001b[0m\n\u001b[1;32m      3\u001b[0m \u001b[0;34m\u001b[0m\u001b[0m\n\u001b[0;32m----> 4\u001b[0;31m \u001b[0mdata\u001b[0m \u001b[0;34m=\u001b[0m \u001b[0mload_dataset\u001b[0m\u001b[0;34m(\u001b[0m\u001b[0;34m'csv'\u001b[0m\u001b[0;34m,\u001b[0m \u001b[0mdata_files\u001b[0m\u001b[0;34m=\u001b[0m\u001b[0;34m'/content/output_modified.csv'\u001b[0m\u001b[0;34m)\u001b[0m\u001b[0;34m\u001b[0m\u001b[0;34m\u001b[0m\u001b[0m\n\u001b[0m\u001b[1;32m      5\u001b[0m \u001b[0mprint\u001b[0m\u001b[0;34m(\u001b[0m\u001b[0mdata\u001b[0m\u001b[0;34m)\u001b[0m\u001b[0;34m\u001b[0m\u001b[0;34m\u001b[0m\u001b[0m\n",
            "\u001b[0;32m/usr/local/lib/python3.10/dist-packages/datasets/load.py\u001b[0m in \u001b[0;36mload_dataset\u001b[0;34m(path, name, data_dir, data_files, split, cache_dir, features, download_config, download_mode, ignore_verifications, keep_in_memory, save_infos, revision, use_auth_token, task, streaming, script_version, **config_kwargs)\u001b[0m\n\u001b[1;32m   1673\u001b[0m \u001b[0;34m\u001b[0m\u001b[0m\n\u001b[1;32m   1674\u001b[0m     \u001b[0;31m# Create a dataset builder\u001b[0m\u001b[0;34m\u001b[0m\u001b[0;34m\u001b[0m\u001b[0m\n\u001b[0;32m-> 1675\u001b[0;31m     builder_instance = load_dataset_builder(\n\u001b[0m\u001b[1;32m   1676\u001b[0m         \u001b[0mpath\u001b[0m\u001b[0;34m=\u001b[0m\u001b[0mpath\u001b[0m\u001b[0;34m,\u001b[0m\u001b[0;34m\u001b[0m\u001b[0;34m\u001b[0m\u001b[0m\n\u001b[1;32m   1677\u001b[0m         \u001b[0mname\u001b[0m\u001b[0;34m=\u001b[0m\u001b[0mname\u001b[0m\u001b[0;34m,\u001b[0m\u001b[0;34m\u001b[0m\u001b[0;34m\u001b[0m\u001b[0m\n",
            "\u001b[0;32m/usr/local/lib/python3.10/dist-packages/datasets/load.py\u001b[0m in \u001b[0;36mload_dataset_builder\u001b[0;34m(path, name, data_dir, data_files, cache_dir, features, download_config, download_mode, revision, use_auth_token, script_version, **config_kwargs)\u001b[0m\n\u001b[1;32m   1510\u001b[0m         \u001b[0mdownload_config\u001b[0m \u001b[0;34m=\u001b[0m \u001b[0mdownload_config\u001b[0m\u001b[0;34m.\u001b[0m\u001b[0mcopy\u001b[0m\u001b[0;34m(\u001b[0m\u001b[0;34m)\u001b[0m \u001b[0;32mif\u001b[0m \u001b[0mdownload_config\u001b[0m \u001b[0;32melse\u001b[0m \u001b[0mDownloadConfig\u001b[0m\u001b[0;34m(\u001b[0m\u001b[0;34m)\u001b[0m\u001b[0;34m\u001b[0m\u001b[0;34m\u001b[0m\u001b[0m\n\u001b[1;32m   1511\u001b[0m         \u001b[0mdownload_config\u001b[0m\u001b[0;34m.\u001b[0m\u001b[0muse_auth_token\u001b[0m \u001b[0;34m=\u001b[0m \u001b[0muse_auth_token\u001b[0m\u001b[0;34m\u001b[0m\u001b[0;34m\u001b[0m\u001b[0m\n\u001b[0;32m-> 1512\u001b[0;31m     dataset_module = dataset_module_factory(\n\u001b[0m\u001b[1;32m   1513\u001b[0m         \u001b[0mpath\u001b[0m\u001b[0;34m,\u001b[0m \u001b[0mrevision\u001b[0m\u001b[0;34m=\u001b[0m\u001b[0mrevision\u001b[0m\u001b[0;34m,\u001b[0m \u001b[0mdownload_config\u001b[0m\u001b[0;34m=\u001b[0m\u001b[0mdownload_config\u001b[0m\u001b[0;34m,\u001b[0m \u001b[0mdownload_mode\u001b[0m\u001b[0;34m=\u001b[0m\u001b[0mdownload_mode\u001b[0m\u001b[0;34m,\u001b[0m \u001b[0mdata_files\u001b[0m\u001b[0;34m=\u001b[0m\u001b[0mdata_files\u001b[0m\u001b[0;34m\u001b[0m\u001b[0;34m\u001b[0m\u001b[0m\n\u001b[1;32m   1514\u001b[0m     )\n",
            "\u001b[0;32m/usr/local/lib/python3.10/dist-packages/datasets/load.py\u001b[0m in \u001b[0;36mdataset_module_factory\u001b[0;34m(path, revision, download_config, download_mode, force_local_path, dynamic_modules_path, data_files, **download_kwargs)\u001b[0m\n\u001b[1;32m   1117\u001b[0m         return PackagedDatasetModuleFactory(\n\u001b[1;32m   1118\u001b[0m             \u001b[0mpath\u001b[0m\u001b[0;34m,\u001b[0m \u001b[0mdata_files\u001b[0m\u001b[0;34m=\u001b[0m\u001b[0mdata_files\u001b[0m\u001b[0;34m,\u001b[0m \u001b[0mdownload_config\u001b[0m\u001b[0;34m=\u001b[0m\u001b[0mdownload_config\u001b[0m\u001b[0;34m,\u001b[0m \u001b[0mdownload_mode\u001b[0m\u001b[0;34m=\u001b[0m\u001b[0mdownload_mode\u001b[0m\u001b[0;34m\u001b[0m\u001b[0;34m\u001b[0m\u001b[0m\n\u001b[0;32m-> 1119\u001b[0;31m         ).get_module()\n\u001b[0m\u001b[1;32m   1120\u001b[0m     \u001b[0;31m# Try locally\u001b[0m\u001b[0;34m\u001b[0m\u001b[0;34m\u001b[0m\u001b[0m\n\u001b[1;32m   1121\u001b[0m     \u001b[0;32melif\u001b[0m \u001b[0mpath\u001b[0m\u001b[0;34m.\u001b[0m\u001b[0mendswith\u001b[0m\u001b[0;34m(\u001b[0m\u001b[0mfilename\u001b[0m\u001b[0;34m)\u001b[0m\u001b[0;34m:\u001b[0m\u001b[0;34m\u001b[0m\u001b[0;34m\u001b[0m\u001b[0m\n",
            "\u001b[0;32m/usr/local/lib/python3.10/dist-packages/datasets/load.py\u001b[0m in \u001b[0;36mget_module\u001b[0;34m(self)\u001b[0m\n\u001b[1;32m    772\u001b[0m             \u001b[0;32melse\u001b[0m \u001b[0mget_patterns_locally\u001b[0m\u001b[0;34m(\u001b[0m\u001b[0mstr\u001b[0m\u001b[0;34m(\u001b[0m\u001b[0mPath\u001b[0m\u001b[0;34m(\u001b[0m\u001b[0;34m)\u001b[0m\u001b[0;34m.\u001b[0m\u001b[0mresolve\u001b[0m\u001b[0;34m(\u001b[0m\u001b[0;34m)\u001b[0m\u001b[0;34m)\u001b[0m\u001b[0;34m)\u001b[0m\u001b[0;34m\u001b[0m\u001b[0;34m\u001b[0m\u001b[0m\n\u001b[1;32m    773\u001b[0m         )\n\u001b[0;32m--> 774\u001b[0;31m         \u001b[0mdata_files\u001b[0m \u001b[0;34m=\u001b[0m \u001b[0mDataFilesDict\u001b[0m\u001b[0;34m.\u001b[0m\u001b[0mfrom_local_or_remote\u001b[0m\u001b[0;34m(\u001b[0m\u001b[0mpatterns\u001b[0m\u001b[0;34m,\u001b[0m \u001b[0muse_auth_token\u001b[0m\u001b[0;34m=\u001b[0m\u001b[0mself\u001b[0m\u001b[0;34m.\u001b[0m\u001b[0mdownnload_config\u001b[0m\u001b[0;34m.\u001b[0m\u001b[0muse_auth_token\u001b[0m\u001b[0;34m)\u001b[0m\u001b[0;34m\u001b[0m\u001b[0;34m\u001b[0m\u001b[0m\n\u001b[0m\u001b[1;32m    775\u001b[0m         \u001b[0mmodule_path\u001b[0m\u001b[0;34m,\u001b[0m \u001b[0mhash\u001b[0m \u001b[0;34m=\u001b[0m \u001b[0m_PACKAGED_DATASETS_MODULES\u001b[0m\u001b[0;34m[\u001b[0m\u001b[0mself\u001b[0m\u001b[0;34m.\u001b[0m\u001b[0mname\u001b[0m\u001b[0;34m]\u001b[0m\u001b[0;34m\u001b[0m\u001b[0;34m\u001b[0m\u001b[0m\n\u001b[1;32m    776\u001b[0m         \u001b[0mbuilder_kwargs\u001b[0m \u001b[0;34m=\u001b[0m \u001b[0;34m{\u001b[0m\u001b[0;34m\"hash\"\u001b[0m\u001b[0;34m:\u001b[0m \u001b[0mhash\u001b[0m\u001b[0;34m,\u001b[0m \u001b[0;34m\"data_files\"\u001b[0m\u001b[0;34m:\u001b[0m \u001b[0mdata_files\u001b[0m\u001b[0;34m}\u001b[0m\u001b[0;34m\u001b[0m\u001b[0;34m\u001b[0m\u001b[0m\n",
            "\u001b[0;32m/usr/local/lib/python3.10/dist-packages/datasets/data_files.py\u001b[0m in \u001b[0;36mfrom_local_or_remote\u001b[0;34m(cls, patterns, base_path, allowed_extensions, use_auth_token)\u001b[0m\n\u001b[1;32m    576\u001b[0m         \u001b[0;32mfor\u001b[0m \u001b[0mkey\u001b[0m\u001b[0;34m,\u001b[0m \u001b[0mpatterns_for_key\u001b[0m \u001b[0;32min\u001b[0m \u001b[0mpatterns\u001b[0m\u001b[0;34m.\u001b[0m\u001b[0mitems\u001b[0m\u001b[0;34m(\u001b[0m\u001b[0;34m)\u001b[0m\u001b[0;34m:\u001b[0m\u001b[0;34m\u001b[0m\u001b[0;34m\u001b[0m\u001b[0m\n\u001b[1;32m    577\u001b[0m             out[key] = (\n\u001b[0;32m--> 578\u001b[0;31m                 DataFilesList.from_local_or_remote(\n\u001b[0m\u001b[1;32m    579\u001b[0m                     \u001b[0mpatterns_for_key\u001b[0m\u001b[0;34m,\u001b[0m\u001b[0;34m\u001b[0m\u001b[0;34m\u001b[0m\u001b[0m\n\u001b[1;32m    580\u001b[0m                     \u001b[0mbase_path\u001b[0m\u001b[0;34m=\u001b[0m\u001b[0mbase_path\u001b[0m\u001b[0;34m,\u001b[0m\u001b[0;34m\u001b[0m\u001b[0;34m\u001b[0m\u001b[0m\n",
            "\u001b[0;32m/usr/local/lib/python3.10/dist-packages/datasets/data_files.py\u001b[0m in \u001b[0;36mfrom_local_or_remote\u001b[0;34m(cls, patterns, base_path, allowed_extensions, use_auth_token)\u001b[0m\n\u001b[1;32m    544\u001b[0m     ) -> \"DataFilesList\":\n\u001b[1;32m    545\u001b[0m         \u001b[0mbase_path\u001b[0m \u001b[0;34m=\u001b[0m \u001b[0mbase_path\u001b[0m \u001b[0;32mif\u001b[0m \u001b[0mbase_path\u001b[0m \u001b[0;32mis\u001b[0m \u001b[0;32mnot\u001b[0m \u001b[0;32mNone\u001b[0m \u001b[0;32melse\u001b[0m \u001b[0mstr\u001b[0m\u001b[0;34m(\u001b[0m\u001b[0mPath\u001b[0m\u001b[0;34m(\u001b[0m\u001b[0;34m)\u001b[0m\u001b[0;34m.\u001b[0m\u001b[0mresolve\u001b[0m\u001b[0;34m(\u001b[0m\u001b[0;34m)\u001b[0m\u001b[0;34m)\u001b[0m\u001b[0;34m\u001b[0m\u001b[0;34m\u001b[0m\u001b[0m\n\u001b[0;32m--> 546\u001b[0;31m         \u001b[0mdata_files\u001b[0m \u001b[0;34m=\u001b[0m \u001b[0mresolve_patterns_locally_or_by_urls\u001b[0m\u001b[0;34m(\u001b[0m\u001b[0mbase_path\u001b[0m\u001b[0;34m,\u001b[0m \u001b[0mpatterns\u001b[0m\u001b[0;34m,\u001b[0m \u001b[0mallowed_extensions\u001b[0m\u001b[0;34m)\u001b[0m\u001b[0;34m\u001b[0m\u001b[0;34m\u001b[0m\u001b[0m\n\u001b[0m\u001b[1;32m    547\u001b[0m         \u001b[0morigin_metadata\u001b[0m \u001b[0;34m=\u001b[0m \u001b[0m_get_origin_metadata_locally_or_by_urls\u001b[0m\u001b[0;34m(\u001b[0m\u001b[0mdata_files\u001b[0m\u001b[0;34m,\u001b[0m \u001b[0muse_auth_token\u001b[0m\u001b[0;34m=\u001b[0m\u001b[0muse_auth_token\u001b[0m\u001b[0;34m)\u001b[0m\u001b[0;34m\u001b[0m\u001b[0;34m\u001b[0m\u001b[0m\n\u001b[1;32m    548\u001b[0m         \u001b[0;32mreturn\u001b[0m \u001b[0mcls\u001b[0m\u001b[0;34m(\u001b[0m\u001b[0mdata_files\u001b[0m\u001b[0;34m,\u001b[0m \u001b[0morigin_metadata\u001b[0m\u001b[0;34m)\u001b[0m\u001b[0;34m\u001b[0m\u001b[0;34m\u001b[0m\u001b[0m\n",
            "\u001b[0;32m/usr/local/lib/python3.10/dist-packages/datasets/data_files.py\u001b[0m in \u001b[0;36mresolve_patterns_locally_or_by_urls\u001b[0;34m(base_path, patterns, allowed_extensions)\u001b[0m\n\u001b[1;32m    194\u001b[0m             \u001b[0mdata_files\u001b[0m\u001b[0;34m.\u001b[0m\u001b[0mappend\u001b[0m\u001b[0;34m(\u001b[0m\u001b[0mUrl\u001b[0m\u001b[0;34m(\u001b[0m\u001b[0mpattern\u001b[0m\u001b[0;34m)\u001b[0m\u001b[0;34m)\u001b[0m\u001b[0;34m\u001b[0m\u001b[0;34m\u001b[0m\u001b[0m\n\u001b[1;32m    195\u001b[0m         \u001b[0;32melse\u001b[0m\u001b[0;34m:\u001b[0m\u001b[0;34m\u001b[0m\u001b[0;34m\u001b[0m\u001b[0m\n\u001b[0;32m--> 196\u001b[0;31m             \u001b[0;32mfor\u001b[0m \u001b[0mpath\u001b[0m \u001b[0;32min\u001b[0m \u001b[0m_resolve_single_pattern_locally\u001b[0m\u001b[0;34m(\u001b[0m\u001b[0mbase_path\u001b[0m\u001b[0;34m,\u001b[0m \u001b[0mpattern\u001b[0m\u001b[0;34m,\u001b[0m \u001b[0mallowed_extensions\u001b[0m\u001b[0;34m)\u001b[0m\u001b[0;34m:\u001b[0m\u001b[0;34m\u001b[0m\u001b[0;34m\u001b[0m\u001b[0m\n\u001b[0m\u001b[1;32m    197\u001b[0m                 \u001b[0mdata_files\u001b[0m\u001b[0;34m.\u001b[0m\u001b[0mappend\u001b[0m\u001b[0;34m(\u001b[0m\u001b[0mpath\u001b[0m\u001b[0;34m)\u001b[0m\u001b[0;34m\u001b[0m\u001b[0;34m\u001b[0m\u001b[0m\n\u001b[1;32m    198\u001b[0m \u001b[0;34m\u001b[0m\u001b[0m\n",
            "\u001b[0;32m/usr/local/lib/python3.10/dist-packages/datasets/data_files.py\u001b[0m in \u001b[0;36m_resolve_single_pattern_locally\u001b[0;34m(base_path, pattern, allowed_extensions)\u001b[0m\n\u001b[1;32m    144\u001b[0m         \u001b[0;32mif\u001b[0m \u001b[0mallowed_extensions\u001b[0m \u001b[0;32mis\u001b[0m \u001b[0;32mnot\u001b[0m \u001b[0;32mNone\u001b[0m\u001b[0;34m:\u001b[0m\u001b[0;34m\u001b[0m\u001b[0;34m\u001b[0m\u001b[0m\n\u001b[1;32m    145\u001b[0m             \u001b[0merror_msg\u001b[0m \u001b[0;34m+=\u001b[0m \u001b[0;34mf\" with any supported extension {list(allowed_extensions)}\"\u001b[0m\u001b[0;34m\u001b[0m\u001b[0;34m\u001b[0m\u001b[0m\n\u001b[0;32m--> 146\u001b[0;31m         \u001b[0;32mraise\u001b[0m \u001b[0mFileNotFoundError\u001b[0m\u001b[0;34m(\u001b[0m\u001b[0merror_msg\u001b[0m\u001b[0;34m)\u001b[0m\u001b[0;34m\u001b[0m\u001b[0;34m\u001b[0m\u001b[0m\n\u001b[0m\u001b[1;32m    147\u001b[0m     \u001b[0;32mreturn\u001b[0m \u001b[0msorted\u001b[0m\u001b[0;34m(\u001b[0m\u001b[0mout\u001b[0m\u001b[0;34m)\u001b[0m\u001b[0;34m\u001b[0m\u001b[0;34m\u001b[0m\u001b[0m\n\u001b[1;32m    148\u001b[0m \u001b[0;34m\u001b[0m\u001b[0m\n",
            "\u001b[0;31mFileNotFoundError\u001b[0m: Unable to find '/content/output_modified.csv' at /content"
          ]
        }
      ],
      "source": [
        "# load the dataset, observe structure, divide into training and test set (evaluation later)\n",
        "from datasets import load_dataset, load_metric, DatasetDict, Dataset, Audio\n",
        "\n",
        "data = load_dataset('csv', data_files='/content/output_modified.csv')\n",
        "print(data)"
      ]
    },
    {
      "cell_type": "code",
      "execution_count": 85,
      "metadata": {
        "colab": {
          "base_uri": "https://localhost:8080/",
          "height": 35
        },
        "id": "YWLCTtGAIncB",
        "outputId": "dbb5e97a-3e0f-4122-beb0-ef767839ed13"
      },
      "outputs": [
        {
          "output_type": "execute_result",
          "data": {
            "text/plain": [
              "'torgo_xlsr_finetune-M02-2'"
            ],
            "application/vnd.google.colaboratory.intrinsic+json": {
              "type": "string"
            }
          },
          "metadata": {},
          "execution_count": 85
        }
      ],
      "source": [
        "repo_name"
      ]
    },
    {
      "cell_type": "code",
      "execution_count": 86,
      "metadata": {
        "colab": {
          "base_uri": "https://localhost:8080/",
          "height": 81,
          "referenced_widgets": [
            "8be2467689b64a9c96609ad0e0e9ca22",
            "934ad97870b5409abf0f2ceafac89429",
            "27e0e7e7c3304f619472b76c0be40dba",
            "c2fd0c69a38f414ab5853ad901317f7f",
            "dbd6106bf5c44c3682958657239fa076",
            "e524354e0eed4806a1e45ffd5c636053",
            "d9727f20637a49eca149124796c1fae5",
            "07f459fbad2b4b36a3b3d9fe9f05b4b6",
            "692b4351e6f94d40b3f926238e5a60c4",
            "7959e099bf74475e94dbe37e3ae33d11",
            "e600941ecae34454acd0533c995e073b",
            "fe77a6d945ac47439313489f20246dcf",
            "88cce81fac884667bc8770e5d4f8669c",
            "d9690681795c45cfb89f5c0f1e182961",
            "40adc93e58c54af485a2e5c747fc70ec",
            "d03f10c0c9db406d8e5257531f3b3326",
            "c46625d4e9c44224a50ea6dfba33fd10",
            "653bd85258884f61a0b6664123d7b77c",
            "03baae8f89cd4870939f61e4eef230ce",
            "d349fd27647446ad826227d5d8b9c667",
            "6d4c0d062ef1498da76ed853964e4156",
            "1555e868dbdb4b198d97e4eb552f6cf3"
          ]
        },
        "id": "gWJSDFFIyNs6",
        "outputId": "7ced72f2-3415-4410-98ca-d8f0cd743a51"
      },
      "outputs": [
        {
          "output_type": "display_data",
          "data": {
            "text/plain": [
              "  0%|          | 0/6 [00:00<?, ?ba/s]"
            ],
            "application/vnd.jupyter.widget-view+json": {
              "version_major": 2,
              "version_minor": 0,
              "model_id": "8be2467689b64a9c96609ad0e0e9ca22"
            }
          },
          "metadata": {}
        },
        {
          "output_type": "display_data",
          "data": {
            "text/plain": [
              "  0%|          | 0/6 [00:00<?, ?ba/s]"
            ],
            "application/vnd.jupyter.widget-view+json": {
              "version_major": 2,
              "version_minor": 0,
              "model_id": "fe77a6d945ac47439313489f20246dcf"
            }
          },
          "metadata": {}
        }
      ],
      "source": [
        "# creating a train and testing dataset\n",
        "torgo_dataset = DatasetDict()\n",
        "\n",
        "torgo_dataset['train'] = data['train'].filter(lambda x: x != speaker, input_columns=['speaker_id'])\n",
        "torgo_dataset['test'] = data['train'].filter(lambda x: x == speaker, input_columns=['speaker_id'])"
      ]
    },
    {
      "cell_type": "code",
      "execution_count": 87,
      "metadata": {
        "colab": {
          "base_uri": "https://localhost:8080/"
        },
        "id": "CsdJm7xu0BjU",
        "outputId": "2b490b58-dee9-40a8-9b5e-57fbba53ff5a"
      },
      "outputs": [
        {
          "output_type": "execute_result",
          "data": {
            "text/plain": [
              "DatasetDict({\n",
              "    train: Dataset({\n",
              "        features: ['Unnamed: 0.1', 'session', 'text', 'audio', 'speaker_id', 'duration'],\n",
              "        num_rows: 4663\n",
              "    })\n",
              "    test: Dataset({\n",
              "        features: ['Unnamed: 0.1', 'session', 'text', 'audio', 'speaker_id', 'duration'],\n",
              "        num_rows: 764\n",
              "    })\n",
              "})"
            ]
          },
          "metadata": {},
          "execution_count": 87
        }
      ],
      "source": [
        "# remove columns that we do not need\n",
        "torgo_dataset = torgo_dataset.remove_columns([\"Unnamed: 0\"])\n",
        "torgo_dataset"
      ]
    },
    {
      "cell_type": "code",
      "execution_count": 88,
      "metadata": {
        "id": "5fy3QbML0b3A"
      },
      "outputs": [],
      "source": [
        "# ignore special characters: with no language model hard to classify them\n",
        "# also convert all the text into lowercase: makes life much more easier\n",
        "import re\n",
        "chars_to_ignore_regex = '[\\,\\?\\.\\!\\-\\;\\:\\\"]'\n",
        "\n",
        "def remove_special_characters(batch):\n",
        "    batch[\"text\"] = re.sub(chars_to_ignore_regex, '', batch[\"text\"]).lower() + \" \"\n",
        "    return batch"
      ]
    },
    {
      "cell_type": "code",
      "execution_count": 89,
      "metadata": {
        "colab": {
          "base_uri": "https://localhost:8080/",
          "height": 81,
          "referenced_widgets": [
            "46c362edbeb84872a8c8483b1d7b6e19",
            "5808fa546efb461da753f792c6c601a3",
            "0de2bc955880419b9bd8833978ae0fa0",
            "42b9270ee2174098abddc71ba497bb63",
            "3560708ed90147869157b0759cc0c78c",
            "a5dab286db044eb092669caf32ca1989",
            "d7b1d56867d34668ad3865eec10e9148",
            "c7cd2616a25c4d8da4760b4e2b8d6152",
            "70709613722e45349b7ee2a96f7832b7",
            "dc178826e6084c7aad4860f262dcabc0",
            "29ae687a37134c11821b60e242824ed7",
            "85b26ad4a87d458da0354a888a97bc4a",
            "027d3651a8fd4fbc8e4584c8e0524b63",
            "45f89162a8cc4d00ab4009bcf540ecb3",
            "4e54e5f066394cbb90e810819e080430",
            "bcadae826cfe4fbe86aefe28f5960b04",
            "672f90dee1914c07bddb0dfadcd7a521",
            "00461a53518947cd8db0f902cce71309",
            "1e8022ac0ed54f38a1e27833c4b0eb8f",
            "d895ef401a2d48258ccc5d692d4a54c3",
            "9dabd55e4cad4794a44eac0728744a70",
            "ad54ac2253b24e458fa537f12cde94b9"
          ]
        },
        "id": "Bab1be7206uU",
        "outputId": "c4070bbc-6925-4325-8983-dce9ea8383bd"
      },
      "outputs": [
        {
          "output_type": "display_data",
          "data": {
            "text/plain": [
              "0ex [00:00, ?ex/s]"
            ],
            "application/vnd.jupyter.widget-view+json": {
              "version_major": 2,
              "version_minor": 0,
              "model_id": "46c362edbeb84872a8c8483b1d7b6e19"
            }
          },
          "metadata": {}
        },
        {
          "output_type": "display_data",
          "data": {
            "text/plain": [
              "0ex [00:00, ?ex/s]"
            ],
            "application/vnd.jupyter.widget-view+json": {
              "version_major": 2,
              "version_minor": 0,
              "model_id": "85b26ad4a87d458da0354a888a97bc4a"
            }
          },
          "metadata": {}
        }
      ],
      "source": [
        "# use map function to carry out the process/transformation\n",
        "torgo_dataset = torgo_dataset.map(remove_special_characters)"
      ]
    },
    {
      "cell_type": "code",
      "execution_count": 90,
      "metadata": {
        "colab": {
          "base_uri": "https://localhost:8080/",
          "height": 81,
          "referenced_widgets": [
            "654f2fbd938e422485ac226847bbbf97",
            "eebf3ee03ee84144bc139541c8b3f2ec",
            "21a2e5834e8f47ee8083336de31bf774",
            "f4272d4508694fe884391ce6af0617a6",
            "497263ce7b0b43e199199f860956a19d",
            "a67e2049e2094db1b043ed4b202fb978",
            "9468a71912b04aadae68595034667438",
            "1df50976743c4e2dbdf7919911bc3c3e",
            "47021ed14e4d47418890aee1d576c8c1",
            "92b06844327849f7b1b8fcd75ca49524",
            "68571f171af441d69c41aade43efa9e1",
            "60eb77aa4a43469baea6f2b4434c6102",
            "33220c61717546d28f40c83d0ff4beb6",
            "9013e7df29994fd29e1c302a8b50ed19",
            "c78c16d674cb44a5ac5d1dc5bdd99364",
            "be943491fb7549a8a1b41103a6aa3dd5",
            "46b83a3155aa47298df89f9857754ec2",
            "a88b6e2b09b4459481b2e23956e3e08c",
            "93d349fa2ad94ab29f238be20ebbc55e",
            "ad4211e0942f4b3e8affe1dad0264498",
            "9f2864c864a9444fb704acf1e89ba648",
            "d404b9347be24ae8b81ae3389fe65226"
          ]
        },
        "id": "VCadOZ-V1UTm",
        "outputId": "4d5c026f-578d-44b7-c367-3e2f64e45230"
      },
      "outputs": [
        {
          "output_type": "display_data",
          "data": {
            "text/plain": [
              "  0%|          | 0/1 [00:00<?, ?ba/s]"
            ],
            "application/vnd.jupyter.widget-view+json": {
              "version_major": 2,
              "version_minor": 0,
              "model_id": "654f2fbd938e422485ac226847bbbf97"
            }
          },
          "metadata": {}
        },
        {
          "output_type": "display_data",
          "data": {
            "text/plain": [
              "  0%|          | 0/1 [00:00<?, ?ba/s]"
            ],
            "application/vnd.jupyter.widget-view+json": {
              "version_major": 2,
              "version_minor": 0,
              "model_id": "60eb77aa4a43469baea6f2b4434c6102"
            }
          },
          "metadata": {}
        }
      ],
      "source": [
        "# write a function that will first concatenate all the transcriptions to one single transcription and them we map them to characters\n",
        "# In short: creating tokens: determine the length of array\n",
        "\n",
        "def extract_all_chars(batch):\n",
        "  all_text = \" \".join(batch[\"text\"])\n",
        "  vocab = list(set(all_text))\n",
        "  return {\"vocab\": [vocab], \"all_text\": [all_text]}\n",
        "\n",
        "vocabs = torgo_dataset.map(extract_all_chars, batched=True, batch_size=-1, keep_in_memory=True, remove_columns=torgo_dataset.column_names[\"train\"])\n"
      ]
    },
    {
      "cell_type": "code",
      "execution_count": 91,
      "metadata": {
        "colab": {
          "base_uri": "https://localhost:8080/"
        },
        "id": "o7YK_auD2C1Q",
        "outputId": "fbc00911-047c-484e-b081-61b5499fcccb"
      },
      "outputs": [
        {
          "output_type": "execute_result",
          "data": {
            "text/plain": [
              "{'p': 0,\n",
              " 'a': 1,\n",
              " 'r': 2,\n",
              " 'o': 3,\n",
              " 'q': 4,\n",
              " 'g': 5,\n",
              " 'm': 6,\n",
              " 'b': 7,\n",
              " 'y': 8,\n",
              " 'i': 9,\n",
              " 'd': 10,\n",
              " 'n': 11,\n",
              " \"'\": 12,\n",
              " 'h': 13,\n",
              " 't': 14,\n",
              " 'l': 15,\n",
              " 's': 16,\n",
              " 'c': 17,\n",
              " 'j': 18,\n",
              " 'x': 19,\n",
              " 'z': 20,\n",
              " 'e': 21,\n",
              " 'k': 22,\n",
              " ' ': 23,\n",
              " 'u': 24,\n",
              " 'w': 25,\n",
              " 'f': 26,\n",
              " 'v': 27}"
            ]
          },
          "metadata": {},
          "execution_count": 91
        }
      ],
      "source": [
        "# we create the union of all distinct letters in the training dataset and test dataset and convert the resulting list into\n",
        "# an enumerated dictionary\n",
        "\n",
        "vocab_list = list(set(vocabs[\"train\"][\"vocab\"][0]) | set(vocabs[\"test\"][\"vocab\"][0]))\n",
        "vocab_dict = {v: k for k, v in enumerate(vocab_list)}\n",
        "vocab_dict"
      ]
    },
    {
      "cell_type": "code",
      "execution_count": 92,
      "metadata": {
        "id": "BMRHirWV2l8x"
      },
      "outputs": [],
      "source": [
        "# from the above tokens: we given the space token visibility by using the symbol (|)\n",
        "vocab_dict[\"|\"] = vocab_dict[\" \"]\n",
        "del vocab_dict[\" \"]"
      ]
    },
    {
      "cell_type": "code",
      "execution_count": 93,
      "metadata": {
        "colab": {
          "base_uri": "https://localhost:8080/"
        },
        "id": "oFJ5FdJh2-8L",
        "outputId": "c2630fc4-398e-449b-8900-b103f6cbff88"
      },
      "outputs": [
        {
          "output_type": "stream",
          "name": "stdout",
          "text": [
            "30\n"
          ]
        }
      ],
      "source": [
        "# adding tokens for anything unknown discovered and padding for the blank token\n",
        "vocab_dict[\"[UNK]\"] = len(vocab_dict)\n",
        "vocab_dict[\"[PAD]\"] = len(vocab_dict)\n",
        "print(len(vocab_dict))"
      ]
    },
    {
      "cell_type": "markdown",
      "metadata": {
        "id": "zmCFmfWa3rDN"
      },
      "source": [
        "Linear layer we add on top of the pretrained checkpoint will have an output dimension of 32."
      ]
    },
    {
      "cell_type": "code",
      "execution_count": 94,
      "metadata": {
        "id": "lSSCH_sA3cxT"
      },
      "outputs": [],
      "source": [
        "# jsonify the file next\n",
        "import json\n",
        "with open('vocab.json', 'w') as vocab_file:\n",
        "    json.dump(vocab_dict, vocab_file)"
      ]
    },
    {
      "cell_type": "code",
      "execution_count": 95,
      "metadata": {
        "id": "Kuh_h60C36MY"
      },
      "outputs": [],
      "source": [
        "# instantiate an object of the tokenizer class\n",
        "from transformers import Wav2Vec2CTCTokenizer\n",
        "\n",
        "tokenizer = Wav2Vec2CTCTokenizer(\"./vocab.json\", unk_token=\"[UNK]\", pad_token=\"[PAD]\", word_delimiter_token=\"|\")"
      ]
    },
    {
      "cell_type": "code",
      "execution_count": 96,
      "metadata": {
        "id": "pJhHdzsZ4Dx9"
      },
      "outputs": [],
      "source": [
        "# upload tokenizer to the Hugging Face Repo\n",
        "# repo_name = \"base-torgo\""
      ]
    },
    {
      "cell_type": "code",
      "execution_count": 97,
      "metadata": {
        "colab": {
          "base_uri": "https://localhost:8080/"
        },
        "id": "u1piIRWJ4URB",
        "outputId": "0ccfa3bc-334d-4422-bf9d-4e84b56edb54"
      },
      "outputs": [
        {
          "output_type": "execute_result",
          "data": {
            "text/plain": [
              "CommitInfo(commit_url='https://huggingface.co/monideep2255/torgo_xlsr_finetune-M02-2/commit/18455693f0308c0c1c84479b96d95b10623682ef', commit_message='Upload tokenizer', commit_description='', oid='18455693f0308c0c1c84479b96d95b10623682ef', pr_url=None, pr_revision=None, pr_num=None)"
            ]
          },
          "metadata": {},
          "execution_count": 97
        }
      ],
      "source": [
        "# push it to Hugging face to use it later\n",
        "tokenizer.push_to_hub(repo_name)"
      ]
    },
    {
      "cell_type": "markdown",
      "metadata": {
        "id": "6PuEWM6t6Iy8"
      },
      "source": [
        "# **Feature Extractor**"
      ]
    },
    {
      "cell_type": "markdown",
      "metadata": {
        "id": "-bm2_Gpt6p2e"
      },
      "source": [
        "To convert speech to text: it has to first discretized: create individual units: called **sampling**\n",
        "\n",
        "A higher sampling rate leads to a better approximation of the real speech signal but also necessitates more values per second"
      ]
    },
    {
      "cell_type": "markdown",
      "metadata": {
        "id": "K3bbX3DB7Su_"
      },
      "source": [
        "A Wav2Vec2 feature extractor object requires the following parameters to be instantiated:\n",
        "\n",
        "- `feature_size`: Speech models take a sequence of feature vectors as an input. While the length of this sequence obviously varies, the feature size should not. In the case of Wav2Vec2, the feature size is 1 because the model was trained on the raw speech signal ${}^2$.\n",
        "- `sampling_rate`: The sampling rate at which the model is trained on.\n",
        "- `padding_value`: For batched inference, shorter inputs need to be padded with a specific value\n",
        "- `do_normalize`: Whether the input should be *zero-mean-unit-variance* normalized or not. Usually, speech models perform better when normalizing the input\n",
        "- `return_attention_mask`: Whether the model should make use of an `attention_mask` for batched inference. In general, models should **always** make use of the `attention_mask` to mask padded tokens. However, due to a very specific design choice of `Wav2Vec2`'s \"base\" checkpoint, better results are achieved when using no `attention_mask`."
      ]
    },
    {
      "cell_type": "code",
      "execution_count": 98,
      "metadata": {
        "id": "Ih-ytPhY6PeH"
      },
      "outputs": [],
      "source": [
        "from transformers import Wav2Vec2FeatureExtractor\n",
        "\n",
        "feature_extractor = Wav2Vec2FeatureExtractor(feature_size=1, sampling_rate=16000, padding_value=0.0, do_normalize=True, return_attention_mask=True)"
      ]
    },
    {
      "cell_type": "code",
      "execution_count": 99,
      "metadata": {
        "id": "J8hc0dV_7vCl"
      },
      "outputs": [],
      "source": [
        "# wrap the feature extractor and tokenizer into a single processor class: when testing will only need model and processor object\n",
        "from transformers import Wav2Vec2Processor\n",
        "\n",
        "processor = Wav2Vec2Processor(feature_extractor=feature_extractor, tokenizer=tokenizer)"
      ]
    },
    {
      "cell_type": "markdown",
      "metadata": {
        "id": "b2IdIoVt8K_j"
      },
      "source": [
        "#**Prepare Dataset**"
      ]
    },
    {
      "cell_type": "code",
      "execution_count": 100,
      "metadata": {
        "id": "yV7FN23l_JZy"
      },
      "outputs": [],
      "source": [
        "torgo_dataset = torgo_dataset.cast_column(\"audio\", Audio(sampling_rate=16000))"
      ]
    },
    {
      "cell_type": "code",
      "execution_count": 101,
      "metadata": {
        "colab": {
          "base_uri": "https://localhost:8080/"
        },
        "id": "fO45ie0s8HrI",
        "outputId": "51fca4bf-7d34-4ee0-89f4-7fc71436c74b"
      },
      "outputs": [
        {
          "output_type": "execute_result",
          "data": {
            "text/plain": [
              "{'path': '/content/downloads/Torgo/F01/Session1/wav_arrayMic/0012.wav',\n",
              " 'array': array([-0.00201416, -0.00595093, -0.00567627, ...,  0.0005188 ,\n",
              "         0.00094604, -0.00186157], dtype=float32),\n",
              " 'sampling_rate': 16000}"
            ]
          },
          "metadata": {},
          "execution_count": 101
        }
      ],
      "source": [
        "torgo_dataset[\"train\"][4][\"audio\"]"
      ]
    },
    {
      "cell_type": "code",
      "execution_count": 102,
      "metadata": {
        "id": "tG5cGLoF-vDL"
      },
      "outputs": [],
      "source": [
        "# testing out sample audio files that have been loaded\n",
        "import IPython.display as ipd\n",
        "import numpy as np\n",
        "import random\n",
        "\n",
        "rand_int = random.randint(0, len(torgo_dataset[\"train\"]))\n",
        "\n",
        "#print(torgo_dataset[\"train\"][rand_int][\"text\"])\n",
        "#ipd.Audio(data=np.asarray(torgo_dataset[\"train\"][rand_int][\"audio\"][\"array\"]), autoplay=True, rate=16000)"
      ]
    },
    {
      "cell_type": "markdown",
      "metadata": {
        "id": "z1AkB-EpSHuf"
      },
      "source": [
        "# **Processing the dataset expected by the model**\n",
        "\n",
        "1. load and resample the audio data: call batch[\"audio\"]\n",
        "2. extract values from the loaded audio file\n",
        "3. encode the transcriptions to label ids"
      ]
    },
    {
      "cell_type": "code",
      "execution_count": 103,
      "metadata": {
        "id": "PMCXEruDAZ4C"
      },
      "outputs": [],
      "source": [
        "def prepare_dataset(batch):\n",
        "    # load the the audio data into batch\n",
        "    audio = batch[\"audio\"]\n",
        "\n",
        "    # extract the values from the audio files\n",
        "    batch[\"input_values\"] = processor(audio[\"array\"], sampling_rate=audio[\"sampling_rate\"]).input_values[0]\n",
        "    batch[\"input_length\"] = len(batch[\"input_values\"])\n",
        "\n",
        "    # encode it to the label ids\n",
        "    with processor.as_target_processor():\n",
        "        batch[\"labels\"] = processor(batch[\"text\"]).input_ids\n",
        "    return batch"
      ]
    },
    {
      "cell_type": "code",
      "execution_count": 104,
      "metadata": {
        "colab": {
          "base_uri": "https://localhost:8080/",
          "height": 315
        },
        "id": "N62gUnUcS1im",
        "outputId": "6994e5fc-6327-48b8-bdd6-7b5cfa8bfc87"
      },
      "outputs": [
        {
          "output_type": "stream",
          "name": "stderr",
          "text": [
            "/usr/local/lib/python3.10/dist-packages/transformers/models/wav2vec2/processing_wav2vec2.py:155: UserWarning: `as_target_processor` is deprecated and will be removed in v5 of Transformers. You can process your labels by using the argument `text` of the regular `__call__` method (either in the same call as your audio inputs, or in a separate call.\n",
            "  warnings.warn(\n",
            "/usr/local/lib/python3.10/dist-packages/transformers/models/wav2vec2/processing_wav2vec2.py:155: UserWarning: `as_target_processor` is deprecated and will be removed in v5 of Transformers. You can process your labels by using the argument `text` of the regular `__call__` method (either in the same call as your audio inputs, or in a separate call.\n",
            "  warnings.warn(\n",
            "/usr/local/lib/python3.10/dist-packages/transformers/models/wav2vec2/processing_wav2vec2.py:155: UserWarning: `as_target_processor` is deprecated and will be removed in v5 of Transformers. You can process your labels by using the argument `text` of the regular `__call__` method (either in the same call as your audio inputs, or in a separate call.\n",
            "  warnings.warn(\n",
            "/usr/local/lib/python3.10/dist-packages/transformers/models/wav2vec2/processing_wav2vec2.py:155: UserWarning: `as_target_processor` is deprecated and will be removed in v5 of Transformers. You can process your labels by using the argument `text` of the regular `__call__` method (either in the same call as your audio inputs, or in a separate call.\n",
            "  warnings.warn(\n",
            "/usr/local/lib/python3.10/dist-packages/transformers/models/wav2vec2/processing_wav2vec2.py:155: UserWarning: `as_target_processor` is deprecated and will be removed in v5 of Transformers. You can process your labels by using the argument `text` of the regular `__call__` method (either in the same call as your audio inputs, or in a separate call.\n",
            "  warnings.warn(\n",
            "/usr/local/lib/python3.10/dist-packages/transformers/models/wav2vec2/processing_wav2vec2.py:155: UserWarning: `as_target_processor` is deprecated and will be removed in v5 of Transformers. You can process your labels by using the argument `text` of the regular `__call__` method (either in the same call as your audio inputs, or in a separate call.\n",
            "  warnings.warn(\n",
            "/usr/local/lib/python3.10/dist-packages/transformers/models/wav2vec2/processing_wav2vec2.py:155: UserWarning: `as_target_processor` is deprecated and will be removed in v5 of Transformers. You can process your labels by using the argument `text` of the regular `__call__` method (either in the same call as your audio inputs, or in a separate call.\n",
            "  warnings.warn(\n",
            "/usr/local/lib/python3.10/dist-packages/transformers/models/wav2vec2/processing_wav2vec2.py:155: UserWarning: `as_target_processor` is deprecated and will be removed in v5 of Transformers. You can process your labels by using the argument `text` of the regular `__call__` method (either in the same call as your audio inputs, or in a separate call.\n",
            "  warnings.warn(\n"
          ]
        }
      ],
      "source": [
        "torgo_dataset = torgo_dataset.map(prepare_dataset, remove_columns=torgo_dataset.column_names[\"train\"], num_proc=4)"
      ]
    },
    {
      "cell_type": "markdown",
      "metadata": {
        "id": "M4J0bU1WsvAg"
      },
      "source": [
        "Long input sequences require a lot of memory. Since `Wav2Vec2` is based on `self-attention` the memory requirement scales quadratically with the input length for long input sequences."
      ]
    },
    {
      "cell_type": "code",
      "execution_count": 105,
      "metadata": {
        "colab": {
          "base_uri": "https://localhost:8080/"
        },
        "id": "H31BxMlzxtvx",
        "outputId": "a418f01d-3985-4d0c-d025-2c0810c3339d"
      },
      "outputs": [
        {
          "output_type": "execute_result",
          "data": {
            "text/plain": [
              "DatasetDict({\n",
              "    train: Dataset({\n",
              "        features: ['input_values', 'input_length', 'labels'],\n",
              "        num_rows: 4663\n",
              "    })\n",
              "    test: Dataset({\n",
              "        features: ['input_values', 'input_length', 'labels'],\n",
              "        num_rows: 764\n",
              "    })\n",
              "})"
            ]
          },
          "metadata": {},
          "execution_count": 105
        }
      ],
      "source": [
        "torgo_dataset"
      ]
    },
    {
      "cell_type": "markdown",
      "metadata": {
        "id": "2rLoHyOkGGVL"
      },
      "source": [
        "### changed"
      ]
    },
    {
      "cell_type": "code",
      "execution_count": 106,
      "metadata": {
        "colab": {
          "base_uri": "https://localhost:8080/",
          "height": 145,
          "referenced_widgets": [
            "bc78695a124c4429af3cd4df8f677e53",
            "42a86e119c264613ab77241fe4a38c2c",
            "aabd946f93b644cb84f7e8bf3eaf7f22",
            "f73c53a3e1b64f1dbab01aae6675fec1",
            "eacf9efe381a4b7ca4ba1858a2e62af5",
            "a20138b8194c4ca5a0738cf9bcf8dff7",
            "3b8244d24e9f48899432a27ebf818d05",
            "0c14f083848e412badf7ee77e11ddc85",
            "e6edd045059b40caa76a9132abe95deb",
            "19059f77f2b94063a65b25c154ae25d0",
            "404978d290ff4e2bb33a59762f9a5927",
            "062992bc20d04bf383c7eb292cb56290",
            "11f2cee9f3ae4189a9be58649907844c",
            "826afee414f044d282adad30f4ed7416",
            "4653163288924e40af91775e11a67f48",
            "ba6e98e72af44fa79ae9f5e8e44b9d05",
            "7944b6f1534f45138c5363eafd3253b0",
            "861561fab1284c9caaf973dc50f9eb59",
            "56d43ad0e66c47d5a41ec35018bb84a1",
            "f141d50a8d16432e86723c8b1610a3aa",
            "4f65f59673d64ddf86bf38d735be10dc",
            "e8e6953e788940cfb7e4dada0f463a1e",
            "5b0894ce455949cdbb666becb895b138",
            "533c341f12504140b16b009a26a97b2e",
            "92a5e28c895045b0ae0c16be05785be8",
            "22051d7515c0472ead83b25e42368d89",
            "bb102d515e6048f496a0d27d444119cc",
            "d77eec33779748f3ab49c578a2d2c439",
            "329fc8d165d4474b955d1495629323c4",
            "ed680436997c460e93c22957ba411cfd",
            "9172ca1a7d7140fd90400e892c5f7dde",
            "6d390f41b9a9420f9bc9ed0f88255d3e",
            "cd5ee12a91ab490c882befd6df49e428",
            "93b157ef5e0f4a77ad5becea923ec97a",
            "661f4441ca074830ba5a8ff629a327a8",
            "48a42a23115d4c7d96a2baa2393e38f6",
            "9e02be8202304f1fa6e09403f7efe38a",
            "c6cfaca312d2402faa9fcd65f4e42a65",
            "e6f01534de684955838d926eb2c298da",
            "cedcbbabb32c4964b1f02174629b3c80",
            "ee96bb6ad6b042869e579e64dd23856d",
            "4c269f598fe64b43bee81006df304cb6",
            "fafaea533c9d4588a0a9aeee97a8ba6b",
            "46b8470486f34980b0e9c45e041ca9de"
          ]
        },
        "id": "nqGobEPUvG3v",
        "outputId": "7adf7091-01f1-4568-897a-ae1891519d83"
      },
      "outputs": [
        {
          "output_type": "display_data",
          "data": {
            "text/plain": [
              "  0%|          | 0/5 [00:00<?, ?ba/s]"
            ],
            "application/vnd.jupyter.widget-view+json": {
              "version_major": 2,
              "version_minor": 0,
              "model_id": "bc78695a124c4429af3cd4df8f677e53"
            }
          },
          "metadata": {}
        },
        {
          "output_type": "display_data",
          "data": {
            "text/plain": [
              "  0%|          | 0/5 [00:00<?, ?ba/s]"
            ],
            "application/vnd.jupyter.widget-view+json": {
              "version_major": 2,
              "version_minor": 0,
              "model_id": "062992bc20d04bf383c7eb292cb56290"
            }
          },
          "metadata": {}
        },
        {
          "output_type": "display_data",
          "data": {
            "text/plain": [
              "  0%|          | 0/1 [00:00<?, ?ba/s]"
            ],
            "application/vnd.jupyter.widget-view+json": {
              "version_major": 2,
              "version_minor": 0,
              "model_id": "5b0894ce455949cdbb666becb895b138"
            }
          },
          "metadata": {}
        },
        {
          "output_type": "display_data",
          "data": {
            "text/plain": [
              "  0%|          | 0/1 [00:00<?, ?ba/s]"
            ],
            "application/vnd.jupyter.widget-view+json": {
              "version_major": 2,
              "version_minor": 0,
              "model_id": "93b157ef5e0f4a77ad5becea923ec97a"
            }
          },
          "metadata": {}
        }
      ],
      "source": [
        "max_input_length_in_sec = 9.0\n",
        "min_input_length_in_sec= 1.0\n",
        "torgo_dataset[\"train\"] = torgo_dataset[\"train\"].filter(lambda x: x < max_input_length_in_sec * processor.feature_extractor.sampling_rate, input_columns=[\"input_length\"])\n",
        "torgo_dataset[\"train\"] = torgo_dataset[\"train\"].filter(lambda x: x > min_input_length_in_sec * processor.feature_extractor.sampling_rate, input_columns=[\"input_length\"])\n",
        "torgo_dataset[\"test\"] = torgo_dataset[\"test\"].filter(lambda x: x < max_input_length_in_sec * processor.feature_extractor.sampling_rate, input_columns=[\"input_length\"])\n",
        "torgo_dataset[\"test\"] = torgo_dataset[\"test\"].filter(lambda x: x > min_input_length_in_sec * processor.feature_extractor.sampling_rate, input_columns=[\"input_length\"])\n"
      ]
    },
    {
      "cell_type": "code",
      "execution_count": 107,
      "metadata": {
        "colab": {
          "base_uri": "https://localhost:8080/"
        },
        "id": "VFUwdiCtEDhd",
        "outputId": "145b5582-7367-40bc-b702-faacfdf9edfe"
      },
      "outputs": [
        {
          "output_type": "stream",
          "name": "stdout",
          "text": [
            "fatal: not a git repository (or any of the parent directories): .git\n"
          ]
        }
      ],
      "source": [
        "!git pull"
      ]
    },
    {
      "cell_type": "markdown",
      "metadata": {
        "id": "me9QPu4LVNg1"
      },
      "source": [
        "# **Training and Evaluation**"
      ]
    },
    {
      "cell_type": "markdown",
      "metadata": {
        "id": "LgJukIVSWSeq"
      },
      "source": [
        "**Need for a  data collabtor** <br>\n",
        "wave2vec2 has a much larger input length as compared to the output length. For the input size, it is efficient to pad training batches to the longest sample in the batch (not overall sample)"
      ]
    },
    {
      "cell_type": "code",
      "execution_count": 108,
      "metadata": {
        "id": "kL3la2BPW6qc"
      },
      "outputs": [],
      "source": [
        "# data collator\n",
        "\n",
        "import torch\n",
        "\n",
        "from dataclasses import dataclass, field\n",
        "from typing import Any, Dict, List, Optional, Union\n",
        "\n",
        "@dataclass\n",
        "class DataCollatorCTCWithPadding:\n",
        "    \"\"\"\n",
        "    Data collator that will dynamically pad the inputs received.\n",
        "    Args:\n",
        "        processor (:class:`~transformers.Wav2Vec2Processor`)\n",
        "            The processor used for proccessing the data.\n",
        "        padding (:obj:`bool`, :obj:`str` or :class:`~transformers.tokenization_utils_base.PaddingStrategy`, `optional`, defaults to :obj:`True`):\n",
        "            Select a strategy to pad the returned sequences (according to the model's padding side and padding index)\n",
        "            among:\n",
        "            * :obj:`True` or :obj:`'longest'`: Pad to the longest sequence in the batch (or no padding if only a single\n",
        "              sequence if provided).\n",
        "            * :obj:`'max_length'`: Pad to a maximum length specified with the argument :obj:`max_length` or to the\n",
        "              maximum acceptable input length for the model if that argument is not provided.\n",
        "            * :obj:`False` or :obj:`'do_not_pad'` (default): No padding (i.e., can output a batch with sequences of\n",
        "              different lengths).\n",
        "    \"\"\"\n",
        "\n",
        "    processor: Wav2Vec2Processor\n",
        "    padding: Union[bool, str] = True\n",
        "\n",
        "    def __call__(self, features: List[Dict[str, Union[List[int], torch.Tensor]]]) -> Dict[str, torch.Tensor]:\n",
        "        # split inputs and labels since they have to be of different lenghts and need\n",
        "        # different padding methods\n",
        "        input_features = [{\"input_values\": feature[\"input_values\"]} for feature in features]\n",
        "        label_features = [{\"input_ids\": feature[\"labels\"]} for feature in features]\n",
        "\n",
        "        batch = self.processor.pad(\n",
        "            input_features,\n",
        "            padding=self.padding,\n",
        "            return_tensors=\"pt\",\n",
        "        )\n",
        "        with self.processor.as_target_processor():\n",
        "            labels_batch = self.processor.pad(\n",
        "                label_features,\n",
        "                padding=self.padding,\n",
        "                return_tensors=\"pt\",\n",
        "            )\n",
        "\n",
        "        # replace padding with -100 to ignore loss correctly\n",
        "        labels = labels_batch[\"input_ids\"].masked_fill(labels_batch.attention_mask.ne(1), -100)\n",
        "\n",
        "        batch[\"labels\"] = labels\n",
        "\n",
        "        return batch"
      ]
    },
    {
      "cell_type": "code",
      "execution_count": 109,
      "metadata": {
        "id": "VOd8n9JzXlMX"
      },
      "outputs": [],
      "source": [
        "data_collator = DataCollatorCTCWithPadding(processor=processor, padding=True)"
      ]
    },
    {
      "cell_type": "markdown",
      "metadata": {
        "id": "N5iIxFUMXEOA"
      },
      "source": [
        "- Evaluation metric. During training, the model should be evaluated on the word error rate. We should define a `compute_metrics` function accordingly\n",
        "\n",
        "- Load a pretrained checkpoint. We need to load a pretrained checkpoint and configure it correctly for training.\n",
        "\n",
        "- Define the training configuration.\n",
        "\n",
        "After having fine-tuned the model, we will correctly evaluate it on the test data and verify that it has indeed learned to correctly transcribe speech."
      ]
    },
    {
      "cell_type": "code",
      "execution_count": 110,
      "metadata": {
        "colab": {
          "base_uri": "https://localhost:8080/",
          "height": 49,
          "referenced_widgets": [
            "f411962da88841f0b371fe14c803c986",
            "12faf42139174cac894e2a11b610c983",
            "cface63a4e1947b8a8b2a9fdc1a48dc7",
            "009b6c5f347f4cee920c299110c64ac6",
            "981173cb58db4fb2acfaf63b0d1997b8",
            "cae83e9a97ae45a9bdb137393b4947eb",
            "4884a1235df84256914854792394fd62",
            "f8afa1f1d1f24bf2a69ddaa76296ed97",
            "a54596eddbee4e7c83a5ec56461a12ee",
            "2e793b759e4347f9816c85a7527c0828",
            "9e53081c85dd4815a9bbbcc0a409a530"
          ]
        },
        "id": "-E5bzpSQXwUn",
        "outputId": "aca9ea75-e41d-4bd4-85d3-a367dce35715"
      },
      "outputs": [
        {
          "output_type": "display_data",
          "data": {
            "text/plain": [
              "Downloading:   0%|          | 0.00/1.90k [00:00<?, ?B/s]"
            ],
            "application/vnd.jupyter.widget-view+json": {
              "version_major": 2,
              "version_minor": 0,
              "model_id": "f411962da88841f0b371fe14c803c986"
            }
          },
          "metadata": {}
        }
      ],
      "source": [
        "# load the word error rate metric\n",
        "wer_metric = load_metric(\"wer\")"
      ]
    },
    {
      "cell_type": "code",
      "execution_count": 111,
      "metadata": {
        "id": "cFzixUV6XxEF"
      },
      "outputs": [],
      "source": [
        "def compute_metrics(pred):\n",
        "    pred_logits = pred.predictions\n",
        "    pred_ids = np.argmax(pred_logits, axis=-1)\n",
        "\n",
        "    pred.label_ids[pred.label_ids == -100] = processor.tokenizer.pad_token_id\n",
        "\n",
        "    pred_str = processor.batch_decode(pred_ids)\n",
        "    # we do not want to group tokens when computing the metrics\n",
        "    label_str = processor.batch_decode(pred.label_ids, group_tokens=False)\n",
        "\n",
        "    print(pred_str)\n",
        "    wer = wer_metric.compute(predictions=pred_str, references=label_str)\n",
        "\n",
        "    return {\"wer\": wer}"
      ]
    },
    {
      "cell_type": "markdown",
      "metadata": {
        "id": "SC49DvR2Ccax"
      },
      "source": [
        "### **Model assigning**"
      ]
    },
    {
      "cell_type": "code",
      "execution_count": 112,
      "metadata": {
        "colab": {
          "base_uri": "https://localhost:8080/",
          "height": 188,
          "referenced_widgets": [
            "2965f78da23b47c682cb8c9bc2a60a7b",
            "ec2b493bec474822812bc997966d83e0",
            "fa8bd185471c41a5a4fa743745b39ae8",
            "be02b78b88cb4c26967b606a206e891d",
            "432be82ae86e463a9c4b05e94da1b0ae",
            "02d4d64cd42f4eafb0abd13ca84a1e49",
            "32daa39d064c4643b5106681d532350b",
            "999822b44b424e089da4cc38eed3aa90",
            "e11510bc256e47af8d64bb379cb42c4d",
            "aff09e52a95b4cfba36c63ecf34f2bb2",
            "87b720bc65774248bea86117f3690661",
            "e94a68d294ca473bb7ca530ff6976ffe",
            "01c355c177a34836a2d9a0b59a0705c7",
            "42fc0b63fe0c4676a367c0752f010591",
            "e1545e058a0f4791aa697ba596301ff8",
            "ce839f52fb38449496c401c92bed3807",
            "00fdb0dbe2e94fba9b2eefa1feacff3f",
            "36fbbd48de16488c8e52a0b61dcc3f35",
            "2b24eaba85744e0da20fb3fef16c9453",
            "d7045cf368874f219f09bbdecd8d918e",
            "8f3beee7b97642608381ed9c597ea295",
            "81db01912308421ca127b0e9b472afd5"
          ]
        },
        "id": "0BcyMKhqX8pE",
        "outputId": "2136f5cf-5461-496f-8387-7f9609de959e"
      },
      "outputs": [
        {
          "output_type": "display_data",
          "data": {
            "text/plain": [
              "Downloading (…)lve/main/config.json:   0%|          | 0.00/1.77k [00:00<?, ?B/s]"
            ],
            "application/vnd.jupyter.widget-view+json": {
              "version_major": 2,
              "version_minor": 0,
              "model_id": "2965f78da23b47c682cb8c9bc2a60a7b"
            }
          },
          "metadata": {}
        },
        {
          "output_type": "display_data",
          "data": {
            "text/plain": [
              "Downloading pytorch_model.bin:   0%|          | 0.00/1.27G [00:00<?, ?B/s]"
            ],
            "application/vnd.jupyter.widget-view+json": {
              "version_major": 2,
              "version_minor": 0,
              "model_id": "e94a68d294ca473bb7ca530ff6976ffe"
            }
          },
          "metadata": {}
        },
        {
          "output_type": "stream",
          "name": "stderr",
          "text": [
            "Some weights of the model checkpoint at facebook/wav2vec2-large-xlsr-53 were not used when initializing Wav2Vec2ForCTC: ['project_q.weight', 'quantizer.codevectors', 'project_hid.weight', 'project_q.bias', 'project_hid.bias', 'quantizer.weight_proj.weight', 'quantizer.weight_proj.bias']\n",
            "- This IS expected if you are initializing Wav2Vec2ForCTC from the checkpoint of a model trained on another task or with another architecture (e.g. initializing a BertForSequenceClassification model from a BertForPreTraining model).\n",
            "- This IS NOT expected if you are initializing Wav2Vec2ForCTC from the checkpoint of a model that you expect to be exactly identical (initializing a BertForSequenceClassification model from a BertForSequenceClassification model).\n",
            "Some weights of Wav2Vec2ForCTC were not initialized from the model checkpoint at facebook/wav2vec2-large-xlsr-53 and are newly initialized: ['lm_head.weight', 'lm_head.bias']\n",
            "You should probably TRAIN this model on a down-stream task to be able to use it for predictions and inference.\n"
          ]
        }
      ],
      "source": [
        "# assign the model\n",
        "from transformers import Wav2Vec2ForCTC\n",
        "\n",
        "model = Wav2Vec2ForCTC.from_pretrained(\n",
        "    # \"yip-i/uaspeech-pretrained\",\n",
        "    \"facebook/wav2vec2-large-xlsr-53\",\n",
        "    ctc_loss_reduction=\"mean\",\n",
        "    pad_token_id=processor.tokenizer.pad_token_id,\n",
        ")\n",
        "\n",
        "\n",
        "# model: yongjian/wav2vec2-large-a contains [self-training] and has best wer of 0.557"
      ]
    },
    {
      "cell_type": "markdown",
      "metadata": {
        "id": "vc0QC-1PYVgt"
      },
      "source": [
        "The first component of wav2vec2 has acoustic features from the raw speech signal. This portion has been pretrained sufficiently and does not need to be pretrained anymore and hence freezed."
      ]
    },
    {
      "cell_type": "markdown",
      "metadata": {
        "id": "6ETOuodhYxuG"
      },
      "source": [
        "# **Define the parameters that are related to model training**\n",
        "\n",
        "To give more explanation on some of the parameters:\n",
        "- `group_by_length` makes training more efficient by grouping training samples of similar input length into one batch. This can significantly speed up training time by heavily reducing the overall number of useless padding tokens that are passed through the model\n",
        "- `learning_rate` and `weight_decay` were heuristically tuned until fine-tuning has become stable. Note that those parameters strongly depend on the Timit dataset and might be suboptimal for other speech datasets."
      ]
    },
    {
      "cell_type": "code",
      "execution_count": 113,
      "metadata": {
        "id": "zuGpBD6SYJYt"
      },
      "outputs": [],
      "source": [
        "model.freeze_feature_encoder()"
      ]
    },
    {
      "cell_type": "code",
      "execution_count": 114,
      "metadata": {
        "colab": {
          "base_uri": "https://localhost:8080/"
        },
        "id": "olgwQv88pEUP",
        "outputId": "b9bb02be-efd1-4ea3-e9ce-e077d61976c5"
      },
      "outputs": [
        {
          "output_type": "stream",
          "name": "stdout",
          "text": [
            "wav2vec2.masked_spec_embed True\n",
            "wav2vec2.feature_extractor.conv_layers.0.conv.weight False\n",
            "wav2vec2.feature_extractor.conv_layers.0.conv.bias False\n",
            "wav2vec2.feature_extractor.conv_layers.0.layer_norm.weight False\n",
            "wav2vec2.feature_extractor.conv_layers.0.layer_norm.bias False\n",
            "wav2vec2.feature_extractor.conv_layers.1.conv.weight False\n",
            "wav2vec2.feature_extractor.conv_layers.1.conv.bias False\n",
            "wav2vec2.feature_extractor.conv_layers.1.layer_norm.weight False\n",
            "wav2vec2.feature_extractor.conv_layers.1.layer_norm.bias False\n",
            "wav2vec2.feature_extractor.conv_layers.2.conv.weight False\n",
            "wav2vec2.feature_extractor.conv_layers.2.conv.bias False\n",
            "wav2vec2.feature_extractor.conv_layers.2.layer_norm.weight False\n",
            "wav2vec2.feature_extractor.conv_layers.2.layer_norm.bias False\n",
            "wav2vec2.feature_extractor.conv_layers.3.conv.weight False\n",
            "wav2vec2.feature_extractor.conv_layers.3.conv.bias False\n",
            "wav2vec2.feature_extractor.conv_layers.3.layer_norm.weight False\n",
            "wav2vec2.feature_extractor.conv_layers.3.layer_norm.bias False\n",
            "wav2vec2.feature_extractor.conv_layers.4.conv.weight False\n",
            "wav2vec2.feature_extractor.conv_layers.4.conv.bias False\n",
            "wav2vec2.feature_extractor.conv_layers.4.layer_norm.weight False\n",
            "wav2vec2.feature_extractor.conv_layers.4.layer_norm.bias False\n",
            "wav2vec2.feature_extractor.conv_layers.5.conv.weight False\n",
            "wav2vec2.feature_extractor.conv_layers.5.conv.bias False\n",
            "wav2vec2.feature_extractor.conv_layers.5.layer_norm.weight False\n",
            "wav2vec2.feature_extractor.conv_layers.5.layer_norm.bias False\n",
            "wav2vec2.feature_extractor.conv_layers.6.conv.weight False\n",
            "wav2vec2.feature_extractor.conv_layers.6.conv.bias False\n",
            "wav2vec2.feature_extractor.conv_layers.6.layer_norm.weight False\n",
            "wav2vec2.feature_extractor.conv_layers.6.layer_norm.bias False\n",
            "wav2vec2.feature_projection.layer_norm.weight True\n",
            "wav2vec2.feature_projection.layer_norm.bias True\n",
            "wav2vec2.feature_projection.projection.weight True\n",
            "wav2vec2.feature_projection.projection.bias True\n",
            "wav2vec2.encoder.pos_conv_embed.conv.bias True\n",
            "wav2vec2.encoder.pos_conv_embed.conv.weight_g True\n",
            "wav2vec2.encoder.pos_conv_embed.conv.weight_v True\n",
            "wav2vec2.encoder.layer_norm.weight True\n",
            "wav2vec2.encoder.layer_norm.bias True\n",
            "wav2vec2.encoder.layers.0.attention.k_proj.weight True\n",
            "wav2vec2.encoder.layers.0.attention.k_proj.bias True\n",
            "wav2vec2.encoder.layers.0.attention.v_proj.weight True\n",
            "wav2vec2.encoder.layers.0.attention.v_proj.bias True\n",
            "wav2vec2.encoder.layers.0.attention.q_proj.weight True\n",
            "wav2vec2.encoder.layers.0.attention.q_proj.bias True\n",
            "wav2vec2.encoder.layers.0.attention.out_proj.weight True\n",
            "wav2vec2.encoder.layers.0.attention.out_proj.bias True\n",
            "wav2vec2.encoder.layers.0.layer_norm.weight True\n",
            "wav2vec2.encoder.layers.0.layer_norm.bias True\n",
            "wav2vec2.encoder.layers.0.feed_forward.intermediate_dense.weight True\n",
            "wav2vec2.encoder.layers.0.feed_forward.intermediate_dense.bias True\n",
            "wav2vec2.encoder.layers.0.feed_forward.output_dense.weight True\n",
            "wav2vec2.encoder.layers.0.feed_forward.output_dense.bias True\n",
            "wav2vec2.encoder.layers.0.final_layer_norm.weight True\n",
            "wav2vec2.encoder.layers.0.final_layer_norm.bias True\n",
            "wav2vec2.encoder.layers.1.attention.k_proj.weight True\n",
            "wav2vec2.encoder.layers.1.attention.k_proj.bias True\n",
            "wav2vec2.encoder.layers.1.attention.v_proj.weight True\n",
            "wav2vec2.encoder.layers.1.attention.v_proj.bias True\n",
            "wav2vec2.encoder.layers.1.attention.q_proj.weight True\n",
            "wav2vec2.encoder.layers.1.attention.q_proj.bias True\n",
            "wav2vec2.encoder.layers.1.attention.out_proj.weight True\n",
            "wav2vec2.encoder.layers.1.attention.out_proj.bias True\n",
            "wav2vec2.encoder.layers.1.layer_norm.weight True\n",
            "wav2vec2.encoder.layers.1.layer_norm.bias True\n",
            "wav2vec2.encoder.layers.1.feed_forward.intermediate_dense.weight True\n",
            "wav2vec2.encoder.layers.1.feed_forward.intermediate_dense.bias True\n",
            "wav2vec2.encoder.layers.1.feed_forward.output_dense.weight True\n",
            "wav2vec2.encoder.layers.1.feed_forward.output_dense.bias True\n",
            "wav2vec2.encoder.layers.1.final_layer_norm.weight True\n",
            "wav2vec2.encoder.layers.1.final_layer_norm.bias True\n",
            "wav2vec2.encoder.layers.2.attention.k_proj.weight True\n",
            "wav2vec2.encoder.layers.2.attention.k_proj.bias True\n",
            "wav2vec2.encoder.layers.2.attention.v_proj.weight True\n",
            "wav2vec2.encoder.layers.2.attention.v_proj.bias True\n",
            "wav2vec2.encoder.layers.2.attention.q_proj.weight True\n",
            "wav2vec2.encoder.layers.2.attention.q_proj.bias True\n",
            "wav2vec2.encoder.layers.2.attention.out_proj.weight True\n",
            "wav2vec2.encoder.layers.2.attention.out_proj.bias True\n",
            "wav2vec2.encoder.layers.2.layer_norm.weight True\n",
            "wav2vec2.encoder.layers.2.layer_norm.bias True\n",
            "wav2vec2.encoder.layers.2.feed_forward.intermediate_dense.weight True\n",
            "wav2vec2.encoder.layers.2.feed_forward.intermediate_dense.bias True\n",
            "wav2vec2.encoder.layers.2.feed_forward.output_dense.weight True\n",
            "wav2vec2.encoder.layers.2.feed_forward.output_dense.bias True\n",
            "wav2vec2.encoder.layers.2.final_layer_norm.weight True\n",
            "wav2vec2.encoder.layers.2.final_layer_norm.bias True\n",
            "wav2vec2.encoder.layers.3.attention.k_proj.weight True\n",
            "wav2vec2.encoder.layers.3.attention.k_proj.bias True\n",
            "wav2vec2.encoder.layers.3.attention.v_proj.weight True\n",
            "wav2vec2.encoder.layers.3.attention.v_proj.bias True\n",
            "wav2vec2.encoder.layers.3.attention.q_proj.weight True\n",
            "wav2vec2.encoder.layers.3.attention.q_proj.bias True\n",
            "wav2vec2.encoder.layers.3.attention.out_proj.weight True\n",
            "wav2vec2.encoder.layers.3.attention.out_proj.bias True\n",
            "wav2vec2.encoder.layers.3.layer_norm.weight True\n",
            "wav2vec2.encoder.layers.3.layer_norm.bias True\n",
            "wav2vec2.encoder.layers.3.feed_forward.intermediate_dense.weight True\n",
            "wav2vec2.encoder.layers.3.feed_forward.intermediate_dense.bias True\n",
            "wav2vec2.encoder.layers.3.feed_forward.output_dense.weight True\n",
            "wav2vec2.encoder.layers.3.feed_forward.output_dense.bias True\n",
            "wav2vec2.encoder.layers.3.final_layer_norm.weight True\n",
            "wav2vec2.encoder.layers.3.final_layer_norm.bias True\n",
            "wav2vec2.encoder.layers.4.attention.k_proj.weight True\n",
            "wav2vec2.encoder.layers.4.attention.k_proj.bias True\n",
            "wav2vec2.encoder.layers.4.attention.v_proj.weight True\n",
            "wav2vec2.encoder.layers.4.attention.v_proj.bias True\n",
            "wav2vec2.encoder.layers.4.attention.q_proj.weight True\n",
            "wav2vec2.encoder.layers.4.attention.q_proj.bias True\n",
            "wav2vec2.encoder.layers.4.attention.out_proj.weight True\n",
            "wav2vec2.encoder.layers.4.attention.out_proj.bias True\n",
            "wav2vec2.encoder.layers.4.layer_norm.weight True\n",
            "wav2vec2.encoder.layers.4.layer_norm.bias True\n",
            "wav2vec2.encoder.layers.4.feed_forward.intermediate_dense.weight True\n",
            "wav2vec2.encoder.layers.4.feed_forward.intermediate_dense.bias True\n",
            "wav2vec2.encoder.layers.4.feed_forward.output_dense.weight True\n",
            "wav2vec2.encoder.layers.4.feed_forward.output_dense.bias True\n",
            "wav2vec2.encoder.layers.4.final_layer_norm.weight True\n",
            "wav2vec2.encoder.layers.4.final_layer_norm.bias True\n",
            "wav2vec2.encoder.layers.5.attention.k_proj.weight True\n",
            "wav2vec2.encoder.layers.5.attention.k_proj.bias True\n",
            "wav2vec2.encoder.layers.5.attention.v_proj.weight True\n",
            "wav2vec2.encoder.layers.5.attention.v_proj.bias True\n",
            "wav2vec2.encoder.layers.5.attention.q_proj.weight True\n",
            "wav2vec2.encoder.layers.5.attention.q_proj.bias True\n",
            "wav2vec2.encoder.layers.5.attention.out_proj.weight True\n",
            "wav2vec2.encoder.layers.5.attention.out_proj.bias True\n",
            "wav2vec2.encoder.layers.5.layer_norm.weight True\n",
            "wav2vec2.encoder.layers.5.layer_norm.bias True\n",
            "wav2vec2.encoder.layers.5.feed_forward.intermediate_dense.weight True\n",
            "wav2vec2.encoder.layers.5.feed_forward.intermediate_dense.bias True\n",
            "wav2vec2.encoder.layers.5.feed_forward.output_dense.weight True\n",
            "wav2vec2.encoder.layers.5.feed_forward.output_dense.bias True\n",
            "wav2vec2.encoder.layers.5.final_layer_norm.weight True\n",
            "wav2vec2.encoder.layers.5.final_layer_norm.bias True\n",
            "wav2vec2.encoder.layers.6.attention.k_proj.weight True\n",
            "wav2vec2.encoder.layers.6.attention.k_proj.bias True\n",
            "wav2vec2.encoder.layers.6.attention.v_proj.weight True\n",
            "wav2vec2.encoder.layers.6.attention.v_proj.bias True\n",
            "wav2vec2.encoder.layers.6.attention.q_proj.weight True\n",
            "wav2vec2.encoder.layers.6.attention.q_proj.bias True\n",
            "wav2vec2.encoder.layers.6.attention.out_proj.weight True\n",
            "wav2vec2.encoder.layers.6.attention.out_proj.bias True\n",
            "wav2vec2.encoder.layers.6.layer_norm.weight True\n",
            "wav2vec2.encoder.layers.6.layer_norm.bias True\n",
            "wav2vec2.encoder.layers.6.feed_forward.intermediate_dense.weight True\n",
            "wav2vec2.encoder.layers.6.feed_forward.intermediate_dense.bias True\n",
            "wav2vec2.encoder.layers.6.feed_forward.output_dense.weight True\n",
            "wav2vec2.encoder.layers.6.feed_forward.output_dense.bias True\n",
            "wav2vec2.encoder.layers.6.final_layer_norm.weight True\n",
            "wav2vec2.encoder.layers.6.final_layer_norm.bias True\n",
            "wav2vec2.encoder.layers.7.attention.k_proj.weight True\n",
            "wav2vec2.encoder.layers.7.attention.k_proj.bias True\n",
            "wav2vec2.encoder.layers.7.attention.v_proj.weight True\n",
            "wav2vec2.encoder.layers.7.attention.v_proj.bias True\n",
            "wav2vec2.encoder.layers.7.attention.q_proj.weight True\n",
            "wav2vec2.encoder.layers.7.attention.q_proj.bias True\n",
            "wav2vec2.encoder.layers.7.attention.out_proj.weight True\n",
            "wav2vec2.encoder.layers.7.attention.out_proj.bias True\n",
            "wav2vec2.encoder.layers.7.layer_norm.weight True\n",
            "wav2vec2.encoder.layers.7.layer_norm.bias True\n",
            "wav2vec2.encoder.layers.7.feed_forward.intermediate_dense.weight True\n",
            "wav2vec2.encoder.layers.7.feed_forward.intermediate_dense.bias True\n",
            "wav2vec2.encoder.layers.7.feed_forward.output_dense.weight True\n",
            "wav2vec2.encoder.layers.7.feed_forward.output_dense.bias True\n",
            "wav2vec2.encoder.layers.7.final_layer_norm.weight True\n",
            "wav2vec2.encoder.layers.7.final_layer_norm.bias True\n",
            "wav2vec2.encoder.layers.8.attention.k_proj.weight True\n",
            "wav2vec2.encoder.layers.8.attention.k_proj.bias True\n",
            "wav2vec2.encoder.layers.8.attention.v_proj.weight True\n",
            "wav2vec2.encoder.layers.8.attention.v_proj.bias True\n",
            "wav2vec2.encoder.layers.8.attention.q_proj.weight True\n",
            "wav2vec2.encoder.layers.8.attention.q_proj.bias True\n",
            "wav2vec2.encoder.layers.8.attention.out_proj.weight True\n",
            "wav2vec2.encoder.layers.8.attention.out_proj.bias True\n",
            "wav2vec2.encoder.layers.8.layer_norm.weight True\n",
            "wav2vec2.encoder.layers.8.layer_norm.bias True\n",
            "wav2vec2.encoder.layers.8.feed_forward.intermediate_dense.weight True\n",
            "wav2vec2.encoder.layers.8.feed_forward.intermediate_dense.bias True\n",
            "wav2vec2.encoder.layers.8.feed_forward.output_dense.weight True\n",
            "wav2vec2.encoder.layers.8.feed_forward.output_dense.bias True\n",
            "wav2vec2.encoder.layers.8.final_layer_norm.weight True\n",
            "wav2vec2.encoder.layers.8.final_layer_norm.bias True\n",
            "wav2vec2.encoder.layers.9.attention.k_proj.weight True\n",
            "wav2vec2.encoder.layers.9.attention.k_proj.bias True\n",
            "wav2vec2.encoder.layers.9.attention.v_proj.weight True\n",
            "wav2vec2.encoder.layers.9.attention.v_proj.bias True\n",
            "wav2vec2.encoder.layers.9.attention.q_proj.weight True\n",
            "wav2vec2.encoder.layers.9.attention.q_proj.bias True\n",
            "wav2vec2.encoder.layers.9.attention.out_proj.weight True\n",
            "wav2vec2.encoder.layers.9.attention.out_proj.bias True\n",
            "wav2vec2.encoder.layers.9.layer_norm.weight True\n",
            "wav2vec2.encoder.layers.9.layer_norm.bias True\n",
            "wav2vec2.encoder.layers.9.feed_forward.intermediate_dense.weight True\n",
            "wav2vec2.encoder.layers.9.feed_forward.intermediate_dense.bias True\n",
            "wav2vec2.encoder.layers.9.feed_forward.output_dense.weight True\n",
            "wav2vec2.encoder.layers.9.feed_forward.output_dense.bias True\n",
            "wav2vec2.encoder.layers.9.final_layer_norm.weight True\n",
            "wav2vec2.encoder.layers.9.final_layer_norm.bias True\n",
            "wav2vec2.encoder.layers.10.attention.k_proj.weight True\n",
            "wav2vec2.encoder.layers.10.attention.k_proj.bias True\n",
            "wav2vec2.encoder.layers.10.attention.v_proj.weight True\n",
            "wav2vec2.encoder.layers.10.attention.v_proj.bias True\n",
            "wav2vec2.encoder.layers.10.attention.q_proj.weight True\n",
            "wav2vec2.encoder.layers.10.attention.q_proj.bias True\n",
            "wav2vec2.encoder.layers.10.attention.out_proj.weight True\n",
            "wav2vec2.encoder.layers.10.attention.out_proj.bias True\n",
            "wav2vec2.encoder.layers.10.layer_norm.weight True\n",
            "wav2vec2.encoder.layers.10.layer_norm.bias True\n",
            "wav2vec2.encoder.layers.10.feed_forward.intermediate_dense.weight True\n",
            "wav2vec2.encoder.layers.10.feed_forward.intermediate_dense.bias True\n",
            "wav2vec2.encoder.layers.10.feed_forward.output_dense.weight True\n",
            "wav2vec2.encoder.layers.10.feed_forward.output_dense.bias True\n",
            "wav2vec2.encoder.layers.10.final_layer_norm.weight True\n",
            "wav2vec2.encoder.layers.10.final_layer_norm.bias True\n",
            "wav2vec2.encoder.layers.11.attention.k_proj.weight True\n",
            "wav2vec2.encoder.layers.11.attention.k_proj.bias True\n",
            "wav2vec2.encoder.layers.11.attention.v_proj.weight True\n",
            "wav2vec2.encoder.layers.11.attention.v_proj.bias True\n",
            "wav2vec2.encoder.layers.11.attention.q_proj.weight True\n",
            "wav2vec2.encoder.layers.11.attention.q_proj.bias True\n",
            "wav2vec2.encoder.layers.11.attention.out_proj.weight True\n",
            "wav2vec2.encoder.layers.11.attention.out_proj.bias True\n",
            "wav2vec2.encoder.layers.11.layer_norm.weight True\n",
            "wav2vec2.encoder.layers.11.layer_norm.bias True\n",
            "wav2vec2.encoder.layers.11.feed_forward.intermediate_dense.weight True\n",
            "wav2vec2.encoder.layers.11.feed_forward.intermediate_dense.bias True\n",
            "wav2vec2.encoder.layers.11.feed_forward.output_dense.weight True\n",
            "wav2vec2.encoder.layers.11.feed_forward.output_dense.bias True\n",
            "wav2vec2.encoder.layers.11.final_layer_norm.weight True\n",
            "wav2vec2.encoder.layers.11.final_layer_norm.bias True\n",
            "wav2vec2.encoder.layers.12.attention.k_proj.weight True\n",
            "wav2vec2.encoder.layers.12.attention.k_proj.bias True\n",
            "wav2vec2.encoder.layers.12.attention.v_proj.weight True\n",
            "wav2vec2.encoder.layers.12.attention.v_proj.bias True\n",
            "wav2vec2.encoder.layers.12.attention.q_proj.weight True\n",
            "wav2vec2.encoder.layers.12.attention.q_proj.bias True\n",
            "wav2vec2.encoder.layers.12.attention.out_proj.weight True\n",
            "wav2vec2.encoder.layers.12.attention.out_proj.bias True\n",
            "wav2vec2.encoder.layers.12.layer_norm.weight True\n",
            "wav2vec2.encoder.layers.12.layer_norm.bias True\n",
            "wav2vec2.encoder.layers.12.feed_forward.intermediate_dense.weight True\n",
            "wav2vec2.encoder.layers.12.feed_forward.intermediate_dense.bias True\n",
            "wav2vec2.encoder.layers.12.feed_forward.output_dense.weight True\n",
            "wav2vec2.encoder.layers.12.feed_forward.output_dense.bias True\n",
            "wav2vec2.encoder.layers.12.final_layer_norm.weight True\n",
            "wav2vec2.encoder.layers.12.final_layer_norm.bias True\n",
            "wav2vec2.encoder.layers.13.attention.k_proj.weight True\n",
            "wav2vec2.encoder.layers.13.attention.k_proj.bias True\n",
            "wav2vec2.encoder.layers.13.attention.v_proj.weight True\n",
            "wav2vec2.encoder.layers.13.attention.v_proj.bias True\n",
            "wav2vec2.encoder.layers.13.attention.q_proj.weight True\n",
            "wav2vec2.encoder.layers.13.attention.q_proj.bias True\n",
            "wav2vec2.encoder.layers.13.attention.out_proj.weight True\n",
            "wav2vec2.encoder.layers.13.attention.out_proj.bias True\n",
            "wav2vec2.encoder.layers.13.layer_norm.weight True\n",
            "wav2vec2.encoder.layers.13.layer_norm.bias True\n",
            "wav2vec2.encoder.layers.13.feed_forward.intermediate_dense.weight True\n",
            "wav2vec2.encoder.layers.13.feed_forward.intermediate_dense.bias True\n",
            "wav2vec2.encoder.layers.13.feed_forward.output_dense.weight True\n",
            "wav2vec2.encoder.layers.13.feed_forward.output_dense.bias True\n",
            "wav2vec2.encoder.layers.13.final_layer_norm.weight True\n",
            "wav2vec2.encoder.layers.13.final_layer_norm.bias True\n",
            "wav2vec2.encoder.layers.14.attention.k_proj.weight True\n",
            "wav2vec2.encoder.layers.14.attention.k_proj.bias True\n",
            "wav2vec2.encoder.layers.14.attention.v_proj.weight True\n",
            "wav2vec2.encoder.layers.14.attention.v_proj.bias True\n",
            "wav2vec2.encoder.layers.14.attention.q_proj.weight True\n",
            "wav2vec2.encoder.layers.14.attention.q_proj.bias True\n",
            "wav2vec2.encoder.layers.14.attention.out_proj.weight True\n",
            "wav2vec2.encoder.layers.14.attention.out_proj.bias True\n",
            "wav2vec2.encoder.layers.14.layer_norm.weight True\n",
            "wav2vec2.encoder.layers.14.layer_norm.bias True\n",
            "wav2vec2.encoder.layers.14.feed_forward.intermediate_dense.weight True\n",
            "wav2vec2.encoder.layers.14.feed_forward.intermediate_dense.bias True\n",
            "wav2vec2.encoder.layers.14.feed_forward.output_dense.weight True\n",
            "wav2vec2.encoder.layers.14.feed_forward.output_dense.bias True\n",
            "wav2vec2.encoder.layers.14.final_layer_norm.weight True\n",
            "wav2vec2.encoder.layers.14.final_layer_norm.bias True\n",
            "wav2vec2.encoder.layers.15.attention.k_proj.weight True\n",
            "wav2vec2.encoder.layers.15.attention.k_proj.bias True\n",
            "wav2vec2.encoder.layers.15.attention.v_proj.weight True\n",
            "wav2vec2.encoder.layers.15.attention.v_proj.bias True\n",
            "wav2vec2.encoder.layers.15.attention.q_proj.weight True\n",
            "wav2vec2.encoder.layers.15.attention.q_proj.bias True\n",
            "wav2vec2.encoder.layers.15.attention.out_proj.weight True\n",
            "wav2vec2.encoder.layers.15.attention.out_proj.bias True\n",
            "wav2vec2.encoder.layers.15.layer_norm.weight True\n",
            "wav2vec2.encoder.layers.15.layer_norm.bias True\n",
            "wav2vec2.encoder.layers.15.feed_forward.intermediate_dense.weight True\n",
            "wav2vec2.encoder.layers.15.feed_forward.intermediate_dense.bias True\n",
            "wav2vec2.encoder.layers.15.feed_forward.output_dense.weight True\n",
            "wav2vec2.encoder.layers.15.feed_forward.output_dense.bias True\n",
            "wav2vec2.encoder.layers.15.final_layer_norm.weight True\n",
            "wav2vec2.encoder.layers.15.final_layer_norm.bias True\n",
            "wav2vec2.encoder.layers.16.attention.k_proj.weight True\n",
            "wav2vec2.encoder.layers.16.attention.k_proj.bias True\n",
            "wav2vec2.encoder.layers.16.attention.v_proj.weight True\n",
            "wav2vec2.encoder.layers.16.attention.v_proj.bias True\n",
            "wav2vec2.encoder.layers.16.attention.q_proj.weight True\n",
            "wav2vec2.encoder.layers.16.attention.q_proj.bias True\n",
            "wav2vec2.encoder.layers.16.attention.out_proj.weight True\n",
            "wav2vec2.encoder.layers.16.attention.out_proj.bias True\n",
            "wav2vec2.encoder.layers.16.layer_norm.weight True\n",
            "wav2vec2.encoder.layers.16.layer_norm.bias True\n",
            "wav2vec2.encoder.layers.16.feed_forward.intermediate_dense.weight True\n",
            "wav2vec2.encoder.layers.16.feed_forward.intermediate_dense.bias True\n",
            "wav2vec2.encoder.layers.16.feed_forward.output_dense.weight True\n",
            "wav2vec2.encoder.layers.16.feed_forward.output_dense.bias True\n",
            "wav2vec2.encoder.layers.16.final_layer_norm.weight True\n",
            "wav2vec2.encoder.layers.16.final_layer_norm.bias True\n",
            "wav2vec2.encoder.layers.17.attention.k_proj.weight True\n",
            "wav2vec2.encoder.layers.17.attention.k_proj.bias True\n",
            "wav2vec2.encoder.layers.17.attention.v_proj.weight True\n",
            "wav2vec2.encoder.layers.17.attention.v_proj.bias True\n",
            "wav2vec2.encoder.layers.17.attention.q_proj.weight True\n",
            "wav2vec2.encoder.layers.17.attention.q_proj.bias True\n",
            "wav2vec2.encoder.layers.17.attention.out_proj.weight True\n",
            "wav2vec2.encoder.layers.17.attention.out_proj.bias True\n",
            "wav2vec2.encoder.layers.17.layer_norm.weight True\n",
            "wav2vec2.encoder.layers.17.layer_norm.bias True\n",
            "wav2vec2.encoder.layers.17.feed_forward.intermediate_dense.weight True\n",
            "wav2vec2.encoder.layers.17.feed_forward.intermediate_dense.bias True\n",
            "wav2vec2.encoder.layers.17.feed_forward.output_dense.weight True\n",
            "wav2vec2.encoder.layers.17.feed_forward.output_dense.bias True\n",
            "wav2vec2.encoder.layers.17.final_layer_norm.weight True\n",
            "wav2vec2.encoder.layers.17.final_layer_norm.bias True\n",
            "wav2vec2.encoder.layers.18.attention.k_proj.weight True\n",
            "wav2vec2.encoder.layers.18.attention.k_proj.bias True\n",
            "wav2vec2.encoder.layers.18.attention.v_proj.weight True\n",
            "wav2vec2.encoder.layers.18.attention.v_proj.bias True\n",
            "wav2vec2.encoder.layers.18.attention.q_proj.weight True\n",
            "wav2vec2.encoder.layers.18.attention.q_proj.bias True\n",
            "wav2vec2.encoder.layers.18.attention.out_proj.weight True\n",
            "wav2vec2.encoder.layers.18.attention.out_proj.bias True\n",
            "wav2vec2.encoder.layers.18.layer_norm.weight True\n",
            "wav2vec2.encoder.layers.18.layer_norm.bias True\n",
            "wav2vec2.encoder.layers.18.feed_forward.intermediate_dense.weight True\n",
            "wav2vec2.encoder.layers.18.feed_forward.intermediate_dense.bias True\n",
            "wav2vec2.encoder.layers.18.feed_forward.output_dense.weight True\n",
            "wav2vec2.encoder.layers.18.feed_forward.output_dense.bias True\n",
            "wav2vec2.encoder.layers.18.final_layer_norm.weight True\n",
            "wav2vec2.encoder.layers.18.final_layer_norm.bias True\n",
            "wav2vec2.encoder.layers.19.attention.k_proj.weight True\n",
            "wav2vec2.encoder.layers.19.attention.k_proj.bias True\n",
            "wav2vec2.encoder.layers.19.attention.v_proj.weight True\n",
            "wav2vec2.encoder.layers.19.attention.v_proj.bias True\n",
            "wav2vec2.encoder.layers.19.attention.q_proj.weight True\n",
            "wav2vec2.encoder.layers.19.attention.q_proj.bias True\n",
            "wav2vec2.encoder.layers.19.attention.out_proj.weight True\n",
            "wav2vec2.encoder.layers.19.attention.out_proj.bias True\n",
            "wav2vec2.encoder.layers.19.layer_norm.weight True\n",
            "wav2vec2.encoder.layers.19.layer_norm.bias True\n",
            "wav2vec2.encoder.layers.19.feed_forward.intermediate_dense.weight True\n",
            "wav2vec2.encoder.layers.19.feed_forward.intermediate_dense.bias True\n",
            "wav2vec2.encoder.layers.19.feed_forward.output_dense.weight True\n",
            "wav2vec2.encoder.layers.19.feed_forward.output_dense.bias True\n",
            "wav2vec2.encoder.layers.19.final_layer_norm.weight True\n",
            "wav2vec2.encoder.layers.19.final_layer_norm.bias True\n",
            "wav2vec2.encoder.layers.20.attention.k_proj.weight True\n",
            "wav2vec2.encoder.layers.20.attention.k_proj.bias True\n",
            "wav2vec2.encoder.layers.20.attention.v_proj.weight True\n",
            "wav2vec2.encoder.layers.20.attention.v_proj.bias True\n",
            "wav2vec2.encoder.layers.20.attention.q_proj.weight True\n",
            "wav2vec2.encoder.layers.20.attention.q_proj.bias True\n",
            "wav2vec2.encoder.layers.20.attention.out_proj.weight True\n",
            "wav2vec2.encoder.layers.20.attention.out_proj.bias True\n",
            "wav2vec2.encoder.layers.20.layer_norm.weight True\n",
            "wav2vec2.encoder.layers.20.layer_norm.bias True\n",
            "wav2vec2.encoder.layers.20.feed_forward.intermediate_dense.weight True\n",
            "wav2vec2.encoder.layers.20.feed_forward.intermediate_dense.bias True\n",
            "wav2vec2.encoder.layers.20.feed_forward.output_dense.weight True\n",
            "wav2vec2.encoder.layers.20.feed_forward.output_dense.bias True\n",
            "wav2vec2.encoder.layers.20.final_layer_norm.weight True\n",
            "wav2vec2.encoder.layers.20.final_layer_norm.bias True\n",
            "wav2vec2.encoder.layers.21.attention.k_proj.weight True\n",
            "wav2vec2.encoder.layers.21.attention.k_proj.bias True\n",
            "wav2vec2.encoder.layers.21.attention.v_proj.weight True\n",
            "wav2vec2.encoder.layers.21.attention.v_proj.bias True\n",
            "wav2vec2.encoder.layers.21.attention.q_proj.weight True\n",
            "wav2vec2.encoder.layers.21.attention.q_proj.bias True\n",
            "wav2vec2.encoder.layers.21.attention.out_proj.weight True\n",
            "wav2vec2.encoder.layers.21.attention.out_proj.bias True\n",
            "wav2vec2.encoder.layers.21.layer_norm.weight True\n",
            "wav2vec2.encoder.layers.21.layer_norm.bias True\n",
            "wav2vec2.encoder.layers.21.feed_forward.intermediate_dense.weight True\n",
            "wav2vec2.encoder.layers.21.feed_forward.intermediate_dense.bias True\n",
            "wav2vec2.encoder.layers.21.feed_forward.output_dense.weight True\n",
            "wav2vec2.encoder.layers.21.feed_forward.output_dense.bias True\n",
            "wav2vec2.encoder.layers.21.final_layer_norm.weight True\n",
            "wav2vec2.encoder.layers.21.final_layer_norm.bias True\n",
            "wav2vec2.encoder.layers.22.attention.k_proj.weight True\n",
            "wav2vec2.encoder.layers.22.attention.k_proj.bias True\n",
            "wav2vec2.encoder.layers.22.attention.v_proj.weight True\n",
            "wav2vec2.encoder.layers.22.attention.v_proj.bias True\n",
            "wav2vec2.encoder.layers.22.attention.q_proj.weight True\n",
            "wav2vec2.encoder.layers.22.attention.q_proj.bias True\n",
            "wav2vec2.encoder.layers.22.attention.out_proj.weight True\n",
            "wav2vec2.encoder.layers.22.attention.out_proj.bias True\n",
            "wav2vec2.encoder.layers.22.layer_norm.weight True\n",
            "wav2vec2.encoder.layers.22.layer_norm.bias True\n",
            "wav2vec2.encoder.layers.22.feed_forward.intermediate_dense.weight True\n",
            "wav2vec2.encoder.layers.22.feed_forward.intermediate_dense.bias True\n",
            "wav2vec2.encoder.layers.22.feed_forward.output_dense.weight True\n",
            "wav2vec2.encoder.layers.22.feed_forward.output_dense.bias True\n",
            "wav2vec2.encoder.layers.22.final_layer_norm.weight True\n",
            "wav2vec2.encoder.layers.22.final_layer_norm.bias True\n",
            "wav2vec2.encoder.layers.23.attention.k_proj.weight True\n",
            "wav2vec2.encoder.layers.23.attention.k_proj.bias True\n",
            "wav2vec2.encoder.layers.23.attention.v_proj.weight True\n",
            "wav2vec2.encoder.layers.23.attention.v_proj.bias True\n",
            "wav2vec2.encoder.layers.23.attention.q_proj.weight True\n",
            "wav2vec2.encoder.layers.23.attention.q_proj.bias True\n",
            "wav2vec2.encoder.layers.23.attention.out_proj.weight True\n",
            "wav2vec2.encoder.layers.23.attention.out_proj.bias True\n",
            "wav2vec2.encoder.layers.23.layer_norm.weight True\n",
            "wav2vec2.encoder.layers.23.layer_norm.bias True\n",
            "wav2vec2.encoder.layers.23.feed_forward.intermediate_dense.weight True\n",
            "wav2vec2.encoder.layers.23.feed_forward.intermediate_dense.bias True\n",
            "wav2vec2.encoder.layers.23.feed_forward.output_dense.weight True\n",
            "wav2vec2.encoder.layers.23.feed_forward.output_dense.bias True\n",
            "wav2vec2.encoder.layers.23.final_layer_norm.weight True\n",
            "wav2vec2.encoder.layers.23.final_layer_norm.bias True\n",
            "lm_head.weight True\n",
            "lm_head.bias True\n"
          ]
        }
      ],
      "source": [
        "for name, param in model.named_parameters():\n",
        "     print(name, param.requires_grad)"
      ]
    },
    {
      "cell_type": "code",
      "execution_count": 115,
      "metadata": {
        "id": "SSKH_Vu4by7N"
      },
      "outputs": [],
      "source": [
        "# clear out cuda memory\n",
        "import torch\n",
        "torch.cuda.empty_cache()"
      ]
    },
    {
      "cell_type": "markdown",
      "metadata": {
        "id": "jl3xfaRdk7Lb"
      },
      "source": [
        "### changed"
      ]
    },
    {
      "cell_type": "code",
      "execution_count": 116,
      "metadata": {
        "id": "krw7XBzcYtT9"
      },
      "outputs": [],
      "source": [
        "# parameters for the training\n",
        "from transformers import TrainingArguments\n",
        "\n",
        "training_args = TrainingArguments(\n",
        "  output_dir = repo_name,\n",
        "  group_by_length=True,\n",
        "  per_device_train_batch_size=8,\n",
        "  evaluation_strategy=\"steps\",\n",
        "  num_train_epochs=30,\n",
        "  fp16=False,\n",
        "  gradient_checkpointing=True,\n",
        "  save_steps=500,\n",
        "  eval_steps=500,\n",
        "  logging_steps=500,\n",
        "  learning_rate=1e-4,\n",
        "  weight_decay=0.005,\n",
        "  warmup_steps=1000,\n",
        "  save_total_limit=2,\n",
        ")"
      ]
    },
    {
      "cell_type": "code",
      "execution_count": 117,
      "metadata": {
        "id": "SuEwtWBdZSnK"
      },
      "outputs": [],
      "source": [
        "# pass all instances to the trainer as the final step before training\n",
        "from transformers import Trainer\n",
        "\n",
        "trainer = Trainer(\n",
        "    model=model,\n",
        "    data_collator=data_collator,\n",
        "    args=training_args,\n",
        "    compute_metrics=compute_metrics,\n",
        "    train_dataset=torgo_dataset[\"train\"],\n",
        "    eval_dataset=torgo_dataset[\"test\"],\n",
        "    tokenizer=processor.feature_extractor,\n",
        ")"
      ]
    },
    {
      "cell_type": "code",
      "execution_count": null,
      "metadata": {
        "colab": {
          "background_save": true,
          "base_uri": "https://localhost:8080/",
          "height": 1000
        },
        "id": "TcTuV9oowAZ2",
        "outputId": "ba3cf230-078b-42c0-a7cd-7adaa2050841"
      },
      "outputs": [
        {
          "name": "stderr",
          "output_type": "stream",
          "text": [
            "The following columns in the training set don't have a corresponding argument in `Wav2Vec2ForCTC.forward` and have been ignored: input_length. If input_length are not expected by `Wav2Vec2ForCTC.forward`,  you can safely ignore this message.\n",
            "/usr/local/lib/python3.9/dist-packages/transformers/optimization.py:306: FutureWarning: This implementation of AdamW is deprecated and will be removed in a future version. Use the PyTorch implementation torch.optim.AdamW instead, or set `no_deprecation_warning=True` to disable this warning\n",
            "  warnings.warn(\n",
            "***** Running training *****\n",
            "  Num examples = 4416\n",
            "  Num Epochs = 30\n",
            "  Instantaneous batch size per device = 8\n",
            "  Total train batch size (w. parallel, distributed & accumulation) = 8\n",
            "  Gradient Accumulation steps = 1\n",
            "  Total optimization steps = 16560\n",
            "  Number of trainable parameters = 311261344\n",
            "/usr/local/lib/python3.9/dist-packages/transformers/models/wav2vec2/processing_wav2vec2.py:155: UserWarning: `as_target_processor` is deprecated and will be removed in v5 of Transformers. You can process your labels by using the argument `text` of the regular `__call__` method (either in the same call as your audio inputs, or in a separate call.\n",
            "  warnings.warn(\n"
          ]
        },
        {
          "data": {
            "text/html": [
              "\n",
              "    <div>\n",
              "      \n",
              "      <progress value='16560' max='16560' style='width:300px; height:20px; vertical-align: middle;'></progress>\n",
              "      [16560/16560 6:41:01, Epoch 30/30]\n",
              "    </div>\n",
              "    <table border=\"1\" class=\"dataframe\">\n",
              "  <thead>\n",
              " <tr style=\"text-align: left;\">\n",
              "      <th>Step</th>\n",
              "      <th>Training Loss</th>\n",
              "      <th>Validation Loss</th>\n",
              "      <th>Wer</th>\n",
              "    </tr>\n",
              "  </thead>\n",
              "  <tbody>\n",
              "    <tr>\n",
              "      <td>500</td>\n",
              "      <td>23.219400</td>\n",
              "      <td>3.297529</td>\n",
              "      <td>0.981969</td>\n",
              "    </tr>\n",
              "    <tr>\n",
              "      <td>1000</td>\n",
              "      <td>3.385600</td>\n",
              "      <td>3.222471</td>\n",
              "      <td>0.981969</td>\n",
              "    </tr>\n",
              "    <tr>\n",
              "      <td>1500</td>\n",
              "      <td>2.940300</td>\n",
              "      <td>2.780463</td>\n",
              "      <td>0.981969</td>\n",
              "    </tr>\n",
              "    <tr>\n",
              "      <td>2000</td>\n",
              "      <td>2.625500</td>\n",
              "      <td>2.382952</td>\n",
              "      <td>0.983356</td>\n",
              "    </tr>\n",
              "    <tr>\n",
              "      <td>2500</td>\n",
              "      <td>1.890100</td>\n",
              "      <td>1.792012</td>\n",
              "      <td>1.377947</td>\n",
              "    </tr>\n",
              "    <tr>\n",
              "      <td>3000</td>\n",
              "      <td>1.259400</td>\n",
              "      <td>1.784516</td>\n",
              "      <td>1.334258</td>\n",
              "    </tr>\n",
              "    <tr>\n",
              "      <td>3500</td>\n",
              "      <td>1.000800</td>\n",
              "      <td>1.692319</td>\n",
              "      <td>1.314840</td>\n",
              "    </tr>\n",
              "    <tr>\n",
              "      <td>4000</td>\n",
              "      <td>0.789600</td>\n",
              "      <td>1.544352</td>\n",
              "      <td>1.282247</td>\n",
              "    </tr>\n",
              "    <tr>\n",
              "      <td>4500</td>\n",
              "      <td>0.637300</td>\n",
              "      <td>1.554703</td>\n",
              "      <td>1.266990</td>\n",
              "    </tr>\n",
              "    <tr>\n",
              "      <td>5000</td>\n",
              "      <td>0.563900</td>\n",
              "      <td>1.592442</td>\n",
              "      <td>1.193481</td>\n",
              "    </tr>\n",
              "    <tr>\n",
              "      <td>5500</td>\n",
              "      <td>0.500000</td>\n",
              "      <td>1.754543</td>\n",
              "      <td>1.205964</td>\n",
              "    </tr>\n",
              "    <tr>\n",
              "      <td>6000</td>\n",
              "      <td>0.448800</td>\n",
              "      <td>1.616989</td>\n",
              "      <td>1.149792</td>\n",
              "    </tr>\n",
              "    <tr>\n",
              "      <td>6500</td>\n",
              "      <td>0.389200</td>\n",
              "      <td>1.755018</td>\n",
              "      <td>1.166436</td>\n",
              "    </tr>\n",
              "    <tr>\n",
              "      <td>7000</td>\n",
              "      <td>0.349700</td>\n",
              "      <td>1.970748</td>\n",
              "      <td>1.184466</td>\n",
              "    </tr>\n",
              "    <tr>\n",
              "      <td>7500</td>\n",
              "      <td>0.344400</td>\n",
              "      <td>1.897572</td>\n",
              "      <td>1.165742</td>\n",
              "    </tr>\n",
              "    <tr>\n",
              "      <td>8000</td>\n",
              "      <td>0.315300</td>\n",
              "      <td>1.925486</td>\n",
              "      <td>1.141470</td>\n",
              "    </tr>\n",
              "    <tr>\n",
              "      <td>8500</td>\n",
              "      <td>0.296700</td>\n",
              "      <td>1.870975</td>\n",
              "      <td>1.147018</td>\n",
              "    </tr>\n",
              "    <tr>\n",
              "      <td>9000</td>\n",
              "      <td>0.269800</td>\n",
              "      <td>1.747965</td>\n",
              "      <td>1.140777</td>\n",
              "    </tr>\n",
              "    <tr>\n",
              "      <td>9500</td>\n",
              "      <td>0.266100</td>\n",
              "      <td>1.813450</td>\n",
              "      <td>1.112344</td>\n",
              "    </tr>\n",
              "    <tr>\n",
              "      <td>10000</td>\n",
              "      <td>0.255000</td>\n",
              "      <td>2.080625</td>\n",
              "      <td>1.124827</td>\n",
              "    </tr>\n",
              "    <tr>\n",
              "      <td>10500</td>\n",
              "      <td>0.202100</td>\n",
              "      <td>2.142639</td>\n",
              "      <td>1.117198</td>\n",
              "    </tr>\n",
              "    <tr>\n",
              "      <td>11000</td>\n",
              "      <td>0.217900</td>\n",
              "      <td>2.083182</td>\n",
              "      <td>1.111650</td>\n",
              "    </tr>\n",
              "    <tr>\n",
              "      <td>11500</td>\n",
              "      <td>0.193000</td>\n",
              "      <td>2.389207</td>\n",
              "      <td>1.126214</td>\n",
              "    </tr>\n",
              "    <tr>\n",
              "      <td>12000</td>\n",
              "      <td>0.199900</td>\n",
              "      <td>2.118282</td>\n",
              "      <td>1.109570</td>\n",
              "    </tr>\n",
              "    <tr>\n",
              "      <td>12500</td>\n",
              "      <td>0.185700</td>\n",
              "      <td>1.998602</td>\n",
              "      <td>1.104716</td>\n",
              "    </tr>\n",
              "    <tr>\n",
              "      <td>13000</td>\n",
              "      <td>0.180400</td>\n",
              "      <td>2.078764</td>\n",
              "      <td>1.097781</td>\n",
              "    </tr>\n",
              "    <tr>\n",
              "      <td>13500</td>\n",
              "      <td>0.156800</td>\n",
              "      <td>2.264592</td>\n",
              "      <td>1.102635</td>\n",
              "    </tr>\n",
              "    <tr>\n",
              "      <td>14000</td>\n",
              "      <td>0.159600</td>\n",
              "      <td>2.086287</td>\n",
              "      <td>1.067268</td>\n",
              "    </tr>\n",
              "    <tr>\n",
              "      <td>14500</td>\n",
              "      <td>0.155300</td>\n",
              "      <td>2.175763</td>\n",
              "      <td>1.080444</td>\n",
              "    </tr>\n",
              "    <tr>\n",
              "      <td>15000</td>\n",
              "      <td>0.148400</td>\n",
              "      <td>2.074952</td>\n",
              "      <td>1.069348</td>\n",
              "    </tr>\n",
              "    <tr>\n",
              "      <td>15500</td>\n",
              "      <td>0.135900</td>\n",
              "      <td>2.141222</td>\n",
              "      <td>1.078363</td>\n",
              "    </tr>\n",
              "    <tr>\n",
              "      <td>16000</td>\n",
              "      <td>0.131000</td>\n",
              "      <td>2.261648</td>\n",
              "      <td>1.085298</td>\n",
              "    </tr>\n",
              "    <tr>\n",
              "      <td>16500</td>\n",
              "      <td>0.138600</td>\n",
              "      <td>2.194191</td>\n",
              "      <td>1.079057</td>\n",
              "    </tr>\n",
              "  </tbody>\n",
              "</table><p>"
            ],
            "text/plain": [
              "<IPython.core.display.HTML object>"
            ]
          },
          "metadata": {},
          "output_type": "display_data"
        },
        {
          "name": "stderr",
          "output_type": "stream",
          "text": [
            "The following columns in the evaluation set don't have a corresponding argument in `Wav2Vec2ForCTC.forward` and have been ignored: input_length. If input_length are not expected by `Wav2Vec2ForCTC.forward`,  you can safely ignore this message.\n",
            "***** Running Evaluation *****\n",
            "  Num examples = 714\n",
            "  Batch size = 8\n"
          ]
        },
        {
          "name": "stdout",
          "output_type": "stream",
          "text": [
            "['i', 'i', 'i', 'i', 'i', 'i', 'i', 'i', 'i', 'i', 'i', 'i', 'i', 'i', 'i', 'i', 'i', 'i', 'i', 'i', 'i', 'i', 'i', 'i', 'i', 'i', 'i', 'i', 'i', 'i', 'i', 'i', 'i', 'i', 'i', 'i', 'i', 'i', 'i', 'i', 'i', 'i', 'i', 'i', 'i', 'i', 'i', 'i', 'i', 'i', 'i', 'i', 'i', 'i', 'i', 'i', 'i', 'i', 'i', 'i', 'i', 'i', 'i', 'i', 'i', 'i', 'i', 'i', 'i', 'i', 'i', 'i', 'i', 'i', 'i', 'i', 'i', 'i', 'i', 'i', 'i', 'i', 'i', 'i', 'i', 'i', 'i', 'i', 'i', 'i', 'i', 'i', 'i', 'i', 'i', 'i', 'i', 'i', 'i', 'i', 'i', 'i', 'i', 'i', 'i', 'i', 'i', 'i', 'i', 'i', 'i', 'i', 'i', 'i', 'i', 'i', 'i', 'i', 'i', 'i', 'i', 'i', 'i', 'i', 'i', 'i', 'i', 'i', 'i', 'i', 'i', 'i', 'i', 'i', 'i', 'i', 'i', 'i', 'i', 'i', 'i', 'i', 'i', 'i', 'i', 'i', 'i', 'i', 'i', 'i', 'i', 'i', 'i', 'i', 'i', 'i', 'i', 'i', 'i', 'i', 'i', 'i', 'i', 'i', 'i', 'i', 'i', 'i', 'i', 'i', 'i', 'i', 'i', 'i', 'i', 'i', 'i', 'i', 'i', 'i', 'i', 'i', 'i', 'i', 'i', 'i', 'i', 'i', 'i', 'i', 'i', 'i', 'i', 'i', 'i', 'i', 'i', 'i', 'i', 'i', 'i', 'i', 'i', 'i', 'i', 'i', 'i', 'i', 'i', 'i', 'i', 'i', 'i', 'i', 'i', 'i', 'i', 'i', 'i', 'i', 'i', 'i', 'i', 'i', 'i', 'i', 'i', 'i', 'i', 'i', 'i', 'i', 'i', 'i', 'i', 'i', 'i', 'i', 'i', 'i', 'i', 'i', 'i', 'i', 'i', 'i', 'i', 'i', 'i', 'i', 'i', 'i', 'i', 'i', 'i', 'i', 'i', 'i', 'i', 'i', 'i', 'i', 'i', 'i', 'i', 'i', 'i', 'i', 'i', 'i', 'i', 'i', 'i', 'i', 'i', 'i', 'i', 'i', 'i', 'i', 'i', 'i', 'i', 'i', 'i', 'i', 'i', 'i', 'i', 'i', 'i', 'i', 'i', 'i', 'i', 'i', 'i', 'i', 'i', 'i', 'i', 'i', 'i', 'i', 'i', 'i', 'i', 'i', 'i', 'i', 'i', 'i', 'i', 'i', 'i', 'i', 'i', 'i', 'i', 'i', 'i', 'i', 'i', 'i', 'i', 'i', 'i', 'i', 'i', 'i', 'i', 'i', 'i', 'i', 'i', 'i', 'i', 'i', 'i', 'i', 'i', 'i', 'i', 'i', 'i', 'i', 'i', 'i', 'i', 'i', 'i', 'i', 'i', 'i', 'i', 'i', 'i', 'i', 'i', 'i', 'i', 'i', 'i', 'i', 'i', 'i', 'i', 'i', 'i', 'i', 'i', 'i', 'i', 'i', 'i', 'i', 'i', 'i', 'i', 'i', 'i', 'i', 'i', 'i', 'i', 'i', 'i', 'i', 'i', 'i', 'i', 'i', 'i', 'i', 'i', 'i', 'i', 'i', 'i', 'i', 'i', 'i', 'i', 'i', 'i', 'i', 'i', 'i', 'i', 'i', 'i', 'i', 'i', 'i', 'i', 'i', 'i', 'i', 'i', 'i', 'i', 'i', 'i', 'i', 'i', 'i', 'i', 'i', 'i', 'i', 'i', 'i', 'i', 'i', 'i', 'i', 'i', 'i', 'i', 'i', 'i', 'i', 'i', 'i', 'i', 'i', 'i', 'i', 'i', 'i', 'i', 'i', 'i', 'i', 'i', 'i', 'i', 'i', 'i', 'i', 'i', 'i', 'i', 'i', '', '', '', '', '', '', '', '', 'i', 'i', 'i', 'i', 'i', 'i', 'i', 'i', 'i', 'i', 'i', 'i', 'i', 'i', 'i', 'i', 'i', 'i', 'i', 'i', 'i', 'i', 'i', 'i', 'i', 'i', 'i', 'i', 'i', 'i', 'i', 'i', 'i', 'i', 'i', 'i', 'i', 'i', 'i', 'i', 'i', 'i', 'i', 'i', 'i', 'i', 'i', 'i', 'i', 'i', 'i', 'i', 'i', 'i', 'i', 'i', 'i', 'i', 'i', 'i', 'i', 'i', 'i', 'i', 'i', 'i', 'i', 'i', 'i', 'i', 'i', 'i', 'i', 'i', 'i', 'i', 'i', 'i', 'i', 'i', 'i', 'i', 'i', 'i', 'i', 'i', 'i', 'i', 'i', 'i', 'i', 'i', 'i', 'i', 'i', 'i', 'i', 'i', 'i', 'i', 'i', 'i', 'i', 'i', 'i', 'i', 'i', 'i', 'i', 'i', 'i', 'i', 'i', 'i', 'i', 'i', 'i', 'i', 'i', 'i', 'i', 'i', 'i', 'i', 'i', 'i', 'i', 'i', 'i', 'i', 'i', 'i', 'i', 'i', 'i', 'i', 'i', 'i', 'i', 'i', 'i', 'i', 'i', 'i', 'i', 'i', 'i', 'i', 'i', 'i', 'i', 'i', 'i', 'i', 'i', 'i', 'i', 'i', 'i', 'i', 'i', 'i', 'i', 'i', 'i', 'i', 'i', 'i', 'i', 'i', 'i', 'i', 'i', 'i', 'i', 'i', 'i', 'i', 'i', 'i', 'i', 'i', 'i', 'i', 'i', 'i', 'i', 'i', 'i', 'i', 'i', 'i', 'i', 'i', 'i', 'i', 'i', 'i', 'i', 'i', 'i', 'i', 'i', 'i', 'i', 'i', 'i', 'i', 'i', 'i', 'i', 'i', 'i', 'i', 'i', 'i', 'i', 'i', 'i', 'i', 'i', 'i', 'i', 'i', 'i', 'i', 'i', 'i', 'i', 'i', 'i', 'i', 'i', 'i', 'i', 'i', 'i', 'i', 'i', 'i', 'i', 'i']\n"
          ]
        },
        {
          "name": "stderr",
          "output_type": "stream",
          "text": [
            "Saving model checkpoint to torgo_xlsr_finetune-M02-2/checkpoint-500\n",
            "Configuration saved in torgo_xlsr_finetune-M02-2/checkpoint-500/config.json\n",
            "Model weights saved in torgo_xlsr_finetune-M02-2/checkpoint-500/pytorch_model.bin\n",
            "Feature extractor saved in torgo_xlsr_finetune-M02-2/checkpoint-500/preprocessor_config.json\n",
            "/usr/local/lib/python3.9/dist-packages/transformers/models/wav2vec2/processing_wav2vec2.py:155: UserWarning: `as_target_processor` is deprecated and will be removed in v5 of Transformers. You can process your labels by using the argument `text` of the regular `__call__` method (either in the same call as your audio inputs, or in a separate call.\n",
            "  warnings.warn(\n",
            "The following columns in the evaluation set don't have a corresponding argument in `Wav2Vec2ForCTC.forward` and have been ignored: input_length. If input_length are not expected by `Wav2Vec2ForCTC.forward`,  you can safely ignore this message.\n",
            "***** Running Evaluation *****\n",
            "  Num examples = 714\n",
            "  Batch size = 8\n"
          ]
        },
        {
          "name": "stdout",
          "output_type": "stream",
          "text": [
            "['i', 'i', 'i', 'i', 'i', 'i', 'i', 'i', 'i', 'i', 'i', 'i', 'i', 'i', 'i', 'i', 'i', 'i', 'i', 'i', 'i', 'i', 'i', 'i', 'i', 'i', 'i', 'i', 'i', 'i', 'i', 'i', 'i', 'i', 'i', 'i', 'i', 'i', 'i', 'i', 'i', 'i', 'i', 'i', 'i', 'i', 'i', 'i', 'i', 'i', 'i', 'i', 'i', 'i', 'i', 'i', 'i', 'i', 'i', 'i', 'i', 'i', 'i', 'i', 'i', 'i', 'i', 'i', 'i', 'i', 'i', 'i', 'i', 'i', 'i', 'i', 'i', 'i', 'i', 'i', 'i', 'i', 'i', 'i', 'i', 'i', 'i', 'i', 'i', 'i', 'i', 'i', 'i', 'i', 'i', 'i', 'i', 'i', 'i', 'i', 'i', 'i', 'i', 'i', 'i', 'i', 'i', 'i', 'i', 'i', 'i', 'i', 'i', 'i', 'i', 'i', 'i', 'i', 'i', 'i', 'i', 'i', 'i', 'i', 'i', 'i', 'i', 'i', 'i', 'i', 'i', 'i', 'i', 'i', 'i', 'i', 'i', 'i', 'i', 'i', 'i', 'i', 'i', 'i', 'i', 'i', 'i', 'i', 'i', 'i', 'i', 'i', 'i', 'i', 'i', 'i', 'i', 'i', 'i', 'i', 'i', 'i', 'i', 'i', 'i', 'i', 'i', 'i', 'i', 'i', 'i', 'i', 'i', 'i', 'i', 'i', 'i', 'i', 'i', 'i', 'i', 'i', 'i', 'i', 'i', 'i', 'i', 'i', 'i', 'i', 'i', 'i', 'i', 'i', 'i', 'i', 'i', 'i', 'i', 'i', 'i', 'i', 'i', 'i', 'i', 'i', 'i', 'i', 'i', 'i', 'i', 'i', 'i', 'i', 'i', 'i', 'i', 'i', 'i', 'i', 'i', 'i', 'i', 'i', 'i', 'i', 'i', 'i', 'i', 'i', 'i', 'i', 'i', 'i', 'i', 'i', 'i', 'i', 'i', 'i', 'i', 'i', 'i', 'i', 'i', 'i', 'i', 'i', 'i', 'i', 'i', 'i', 'i', 'i', 'i', 'i', 'i', 'i', 'i', 'i', 'i', 'i', 'i', 'i', 'i', 'i', 'i', 'i', 'i', 'i', 'i', 'i', 'i', 'i', 'i', 'i', 'i', 'i', 'i', 'i', 'i', 'i', 'i', 'i', 'i', 'i', 'i', 'i', 'i', 'i', 'i', 'i', 'i', 'i', 'i', 'i', 'i', 'i', 'i', 'i', 'i', 'i', 'i', 'i', 'i', 'i', 'i', 'i', 'i', 'i', 'i', 'i', 'i', 'i', 'i', 'i', 'i', 'i', 'i', 'i', 'i', 'i', 'i', 'i', 'i', 'i', 'i', 'i', 'i', 'i', 'i', 'i', 'i', 'i', 'i', 'i', 'i', 'i', 'i', 'i', 'i', 'i', 'i', 'i', 'i', 'i', 'i', 'i', 'i', 'i', 'i', 'i', 'i', 'i', 'i', 'i', 'i', 'i', 'i', 'i', 'i', 'i', 'i', 'i', 'i', 'i', 'i', 'i', 'i', 'i', 'i', 'i', 'i', 'i', 'i', 'i', 'i', 'i', 'i', 'i', 'i', 'i', 'i', 'i', 'i', 'i', 'i', 'i', 'i', 'i', 'i', 'i', 'i', 'i', 'i', 'i', 'i', 'i', 'i', 'i', 'i', 'i', 'i', 'i', 'i', 'i', 'i', 'i', 'i', 'i', 'i', 'i', 'i', 'i', 'i', 'i', 'i', 'i', 'i', 'i', 'i', 'i', 'i', 'i', 'i', 'i', 'i', 'i', 'i', 'i', 'i', 'i', 'i', 'i', 'i', 'i', 'i', 'i', 'i', 'i', 'i', 'i', 'i', 'i', 'i', 'i', 'i', 'i', 'i', 'i', 'i', 'i', 'i', 'i', 'i', 'i', 'i', 'i', 'i', 'i', 'i', 'i', 'i', 'i', '', '', '', '', '', '', '', '', 'i', 'i', 'i', 'i', 'i', 'i', 'i', 'i', 'i', 'i', 'i', 'i', 'i', 'i', 'i', 'i', 'i', 'i', 'i', 'i', 'i', 'i', 'i', 'i', 'i', 'i', 'i', 'i', 'i', 'i', 'i', 'i', 'i', 'i', 'i', 'i', 'i', 'i', 'i', 'i', 'i', 'i', 'i', 'i', 'i', 'i', 'i', 'i', 'i', 'i', 'i', 'i', 'i', 'i', 'i', 'i', 'i', 'i', 'i', 'i', 'i', 'i', 'i', 'i', 'i', 'i', 'i', 'i', 'i', 'i', 'i', 'i', 'i', 'i', 'i', 'i', 'i', 'i', 'i', 'i', 'i', 'i', 'i', 'i', 'i', 'i', 'i', 'i', 'i', 'i', 'i', 'i', 'i', 'i', 'i', 'i', 'i', 'i', 'i', 'i', 'i', 'i', 'i', 'i', 'i', 'i', 'i', 'i', 'i', 'i', 'i', 'i', 'i', 'i', 'i', 'i', 'i', 'i', 'i', 'i', 'i', 'i', 'i', 'i', 'i', 'i', 'i', 'i', 'i', 'i', 'i', 'i', 'i', 'i', 'i', 'i', 'i', 'i', 'i', 'i', 'i', 'i', 'i', 'i', 'i', 'i', 'i', 'i', 'i', 'i', 'i', 'i', 'i', 'i', 'i', 'i', 'i', 'i', 'i', 'i', 'i', 'i', 'i', 'i', 'i', 'i', 'i', 'i', 'i', 'i', 'i', 'i', 'i', 'i', 'i', 'i', 'i', 'i', 'i', 'i', 'i', 'i', 'i', 'i', 'i', 'i', 'i', 'i', 'i', 'i', 'i', 'i', 'i', 'i', 'i', 'i', 'i', 'i', 'i', 'i', 'i', 'i', 'i', 'i', 'i', 'i', 'i', 'i', 'i', 'i', 'i', 'i', 'i', 'i', 'i', 'i', 'i', 'i', 'i', 'i', 'i', 'i', 'i', 'i', 'i', 'i', 'i', 'i', 'i', 'i', 'i', 'i', 'i', 'i', 'i', 'i', 'i', 'i', 'i', 'i', 'i', 'i']\n"
          ]
        },
        {
          "name": "stderr",
          "output_type": "stream",
          "text": [
            "Saving model checkpoint to torgo_xlsr_finetune-M02-2/checkpoint-1000\n",
            "Configuration saved in torgo_xlsr_finetune-M02-2/checkpoint-1000/config.json\n",
            "Model weights saved in torgo_xlsr_finetune-M02-2/checkpoint-1000/pytorch_model.bin\n",
            "Feature extractor saved in torgo_xlsr_finetune-M02-2/checkpoint-1000/preprocessor_config.json\n",
            "/usr/local/lib/python3.9/dist-packages/transformers/models/wav2vec2/processing_wav2vec2.py:155: UserWarning: `as_target_processor` is deprecated and will be removed in v5 of Transformers. You can process your labels by using the argument `text` of the regular `__call__` method (either in the same call as your audio inputs, or in a separate call.\n",
            "  warnings.warn(\n",
            "The following columns in the evaluation set don't have a corresponding argument in `Wav2Vec2ForCTC.forward` and have been ignored: input_length. If input_length are not expected by `Wav2Vec2ForCTC.forward`,  you can safely ignore this message.\n",
            "***** Running Evaluation *****\n",
            "  Num examples = 714\n",
            "  Batch size = 8\n"
          ]
        },
        {
          "name": "stdout",
          "output_type": "stream",
          "text": [
            "['i', 'i', 'i', 'i', 'i', 'i', 'i', 'i', 'i', 'i', 'i', 'i', 'i', 'i', 'i', 'i', 'i', 'i', 'i', 'i', 'i', 'i', 'i', 'i', 'i', 'i', 'i', 'i', 'i', 'i', 'i', 'i', 'i', 'i', 'i', 'i', 'i', 'i', 'i', 'i', 'i', 'i', 'i', 'i', 'i', 'i', 'i', 'i', 'i', 'i', 'i', 'i', 'i', 'i', 'i', 'i', 'i', 'i', 'i', 'i', 'i', 'i', 'i', 'i', 'i', 'i', 'i', 'i', 'i', 'i', 'i', 'i', 'i', 'i', 'i', 'i', 'i', 'i', 'i', 'i', 'i', 'i', 'i', 'i', 'i', 'i', 'i', 'i', 'i', 'i', 'i', 'i', 'i', 'i', 'i', 'i', 'i', 'i', 'i', 'i', 'i', 'i', 'i', 'i', 'i', 'i', 'i', 'i', 'i', 'i', 'i', 'i', 'i', 'i', 'i', 'i', 'i', 'i', 'i', 'i', 'i', 'i', 'i', 'i', 'i', 'i', 'i', 'i', 'i', 'i', 'i', 'i', 'i', 'i', 'i', 'i', 'i', 'i', 'i', 'i', 'i', 'i', 'i', 'i', 'i', 'i', 'i', 'i', 'i', 'i', 'i', 'i', 'i', 'i', 'i', 'i', 'i', 'i', 'i', 'i', 'i', 'i', 'i', 'i', 'i', 'i', 'i', 'i', 'i', 'i', 'i', 'i', 'i', 'i', 'i', 'i', 'i', 'i', 'i', 'i', 'i', 'i', 'i', 'i', 'i', 'i', 'i', 'i', 'i', 'i', 'i', 'i', 'i', 'i', 'i', 'i', 'i', 'i', 'i', 'i', 'i', 'i', 'i', 'i', 'i', 'i', 'i', 'i', 'i', 'i', 'i', 'i', 'i', 'i', 'i', 'i', 'i', 'i', 'i', 'i', 'i', 'i', 'i', 'i', 'i', 'i', 'i', 'i', 'i', 'i', 'i', 'i', 'i', 'i', 'i', 'i', 'i', 'i', 'i', 'i', 'i', 'i', 'i', 'i', 'i', 'i', 'i', 'i', 'i', 'i', 'i', 'i', 'i', 'i', 'i', 'i', 'i', 'i', 'i', 'i', 'i', 'i', 'i', 'i', 'i', 'i', 'i', 'i', 'i', 'i', 'i', 'i', 'i', 'i', 'i', 'i', 'i', 'i', 'i', 'i', 'i', 'i', 'i', 'i', 'i', 'i', 'i', 'i', 'i', 'i', 'i', 'i', 'i', 'i', 'i', 'i', 'i', 'i', 'i', 'i', 'i', 'i', 'i', 'i', 'i', 'i', 'i', 'i', 'i', 'i', 'i', 'i', 'i', 'i', 'i', 'i', 'i', 'i', 'i', 'i', 'i', 'i', 'i', 'i', 'i', 'i', 'i', 'i', 'i', 'i', 'i', 'i', 'i', 'i', 'i', 'i', 'i', 'i', 'i', 'i', 'i', 'i', 'i', 'i', 'i', 'i', 'i', 'i', 'i', 'i', 'i', 'i', 'i', 'i', 'i', 'i', 'i', 'i', 'i', 'i', 'i', 'i', 'i', 'i', 'i', 'i', 'i', 'i', 'i', 'i', 'i', 'i', 'i', 'i', 'i', 'i', 'i', 'i', 'i', 'i', 'i', 'i', 'i', 'i', 'i', 'i', 'i', 'i', 'i', 'i', 'i', 'i', 'i', 'i', 'i', 'i', 'i', 'i', 'i', 'i', 'i', 'i', 'i', 'i', 'i', 'i', 'i', 'i', 'i', 'i', 'i', 'i', 'i', 'i', 'i', 'i', 'i', 'i', 'i', 'i', 'i', 'i', 'i', 'i', 'i', 'i', 'i', 'i', 'i', 'i', 'i', 'i', 'i', 'i', 'i', 'i', 'i', 'i', 'i', 'i', 'i', 'i', 'i', 'i', 'i', 'i', 'i', 'i', 'i', 'i', 'i', 'i', 'i', 'i', 'i', 'i', 'i', 'i', 'i', 'i', 'i', 'i', 'i', 'i', '', '', '', '', '', '', '', '', 'i', 'i', 'i', 'i', 'i', 'i', 'i', 'i', 'i', 'i', 'i', 'i', 'i', 'i', 'i', 'i', 'i', 'i', 'i', 'i', 'i', 'i', 'i', 'i', 'i', 'i', 'i', 'i', 'i', 'i', 'i', 'i', 'i', 'i', 'i', 'i', 'i', 'i', 'i', 'i', 'i', 'i', 'i', 'i', 'i', 'i', 'i', 'i', 'i', 'i', 'i', 'i', 'i', 'i', 'i', 'i', 'i', 'i', 'i', 'i', 'i', 'i', 'i', 'i', 'i', 'i', 'i', 'i', 'i', 'i', 'i', 'i', 'i', 'i', 'i', 'i', 'i', 'i', 'i', 'i', 'i', 'i', 'i', 'i', 'i', 'i', 'i', 'i', 'i', 'i', 'i', 'i', 'i', 'i', 'i', 'i', 'i', 'i', 'i', 'i', 'i', 'i', 'i', 'i', 'i', 'i', 'i', 'i', 'i', 'i', 'i', 'i', 'i', 'i', 'i', 'i', 'i', 'i', 'i', 'i', 'i', 'i', 'i', 'i', 'i', 'i', 'i', 'i', 'i', 'i', 'i', 'i', 'i', 'i', 'i', 'i', 'i', 'i', 'i', 'i', 'i', 'i', 'i', 'i', 'i', 'i', 'i', 'i', 'i', 'i', 'i', 'i', 'i', 'i', 'i', 'i', 'i', 'i', 'i', 'i', 'i', 'i', 'i', 'i', 'i', 'i', 'i', 'i', 'i', 'i', 'i', 'i', 'i', 'i', 'i', 'i', 'i', 'i', 'i', 'i', 'i', 'i', 'i', 'i', 'i', 'i', 'i', 'i', 'i', 'i', 'i', 'i', 'i', 'i', 'i', 'i', 'i', 'i', 'i', 'i', 'i', 'i', 'i', 'i', 'i', 'i', 'i', 'i', 'i', 'i', 'i', 'i', 'i', 'i', 'i', 'i', 'i', 'i', 'i', 'i', 'i', 'i', 'i', 'i', 'i', 'i', 'i', 'i', 'i', 'i', 'i', 'i', 'i', 'i', 'i', 'i', 'i', 'i', 'i', 'i', 'i', 'i']\n"
          ]
        },
        {
          "name": "stderr",
          "output_type": "stream",
          "text": [
            "Saving model checkpoint to torgo_xlsr_finetune-M02-2/checkpoint-1500\n",
            "Configuration saved in torgo_xlsr_finetune-M02-2/checkpoint-1500/config.json\n",
            "Model weights saved in torgo_xlsr_finetune-M02-2/checkpoint-1500/pytorch_model.bin\n",
            "Feature extractor saved in torgo_xlsr_finetune-M02-2/checkpoint-1500/preprocessor_config.json\n",
            "Deleting older checkpoint [torgo_xlsr_finetune-M02-2/checkpoint-500] due to args.save_total_limit\n",
            "/usr/local/lib/python3.9/dist-packages/transformers/models/wav2vec2/processing_wav2vec2.py:155: UserWarning: `as_target_processor` is deprecated and will be removed in v5 of Transformers. You can process your labels by using the argument `text` of the regular `__call__` method (either in the same call as your audio inputs, or in a separate call.\n",
            "  warnings.warn(\n",
            "The following columns in the evaluation set don't have a corresponding argument in `Wav2Vec2ForCTC.forward` and have been ignored: input_length. If input_length are not expected by `Wav2Vec2ForCTC.forward`,  you can safely ignore this message.\n",
            "***** Running Evaluation *****\n",
            "  Num examples = 714\n",
            "  Batch size = 8\n"
          ]
        },
        {
          "name": "stdout",
          "output_type": "stream",
          "text": [
            "['i', 'i', 'i', 'i', 'i', 'i', 'i', 'i', 'i', 'i', 'i', 'i', 'i', 'r  i', 'i', 'i', 'i', 'i', 'i', 'i', 'i', 'i', 'i', 'i', 'i', 'i', 'i', 'i', 'i', 'i', 'i', 'i', 'i', 'i', 'i', 'i', 'i', 'i', 'i', 'i', 'i', 'i', 'i', 'i', 'i', 'i', 'i', 'i', 'i', 'i', 'i', 'i', 'i', 'i', 'i', 'i', 'i', 'i', 'i', 'i', 'i', 'i', 'i', 'i', 'i', 'i', 'i', 'i', 'i', 'i', 'i', 'i', 'i', 'i', 'i', 'i', 'i', 'i', 'i', 'i', 'i', 'i', 'i', 'i', 'i', 'i', 'i', 'i', 'i', 'i', 'i', 'i', 'i', 'i', 'i', 'i', 'i', 'i', 'i', 'i', 'i', 'i', 'i', 'i', 'i', 'i', 'i', 'i', 'i', 'i', 'i', 'i', 'i', 'i', 'i', 'i', 'i', 'i', 'i', 'i', 'i', 'i', 'i', 'i', 'i', 'i', 'i', 'i', 'i', 'i', 'i', 'i', 'i', 'i', 'i', 'i', 'i', 'i', 'i', 'i', 'i', 'i', 'i', 'i', 'i', 'i', 'i', 'i', 'i', 'i', 'i', 'i', 'i', 'i', 'i', 'i', 'i', 'i', 'i', 'i', 'i', 'i', 'i', 'i', 'i', 'i', 'i', 'i', 'i', 'i', 'i', 'i', 'i', 'i', 'i', 'i', 'i', 'i', 'i', 'i', 'i', 'i', 'i', 'i', 'i', 'i', 'i', 'i', 'i', 'i', 'i', 'i', 'i', 'i', 'i', 'i', 'i', 'i', 'i', 'i', 'i', 'i', 'i', 'i', 'i', 'i', 'i', 'i', 'i', 'i', 'i', 'i', 'i', 'i', 'i', 'i', 'i', 'i', 'i', 'i', 'i', 'i', 'i', 'i', 'i', 'i', 'i', 'i', 'i', 'i', 'i', 'i', 'i', 'i', 'i', 'i', 'i', 'i', 'i', 'i', 'i', 'i', 'i', 'i', 'i', 'i', 'i', 'i', 'i', 'i', 'i', 'i', 'i', 'i', 'i', 'i', 'i', 'i', 'i', 'i', 'i', 'i', 'i', 'i', 'i', 'i', 'i', 'i', 'i', 'i', 'i', 'i', 'i', 'i', 'i', 'i', 'i', 'i', 'i', 'i', 'i', 'i', 'i', 'i', 'i', 'i', 'i', 'i', 'i', 'i', 'i', 'i', 'i', 'i', 'i', 'i', 'i', 'i', 'i', 'i', 'i', 'i', 'i', 'i', 'i', 'i', 'i', 'i', 'i', 'i', 'i', 'i', 'i', 'i', 'i', 'i', 'i', 'i', 'i', 'i', 'i', 'i', 'i', 'i', 'i', 'i', 'i', 'i', 'i', 'i', 'i', 'i', 'i', 'i', 'i', 'i', 'i', 'i', 'i', 'i', 'i', 'i', 'i', 'i', 'i', 'i', 'i', 'i', 'i', 'i', 'i', 'i', 'i', 'i', 'i', 'i', 'i', 'i', 'i', 'i', 'i', 'i', 'i', 'i', 'i', 'i', 'i', 'i', 'i', 'i', 'i', 'i', 'i', 'i', 'i', 'i', 'i', 'i', 'i', 'i', 'i', 'i', 'i', 'i', 'i', 'i', 'i', 'i', 'i', 'i', 'i', 'i', 'i', 'i', 'i', 'i', 'i', 'i', 'i', 'i', 'i', 'i', 'i', 'i', 'i', 'i', 'i', 'i', 'i', 'i', 'i', 'i', 'i', 'i', 'i', 'i', 'i', 'i', 'i', 'i', 'i', 'i', 'i', 'i', 'i', 'i', 'i', 'i', 'i', 'i', 'i', 'i', 'i', 'i', 'i', 'i', 'i', 'i', 'i', 'i', 'i', 'i', 'i', 'i', 'i', 'i', 'i', 'i', 'i', 'i', 'i', 'i', 'i', 'i', 'i', 'i', 'r  i', 'i', 'i', 'i', 'i', 'i', 'i', 'i', '', '', '', '', '', '', '', '', 'i', 'i', 'i', 'i', 'i', 'i', 'i', 'i', 'i', 'i', 'i', 'i', 'i', 'i', 'i', 'i', 'i', 'i', 'i', 'i', 'i', 'i', 'i', 'i', 'i', 'i', 'i', 'i', 'i', 'i', 'i', 'i', 'i', 'i', 'i', 'i', 'i', 'i', 'i', 'i', 'i', 'i', 'i', 'i', 'i', 'i', 'i', 'i', 'i', 'i', 'i', 'i', 'i', 'i', 'i', 'i', 'i', 'i', 'i', 'i', 'i', 'i', 'i', 'i', 'i', 'i', 'i', 'i', 'i', 'i', 'i', 'i', 'i', 'i', 'i', 'i', 'i', 'i', 'i', 'i', 'i', 'i', 'i', 'i', 'i', 'i', 'i', 'i', 'i', 'i', 'i', 'i', 'i', 'i', 'i', 'i', 'i', 'i', 'i', 'i', 'i', 'i', 'i', 'i', 'i', 'i', 'i', 'i', 'i', 'i', 'i', 'i', 'i', 'i', 'i', 'i', 'i', 'i', 'i', 'i', 'i', 'i', 'i', 'i', 'i', 'i', 'i', 'i', 'i', 'i', 'i', 'i', 'i', 'i', 'i', 'i', 'i', 'i', 'i', 'i', 'i', 'i', 'i', 'i', 'i', 'i', 'i', 'i', 'i', 'i', 'i', 'i', 'i', 'i', 'i', 'i', 'i', 'i', 'i', 'i', 'i', 'i', 'i', 'i', 'i', 'i', 'i', 'i', 'i', 'i', 'i', 'i', 'i', 'i', 'i', 'i', 'i', 'i', 'i', 'i', 'i', 'i', 'i', 'i', 'i', 'i', 'i', 'i', 'i', 'i', 'i', 'i', 'i', 'i', 'i', 'i', 'i', 'i', 'i', 'i', 'i', 'i', 'i', 'i', 'i', 'i', 'i', 'i', 'i', 'i', 'i', 'i', 'i', 'i', 'i', 'i', 'i', 'i', 'i', 'i', 'i', 'i', 'i', 'i', 'i', 'i', 'i', 'i', 'i', 'i', 'i', 'i', 'i', 'i', 'i', 'i', 'i', 'i', 'i', 'i', 'i', 'i']\n"
          ]
        },
        {
          "name": "stderr",
          "output_type": "stream",
          "text": [
            "Saving model checkpoint to torgo_xlsr_finetune-M02-2/checkpoint-2000\n",
            "Configuration saved in torgo_xlsr_finetune-M02-2/checkpoint-2000/config.json\n",
            "Model weights saved in torgo_xlsr_finetune-M02-2/checkpoint-2000/pytorch_model.bin\n",
            "Feature extractor saved in torgo_xlsr_finetune-M02-2/checkpoint-2000/preprocessor_config.json\n",
            "Deleting older checkpoint [torgo_xlsr_finetune-M02-2/checkpoint-1000] due to args.save_total_limit\n",
            "/usr/local/lib/python3.9/dist-packages/transformers/models/wav2vec2/processing_wav2vec2.py:155: UserWarning: `as_target_processor` is deprecated and will be removed in v5 of Transformers. You can process your labels by using the argument `text` of the regular `__call__` method (either in the same call as your audio inputs, or in a separate call.\n",
            "  warnings.warn(\n",
            "The following columns in the evaluation set don't have a corresponding argument in `Wav2Vec2ForCTC.forward` and have been ignored: input_length. If input_length are not expected by `Wav2Vec2ForCTC.forward`,  you can safely ignore this message.\n",
            "***** Running Evaluation *****\n",
            "  Num examples = 714\n",
            "  Batch size = 8\n"
          ]
        },
        {
          "name": "stdout",
          "output_type": "stream",
          "text": [
            "['r  i', 'd i', 'p  i', 'pt  i', 'm  i', 'ip i', 't i', 'r i', 'r i', 't i', 'ip    i', 'prp  i', 'gd fs  t rmtn nn lc wit i', 'pr  i', 'pt   i', 's  nr nne t   i', 't  i', 'cr i', 'r  i', 'i', 'gt i', 'n  i', 'trn  i', 'g  i', 'wrm   i', 'r  i', 'trn i', 'iy cnmt  i', 't  i', 'trp  i', 'rt  i', 'd  i', 'tp i', 'n  i', 'i', 'tr  i', 'c i', 'wr  i', 'bt  i', 'tbb i', 'trp    i', 'h t dcktns t r  t i', 'd  i', 't  i', 'pg    i', 'e  i', 't  i', 'cr  i', 'n   i', 'n  i', 'yt st tingngt w l   i', 'rinn btn   i', 'cr  i', 'trn  i', 'bt  i', 'bw ent tm t wt nnm gs i', 'hr r   nntpt i', 'bt  i', 'pt  i', 'n  i', 'rt  i', 'r  i', 'ip  i', 'tik  i', 'trn  i', 'db  i', 'dw  i', 'i', 'g  i', 'frm  i', 'fn  i', 'br  i', 'bnd  i', 'crp  i', 'drk  i', 'tm  i', 'mrt  i', 'fr  i', 'pt  i', 'mnf rnby pdc t ws c nd i', 'drk  i', 'rgc  i', 'r i', 'r  i', 'igy pnr  i', 'r    i', 'ct  i', 'thnc mtr cn r   tht i', 'c i', 'rt i', 'prk  i', 'fr  i', 'c  i', 'tgt i', 'crn i', 'pr i', 't  i', 'the cpmfcwm th   dt i', 'f th nfrnnn t  i', 'tw i', 'tr  i', 'ic t n  pmhgrnfr  i', 'tr  i', 'ck     i', 'r     i', 't  i', 's ct  miye p  i', 'f figct wr g imntr ip i', 'btn  i', 'g  i', 'tlitts te ppnthe cmn  i', 'ge  i', 'lp   i', 'c    i', 'i', 'i r rn  i', 'c  i', 'e tinngwf mmnth d i', 't  i', 'rit  i', 't  i', 'td ttingt i', 'wp  i', 'd  i', 'dlp  i', 'trp i', 'i', 'wr     i', 'i', 't i', 'fiy  r rr thnnn i', 'r  i', 'dpdpsf trkinn  cs t     i', 'th yincf lk p l  i', 'nt  i', 'pt  i', 'pt i', 'i', 'ct  i', 'prct i', 'nt  i', 'r  i', 'dt  i', 't   i', 'in  i', 'pt  i', 'thr p ppticdtrttt i', 'p  i', 'c  i', 'icmpths wckn  i', 'e  ie cm  thswkn   i', 'the cndthtlt i', 'rit  i', 'bwr    i', 'wt  i', 'r   i', 'nr  i', 'tr  i', 'bd  i', 'g  i', 'ntnrm n th n i', 'fgstre cs nthe pc i', 'h w  r   i', 'c  i', 'wr  i', 't    i', 'lh  i', 'i', 'tie  i', 't    i', 'w  i', 'i', 'th t gnw    i', 'n tings s e tnip hcn i', 'nng  e n th d inn n i', 'ty  i', 'nr  i', 'gye  i', 'rck  i', 'hs insn nn i', 'rtn i', 'gt  i', 'p    i', 'p  i', 't ny gt wt  i', 'pi  i', 'y is t rn ndte f i', 'pt  i', 'fr  i', 'p  i', 'tttt  i', 'de e ns t w mn  i', 'p  i', 'iewe  cntd  letn   i', 'tr  i', 'ti  i', 't  i', 'bk  i', 'wnrth tr tiyerts cr ntistt i', 'nr  i', 't i', 'bt  i', 'n y cinm  pn i', 'c  i', 'n  i', 'rck  i', 'nnnnmnnp ie wrkcn   i', 'ir  i', 'cp i', 'brt  i', 'scd r mtrt  i', 't  i', 't trg  tthe dft  i', 'tr  i', 'ptt  i', 'gr  i', 't i', 'f  i', 'pt  i', 'm   i', 'ip   i', 't   i', 'r   i', 'fr   i', 'ft  i', 'ip  i', 'prk   i', 'gslt mtrn n  ngr i', 'pr   i', 'pt  i', 'sn nn   i', 't   i', 'c   i', 'r   i', 'i', 'gt  i', 'n   i', 'trn   i', 'g   i', 'rm   i', 're   i', 'iy crn i', 'icnr   i', 'ft   i', 'tr  i', 'rt  i', 'n  i', 'tt   i', 'n   i', 'i', 'tr   i', 'c  i', 'rm   i', 'bt  i', 'h i', 'trt   i', 'nd i', 't  i', 'prtt   i', 'it  i', 'p  i', 'cr  i', 'n   i', 'n  i', 'y st tinght wl ys   i', 'riginpbtn   i', 'r  i', 'trn  i', 'p   i', 'w er cmnt ck mnm g i', 'lt   i', 'frd   i', 'pt  i', 'n   i', 'rit   i', 'r   i', 'ip   i', 't   i', 'trm i', 'dr   i', 'twm   i', 'f   i', 'g   i', 'frm  i', 'fn   i', 'br i', 'n   i', 'rt  i', 'trk   i', 'trm   i', 'mrt   i', 'pr   i', 'p  i', 'drk i', 'rck  i', 'r  i', 'r  i', 'ig cnr  i', 'r  i', 'ct   i', 'tnd mitr c n nr  c tht i', 'rc   i', 'rt  i', 'prk   i', 'fr   i', 'gt  i', 'gd   i', 'crm  i', 'prp   i', 'ft  i', 'the crprmfckcrng r th  dt i', 'pt th  nprnnnn rp   i', 't   i', 'trt   i', 'wc t n tmthy rmf i', 'tr   i', 'ick  i', 'r  i', 'f   i', 'sctr t mn f   i', 'ffigt r g mnltr  i', 'mn  i', 'igt  i', 't tsdepnthe cmrn   i', 'ige   i', 'lp  i', 'i', 'i', 'w   rn   i', 'cr  i', 'esthin nw mth d i', 't  i', 'rigt  i', 't  i', 't r in  i', 'wt  i', 'n   i', 'drp  i', 'trp  i', 'i', 'wr   i', 'ft  i', 't   i', 'iy e r ir r thnnn i', 'rp   i', 'the prr f tking r cs t   i', 'h yincf lip p l i', 'nt   i', 'pt  i', 'p   i', 'r   i', 'p   i', 'prig i', 'nt  i', 'fr  i', 'wr  i', 'tdt  i', 'i', 'in  i', 'pd  i', 'the igp ppd ccttrtrt i', 'p   i', 'c   i', 'i cmpt r n   i', 'iee  ie cm  thswn  i', 'th ce mnthtcr  i', 'rigt  i', 'wr w     i', 'wf  i', 'r   i', 'nr  i', 'tr  i', 'f i', 'g   i', 'ntnms nth rn i', 'ftg tr t nthe pc  i', 'h wr  r i', 'c  i', 'w   i', 't  i', 'c   i', 'n  i', 'tie   i', 'i', 'i', 'r   i', 'th sd r gn w   i', 'nttn s s efnp thcnn i', 'ntin  fnt nnn   i', 'ly  i', 'np  i', 'ih   i', 'rck  i', 'sinthnn   i', 'rn   i', 't   i', 'p  i', 'p   i', 's wn gt wt i', 'pi   i', 'hri t brgn n the f  i', 'p  i', 'fr   i', 'pr  i', 'tt   i', 'iy dt d  the ns tw mn i', 'p   i', 'i ws cnt  lttn    i', 'pir  i', 'ti   i', 'f  i', 'b  i', 'wnt tir t crntistp i', 'mr   i', 't   i', 'pt   i', 'n  cinmppn i', 'nc   i', 'n i', 'rk  i', 'rk   i', 'nnm  mnp ie wkcn    i', 'gy  i', 'tp   i', 'brt   i', 'cdl   tr   i', 't   i', 't trng h  df lp i', 'tr   i', 'r ft  i', 'p     i', 'wr    i', 'r nthr r th  i', 'i', 'rlt   i', 'i', 't  i', 'dt  i', 'wt  i', 'nis rerith frs cr i', 'lt  i', 'wt  i', 'r  r  i', 'lp  i', 'cp i', 't  i', 'nk  i', 'we   irt y n s  i', 'ic  i', 'tt  i', 'iy pn  i', 'rrt  i', 'r   i', 'brt  i', 'trtwts e gt t i', 't  i', 'trk  i', 'gh  i', 'pitr i', 'pn   i', 'lrk  i', 't  i', 'r  i', 't i', 'crf', 'firtt', 't dc winrm f', 'lr', 'rs iy e sth wr', 'ptt', 'trttrt', '', 'lr  i', 'n  i', 'b    i', 't  i', 'rtc  i', 't  i', 't bickctnc hr i', 'fft  i', 'pt  i', 'tting  i', 'p  i', 'r tr ptpckf i', 'prtit i', 'titk  i', 'brnbrt  i', 't  i', 'd  i', 'fr  i', 'i', 't  i', 'frkck i', 'itr      i', 'ptt  i', 'k  i', 'pt  i', 'py i', 'i', 'l  i', 'nntr  i', 'cr  i', 'iy  frntng i', 't  i', 'ittr  i', 't   i', 'rck  i', 'trt  i', 'prk i', 'pt  i', 'fr  i', 'i', 'n  i', 'ittr  i', 'c     i', 'tm  i', 'f ct       i', 'h rbship i', 'rt  i', 'crt  i', 'p  i', 'crt  i', 'i', 'r  i', 'r  i', 'iy hrpw ttd  wt i', 's g  drt nr  i', 'pt  i', 'p tr c chce n i', 'tp  i', 'wingnhs y s r c i', 'iefndhre crd mfrt  i', 't  i', 't  i', 'd   i', 'ick  i', 'hr s s  trpp pt  i', 'pr  i', 'ht  i', 'rt  i', 'n    i', 'w e cpttt  i', 'bck  i', 'bt  i', 'cfr ning rnn pt i', 't  i', 'wt  i', 'lk  i', 'trt  i', 'h  i', 'l  i', 'nt  i', 'tt  i', 'nnhr rfr i', 'tr  i', 'g  i', 'itting  i', 'c n rm  i', 'dr  i', 'nt  i', 'we crt  i', 'pr  i', 'hrp  i', 'prebtt cr c i', 'r  i', 'wt  i', 'i', 'p   i', 'w  i', 'h en   i', 'r  i', 'r  i', 'tt  i', 'i', 'tt   i', 'b  i', 'wt  i', 'mtis enth fcr   i', 'tt  i', 't s c s  nr re nn i', 'i', 'b h re    i', 'lp  i', 'cp  i', 'tt  i', 'i', 'r  in s   i', 'c  i', 'tt  i', 'brk  i', 'rt  i', 'r  i', 'bt  i', 'tr rwts  gt f i', 't  i', 'trk   i', 'gh  i', 'pit i', 'lck  i', 'lrk  i', 't  i', 'r  i', 't  i', 'c  i', 'tw  i', 'wre dln wnt  i', 'l  i', 'ms igd e   wr i', 'hp  i', 't  prddf tcccn frn m i', 'drk  i', 'i', 'tnr   i', 'i', 'n i', 't  i', 'rk   i', 't  i', 't  btctnir i', 'ffr  i', 'pt  i', 'nttn  i', 'fr  i', 'r ptbpckcf i', 'ptk   i', 'pttt  i', 'pt  i', 'n rnbr   i', 'p  i', 'i', 'br i', 'i', 't  i', 'frk  i', 'itr  i', 'ntt  i', 'k  i', 'fl  i', 'tr i', 'p   i', 'i', 'lk  i', 'ntn  i', 'cr  i', 'y   nbrrng i', 't  i', 'ittin  i', 't  i', 'rrk  i', 'prk  i', 'pr   i', 'prt  i', 'p  i', 't i', 'n  i', 'ittr  i', 'ck  i', 'm i', 'c   i', 'hkrpsip  i', 't  i', 'crt  i', 'pk  i', 'rk  i', 'i', 'i', 'r  i', 'tw tmtd t i', 'hg  dre n  i', 'p  i', 'pr cr  p   i', 'tp  i', 'inn hi s  cn i', 'iethr cd nfrt  i', 't  i', 't  i', 'gy i', 'ick  i', 'hr sth tr pptpt  i', 'trk  i', 't  i', 'rt  i', 'k  i', 'tpt tt efd   i', 'bk  i', 'bt  i', 't fr nsinneft   i', 'th epr c mnnbnnt i', 't  i', 'wit i', 'lk i', 'trk  i', 'm  i', 'k  i', 'n  i', 'ft  i', 'nn rfr  i', 'tr  i', 'g  i', 'ittin  i', 'chs nm  i', 'dr  i', 'nt  i', 'crdrtv crd etst drngfred i', 'wkcr  i', 'trr  i', 'tn rg gr ft fttm  nt i', 'rp  i', 'fr ebtt ct p t   i', 'r   i', 'wt  i', 'i   i', 'rd   i', 'prt i']\n"
          ]
        },
        {
          "name": "stderr",
          "output_type": "stream",
          "text": [
            "Saving model checkpoint to torgo_xlsr_finetune-M02-2/checkpoint-2500\n",
            "Configuration saved in torgo_xlsr_finetune-M02-2/checkpoint-2500/config.json\n",
            "Model weights saved in torgo_xlsr_finetune-M02-2/checkpoint-2500/pytorch_model.bin\n",
            "Feature extractor saved in torgo_xlsr_finetune-M02-2/checkpoint-2500/preprocessor_config.json\n",
            "Deleting older checkpoint [torgo_xlsr_finetune-M02-2/checkpoint-1500] due to args.save_total_limit\n",
            "/usr/local/lib/python3.9/dist-packages/transformers/models/wav2vec2/processing_wav2vec2.py:155: UserWarning: `as_target_processor` is deprecated and will be removed in v5 of Transformers. You can process your labels by using the argument `text` of the regular `__call__` method (either in the same call as your audio inputs, or in a separate call.\n",
            "  warnings.warn(\n",
            "The following columns in the evaluation set don't have a corresponding argument in `Wav2Vec2ForCTC.forward` and have been ignored: input_length. If input_length are not expected by `Wav2Vec2ForCTC.forward`,  you can safely ignore this message.\n",
            "***** Running Evaluation *****\n",
            "  Num examples = 714\n",
            "  Batch size = 8\n"
          ]
        },
        {
          "name": "stdout",
          "output_type": "stream",
          "text": [
            "['ro   i', 'fed i', 'alha  i', 'pat  i', 'farm  i', 'sirp i', 'dage i', 'rin i', 'fair i', 'sreat i', 'ship i', 'parp i', 'garfatleslov to by mdan anas langa i', 'buble i', 'bit  i', 'vl sh as snearly nintev lisorslov     i', 'trubble i', 'chair i', 'rin i', 'tho    i', 'goglet i', 'varm i', 'porn i', 'grow i', 'swarm i', 'shair i', 'i o tarant i', 'i can mroad  i', 'st i', 'starp   i', 'rite i', 'doum  i', 'trip i', 'no i', 'lef i', 'storm i', 'chair i', 'slorm i', 'bat  i', 'stubble i', 'rap  i', 'she avs hor douk so anihewas wbatther al yar  i', 'horm  i', 'sheat  i', 'bauga i', 'sisiv  i', 'sfeap   i', 'arm  i', 'ktin  i', 'know  i', 'yatstel thinks theos wer il yoslevr i', 'msy inars sevl bn i', 'flor   i', 'triaig  i', 'biup i', 'bwe avvovehore ntim t wal mor an smo glas i', 'ver jou mntollaf i', 'brn  i', 'beat  i', 'd    i', 'rite      i', 'rangng  i', 'sip i', 'stik i', 'storm i', 'dubble  i', 'dowm i', 'fom i', 'glow i', 'form  i', 'fwlarm i', 'brve i', 'varm   i', 'shirp i', 'dag i', 'storm i', 'groat    i', 'wrm  i', 'up    i', 'a long for loverbly blins to is cha i', 'dark     i', 'rie   i', 'rice i', 'ear  i', 'i can lrd  i', 'ar i', 'jacer i', 'than lac me to cavr yung o shal ho alig that i', 'rac i', 'hair i', 'fack i', 'for  i', 'cump i', 'aggerd i', 'corn i', 'spar i', 'fot   i', 'the fopbam for of scwamdover he liy dot i', 'foa the yov jamersbr nonnoa al yol  i', 'trop i', 'trave    i', 's vic to nol all abam var ramfaher  i', 'trif     i', 'sicle i', 'aa i', 'uf  i', 'i jus trid to domiy bes  i', 'formsfiglss war gl hiam niter ip i', 'bsm  i', 'side    i', 'i chalid to seave breblhea the comanat i', 'sive  i', 'lop i', 'fhear i', 'arya  i', 'wi yob ovor over sevlilivan i', 'shearm i', 'evvy thing warmbelof smom tho shars sead i', 'at i', 'lihte  i', 'hat i', 'sthids vuysing for ot i', 'boup i', 'dom    i', 'dlop   i', 'slop i', 'slif   i', 'swe i', 'shot i', 'shoit i', 'far yor grbvss ir r a loal hannanys i', 'slop  i', 'yo bodbose of tarkin in the co sha  i', 'the yilandsac fasloic ofthe lie i', 'not  i', 'pot    i', 'bop i', 'seil i', 'tlive  i', 'spicle i', 'got i', 'form i', 'dot i', 'soip i', 'sine  i', 'pad i', 'al the viegbos bal playrsiccadstraer i', 'pay  i', 'cher  i', 'i pimplay this wircam  i', 'iae fe a live crams lay this wican i', 'the carv mialfon the slaccor i', 'wrihe  i', 'bavabaer for or yor lov laly i', 'barp i', 'sher i', 'nar  i', 'str i', 'bad   i', 'galor  i', 'vosanjlin shimars on the yoharn i', 'fo gad ther els on the beac i', 'he wil bwv hw avaa liy  i', 'chaly  i', 'warm i', 'at i', 'licf i', 'dhm  i', 'tive i', 'sevo i', 'tho  i', 'flor     i', 'her hos is a gloryand wa i', 'no thingashas avfnthip other noan i', 'nothing am avfrm tho veaae in sein i', 'slaiy i', 'slip i', 'sive  i', 'vrock     i', 'she os thier ther niam i', 'an i', 'jungle i', 'far i', 'soip  i', 'jus swon si got wel i', 'pile  i', 'yo yus tobiling o  the f i', 'foro    i', 'for    i', 'pear i', 'seltof i', 'i loug dhagof nosis towal  men i', 'slip     i', 'i weas tho con to sv the tin i', 'trior  i', 'tile  i', 'trel i', 'vap   i', 'van valr hay ther divesis  scoubbmdisc i', 'menor   i', 'sit i', 'bat   i', 'muldsol yelo cinam ippran i', 'buc   i', 'nop i', 'brock  i', 'sangmaor mo mu bar ar can ho  i', 'sive     i', 'trop i', 'bloumt   i', 'ai scwaublo  flamstoy i', 'sih  i', 'the rinavo the dobl  sloubly  i', 'jra  i', 'orecplot i', 'grolf  i', 'ft i', 'alpha  i', 'pat  i', 'farm   i', 'srip i', 'sagle  i', 'rin i', 'fair  i', 'sp  i', 'sip  i', 'park  i', 'godfatheliftob smatran anars langar i', 'buble  i', 'bvairt  i', 'wil she yasnearly nino r yorlov i', 'troubble  i', 'chair  i', 'rad  i', 'tho i', 'gaet    i', 'varm  i', 'porn  i', 'go  i', 'swarm  i', 'shair  i', 'yo carrns i', 'i can meave  i', 'fit   i', 'stairp   i', 'rite  i', 'noum  i', 'tip  i', 'know  i', 'les  i', 'stor  i', 'chair  i', 'florm  i', 'bat  i', 'stubble i', 'trot  i', 'horn i', 'sheat  i', 'bretha   i', 'snlip  i', 'fop  i', 'car  i', 'knlw  i', 'knorm  i', 'yas he steld things thesswieftly ysleav     i', 'yos rigminers sevl botan   i', 'flor  i', 'ttring  i', 'sbum  i', 'bwe havvaolvhe nosstim to vak moran  smo las i', 'lft  i', 'born  i', 'bat  i', 'snop  i', 'ripe  i', 'rang  i', 'sip  i', 'stei  i', 'storm i', 'dubble  i', 'dom  i', 'fom  i', 'glow  i', 'form i', 'form  i', 'brarve i', 'varm   i', 'sip i', 'daug  i', 'storm   i', 'slop  i', 'sworm  i', 'up    i', 'dark i', 'rake     i', 'riche    i', 'air   i', 'i can rear  i', 'air  i', 'jaceart  i', 'ston lef mey to cavr yun ornr i loug that i', 'raag   i', 'hair  i', 'barg  i', 'for  i', 'gop  i', 'aggerd  i', 'orn   i', 'spark  i', 'fit  i', 'the ciopbvramfo scraungsoer the loisy dop i', 'spa the yov janersbanana o yo   i', 'trop   i', 'trate   i', 'sh woic to now al e form var gramfaher i', 'trife   i', 'sicle  i', 'ara    i', 'uf  i', 'i jusfid to do miy ves    i', 'hfalsfigss war gal hiaminlitr ip i', 'mum  i', 'side  i', 'i slrivd to do bbalan the comnitou i', 'sive  i', 'lop  i', 'fear  i', 'evya  i', 'wive yal  ovor yovher sila libram   i', 'shearm  i', 'evvery hing wim wve yolf smam the shaav sead i', 'at   i', 'rite  i', 'hat   i', 'this valosing for us  i', 'vbop  i', 'now  i', 'dlrop  i', 'strip  i', 'slif  i', 'swair  i', 'shot  i', 'soit  i', 'far yor grad hilor o loal thannanes i', 'flop  i', 'stho beve of taring a cors shaor   i', 'the yilanddockfa loick opthe lier i', 'nock  i', 'pot  i', 'sbop  i', 'swap  i', 'pliy  i', 'spinle i', 'not   i', 'for  i', 'war  i', 'dot  i', 'soip   i', 'single  i', 'pand  i', 'al the vig bag fol playr siccads sttragter i', 'pair  i', 'chear  i', 'i cimplay this weicant   i', 'ie fel live crams lay thiswean      i', 'the gaid molf on thestroccor    i', 'write   i', 'sbwavalver a or yealo laly  i', 'bwif  i', 'sher  i', 'ner   i', 'str  i', 'vand  i', 'galor  i', 'vusanlinhimars on the yoern i', 'fo gadther els on the breac    i', 'h wai abv lho a var liy i', 'chaly  i', 'warm  i', 'aot    i', 'slice  i', 'nom  i', 'tive  i', 'svo   i', 'low  i', 'flor  i', 'ther  hos is a graand wife  i', 'knothing ashs avfanep aoheer anran i', 'notthing a avfans tho vaea inian  i', 'slaiy  i', 'snop  i', 'sive  i', 'rock  i', 'she is sinr the niyam  i', 'arant  i', 'jungle  i', 'bar     i', 'sip  i', 'juswon si got wet i', 'pile  i', 'yhor livs t biing on the f  i', 'sforor  i', 'for   i', 'ssper        i', 'sdelatof   i', 'i lok dof  tha nosis  to wal mean i', 'slip  i', 'i ave was contordhal lhotain i', 'frir  i', 'tile  i', 'fer  i', 'bag  i', 'warmvailer lay the diveeto  scrolm distop i', 'minar  i', 'fatp  i', 'vat  i', 'smuhedsol galo of cinamtippan i', 'muc  i', 'no  i', 'rokk  i', 'rock   i', 'jaagnmyor o mul spbival coin hos    i', 'sive  i', 'trop  i', 'brot  i', 'i eccraubs the for aums thrly  i', 'sih  i', 'the rang ouvolv strevdobl flovlip i', 'sr  i', 'ecplor  i', 'lop i', 'brolha i', 'lihar unerthr yor ho bor varmsiy i', 'air   i', 'alserlup  i', 'yas   i', 'hop i', 'ti   i', 'warm   i', 'bisif fhermrive the flo as caarm i', 'slir   i', 'swairm    i', 'bavbo o valb val ovr i', 'slip   i', 'hop i', 'ti    i', 'nr  i', 'aublal ha lov iar the ly nanor loval  i', 'eco   i', 'thot   i', 'ehonrs    i', 'arser i', 'sirof    i', 'broc    i', 'ptor answaas he got ho i', 'at    i', 'taraive i', 'sigh   i', 'fitr i', 'ofh  i', 'lark  i', 'teil     i', 'lir  i', 'bat i', 'irlof', 'virly', 'to bdal ther swarm arvarmhobol', 'lar', 'drubmus iler ss have los ther vir', 'puba', 'sorstar', 'hm', 'loral         i', 'soin  i', 'ban i', 'a   i', 'rak    i', 'ssd       i', 'the ba auansy swiar i', 'form i', 'fit   i', 'itting    i', 'tril  i', 'h rove the pi the packag hafily i', 'parit i', 'tip     i', 'ovemver     i', 'sip    i', 'so ive i', 'farm    i', 'him     i', 'jap   i', 'forkal i', 'cir i', 'botayat   i', 'hark  i', 'blof   i', 'opy i', 'yes    i', 'lop  i', 'nadeam   i', 'ofscar   i', 'i ave havemorvallong i', 'siert   i', 'sittr i', 'pat i', 'vark i', 'fhor i', 'spark i', 'spairt   i', 'baim i', 'fel i', 'narm   i', 'sitty   i', 'ae i', 'harm i', 'hof ral i', 'the bousal var yor pessip i', 'harpf i', 'cart         i', 'park   i', 'dark    i', 'hirl   i', 's   i', 'sever   i', 'airyof ther wl spoufhv  dea wip i', 'ja lasof  scoble aol torve aniy  i', 'flo    i', 'of the corars chossaiv mor i', 'tor   i', 'swing notarm thos hi athre carn i', 'ifformther corshe warm for lop i', 'hm    i', 'so   i', 'siv i', 'sik   i', 'theear is ther tray of ubbl bap i', 'park  i', 'thaip  i', 'har   i', 'lok   i', 'wevam coback thro the farm i', 'habac   i', 'bit   i', 'cjog frv msing veal o fip i', 'hat  i', 'lip  i', 'liack   i', 'tar  i', 'marck   i', 'lak   i', 'kno   i', 'fitt  i', 'wa nlvfaveyrfor i', 'toram   i', 'golf   i', 'hitting   i', 'cal lhev ana livly horm i', 'darn    i', 'kno   i', 'wicard  i', 'rar   i', 'chairp i', 'breyar haribl to jaimcoarkaf top i', 'ham   i', 'swirp   i', 'sitta i', 'lop   i', 'waar  i', 'shi har muger her yor sal vor vamsni i', 'air  i', 'air    i', 'silaaselp  i', 'ys  i', 'op    i', 'stil  i', 'wart  i', 'missif hernive the floas carn  i', 'siplip   i', 't ar thos cagdses al forvv ung ther ar lieve fians i', 'var  i', 'b vor yo val haes va o  i', 'slip   i', 'op  i', 'tot  i', 'a  i', 'ub al tha lov aira slig ner a loubl i', 'eico   i', 'thot    i', 'bark  i', 'srd   i', 'seaf  i', 'bot   i', 'sporlok as he got of i', 'at    i', 'cary  i', 'sigh  i', 'filip  i', 'leick  i', 'lark  i', 'tel  i', 'lir  i', 'hat  i', 'il  i', 'oofvily  i', 'f dl vonkswarma varm locbl  i', 'lar   i', 'drug mus ild ss ave losthor vaor i', 'hapa  i', 'thisis the por yor gobv trackcacn form mangk i', 'dark  i', 'him  i', 'olral  i', 'sorn  i', 'an  i', 't  i', 'rok  i', 'sr  i', 'sthe baog couhaing svy swilar  i', 'form  i', 'bit  i', 'knitting  i', 'fail  i', 'hravethe ba the pacag has fiy i', 'park   i', 'parit  i', 'pit  i', 'no bumsber   i', 'oip     i', 'sive   i', 'bvarn i', 'hm  i', 'jap   i', 'forho  i', 'citen    i', 'volyat  i', 'hark     i', 'flor  i', 'atraeliveal i', 'up  i', 'yer  i', 'lok    i', 'notim  i', 'ofscar  i', 'i ave have mrbarong i', 'sigent  i', 'sitter  i', 'at  i', 'vark  i', 'fork  i', 'spark  i', 'fairt  i', 'spairm  i', 'sop i', 'dorn  i', 'siter  i', 'ark  i', 'harm i', 'hofcral  i', 'the bouksa var yspesip  i', 'harp     i', 'cark  i', 'park   i', 'dark  i', 'hill  i', 'seable  i', 'sever  i', 'i of ver wl spamsivedelcrab lip i', 'he lhe lov gobl hal storve anily  i', 'flo  i', 'il frco as os thor vi orp  i', 'tlor  i', 'swing not omthoshhi wathro carn i', 'iffo ther coss warmfor of  i', 'hm  i', 'sop  i', 'sigy  i', 'sik    i', 'hear isther tray of upbr bal  i', 'park   i', 'thot   i', 'hart    i', 'logk  i', 'wvaltobac to the florm  i', 'oback  i', 'bit  i', 'the joub frbo osing vaon har fit  i', 'the jibfr vamuny brnit i', 'hat   i', 'bip i', 'lick  i', 'tark  i', 'mu  i', 'lok  i', 'no  i', 'fittw   i', 'wa nalasfaiovrmform  i', 'forar  i', 'golf      i', 'hitting  i', 'cal a lov lesnalivly horm  i', 'darn  i', 'knot  i', 'aos caral ther foulea garddave  her o rlong vr grauble i', 'wirckar   i', 'brar   i', 'the e anie r garla lof for t suming lip i', 'shirp  i', 'feirbol to jimcod eap top  i', 'ham  i', 'lirp   i', 'sia  i', 'sair  i', 'ar i']\n"
          ]
        },
        {
          "name": "stderr",
          "output_type": "stream",
          "text": [
            "Saving model checkpoint to torgo_xlsr_finetune-M02-2/checkpoint-3000\n",
            "Configuration saved in torgo_xlsr_finetune-M02-2/checkpoint-3000/config.json\n",
            "Model weights saved in torgo_xlsr_finetune-M02-2/checkpoint-3000/pytorch_model.bin\n",
            "Feature extractor saved in torgo_xlsr_finetune-M02-2/checkpoint-3000/preprocessor_config.json\n",
            "Deleting older checkpoint [torgo_xlsr_finetune-M02-2/checkpoint-2000] due to args.save_total_limit\n",
            "/usr/local/lib/python3.9/dist-packages/transformers/models/wav2vec2/processing_wav2vec2.py:155: UserWarning: `as_target_processor` is deprecated and will be removed in v5 of Transformers. You can process your labels by using the argument `text` of the regular `__call__` method (either in the same call as your audio inputs, or in a separate call.\n",
            "  warnings.warn(\n",
            "The following columns in the evaluation set don't have a corresponding argument in `Wav2Vec2ForCTC.forward` and have been ignored: input_length. If input_length are not expected by `Wav2Vec2ForCTC.forward`,  you can safely ignore this message.\n",
            "***** Running Evaluation *****\n",
            "  Num examples = 714\n",
            "  Batch size = 8\n"
          ]
        },
        {
          "name": "stdout",
          "output_type": "stream",
          "text": [
            "['ggrof  i', 'fed i', 'alha  i', 'pat  i', 'fum  i', 'serip i', 'tagge i', 'rad i', 'fai i', 'sreat    i', 'sip i', 'parf i', 'godfather loved  to be mo tan anas lacka i', 'puble i', 'bet  i', 'wil she yess nearly nonjus pi yo sv   i', 'trouble i', 'char i', 'rade i', 'thea   i', 'gaget i', 'boun i', 'torn i', 'go i', 'swarm i', 'shr i', 'i hal tarn i', 'i can mead i', 'sfat     i', 'starp  i', 'wright i', 'do i', 'tar i', 'kno  i', 'le i', 'storm i', 'chair i', 'slorm  i', 'bat  i', 'stuble i', 'trape    i', 'she had yor doksu anwic ahe fatthera er i', 'phon  i', 'shet     i', 'paca i', 'se     i', 'stink  i', 'car  i', 'nuting i', 'no   i', 'yet is sevthingthecs  weps the yeslever i', 'usuly mina sevr bon i', 'ftlor   i', 'trae  i', 'bu i', 'we hav ofte nos chim wal more and smol gles i', 'the jugged nontol let i', 'bond  i', 'beat  i', 'ne i', 'wright   i', 'rang   i', 'sip i', 'step     i', 'storm i', 'tube i', 'tow i', 't i', 'glof i', 'form  i', 'florm i', 'brave i', 'born  i', 'schair i', 'tak i', 'storm   i', 'rat  i', 'spor  i', 'hop   i', 'a long folovenbly both eangds to wicch ant i', 'tark    i', 'race    i', 'rase i', 'elera i', 'i can read i', 'ar i', 'jacat i', 'thotlef me to cavr young ore shal  egleced the i', 'raec i', 'hair i', 'po i', 'fo i', 'coump  i', 'jagert i', 'corn i', 'spar i', 'ferd  i', 'the fobram fo stcrombdoer the livy dot i', 'fahe yave jamchers banaa aalyal  i', 't i', 'trade i', 'souchd to nol al abov the grand father i', 'tracse  i', 'seho i', 'era i', 'of   i', 'i jus  traid to do my bes i', 'fol faigoss wer galhiom lcter yhip i', 'mectem   i', 'sigde  i', 'i triy to save beboven the comeanat i', 'siv   i', 'lop i', 'sher i', 'aoya  i', 'whil jod ovor loar selliean i', 'shem i', 'eerthem hong belef smoumd the shele  sad i', 'ighte i', 'ligf i', 'hat     i', 'ted fuys in foo i', 'lop i', 'dom i', 'dlop   i', 'trop i', 'sle   i', 'swa i', 'shef i', 'shit i', 'on yor groubds hhiheeer or loe thean nansys i', 'trop  i', 'yue be beter of tearingg a cos shel i', 'the yilandsoc foc loue up lian i', 'not  i', 'poat   i', 'fout i', 'selral i', 'trae  i', 'spefchoe i', 'knot   i', 'farm i', 'to i', 'sp i', 'senlo  i', 'pad i', 'al the feboed pal playerss counsstradder i', 'pase  i', 'chero    i', 'i camplay this weceant  i', 'i fealived cums thay this weceant i', 'the caverd mhelf on the strechor i', 'right i', 'boaa mina yelo lely i', 'wufh  i', 'she i', 'ner i', 'stea i', 'bad  i', 'galof  i', 'veost senjlin shimers on the yochearn i', 'fou gatherd sjhels on the beach i', 'he wil above tho a veala lve i', 'chale i', 'wush i', 'agte i', 'lef i', 'th i', 'tve i', 'sl i', 'tho  i', 'flor    i', 'the ehos is gloyan woc i', 'notthing as as afonssip of the noranc i', 'nothing has oafems thor valihiners sin i', 'slay i', 'sap  i', 'siv  i', 'rock   i', 'she tls thiner than  i am i', 'urgent i', 'jugle i', 'the i', 'sip  i', 'just one sccol wet i', 'pie i', 'yu yusd to belan on the flor i', 'forword i', 'fo  i', 'pe i', 'feltof i', 'i loed dhef of nosis to wele men i', 'fli  i', 'i hav eaf consctou seove the stin i', 'trile  i', 'tile    i', 'trele i', 'fa   i', 'von valer thay ther tistous scrobon teccto i', 'meo i', 'sat i', 'fat i', 'notther selos yelo cingam e pren i', 'roch    i', 'no i', 'rok       i', 'sangm log mo muybory wokceng hoas i', 'sive     i', 'trop      i', 'boat  i', 'a scoubbl of flamsterly i', 'sigh   i', 'the crin avoe the dubolf  slovly i', 'jera     i', 'eploat i', 'grof  i', 'fed i', 'alpha  i', 'pat  i', 'farm   i', 'serip  i', 'sagge  i', 'rand i', 'fair  i', 'fee   i', 'ship  i', 'park   i', 'godfather loftto b smo tren anerslankgard i', 'bube   i', 'beart  i', 'wil she yes nearly nounifor yor so i', 'trouble   i', 'char  i', 'rave  i', 'theo i', 'gadget     i', 'von   i', 'torn   i', 'sco   i', 'ssworm   i', 'sha  i', 'ial carns i', 'i can read   i', 'fit   i', 'stairp  i', 'right  i', 'no  i', 'tep  i', 'nom  i', 'ye  i', 'storm  i', 'chair  i', 'florm   i', 'bat  i', 'stuble i', 'traoat   i', 'horn i', 'shet   i', 'beta   i', 'slep  i', 'fin  i', 'car  i', 'knew   i', 'nom  i', 'yes he stel thingthucsweftl yeever  i', 'yus reminar sevrol boa  i', 'fflor  i', 'train   i', 'we   i', 'we hav ofe noud jhumd vo mot and smoke glas i', 'left  i', 'forn   i', 'beatt  i', 'snp  i', 'right   i', 'rag   i', 'sip   i', 'ste  i', 'storn i', 'tube   i', 'tow  i', 'fm  i', 'glof  i', 'form  i', 'form   i', 'braave i', 'forn   i', 'se  i', 'tok   i', 'storm   i', 'smop   i', 'sfporm  i', 'sop  i', 'tark i', 'rake  i', 'race  i', 'air  i', 'i can read  i', 'ai    i', 'jackat   i', 'stonsleft me to car yon ourin y glouced the i', 'raeag   i', 'har  i', 'spock   i', 'for  i', 'cop   i', 'jaged  i', 'corn   i', 'sparf   i', 'fet  i', 'the pcoiupfrom fo stroungd oer the loy dot i', 'spethe yov jancers banana oyol   i', 'to   i', 'trate   i', 'she woichd to now al aom thy grand father i', 'traf   i', 'sehom  i', 'erof   i', 'of  i', 'i jus fas tor to my ves   i', 'fols ficss for gal hhiamlecter hip i', 'meheum  i', 'sid  i', 'i triy to dhe bebolvent the comunnativ i', 'siv   i', 'lop  i', 'her   i', 'evrya   i', 'whi sjelveed ofor doher sellibaun  i', 'him   i', 'evre thing  whon weolf smoubd the sheef   sead i', 'igt  i', 'ligf  i', 'hat   i', 'jhus fre theusing foror us  i', 'wop   i', 'nom   i', 'trop  i', 'trop   i', 'slef  i', 'swir  i', 'shelft   i', 'sit   i', 'ar yor grads hilor or loer than nansys i', 'fou   i', 'yu be vether of tarking a cose shaer    i', 'the yilanddoscs fos lock up literd i', 'knot   i', 'pot   i', 'bpu  i', 'save   i', 'play   i', 'speincoe i', 'not   i', 'farm   i', 'war  i', 'top   i', 'su  i', 'singlo  i', 'spand  i', 'al the biebas fal players casstragdert i', 'pay   i', 'chero  i', 'i can play this wecents   i', 'i fel live cum tlay thiswe can  i', 'the caide mhlf on the streccher   i', 'right       i', 'spevolvern mia yelo lelac   i', 'wufh  i', 'she  i', 'ner   i', 'stera  i', 'fad  i', 'galo   i', 'voucsenjinschimers on the yollchen i', 'fou gatherd sjhels on the pach   i', 'he wil abov th a realer live i', 'chale  i', 'uf  i', 'aigt  i', 'lc  i', 'kne  i', 'tive   i', 'so   i', 'tho  i', 'flor   i', 'the ehos is a grayand wuich   i', 'notthingg ast us haffuneve ofthexnoren i', 'notthing as ofensive valethiners sen  i', 'slay  i', 'snop   i', 'sive  i', 'rock   i', 'she  is thinner than i am  i', 'urgent  i', 'jungle   i', 'fai  i', 'sip   i', 'just won s col wet i', 'pil   i', 'yhure lie tobouing on the flor i', 'forut  i', 'for   i', 'sspeer    i', 'selitof   i', 'i lokd dof ounnosius to wole men i', 'slp  i', 'i wous consterdal the tim i', 'pria  i', 'tile   i', 'fem   i', 'fa  i', 'wone vealher lay the tives of  scroonddestoip i', 'mea   i', 'fat   i', 'fat   i', 'mothersel geaelo  cinham teben i', 'much   i', 'nom  i', 'rock  i', 'rok   i', 'jagenm lor mo muy piy wokcuing hoas   i', 'sive  i', 'trop   i', 'broat   i', 'i excroubedthe farmsthourly     i', 'sigh   i', 'the traig afvolve stdtovolv floli i', 'chr  i', 'eplot  i', 'rop  i', 'raha i', 'si hare muncherthor yor thobor velshis i', 'air i', 'alselpt  i', 'yst   i', 'op         i', 'shih i', 'wore  i', 'm setherivethe floaowas car i', 'sep    i', 'fa  i', 'b a eilal bot  or i', 'slip i', 'half i', 'ta  i', 'ak  i', 'a valalo ia to lanai as selal  i', 'echolo  i', 'thoht      i', 'he honers  i', 'arsair i', 'seralf  i', 'brot  i', 'tergean  waoc as he cot of i', 'at  i', 'tertas i', 'sgh  i', 'fatlr i', 'alf   i', 'lak  i', 'te    i', 'saiar  i', 'at i', 'carlof', 'firat', 't wotalfheaswam avad the folf', 'laer', 'jummusiler ses have lost the fir', 'paa', 'ttar', 'hem', 'loa  i', 'sin  i', 'ban i', 'tare i', 'raket  i', 'sed  i', 'the bo counvancslay sweher i', 'fhorm i', 'be    i', 'eting  i', 'fel i', 'hee ravethe pefthe pacag hasfiily i', 'prtet i', 'tip  i', 'oenber      i', 'it  i', 'slive i', 'tharn  i', 'hi  i', 'chap       i', 'fo fel i', 'caten i', 'utayeat  i', 'hack  i', 'blof    i', 'ye  i', 'yes  i', 'lae          i', 'we had hem i', 'os corf i', 'i ave hat muveal lroum i', 'seget i', 'setter i', 'cot i', 'vert i', 'tho  i', 'pak i', 'spairt i', 'sparn    i', 'she i', 'na  i', 'sitig  i', 'cae i', 'hum    i', 'holf traf i', 'the bo al veer yespeschip i', 'haf  i', 'cart  i', 'park  i', 'a chart  i', 'hi  i', 'sea  i', 'sever    i', 'i left ther whel spoft sthive jhus a wip i', 'jelsolf scobal al toe unfily   i', 'flo  i', 'alpthe coer chal loyu  i', 'top  i', 'swaing n am thes hiy asthro cand i', 'ifforn shea cords wonbo i', 'him  i', 'scho     i', 'sig i', 'se   i', 'ther is thae trad of oppher bop i', 'park     i', 'theap  i', 'hart     i', 'lack i', 'we valvedthol bac to the flamf i', 'hback i', 'betn  i', 'cu jaop povoe  mensing ben hea pip i', 'hat i', 'lef i', 'lak  i', 'tart    i', 'in mush  i', 'lae  i', 'no  i', 'htaing  i', 'ol nalo  felv y fors i', 'torn  i', 'golf  i', 'hitting   i', 'cal leve jeana lilthy horm i', 'don  i', 'kno  i', 'we card  i', 'prair         i', 'charp  i', 'brya havebot to jhafcon help co i', 'had   i', 'sweirp   i', 'sea i', 'rop     i', 'welha  i', 'thi have muncerdder yor sav o vent slial i', 'af  i', 'air  i', 'selasel  i', 'ye  i', 'roup  i', 'fa  i', 'wont   i', 'm si thernivethe flowae carn        i', 'shelep  i', 't ather cras hea al sevuncther aor liv men i', 'fa  i', 'beaer evale ther va ouri  i', 'slip  i', 'cap  i', 'ta  i', 'ad  i', 'a falovl haira li as souval i', 'eho   i', 'thot  i', 'ak  i', 'serd  i', 'sealf  i', 'fot  i', 'tugent flockas he cot of i', 'at  i', 'tarave  i', 'sg   i', 'fili   i', 'lef    i', 'lak  i', 'te  i', 'lia   i', 'tha  i', 'kelo  i', 'oflevely   i', 'fo tal funkswam   avond the bo   i', 'lam   i', 'jru musciler ses have lostthe vear i', 'pela  i', 'thes is a boyodof track cecchean formment i', 'darp  i', 'hem  i', 'loa   i', 'sign  i', 'land  i', 'ta  i', 'rake  i', 'se  i', 'the bo coujancfa swiler  i', 'form   i', 'be  i', 'neting  i', 'fel   i', 'h lavethe pas the pacag hasfiily i', 'pat   i', 'pare  i', 'pri   i', 'no bros ther   i', 'up  i', 'sive  i', 'tharn i', 'hi  i', 'cap   i', 'foho   i', 'crten  i', 'luiat   i', 'hak  i', 'lof  i', 'rave lef o i', 'ap  i', 'yes  i', 'lacke  i', 'nothiem   i', 'cra  i', 'i av had munbal ron i', 'segent  i', 'sitting  i', 'u  i', 'eaks   i', 'stho  i', 'spark  i', 'spart  i', 'spam  i', 'sthep i', 'dan  i', 'seter  i', 'carke  i', 'hurm i', 'hof ceal  i', 'the fo al veer yespesship  i', 'hap  i', 'car  i', 'park  i', 'jark  i', 'he  i', 'jelo   i', 'seven  i', 'i lheft ver wel tom stijustr loup i', 'the lhesof colal hal stove umtly  i', 'flo  i', 'al procoel has vlaoup   i', 'top  i', 'swing not o thos hilasrou cand i', 'it fother cots wonbrof   i', 'him  i', 'shop  i', 'sg i', 'se  i', 'ther isthae trad of upper paf  i', 'cart   i', 'thoaht  i', 'harp  i', 'lak   i', 'wheuvalthobak to the flarm  i', 'cback  i', 'bet  i', 'the joub pobov huing bon ha fi   i', 'the jaum frvoes muny beneffou i', 'hat  i', 'slef i', 'lak  i', 'tark   i', 'mus  i', 'lacke  i', 'no  i', 'feting  i', 'won als fi orm fors   i', 'torn  i', 'golf  i', 'hitting   i', 'cal lovethas a lively horm   i', 'darn  i', 'knot  i', 'al courtal ther truglea card avedthues to dothonc vevauble  i', 'wikcard   i', 'ar  i', 'the nise ry galoalovefor suming liv i', 'sharp  i', 'frehavebot toa jamcon hep tro  i', 'had   i', 'lep  i', 'sea  i', 'sard  i', 'fair i']\n"
          ]
        },
        {
          "name": "stderr",
          "output_type": "stream",
          "text": [
            "Saving model checkpoint to torgo_xlsr_finetune-M02-2/checkpoint-3500\n",
            "Configuration saved in torgo_xlsr_finetune-M02-2/checkpoint-3500/config.json\n",
            "Model weights saved in torgo_xlsr_finetune-M02-2/checkpoint-3500/pytorch_model.bin\n",
            "Feature extractor saved in torgo_xlsr_finetune-M02-2/checkpoint-3500/preprocessor_config.json\n",
            "Deleting older checkpoint [torgo_xlsr_finetune-M02-2/checkpoint-2500] due to args.save_total_limit\n",
            "/usr/local/lib/python3.9/dist-packages/transformers/models/wav2vec2/processing_wav2vec2.py:155: UserWarning: `as_target_processor` is deprecated and will be removed in v5 of Transformers. You can process your labels by using the argument `text` of the regular `__call__` method (either in the same call as your audio inputs, or in a separate call.\n",
            "  warnings.warn(\n",
            "The following columns in the evaluation set don't have a corresponding argument in `Wav2Vec2ForCTC.forward` and have been ignored: input_length. If input_length are not expected by `Wav2Vec2ForCTC.forward`,  you can safely ignore this message.\n",
            "***** Running Evaluation *****\n",
            "  Num examples = 714\n",
            "  Batch size = 8\n"
          ]
        },
        {
          "name": "stdout",
          "output_type": "stream",
          "text": [
            "['grow  i', 'fed  i', 'alpha  i', 'pat  i', 'farm  i', 'sirp i', 'dagger i', 'raind i', 'fair i', 'sht  i', 'ship i', 'par    i', 'god fathere leoved to be mo dern anars lenka i', 'buble   i', 'bet  i', 'whi she is nearly notive tw a er lo   i', 'trouble  i', 'chair i', 'raive  i', 'th  i', 'godglet i', 'van   i', 'torn  i', 'gow i', 'swarm i', 'shair  i', 'i le ctaron i', 'i can mede   i', 'shit  i', 'steirp  i', 'right  i', 'dume  i', 'tiep  i', 'known  i', 'leftt i', 'stor  i', 'chair i', 'swarm  i', 'bat  i', 'stuble i', 'trape  i', 'she ad or dok sut  andgiwh vatther a yere  i', 'pown  i', 'shet  i', 'paa i', 'uet  i', 'pik  i', 'car  i', 'knutting  i', 'known  i', 'yt  seve fing futs weps ther yeevr i', 'usue mina several bn i', 'flor    i', 'trainee  i', 'bu   i', 'we have ofe nuse jhim towa more and smo gleas i', 'ver jlou nontl left i', 'bowrn  i', 'bet  i', 'ther  i', 'rihte  i', 'ranke  i', 'sip   i', 'stick  i', 'storm i', 'duble  i', 'down   i', 'fit i', 'glow i', 'form  i', 'flarm  i', 'vrave i', 'varm   i', 'chair    i', 'dock i', 'storm  i', 'grt  i', 'swarm  i', 'of  i', 'a laong for loernbl blout clinks to word cend i', 'dork  i', 'rake   i', 'race i', 'eor i', 'i can read  i', 'air   i', 'jacket i', 'dont lec me to car young ore sh elect thet i', 'reetc i', 'hair i', 'spock i', 'for  i', 'gout  i', 'jacert i', 'corn i', 'sparf i', 'fit  i', 'the group  graowme focrum ovveere the livey dot i', 'vetter y janers bannana oolle i', 'tro   i', 'trate    i', 'pei to now a abun vhere grande fathere i', 'traace  i', 'ycle i', 'era i', 'of    i', 'i just try to do my best i', 'foth fils were gol hie nictere ip i', 'bedem  i', 'side  i', 'i slied to have breblen the coumen netive i', 'sigve  i', 'lip i', 'cher i', 'a   i', 'whi jafd ovore lo seiiment i', 'cere   i', 'evvre thenhimewilo  smoum the shef  said i', 'ate  i', 'ligt   i', 'hat  i', 'tid vuss ding for  i', 'whop   i', 'down   i', 'dlopt  i', 'trop    i', 'slef  i', 'sway i', 'soft i', 'sht i', 'orn youre grade hier or  loe thean nanys i', 'trop  i', 'u vvt oft carking a cot sheo i', 'the yiland  soc fos lokt ofpe lin i', 'knot  i', 'pot   i', 'bot i', 'ser i', 'clave  i', 'spekle i', 'knot  i', 'form i', 'dot i', 'suip   i', 'sino  i', 'pad   i', 'al the vigbae bal players cuntraer i', 'pay  i', 'cher  i', 'i cen play this we cean    i', 'ife ale crum l this weked i', 'the cavrd mof on the stretcur i', 'righte    i', 'bvebar wer a yelow lily i', 'weft    i', 'shere  i', 'nere  i', 'ster   i', 'bad  i', 'galo  i', 'vust senjln shimmers on the golcern i', 'fi gather sels on the beach i', 'he wil bove lown a velo live i', 'charle   i', 'weh i', 'ape   i', 'lif i', 'thown  i', 'tive i', 'svout i', 'low  i', 'flor     i', 'thehous is gloan welh i', 'nothing asus hav fenip ofther noenc i', 'notthing has aefens  to velo hiner sinc i', 'slay    i', 'snop  i', 'sive  i', 'rocks  i', 'she els thinner than  i am i', 'urgent i', 'junle  i', 'ber i', 'sup  i', 'justt one sygolt we     i', 'pile   i', 'ye yust trobuing on the fi i', 'fforword    i', 'for   i', 'pr i', 'del tot i', 'i louged the vefnosis to wel men i', 'slip  i', 'i vems conu the litn i', 'trile    i', 'tile  i', 'tr   i', 'bat  i', 'ane valor lay the dive tou  sgroubl ditst i', 'mienr  i', 'fit i', 'bat   i', 'knothen ss yelow ginem e prenc i', 'vuch     i', 'knowm   i', 'rock  i', 'jangmeo mo musby worerng ho i', 'sigh  i', 'trop     i', 'vimet  i', 'e sgrublo frmshari i', 'sigh   i', 'the jrainta vou jep d vo slobr  i', 'der  i', 'explot  i', 'growf  i', 'fit i', 'alpha  i', 'pot  i', 'farm   i', 'sp  i', 'dager  i', 'rainge   i', 'fair   i', 'fit  i', 'ship  i', 'park  i', 'godfathere lift to be m dren anrsleankgard i', 'buble   i', 'bit  i', 'whiil she yes knearly noin ve yer so i', 'trouble   i', 'chair  i', 'raived  i', 'th i', 'gadget    i', 'varn   i', 'torn   i', 'sgo   i', 'swarm   i', 'shair  i', 'ile carn i', 'i can med   i', 'fit  i', 'stirk  i', 'reift  i', 'down   i', 'tet   i', 'knowm  i', 'left  i', 'storem  i', 'chair  i', 'swlorm   i', 'bat  i', 'stubble i', 'trot   i', 'horn i', 'shet   i', 'beta   i', 'sevept  i', 'bit  i', 'car  i', 'kne   i', 'knowm   i', 'yet he ste think thucsweftl yeevr  i', 'yus remmina several botum  i', 'flor  i', 'train  i', 'whi  i', 'we have ofe nused him to valk more and smo gleas i', 'left  i', 'born   i', 'beat  i', 'snp   i', 'wrihte   i', 'range   i', 'sip   i', 'stirp   i', 'storm i', 'stuble   i', 'down   i', 'fim  i', 'glow   i', 'form  i', 'form   i', 'vrave i', 'warmn   i', 'sip   i', 'dock   i', 'storm   i', 'mot   i', 'swarm   i', 'of  i', 'dark i', 'rake       i', 'race   i', 'air  i', 'i caun red  i', 'air  i', 'jacket  i', 'stown lef me to carr on orin y glech thet i', 'rech   i', 'hair  i', 'spurk   i', 'for   i', 'goant  i', 'jagerd   i', 'corn  i', 'spark  i', 'fit  i', 'the crip  brown fo scjrunk over the licey dot i', 'but the yov janers bannana ole    i', 'tof  i', 'trait   i', 'vih to now al aboum ly grand father  i', 'trafe   i', 'ycle  i', 'eoaf    i', 'of   i', 'i just cr tour do my ves   i', 'fol ficles were gol hhiend lictere ip i', 'meum   i', 'side  i', 'i trid to dhe bebolen the comumnietive i', 'sive   i', 'loup  i', 'her  i', 'evvr   i', 'whi seld avore olva sielireum   i', 'herm   i', 'eveere thingwhime we lp smoumt the sherof  said i', 'at  i', 'wrigt  i', 'hit  i', 'jes vos infor  us  i', 'wop i', 'knowm   i', 'drop  i', 'trop  i', 'slef  i', 'swair   i', 'sheoft   i', 'sht   i', 'are youre grede hiler o lore than nanys i', 'frit   i', 'yudbe vethere of tarking a col shere   i', 'the yiland dock foslip opp litie i', 'knot   i', 'pot  i', 'boutt   i', 'srfe  i', 'play   i', 'sprinkle i', 'knot  i', 'form   i', 'were  i', 'dogt   i', 'su  i', 'sinoe  i', 'pand  i', 'al the bigbase bal playurs  eccet tratterd i', 'pay   i', 'cher  i', 'i can play this we cent   i', 'i fele li crum lay thiswe can    i', 'the cgavvird mlff on the stretcchor   i', 'wrighte       i', 'whel valin wer a yelow lil    i', 'weft  i', 'shere  i', 'nere  i', 'ster  i', 'vand  i', 'galore   i', 'vu sendine shimmers on the yolsing i', 'f gathere sels on the beach   i', 'he wil above low a vee lie i', 'chali  i', 'wf   i', 't  i', 'lick  i', 'dewn  i', 'tive   i', 'svou   i', 'glow   i', 'flor   i', 'the house is  grey and whit   i', 'knotthing asthus efanieve other noenc i', 'notthing as afenive vel thiner sinc   i', 'slay   i', 'snop   i', 'sive   i', 'rocks   i', 'she is thinner than i am  i', 'urgent   i', 'jungle  i', 'beir  i', 'sup   i', 'justt one syolt wet i', 'pile   i', 'yu lie tobiing on the fo i', 'for urdt   i', 'for   i', 'spere  i', 'delitof   i', 'i loked dhe vounnosirs to wold men i', 'slip  i', 'i vas constur  the lutin i', 'priar   i', 'tile   i', 'frm   i', 'bat  i', 'wonevalre lay the divetof scroublm deitt i', 'mea   i', 'fit   i', 'fat   i', 'notherdsel yelow gineam evren i', 'muschh  i', 'knowm i', 'rockk    i', 'rock   i', 'jangd my or mo mouns by woring house     i', 'sige  i', 'trop   i', 'brouet   i', 'i excwub the fmcharly    i', 'sigh   i', 'the trank anvole jevl flowlip i', 'jer  i', 'explor  i', 'drop  i', 'rahal    i', 'i muner thr yur tho vere velm s i', 'air  i', 'carlet  i', 'st   i', 'rop     i', 'thut   i', 'wrme   i', 'my dilimivethe floawa carm i', 'lrp  i', 'ra  i', 'ba mor ivl were v over  i', 'lip    i', 'olf i', 't   i', 'rk  i', 'a blloere ire tu lay ner asloval i', 'echo   i', 'cot    i', 'ehn of  i', 'r ser   i', 'seralf  i', 'brout  i', 'purgent wl i he got of i', 'at   i', 'tarve  i', 'shigh  i', 'pili i', 'of   i', 'lairk  i', 'tel  i', 'dir  i', 'vat i', 'cirlol', 'vilt', 'toal ve warme avamlockbl', 'lar', 'rummusiler ss have lost the wre', 'papa', 'star', 'him', 'loyal  i', 'shwn   i', 'grawn   i', 'ai i', 'rike  i', 'd  i', 'the bo coudvanc  sway swher i', 'form    i', 'bet    i', 'entting   i', 'pile   i', 'h rve  the pecupacarge hi fily i', 'ptet i', 'tir  i', 'ovemver    i', 'irk   i', 'shl ive   i', 'varn  i', 'hi  i', 'jop  i', 'fk i', 'cairko i', 'ty at  i', 'hark  i', 'pilo  i', 'ye  i', 'yes   i', 'like    i', 'we hat yur   i', 'ofcare  i', 'i ave had m vel rong i', 'egent  i', 'sittr i', 'cot  i', 'verks i', 'furk   i', 'park i', 'pirt    i', 'bain   i', 'fl i', 'na  i', 'erty  i', 'carke  i', 'ham    i', 'hof crft    i', 'the bp ar veare yesbesip i', 'harf   i', 'cart  i', 'park    i', 'jhairt  i', 'hero  i', 'sero  i', 'sever     i', 'i f r wel stoftt us th wi i', 'jel dof scouble of toure un iy  i', 'flow  i', 'of the cor choi m u i', 'tol  i', 'swing n orm  thus hie as weue can i', 'iforher cur warmbrt i', 'pu  i', 's  i', 'sig  i', 'sic    i', 'there is a tra of opper bolt  i', 'pairk  i', 'thout   i', 'har   i', 'ike      i', 'we val co bact thro the farm i', 'uebec    i', 'betn   i', 'guj pevue muning veln he pit i', 'hat  i', 'lirk   i', 'leak  i', 'tark  i', 'mus  i', 'lagke  i', 'naw  i', 'hiti   i', 'h n fele erfor us i', 'toir  i', 'golf  i', 'hitting     i', 'cal leveena lively horm  i', 'darn   i', 'knaw  i', 'wee card  i', 'prar  i', 'chairp    i', 'br ha bot to af cournel co i', 'ham    i', 'virt    i', 'seta     i', 'rop  i', 'walha  i', 'ti  minre lore t ver velmnt li i', 'ir  i', 'air  i', 'cerlel  i', 'e  i', 'trop   i', 'bat  i', 'nt  i', 'm si liveernise the flowad carm  i', 'spt  i', 'tw ar ther cie e  al fvvonor a rivemn i', 'ra  i', 'bv liv the v ouug  i', 'slip  i', 'colp  i', 'tot  i', 'arn  i', 'ofa lov ara liynr a levral i', 'echo  i', 'thought  i', 'mark  i', 'srt  i', 'sel  i', 'vrout  i', 'dorgentwkas he got  of i', 'at  i', 'carke  i', 'sigh   i', 'pili  i', 'lefk  i', 'lairk  i', 'tel  i', 'lir  i', 'vat  i', 'kilo  i', 'fweily   i', 'ther dol vunkswarme avon lobolt   i', 'lar   i', 'drounmusilor ss have lostlwere i', 'palpa  i', 'ther is a pr gof pac ccin formmen i', 'dark  i', 'him  i', 'knrale   i', 'shin  i', 'grawn  i', 'tie  i', 'roke  i', 'srk  i', 'ste bo coujaint vay swiler  i', 'brawn  i', 'bit  i', 'netting  i', 'fil   i', 'h rave trepe the pacage haifily i', 'pit   i', 'prtet  i', 'pt   i', 'now bron ver   i', 'orpk  i', 'sive  i', 'varn i', 'him  i', 'jot  i', 'florktho  i', 'cirten  i', 'rly at   i', 'hark  i', 'flo  i', 'rae lift o i', 'op  i', 'yes  i', 'leake  i', 'whot ei  i', 'ofca   i', 'i ave had mbeleroung i', 'ergent  i', 'sittir  i', 'oft  i', 'veirks  i', 'spaork   i', 'spark  i', 'pirt  i', 'spim  i', 'top i', 'darn  i', 'enter   i', 'cark  i', 'harm i', 'hof cil   i', 'the vo ar verr yesbessip  i', 'har  i', 'cark  i', 'park  i', 'dark  i', 'hil  i', 'jer  i', 'seven  i', 'i eft ver wele stoum thju i i', 'de  of goble haol tourve unily  i', 'flow  i', 'procis hoslive my up   i', 'top  i', 'swing nt ontho hie as you carn i', 'ifthere cort warme  ft   i', 'hi  i', 'ot  i', 'sigh i', 'si  i', 'ther is a trae of opper bot  i', 'peirk   i', 'thought  i', 'harp    i', 'ligke   i', 'we vole obact tro the flarm  i', 'cuebec  i', 'bet  i', 'gd obe pev husing veoun he fit   i', 'the jibe povues mener bern but i', 'hat  i', 'lip i', 'leak  i', 'tark  i', 'mus  i', 'lake  i', 'nawn  i', 'fitil  i', 'whe a fil r forus   i', 'torn i', 'golf  i', 'hitting  i', 'cl loveea lively horm  i', 'darn  i', 'knot  i', 'a car th l trulea card af ther c n veguble i', 'wirkare  i', 'rair  i', 'the ons r garla lo fore soming live i', 'chairp  i', 'br h bot  ta damecont ep crop  i', 'amnd   i', 'weirp  i', 'sera  i', 'sair  i', 'pair i']\n"
          ]
        },
        {
          "name": "stderr",
          "output_type": "stream",
          "text": [
            "Saving model checkpoint to torgo_xlsr_finetune-M02-2/checkpoint-4000\n",
            "Configuration saved in torgo_xlsr_finetune-M02-2/checkpoint-4000/config.json\n",
            "Model weights saved in torgo_xlsr_finetune-M02-2/checkpoint-4000/pytorch_model.bin\n",
            "Feature extractor saved in torgo_xlsr_finetune-M02-2/checkpoint-4000/preprocessor_config.json\n",
            "Deleting older checkpoint [torgo_xlsr_finetune-M02-2/checkpoint-3000] due to args.save_total_limit\n",
            "/usr/local/lib/python3.9/dist-packages/transformers/models/wav2vec2/processing_wav2vec2.py:155: UserWarning: `as_target_processor` is deprecated and will be removed in v5 of Transformers. You can process your labels by using the argument `text` of the regular `__call__` method (either in the same call as your audio inputs, or in a separate call.\n",
            "  warnings.warn(\n",
            "The following columns in the evaluation set don't have a corresponding argument in `Wav2Vec2ForCTC.forward` and have been ignored: input_length. If input_length are not expected by `Wav2Vec2ForCTC.forward`,  you can safely ignore this message.\n",
            "***** Running Evaluation *****\n",
            "  Num examples = 714\n",
            "  Batch size = 8\n"
          ]
        },
        {
          "name": "stdout",
          "output_type": "stream",
          "text": [
            "['grow i', 'fed i', 'alpha  i', 'pot  i', 'farm i', 'si i', 'dagger i', 'rain i', 'fair i', 'set     i', 'ship i', 'park i', 'god father lifed to be modarn anas langage i', 'puble i', 'bat    i', 'vi sh as nearly nine t years o i', 'troble i', 'chair i', 'rage i', 'thugh i', 'goadgeet i', 'farn i', 'torn i', 'go i', 'swarm i', 'shaire i', 'ia teon i', 'i cane mead i', 'shite i', 'stirp    i', 'wrighte i', 'no i', 'tair i', 'no i', 'lef i', 'stor i', 'chair i', 'slor i', 'bat    i', 'stuble i', 'trape i', 'she ad your dok shu  in griace ash fater a yer i', 'pon  i', 'shet        i', 'pacha i', 'si i', 'spane   i', 'car  i', 'kneain i', 'kno i', 'yeet hy stethins s thucs wery yuseer i', 'musiminas several bne i', 'flor i', 'trae i', 'bug i', 'we have oft nouge jimtwal more and smo glas i', 'ta jous montal lest i', 'bon i', 'beat   i', 'nw i', 'wright i', 'range i', 'sip i', 'stic i', 'storm i', 'touble i', 'tow i', 'fu i', 'glow i', 'form i', 'florm i', 'brave i', 'born i', 'chair i', 'stak i', 'storm i', 'mroat  i', 'sworm  i', 'hop  i', 'a long fo over boath  clinges to  hius chind i', 'tark   i', 'rike i', 'race i', 'eor i', 'i can read i', 'air i', 'jacket i', 'dont licke me to cary yung or s i exlect tho i', 'brageg i', 'hair i', 'spark i', 'for i', 'cope i', 'jaggert i', 'corn i', 'sparkf i', 'feuid   i', 'the proupbrawn foe stwumpe over the licey tog i', 'father ofays janurs bannana lyal  i', 'tro i', 'trave i', 'pevvich to now a abunt thy grandfaher i', 'tracfe i', 'yo i', 'erra i', 'of i', 'i just tray to do my best i', 'fos ficles wod go hi a nigcey yie i', 'mednau   i', 'side i', 'i saliced to save prepoend the comun nitiy i', 'sige  i', 'lop i', 'cher i', 'areea i', 'why ja ovooer cheliyian i', 'cheam i', 'eveery thing wme belo smoattd the shelif  sad i', 'agte i', 'lighte i', 'hate i', 'thie osys in for  i', 'wop  i', 'now i', 'drop i', 'rop i', 'slef i', 'sware i', 'shot i', 'sht i', 'on your breades hihher o lower tan nancys i', 'troup  i', 'yu bed vard oft carking a coate sh i', 'the yisland sox fathe loked up  lia i', 'not   i', 'pot i', 'brott i', 'sera i', 'pli i', 'sprecke i', 'knot i', 'farm i', 'fto i', 'sp i', 'sino i', 'pad i', 'al the vicbace pal players goat trad tou i', 'pay    i', 'chero   i', 'i can play this woe gune  i', 'i fea live crums la this wecand i', 'they caud mey of on the stretcher i', 'wrighe i', 'baa bafa y yelo lily i', 'wupt i', 'shere i', 'neare i', 'stera i', 'bad i', 'galo i', 'vuch sunaine shimers on the occin i', 'fu gat therd shels on the bach i', 'he wil above love ovela lie i', 'charlie i', 'wosh i', 'ape i', 'lif i', 'kne i', 'tive i', 'thro i', 'though   i', 'flor i', 'theiy house is gayand wih i', 'notthing as use have fondd e of exnoance i', 'notthing has affemes  thou valiainous sinc i', 'slay i', 'snop      i', 'sie i', 'rocks    i', 'she is thinner than i am i', 'urgent i', 'juno i', 'bea i', 'sup   i', 'just one sigy got wel i', 'pirle i', 'yet usd to biting on the fi i', 'fforward i', 'four i', 'per i', 'steltopt i', 'i toge d af notice to al men i', 'flor  i', 'i ase constuo sa the time i', 'prior i', 'tile i', 'fer i', 'fap i', 'n var ay the tie to scruban ditt i', 'mere i', 'fate i', 'fat i', 'mohern ses yelow gingam epreanc i', 'ruch i', 'no i', 'rock i', 'jangmayo  mun b wo cing hoe i', 'sige i', 'troup    i', 'brit      i', 'i scraubed dthe flamscharliy i', 'sigh i', 'je rina vohe te to fo  sloy  i', 'dea    i', 'explot i', 'grow  i', 'fed i', 'alpha  i', 'pot  i', 'farm  i', 'sip i', 'dager i', 'raine i', 'fair  i', 'ft  i', 'ship  i', 'park   i', 'godfathere licfed to be smo drien ain his langage i', 'puble  i', 'bit  i', 'valche is nearly niney fy years old i', 'trouble  i', 'chair  i', 'raide i', 'theugh i', 'goadget i', 'vawn   i', 'torn  i', 'go  i', 'swarm  i', 'shair  i', 'il chans i', 'i can meave   i', 'fit  i', 'stirk  i', 'right  i', 'kno  i', 'te  i', 'nowe  i', 'lef  i', 'store   i', 'chair  i', 'flor  i', 'bat  i', 'stuble i', 'trot  i', 'horn i', 'shet  i', 'prata  i', 'seip  i', 'pip  i', 'scar  i', 'knew  i', 'known  i', 'yeet he sti thinks  thucwiefly yaaa i', 'yuse reminea sevral boutu   i', 'flor  i', 'train  i', 'wim  i', 'we have ofte noused jumd  wa more  and  smoke  glas i', 'left  i', 'born  i', 'beat  i', 'snop  i', 'ripe  i', 'range  i', 'sip  i', 'sti  i', 'storm i', 'stouble  i', 'town  i', 'fum  i', 'glow  i', 'form i', 'forn   i', 'brave i', 'barn  i', 'sip i', 'thogk  i', 'storm  i', 'smot  i', 'sporm  i', 'up  i', 'stark i', 'rake  i', 'race   i', 'ir  i', 'i can read  i', 'air  i', 'jacket       i', 'stone lef mey to carry on osina i electhd thot i', 'ragege  i', 'hair    i', 'spark  i', 'four  i', 'goate  i', 'jagget         i', 'corn  i', 'spark  i', 'fuit  i', 'the proup  brawn fahox scjrunked oveer the licey dot  i', 'sput the yofis dansers bannana l  i', 'to  i', 'trate  i', 'sh wished to now al aaun y granfaher  i', 'trafe  i', 'ycle  i', 'erraf  i', 'of  i', 'i just pry to do my ves  i', 'sposh ficrs wod go hie   nigctery if  i', 'menu  i', 'sige  i', 'i triye to thue popaling the comunitiye i', 'sive  i', 'lop  i', 'chere  i', 'eva i', 'whie sealeed afo goha celibam i', 'chem  i', 'eveery thingwhime ra smohed the sheif  said i', 'aghte    i', 'right  i', 'hite  i', 'this osves info us  i', 'wope  i', 'now  i', 'trop  i', 'troup  i', 'selef    i', 'swayor  i', 'shot  i', 'sht  i', 'are youre grade hiler o lowher than nanys i', 'fruit  i', 'yud pe verhere of tarking a coald shwere  i', 'the yisland thoxs fache loke up sited i', 'knot  i', 'pot  i', 'sproutt  i', 'trape  i', 'play  i', 'sprinkle i', 'knot   i', 'for  i', 'weare  i', 'toh  i', 'sup  i', 'sino  i', 'pan  i', 'al the bicbacse pal players get stracgdteid i', 'pay  i', 'chero  i', 'i can play this wecane i', 'i fel lied cums lay this we can i', 'the caried may of on the stretcher i', 'wright  i', 'wil falfin weant a yelow lily   i', 'wip  i', 'sher     i', 'neare  i', 'stera     i', 'fan  i', 'galore  i', 'vuigh suntine shimers on the yo cing i', 'fuu gaththered shellse on the peach i', 'he wil above lo a ver live i', 'charlie   i', 'wof  i', 'out    i', 'like      i', 'knew   i', 'tive  i', 'trou  i', 'though  i', 'flor  i', 'their house is gray and whit  i', 'nothing as those havfone the  os exnoence i', 'notthing has affeness thie valainous sinc i', 'slay  i', 'snop  i', 'sive  i', 'rocks  i', 'she is thinner than i ame i', 'urgent   i', 'juno  i', 'par i', 'sup  i', 'justt one sigy got weet i', 'pile  i', 'yut liced to bickging on the flo i', 'sforwurd  i', 'four  i', 'spere  i', 'selitta  i', 'i loked oftheoen noice to oald men i', 'slip   i', 'i was constus al the tie i', 'prior    i', 'tile  i', 'feam  i', 'fac       i', 'one vaer lays the tie to scrubl distit i', 'mea  i', 'fate  i', 'fat  i', 'mohern t yelo gingham epreans i', 'much  i', 'kno  i', 'rockk    i', 'rock  i', 'jang my o ma monu piy wole ing hoe i', 'sigve   i', 'troup  i', 'brot  i', 'i exscrubed d the flams thoougly  i', 'sigh  i', 'the traign anvolve stet no bo flowly  i', 'tere  i', 'explor  i', 'grop i', 'rah i', 'i ave monind uard your hoverrwlshi i', 'rair i', 'charle  i', 'ea   i', 'prop     i', 'thih i', 'wre  i', 'my sifimie the floars car i', 'ner   i', 'brair   i', 'b a ie i w ori i', 'slip i', 'cop i', 'st  i', 'k   i', 'ofao hiher tlay near as oal  i', 'echo i', 'though  i', 'ehan if  i', 'ur shears i', 'serof    i', 'braw     i', 'purgeant wat ice he got  of i', 'at   i', 'parkae i', 'shy       i', 'falir i', 'o   i', 'nair  i', 'ti i', 'air i', 'ba i', 'pirno', 'a', 'trof alfthe swame avruwnd the bot', 'leair', 'jrumus ihere sees have lost the ive', 'pale', 'ststar', 'him', 'lyal i', 'shn  i', 'brain i', 'taie i', 'rake   i', 'sd        i', 'the pa convance lay swathers i', 'fro i', 'bit i', 'bitting    i', 'pil i', 'h ravete pi the package hase fily i', 'peet i', 'tip i', 'ovember i', 'beat i', 'sl ive i', 'farn i', 'heve    i', 'chop  i', 'for thogh i', 'cart i', 'uyat i', 'ock  i', 'plow   i', 'y a  i', 'yees i', 'knipe  i', 'enatgar  i', 'ofcar i', 'i ave had my v rung i', 'sergeant i', 'shitting i', 'pot i', 'vics i', 'though i', 'spark i', 'spairk i', 'spain i', 'faw i', 'nie   i', 'sigay  i', 'cake i', 'hum  i', 'hof crair i', 'the fos are veary yee pcship i', 'harf   i', 'cart  i', 'park  i', 'jar  i', 'hiro     i', 'jera  i', 'sever i', 'i f th  stof thhis wip i', 'jata sf  gole of tore un iey i', 'flow  i', 'ofthe cot ard chuse ilyu i', 'to  i', 'swing noh o  thash higye as  you can i', 'ifon ar cudes wam braw i', 'h    i', 'cha  i', 'shy i', 'sic   i', 'their is a traye of  uppaa i', 'pairk i', 'though  i', 'harp i', 'ten toge i', 'we vafed hope bac tro the farm i', 'cuebec i', 'bet   i', 'the jo pove moni benu pit i', 'hat i', 'likp i', 'knick   i', 'park    i', 'muht    i', 'nave   i', 'no  i', 'feti i', 'ha al u ails iyer flo us i', 'torn  i', 'golf    i', 'hitting i', 'cal leves jana livesiy hom i', 'darn    i', 'kno    i', 'wickcard  i', 'praor i', 'chrairp   i', 'be hadbout to jave   ounaof coe i', 'ham i', 'ir i', 'seta i', 'rop   i', 'woa  i', 'thi have  maa yyears over welsni i', 'air  i', 'air   i', 'craea   i', 'ea  i', 'prop  i', 'pi  i', 'wit  i', 'mi sif inie the floars c  i', 'up   i', 't a there craes have  al sevv onthe are loivf  mn i', 'brar  i', 'be nva te va oprung  i', 'snip    i', 'cop  i', 'tl  i', 'airn   i', 'of a lof aia slay near a ove al i', 'echo  i', 'though  i', 'mark  i', 'serds  i', 'seo  i', 'braw  i', 'tuddent  fl as he got  of i', 'at     i', 'tarave  i', 'sigyh  i', 'pilig  i', 'lefto  i', 'leark  i', 'tell  i', 'lir  i', 'ta  i', 'cio  i', 'wiely  i', 'fu of tal fune swlim  avrawn the bot   i', 'liar  i', 'granmus iee ss have lost no ware i', 'papa  i', 'this isd  a pyoud of prac econs for meat i', 'dark  i', 'him  i', 'nya  i', 'sign  i', 'brawn  i', 'ti   i', 'roke  i', 's  i', 'the boe conjaingeplay swather  i', 'fror  i', 'bit    i', 'nitting  i', 'fil  i', 'h rave to plaf the package hasefily i', 'pit  i', 'pet  i', 'pit  i', 'no brown fear  i', 'oup    i', 'sige  i', 'barn i', 'him  i', 'jop   i', 'flor tho  i', 'citen    i', 'muliyat  i', 'hak       i', 'flor   i', 'arai o i', 'up  i', 'yes  i', 'neake   i', 'knotan  i', 'ofcar  i', 'i ave havemy b rang i', 'sergeant    i', 'scitting  i', 'ot   i', 'rark  i', 'sthogh  i', 'spark  i', 'speir  i', 'spai  i', 'fraow i', 'nin  i', 'seanger  i', 'cake  i', 'harm i', 'hof crair  i', 'the foxs ae veary ye peship   i', 'harp    i', 'cark  i', 'park  i', 'dark  i', 'hil  i', 'jea  i', 'seven     i', 'i havefe  stomthjus wp i', 'te le of  goal hou storve uny i', 'fno  i', 'i pocot hou huse if myut    i', 'ta  i', 'swing not onthuach higye asyou can i', 'ifa are coates warm fra  i', 'him  i', 'cha   i', 'sigy  i', 'sic    i', 'theire is a trade of  uppa pa  i', 'pirk  i', 'though    i', 'harp   i', 'lige   i', 'louivalf roe back to the flo  i', 'cuebect  i', 'bit  i', 'the job pove housing doung the fi  i', 'the jab poviges mony beniffuat i', 'hat  i', 'lipt i', 'kneik    i', 'tar  i', 'mush  i', 'kneke  i', 'no  i', 'feti i', 'n aas fi ym flors  i', 'forn  i', 'golf    i', 'hitting  i', 'call lovetaus a lively hom   i', 'darn  i', 'no   i', 'us cartha the rule a code afe thes to ong fevauble i', 'wokehared   i', 'praor  i', 'the onse ry galay loefor tuming lie i', 'cair   i', 'p hivebot tae taim cond help trou   i', 'hame  i', 'wirp   i', 'sita  i', 'sairn   i', 'prar i']\n"
          ]
        },
        {
          "name": "stderr",
          "output_type": "stream",
          "text": [
            "Saving model checkpoint to torgo_xlsr_finetune-M02-2/checkpoint-4500\n",
            "Configuration saved in torgo_xlsr_finetune-M02-2/checkpoint-4500/config.json\n",
            "Model weights saved in torgo_xlsr_finetune-M02-2/checkpoint-4500/pytorch_model.bin\n",
            "Feature extractor saved in torgo_xlsr_finetune-M02-2/checkpoint-4500/preprocessor_config.json\n",
            "Deleting older checkpoint [torgo_xlsr_finetune-M02-2/checkpoint-3500] due to args.save_total_limit\n",
            "/usr/local/lib/python3.9/dist-packages/transformers/models/wav2vec2/processing_wav2vec2.py:155: UserWarning: `as_target_processor` is deprecated and will be removed in v5 of Transformers. You can process your labels by using the argument `text` of the regular `__call__` method (either in the same call as your audio inputs, or in a separate call.\n",
            "  warnings.warn(\n",
            "The following columns in the evaluation set don't have a corresponding argument in `Wav2Vec2ForCTC.forward` and have been ignored: input_length. If input_length are not expected by `Wav2Vec2ForCTC.forward`,  you can safely ignore this message.\n",
            "***** Running Evaluation *****\n",
            "  Num examples = 714\n",
            "  Batch size = 8\n"
          ]
        },
        {
          "name": "stdout",
          "output_type": "stream",
          "text": [
            "['grow i', 'fed i', 'alpha  i', 'pot  i', 'farm i', 'sip i', 'dager i', 'range i', 'fair i', 'st i', 'ship i', 'park i', 'godfather licf to be modernanerslackage i', 'spuble i', 'bit   i', 'whei she snearly notepisarso i', 'trouble i', 'chair i', 'raite i', 'thegh i', 'godglet i', 'varm i', 'torn i', 'go i', 'swarm i', 'share i', 'i atarn i', 'i canmeate i', 'fite i', 'starp     i', 'write i', 'do i', 'tair i', 'no i', 'left i', 'store i', 'chair i', 'swore i', 'bat    i', 'stuble i', 'trope i', 'she had our dok in gdwhwather a year i', 'por   i', 'shet  i', 'paa i', 'e i', 'pake i', 'carm  i', 'ne i', 'no i', 'yet thestethinks  thu wer  ebere i', 'usuinus severoa bnd i', 'flore i', 'traee i', 'bu i', 'we hav oftenoe jump wa more and smok gles i', 'thejug monl left i', 'brn i', 'beat  i', 'de i', 'rite i', 'rage i', 'sip i', 'stick   i', 'storm i', 'tuble i', 'tom i', 'two i', 'glow i', 'form i', 'form i', 'rav i', 'bornm i', 'chair i', 'dark i', 'storm i', 'groat  i', 'swarm   i', 'hop     i', 'a longfroerngbot clin toord cen i', 'dark i', 'rike i', 'rice i', 'air i', 'i can rade i', 'air i', 'jacket i', 'dont like mistor caoung ore selectthe i', 'reege i', 'hair i', 'spark i', 'for i', 'cope i', 'jaggered i', 'corn i', 'spark i', 'fairt      i', 'the cogrom farossshwumpover the livy to i', 'buttheoas jansersbaana ol i', 'two i', 'trae i', 'wewishd to now  abount fu grandfather i', 'trace i', 'cle i', 'era i', 'of i', 'i just try to do my best i', 'fos files wold go hienicter ir i', 'madu  i', 'side i', 'i lihd to seve rpoend the coumunet i', 'sigh   i', 'lop i', 'cher i', 'area i', 'wh sod ovoroer shlieant i', 'chear i', 'everethingwhm weo smotthe sheif  sad i', 'ate i', 'rite i', 'hate i', 'this was esting for us i', 'wop i', 'no i', 'drop i', 'drop i', 'slip i', 'swae i', 'shott i', 'shot i', 'are your grads hihr or loer thannances i', 'thrp i', 'yud be be of charking a cold shwer i', 'the island fathe lok oplite i', 'not   i', 'pot i', 'bot i', 'sera i', 'tie i', 'sparkle i', 'mot i', 'for i', 'tae i', 'shp i', 'sinoe i', 'pad i', 'al the bigboohpal players get treaer i', 'pay   i', 'chear   i', 'i canplay this wee cen i', 'i fe we cumly this weed i', 'they caeredm of on the streccher i', 'writ i', 'bveer wo yelo lily i', 'wic i', 'shear i', 'near i', 'stera i', 'bad  i', 'galore i', 'vuh souncine shimers on the ocern i', 'we gathered shes on the weac i', 'he wil tho a ve lie wi', 'charle i', 'wesh i', 'ape i', 'lic i', 'knew i', 'tie i', 'svo i', 'though     i', 'flor i', 'thehouse is a god and wach i', 'notthing a use hevfonsev ofexnoence i', 'notthing aseffens  ti vaihineur sinc i', 'slay i', 'snop  i', 'sive i', 'rocks   i', 'she is thinner than i am i', 'urgeat i', 'jungle i', 'tar i', 'sp      i', 'just one igot we i', 'pile i', 'yeut used to boing onthe flo i', 'forward i', 'for i', 'cer i', 'delta i', 'thog dbof notice towal men i', 'flir i', 'i was conscusalh the time i', 'trile i', 'tile i', 'cher i', 'pak i', 'onevaur a thetieto scrubaditt i', 'mere i', 'sit i', 'pat i', 'mother sews yeloginameprenc i', 'woch i', 'no i', 'rock i', 'jango musbe working had i', 'syh   i', 'chop i', 'brot       i', 'e scrube tho flarmscharhe i', 'sigh i', 'je rainavoch  dpot slobr i', 'dera   i', 'explore i', 'grow  i', 'fed i', 'alpha  i', 'pot  i', 'farm  i', 'sip  i', 'dager  i', 'range i', 'fair  i', 'ft   i', 'ship  i', 'park  i', 'godfater lifto b me denanerslakage i', 'puble  i', 'bi  i', 'whe she yest nearly ninfre arsoe i', 'trouble  i', 'chair  i', 'raite   i', 'theh i', 'gadget i', 'wvarm   i', 'torn  i', 'sgo  i', 'swarm  i', 'share  i', 'il carn i', 'i can meve  i', 'fit  i', 'stark  i', 'rit   i', 'knew  i', 'tep  i', 'no  i', 'lef  i', 'store  i', 'chair  i', 'slore  i', 'bad  i', 'stuble i', 'trot  i', 'horn i', 'shet   i', 'preta  i', 'slip  i', 'pip  i', 'car  i', 'knew  i', 'no  i', 'yethe stethinksthucwiefee i', 'us reinus sevproban  i', 'flor  i', 'train   i', 'whi  i', 'we have oftenoe jumpd wa mare and smoke gleas i', 'left    i', 'born   i', 'beat  i', 'snep  i', 'rite  i', 'range  i', 'ship  i', 'sti  i', 'storm i', 'stouble   i', 'town  i', 'fum  i', 'glow  i', 'form i', 'form   i', 'rave i', 'warm   i', 'sip i', 'tark  i', 'storm   i', 'snop   i', 'sform  i', 'op   i', 'dark i', 'rake   i', 'rice i', 'air  i', 'i can read   i', 'air   i', 'jacket    i', 'stount lef mistor caron orneglecd the i', 'raage  i', 'hair     i', 'spark  i', 'for  i', 'golpt   i', 'jagged    i', 'corn   i', 'spark  i', 'fit  i', 'the qickfrom foxsjunks over the loey to i', 'puttheofes ansers baana ol  i', 'two   i', 'trae  i', 'u wished to now a abount my grandfather i', 'tricf   i', 'ycle  i', 'era  i', 'of  i', 'i just crh to do my ves  i', 'sboth ficoeres wold go hhiein litter yars i', 'menu  i', 'sive  i', 'i trie to dhe ppoont the comunette i', 'sive  i', 'lop  i', 'sher  i', 'area   i', 'why seafd ovor oer siams i', 'sharm  i', 'everethingwheim w smoht the sherif sed i', 'ate     i', 'write   i', 'hit  i', 'thes wasthesting for us     i', 'whop i', 'no  i', 'trop  i', 'trop  i', 'slef  i', 'sware  i', 'shott  i', 'sht   i', 'are youre grade hiher or lower thannances i', 'fruit  i', 'youd be vether of tarking a colt showere   i', 'the island boc fah lok popuvited i', 'not  i', 'pot   i', 'spok  i', 'srap   i', 'play  i', 'sprinkle i', 'not   i', 'for  i', 'were  i', 't  i', 'sp  i', 'sinle  i', 'spad  i', 'al the bigbasepal players gettreacer i', 'pair  i', 'chair  i', 'i canplay this wegens   i', 'i fel i can play thiswwecean i', 'the garied m of on the stretcher i', 'wrihte  i', 'whevoer w yelow lily  i', 'weic  i', 'sheare  i', 'near   i', 'stera      i', 'fad  i', 'galore  i', 'vuthsunsines shimers on the yoceng i', 'we gatheredshes on the peac i', 'he wil utho a vae lie i', 'charlie  i', 'warf  i', 'ote    i', 'lick     i', 'knew   i', 'tie  i', 'swor  i', 'though  i', 'flor  i', 'there house is gre and whit  i', 'nothing aus adfenteve osecnoence i', 'notthing as ffensiv vathinours sinc i', 'slay  i', 'snop  i', 'sive  i', 'rocks  i', 'she is thinner than i am i', 'urgent  i', 'jugle  i', 'par i', 'sp   i', 'justt one cyccot wet i', 'pile  i', 'yut lied to beging on the flor i', 'sforwurd     i', 'for   i', 'ster   i', 'delta  i', 'i lokedofteon notic to  oltd men i', 'slip  i', 'i was consousthe the time i', 'prior   i', 'tile  i', 'feor   i', 'pak    i', 'onevaurlay the tietho scrub distt i', 'mea  i', 'fate  i', 'fat  i', 'mothers yelo ginameprens i', 'much  i', 'no  i', 'rok  i', 'rock  i', 'jange or mosuby working hot i', 'sigh     i', 'trop   i', 'brot  i', 'i excrubed the farmsthugly   i', 'sigh  i', 'the train avoe sed do bo flowly i', 'jer  i', 'explore  i', 'dop i', 'raha i', 'siier onrt your tho verwheshae i', 'air i', 'cerla  i', 'dea    i', 'rop    i', 'sih i', 'ware   i', 'm ifiumisethe fows car i', 'ner  i', 'rar     i', 'b mor uwae were w ov     i', 'slip i', 'colpe i', 'stle   i', 'i', 'thohier lay ner asthe wal i', 'echo i', 'pot i', 'ebanef  i', 'sarg i', 'sero  i', 'brraw       i', 'surgentswaaashe got  oup i', 'at    i', 'chare i', 'shy      i', 'fier i', 'hop   i', 'lair  i', 'te i', 'saire i', 'ma i', 'kirlo', 'verly', 'to alfphe swarm arounobot', 'lair', 'jumusither sevs have lostthewer', 'papa', 'ststar', 'him', 'loyal i', 'sin i', 'bawn i', 'char i', 'rake   i', 'sser  i', 'the barconvancsway swaher i', 'for i', 'be i', 'itting     i', 'pel i', 'hrvedtepearthe packagehafy i', 'peect i', 'tip        i', 'ovemer i', 'ik i', 's i', 'barn i', 'ha   i', 'chp i', 'forthough i', 'carer i', 'uead i', 'hak   i', 'plo    i', 'ye   i', 'yes i', 'nik   i', 'nadgear i', 'fcore i', 'i ave had  vo rong i', 'segeat i', 'sitter i', 'cot i', 'verk i', 'sthor i', 'spark i', 'spark i', 'spain i', 'f i', 'n    i', 'sitter   i', 'carke i', 'hum i', 'hof chair i', 'the box are veae pehip i', 'harp i', 'cark i', 'park i', 'jark  i', 'hiro     i', 'zero   i', 'sever i', 'i erw stuththiswe i', 'jfgohou tr un ey i', 'plow   i', 'peca chosevu i', 'tore  i', 'swin nhormthath hih asou can i', 'iforr corswarmbra i', 'te     i', 'sh i', 'shy i', 'sik i', 'there isa trad of opppa i', 'park i', 'thugh i', 'har i', 'helae i', 'we vo opeback to the farm i', 'cuebec i', 'bet     i', 'e jo provide mon buet i', 'hat i', 'waer   i', 'nick  i', 'tar i', 'mush   i', 'lake   i', 'no  i', 'fete i', 'whe a our felv erfor us i', 'tora i', 'golf     i', 'hitting    i', 'cara leve nalivey horm i', 'tarm    i', 'no    i', 'wickered  i', 'ar i', 'charp   i', 'brehaebt to ji con hepcope i', 'ha i', 'were i', 'sita i', 'grop       i', 'walma  i', 'thi have maelars overwhem slir i', 'air   i', 'air     i', 'seela    i', 'ye  i', 'trop  i', 'thire  i', 'ware  i', 'mi sif inied the floeard car  i', 'thep  i', 't ar ther caase of a seva untere eviveent i', 'brar  i', 'b va wva ou  i', 'slip    i', 'colpe  i', 'te  i', 'an  i', 'ofa lofwiar slay ner asbov a i', 'echo   i', 'thought    i', 'mark  i', 'sare  i', 'seo  i', 'fra   i', 'tuuntwk ashe got of i', 'at    i', 'cared  i', 'sigh   i', 'pilr  i', 'left  i', 'lark  i', 'te  i', 'lir  i', 'the  i', 'kio  i', 'uwely  i', 'to wi gl funs  swarm aroun the bot  i', 'lair  i', 'unmus gither ses have lost thrwer i', 'papa  i', 'thisis te poudofccjeon forme i', 'dark  i', 'him  i', 'nral  i', 'shign  i', 'brawn  i', 'te  i', 'roake  i', 'ser  i', 'the bagcounjanway swather  i', 'brarwm  i', 'be  i', 'nitting  i', 'fil  i', 'hravedthe pathe pakage hasfil i', 'pirk  i', 'ptet    i', 'p  i', 'novenber  i', 'p  i', 'sve  i', 'barn i', 'hi  i', 'chap   i', 'florthough  i', 'kiten  i', 'muslat  i', 'hark        i', 'flor     i', 'atralo i', 'of  i', 'yes  i', 'leak   i', 'notan  i', 'oeca  i', 'i ave hadmy brong i', 'segeant     i', 'sitter  i', 'cot   i', 'rark  i', 'spark  i', 'spark  i', 'spart  i', 'spaim  i', 'fo i', 'nor  i', 'siender  i', 'cark  i', 'harm i', 'hocair   i', 'the fok are verpechip    i', 'harp   i', 'car  i', 'park  i', 'dark  i', 'he  i', 'sero  i', 'sever  i', 'i uwe sam vtis wek i', 'thet le goahou stor unl i', 'flo  i', 'ar procuhousmu     i', 'tae  i', 'swing not onthash h asyou can i', 'iwethere gos warm bra  i', 'hir  i', 'ch   i', 'sy  i', 'sic   i', 'there isa trad of opperpa   i', 'park   i', 'thought   i', 'har   i', 'lage   i', 'we vohopback to the farm  i', 'cuebec  i', 'bet  i', 'the jo provove ouy bnfi    i', 'the job providemon benefft i', 'hat  i', 'lip i', 'nick  i', 'tar  i', 'ush  i', 'leake  i', 'no  i', 'feto i', 'whenaus fai rforus  i', 'torn  i', 'golf     i', 'hitting  i', 'ca  lvfetunalively horme   i', 'darn  i', 'no  i', 'ascthe the truea god aer cu en fveable i', 'wirker     i', 'prair   i', 'the oers reglahofor stoming lip i', 'chharp  i', 'frbout the timecond hep to       i', 'hane  i', 'weirp   i', 'sita  i', 'sare  i', 'prair i']\n"
          ]
        },
        {
          "name": "stderr",
          "output_type": "stream",
          "text": [
            "Saving model checkpoint to torgo_xlsr_finetune-M02-2/checkpoint-5000\n",
            "Configuration saved in torgo_xlsr_finetune-M02-2/checkpoint-5000/config.json\n",
            "Model weights saved in torgo_xlsr_finetune-M02-2/checkpoint-5000/pytorch_model.bin\n",
            "Feature extractor saved in torgo_xlsr_finetune-M02-2/checkpoint-5000/preprocessor_config.json\n",
            "Deleting older checkpoint [torgo_xlsr_finetune-M02-2/checkpoint-4000] due to args.save_total_limit\n",
            "/usr/local/lib/python3.9/dist-packages/transformers/models/wav2vec2/processing_wav2vec2.py:155: UserWarning: `as_target_processor` is deprecated and will be removed in v5 of Transformers. You can process your labels by using the argument `text` of the regular `__call__` method (either in the same call as your audio inputs, or in a separate call.\n",
            "  warnings.warn(\n",
            "The following columns in the evaluation set don't have a corresponding argument in `Wav2Vec2ForCTC.forward` and have been ignored: input_length. If input_length are not expected by `Wav2Vec2ForCTC.forward`,  you can safely ignore this message.\n",
            "***** Running Evaluation *****\n",
            "  Num examples = 714\n",
            "  Batch size = 8\n"
          ]
        },
        {
          "name": "stdout",
          "output_type": "stream",
          "text": [
            "['grow i', 'fed i', 'alpha  i', 'pot  i', 'farm i', 'sharp i', 'dagoe i', 'range i', 'fair i', 'sht     i', 'ship i', 'park i', 'god fatherslife to be mo drn ans lackage i', 'parble i', 'bit  i', 'whil sh as nearly nocive xis years  ov i', 'trouble i', 'hair i', 'rate i', 'though i', 'godglet i', 'vam i', 'torn i', 'go i', 'swarm i', 'share i', 'i a chairn  i', 'i can meat i', 'shate  i', 'starp  i', 'write i', 'new    i', 'tair i', 'no   i', 'left i', 'stor i', 'chair i', 'swore i', 'bat    i', 'stubble i', 'trap      i', 'she had your toxsiv and griace walse fater al yhere  i', 'form  i', 'sht  i', 'para i', 'sbit   i', 'fk  i', 'car  i', 'kne  i', 'kno  i', 'yeet he stiltinks s thoucs swocly ys av i', 'musua minus several bons i', 'fflor   i', 'trafe    i', 'bou i', 'we have often hoed jiumd wal more and smo glas i', 'there is juges munal left i', 'fon i', 'fet  i', 'd  i', 'rite   i', 'range  i', 'sip i', 'stick i', 'storm i', 'stubble  i', 'down i', 'chwo i', 'glow i', 'form i', 'form  i', 'raf i', 'form   i', 'ship i', 'dark i', 'storm        i', 'grot  i', 'swarm  i', 'halp  i', 'a long folong  both  cingss to rds and  i', 'dark  i', 'rake i', 'race i', 'air i', 'i can rad i', 'air i', 'jacket i', 'dont lc mistr cay ong or sha i exlect thoht i', 'ragege i', 'hair i', 'spark i', 'for i', 'cop i', 'jaggerd i', 'corn i', 'spark i', 'fat  i', 'the qo  brawn farof  shwumd over the licy tal i', 'fuather ofhas jansers  bannana ol  i', 'two i', 'trave i', 't to now a aboou fou grandfather i', 'trace   i', 'cycle i', 'ara i', 'of i', 'ie just cray to do my best i', 'fosh  spricless wold go hi of  ncte ipss i', 'madn   i', 'side i', 'our caleast have provoed the communitty i', 'shyh   i', 'lop i', 'here i', 'ara i', 'why jbd ovor lo shalyimans i', 'sher   i', 'evemhm belowf smot jet sheif said i', 'ate i', 'wrihte i', 'hate     i', 'this was easing for us i', 'whop i', 'now   i', 'drop   i', 'group i', 'slip   i', 'sway i', 'shott i', 'shot i', 'are your gradess hiher r lole than nancys i', 'hrop  i', 'yu prefers of chaking a cot shawr  i', 'the yisland h xspose loe opulated i', 'nok  i', 'pak    i', 'brot i', 'serat i', 'tie i', 'spreckle i', 'mot i', 'for i', 'tal i', 'shop i', 'single    i', 'pat i', 'al the vixpoased pal players get tracsed i', 'pay  i', 'chero     i', 'i can play this woken  i', 'i fealise crumpps lay this wekend i', 'they caered meholf on the stretchr i', 'write i', 'balflbr fa o yellof taly i', 'wourp   i', 'shere i', 'near    i', 'stera      i', 'bat  i', 'galo    i', 'fust sunshines shimmers on the occean i', 'we gathered shelse on the beach i', 'he wil wl tow avalo lie i', 'charlie i', 'wofh i', 'ape   i', 'lift i', 'knew  i', 'tie i', 'sevruh i', 'though  i', 'flor   i', 'thehouse is a goland walch i', 'n aol thingusie have fonssive oshexnoance i', 'notthng has  offensive valicinus since i', 'slay i', 'snop  i', 'shigh  i', 'rocks   i', 'she is thinner than i am i', 'urgent i', 'jungle i', 'fa i', 'shoup  i', 'justt one ycl weat i', 'pile i', 'yeet is trovoing on the flo i', 'forward i', 'for i', 'ter i', 'taltt i', 'al thog df af noticse to al mean i', 'slip      i', 'i was conscious al the time i', 'trile   i', 'tile   i', 'treo  i', 'foc i', 'wne vaays tha tie tof scrubl dictt i', 'mre    i', 'shte i', 'fat i', 'mothen ls yelow grinham prencs i', 'ruch i', 'no i', 'rock   i', 'jag m  mus bre woking hat i', 'shy    i', 'trop       i', 'frot  i', 'a scwrablof flams charliy i', 'thgh i', 'the train afvof  stpd do fol slowly i', 'cher  i', 'explot i', 'grow  i', 'fed i', 'alpha  i', 'pot  i', 'farm   i', 'sip  i', 'sag  i', 'range i', 'fair  i', 'ft  i', 'ship  i', 'park  i', 'god father life to  sml tran anis lackage i', 'puble   i', 'bi  i', 'whil she its narly noncif for years old i', 'troubble  i', 'char  i', 'rade  i', 'though i', 'goadget i', 'van   i', 'torn  i', 'go   i', 'swarm  i', 'share  i', 'il cas i', 'i can mead     i', 'flt  i', 'stark  i', 'rate  i', 'knew  i', 'tp  i', 'no  i', 'ylees  i', 'stor   i', 'chair  i', 'swore  i', 'fat  i', 'stubble i', 'traot  i', 'horn i', 'sht  i', 'breta   i', 'slip  i', 'fi  i', 'car  i', 'knew  i', 'kno  i', 'yeet he stil things sthuc swiftly as ev i', 'use areminus severol botss  i', 'flor  i', 'tra   i', 'w  i', 'we have of noe jumpd val more and smok glas i', 'left  i', 'forn   i', 'feat  i', 'knew  i', 'write  i', 'rage  i', 'sip  i', 'stick   i', 'storm i', 'stubble   i', 'town  i', 'fiw  i', 'glow  i', 'form i', 'form   i', 'rave i', 'warm   i', 'sip i', 'thark  i', 'storm   i', 'strop   i', 'sworm  i', 'alp  i', 'dtark i', 'rake   i', 'race  i', 'air   i', 'i can rad     i', 'air  i', 'jacket  i', 'stonh lef mistor caon orina i exlect thouht i', 'rae  i', 'hair  i', 'spark  i', 'for  i', 'goat   i', 'jaggerd  i', 'corn   i', 'spark  i', 'filt  i', 'the qick  fraowm fox  sjrungs over the lescy do  i', 'sputthe yvs ansers banana ol      i', 'tro   i', 'trade  i', 'she wisheeed to now all aboun my grand father i', 'trace   i', 'ycle  i', 'arra   i', 'of  i', 'ie just cratchre to my vest  i', 'fosh ficles wol go hhi o lcter s i', 'menum  i', 'shge  i', 'i tried to seve profoln the comunittys i', 'shigh  i', 'lop  i', 'her  i', 'ara   i', 'why shaled avo oe shilyimams  i', 'here  i', 'everythinghime balf smopd the sherif sad i', 'ate   i', 'write       i', 'hit  i', 'this othes in for us     i', 'whop i', 'no  i', 'drop  i', 'trop  i', 'slef  i', 'swayre  i', 'shot  i', 'shot   i', 'are youre grades hiher o lower than nances i', 'fruit  i', 'yud preveter of caking a colt shower   i', 'the island toc fosc lop  oppossieve  i', 'not  i', 'pot  i', 'sprule  i', 'sraf  i', 'play  i', 'sprinkle i', 'knot   i', 'for  i', 'were  i', 'tal  i', 'sup  i', 'single  i', 'span  i', 'al the vig base  fal players get stracrd i', 'pay  i', 'cher  i', 'i can play this we cens    i', 'i fellised canm pplay this we can   i', 'the caied mhalf on the stretcher   i', 'write      i', 'walfalfir war a yellow lily     i', 'whip  i', 'sher  i', 'near  i', 'stera  i', 'fad  i', 'galore  i', 'frust sunshine shimmers on the yo sing i', 'fu gathered  shels on the beac i', 'he wil above tow a rare lie i', 'charlie  i', 'worf  i', 'ap  i', 'leck  i', 'knew  i', 'tie  i', 'seouh  i', 'though  i', 'flor  i', 'theier house is a grey and white     i', 'notthing as uvse havfensive as xnoronce i', 'notthing has offensive alinors since i', 'slay  i', 'snop  i', 'shige  i', 'rocks  i', 'she is thinner than i am i', 'urgent   i', 'jungle  i', 'fair  i', 'sup   i', 'justt one cycl wet i', 'pile  i', 'yhere is troviing on the flow i', 'forward  i', 'four   i', 'stpr      i', 'deleta  i', 'i lok olfthens noticse  to old men i', 'slip  i', 'i was conscious al the shie i', 'prior  i', 'tile  i', 'fou   i', 'fack  i', 'wne valays the tie  of scruble distrat i', 'menu  i', 'fate  i', 'fat  i', 'mother ths  yellow crinham eprens i', 'much  i', 'no i', 'rock   i', 'rock   i', 'jagd my or  mous pby ol con hose    i', 'shy  i', 'trop   i', 'brot  i', 'i exschrubed the fams  througly   i', 'thigyh  i', 'the tran afvolfs  strd to bolf slowly  i', 'cher  i', 'explore  i', 'grop i', 'roha   i', 'nerds a yortho vowhelm  sh i', 'air    i', 'carlet  i', 'es    i', 'rop   i', 'thil   i', 'warm         i', 'my sis thirmised the fl was carm i', 'lip      i', 'brir  i', 'b foe thawe were w or     i', 'slip   i', 'colp  i', 'tr   i', 'ark  i', 'al tho  ho hiere slay inasseval  i', 'echo   i', 'thought     i', 'hanar  i', 'ar shar  i', 'sero  i', 'braw  i', 'rgest swa as  he got  ot  i', 'at    i', 'charlet i', 'shy  i', 'faliy i', 'o   i', 'lair  i', 'cao       i', 'sir i', 'vat i', 'carlo', 'farly', 't lgalphas swm aroune the fot', 'lear', 'ruus iher ss have lost ther w', 'palpa', 'star', 'him', 'loyal           i', 'shawn  i', 'brawn     i', 'sha i', 'rake  i', 'sd  i', 'the bar  counane sways shathers i', 'ffrow    i', 'fil      i', 'antting  i', 'fil i', 'he prepas the package hasfily i', 'proect i', 'trip  i', 'ovember i', 'feark  i', 'shy i', 'fan  i', 'ha  i', 'chop  i', 'for though i', 'car i', 'ayat i', 'harck  i', 'flow  i', 'ye a i', 'yes     i', 'nap  i', 'natar  i', 'schor         i', 'i ave had my vl rong i', 'sergeat i', 'sitting i', 'cot i', 'raks i', 'thour  i', 'spark i', 'sfair i', 'fan     i', 'sh i', 'dark  i', 'itr  i', 'cake i', 'harm      i', 'hof crair    i', 'the foxs ar va yes spesshifps i', 'harf       i', 'cart     i', 'par      i', 'jar  i', 'hiro  i', 'zero    i', 'sever    i', 'ar  pr spas stis just    i', 'selstheof schouble houe xtr un y  i', 'flow  i', 'alf co ad chod vum  i', 'tore  i', 'swan naw on thas hiy as youe can i', 'biffohr cars br i', 'hi  i', 'sh    i', 'sh i', 'sick        i', 'there is a trade of  alppropolt i', 'park       i', 'though       i', 'har    i', 'lak i', 'we vo oback to the farm i', 'quebec   i', 'bitan  i', 'thhe job provded mensing bransof fits i', 'hat  i', 'lrk  i', 'nick  i', 'taar  i', 'mark  i', 'lak  i', 'no  i', 'srgeant    i', 'hal al ar fails yrs for us i', 'torham   i', 'golf  i', 'hitting        i', 'carl leves janalived  hom i', 'tarn  i', 'no  i', 'wiccared   i', 'praor i', 'chairp  i', 'fr harbot ta ja con halp coup i', 'han     i', 'r      i', 'sita i', 'grop  i', 'walha  i', 'thi have nrd yarsalvf awlm  sli i', 'air  i', 'air    i', 'silaela  i', 'yes  i', 'troup  i', 'thia  i', 'whar  i', 'mi sif thinised the floas car  i', 'thlip  i', 'to ar thers crasess havs al sevverluns there avive fs i', 'bra  i', 'bfr hvae a obug  i', 'slip  i', 'colp  i', 'tela  i', 'and  i', 'of a lofv hara slys nr abovee al  i', 'echo   i', 'thought  i', 'banac  i', 'sears  i', 'so  i', 'fa  i', 'sgent wal as he got  of  i', 'at    i', 'carkle  i', 'syh   i', 'faliy  i', 'lefto  i', 'lar  i', 'tel  i', 'lia  i', 'theug  i', 'kilo  i', 'u wathy  i', 't f galffas swam arom the boat   i', 'lair  i', 'gruus aherd cs have lost thowar i', 'palpa  i', 'this is a pod of crack son for me i', 'dar  i', 'him  i', 'loal  i', 'thn  i', 'bran  i', 'hil  i', 'rake  i', 'sr  i', 'prba cunjanged lays sather  i', 'fro  i', 'bi  i', 'nitting  i', 'fail  i', 'h rvedreplase the package hasfily i', 'pirt  i', 'poet   i', 'plit  i', 'no rown fr  i', 'lrk  i', 'sha   i', 'ban i', 'him  i', 'cop   i', 'fork though  i', 'curten  i', 'mulat  i', 'harck  i', 'flor    i', 'ra li o i', 'op  i', 'yes  i', 'leak  i', 'notam  i', 'oscar  i', 'i ave had my bl rong i', 'sergeant  i', 'sitting  i', 'ot  i', 'rar  i', 'spark  i', 'spark  i', 'fair  i', 'spam  i', 'ch i', 'dawn  i', 'sanger  i', 'cark  i', 'horm i', 'hof cair  i', 'the foxs are vary yl specif   i', 'harp  i', 'car  i', 'park  i', 'dark  i', 'hil  i', 'ziro  i', 'seven  i', 'i have sr wel spamsth us av wk  i', 'etas of scobal house strve unsy  i', 'flow  i', 'al focos hose  v       i', 'tle  i', 'swing naw on thas h as you can i', 'bifaheare cos w foru   i', 'him  i', 'sha   i', 'shy  i', 'sic  i', 'there is a trade of  alppropal   i', 'far  i', 'thhought  i', 'har  i', 'lage   i', 'wlvolf hopback to the farm   i', 'quebec  i', 'bit   i', 'the job provoe hunscing vn fi   i', 'the job proviges mony benefits  i', 'hat  i', 'lip i', 'leak  i', 'par  i', 'mush   i', 'leak  i', 'no  i', 'fittl  i', 'whal all as fails rfs fors  i', 'forn  i', 'golf  i', 'hitting  i', 'cal lave tenalively home  i', 'dawn  i', 'no  i', 'of cara the trbule a caraas c faverable  i', 'worckre  i', 'praor   i', 'ts  r galayh for fsumring lif i', 'harp  i', 'fr habot ta tam cond help tro  i', 'ham  i', 'weark  i', 'sita  i', 'shar  i', 'rar i']\n"
          ]
        },
        {
          "name": "stderr",
          "output_type": "stream",
          "text": [
            "Saving model checkpoint to torgo_xlsr_finetune-M02-2/checkpoint-5500\n",
            "Configuration saved in torgo_xlsr_finetune-M02-2/checkpoint-5500/config.json\n",
            "Model weights saved in torgo_xlsr_finetune-M02-2/checkpoint-5500/pytorch_model.bin\n",
            "Feature extractor saved in torgo_xlsr_finetune-M02-2/checkpoint-5500/preprocessor_config.json\n",
            "Deleting older checkpoint [torgo_xlsr_finetune-M02-2/checkpoint-4500] due to args.save_total_limit\n",
            "/usr/local/lib/python3.9/dist-packages/transformers/models/wav2vec2/processing_wav2vec2.py:155: UserWarning: `as_target_processor` is deprecated and will be removed in v5 of Transformers. You can process your labels by using the argument `text` of the regular `__call__` method (either in the same call as your audio inputs, or in a separate call.\n",
            "  warnings.warn(\n",
            "The following columns in the evaluation set don't have a corresponding argument in `Wav2Vec2ForCTC.forward` and have been ignored: input_length. If input_length are not expected by `Wav2Vec2ForCTC.forward`,  you can safely ignore this message.\n",
            "***** Running Evaluation *****\n",
            "  Num examples = 714\n",
            "  Batch size = 8\n"
          ]
        },
        {
          "name": "stdout",
          "output_type": "stream",
          "text": [
            "['grow i', 'fed i', 'alpha  i', 'pat i', 'farm i', 'sip i', 'daggoe i', 'rave i', 'fair i', 'shet i', 'ship i', 'park i', 'godfathher licetd to be sm tearn ansers langage i', 'sprgble i', 'pit  i', 'will she is nearly not teyears o i', 'trouble i', 'chair i', 'raide i', 'theh i', 'goadglet i', 'varm i', 'torn i', 'gow i', 'swarm i', 'share i', 'i  tarn i', 'i can meoat i', 'shet i', 'stirp  i', 'write i', 'down   i', 'tairp i', 'no i', 'left i', 'store i', 'chair i', 'swore i', 'bat  i', 'stouble i', 'trap i', 'she ad your darksut in gitwalh father al year i', 'porn   i', 'shet  i', 'paa i', 'i    i', 'spinke  i', 'car  i', 'knein i', 'no   i', 'yet he stdd trinkstheu  swart ebl i', 'usuly inus several bown i', 'flor  i', 'trave   i', 'boup i', 'we have often  ourgeed jump  wal more and smokegleas i', 'thejuges nonaa left i', 'born i', 'beat   i', 'down    i', 'write i', 'range   i', 'ship i', 'stick i', 'storm i', 'stouble i', 'down i', 'two i', 'glow i', 'form i', 'sorm   i', 'rave i', 'born  i', 'shaip i', 'dark i', 'storm i', 'drit  i', 'swarm   i', 'hop    i', 'a long floing boatd clings to ward in i', 'star   i', 'rake i', 'race i', 'air i', 'i can rad i', 'air i', 'jacket i', 'dont leck me to cary ong or caly exlect  the i', 'ragege i', 'hair i', 'spark i', 'for i', 'coupe i', 'jaggered i', 'corn i', 'spark i', 'fuit   i', 'the go brawn fausjumpd over the lay taie i', 'but the alays janswers bannana ol i', 'two i', 'trave i', 'tvice to now aa abam uy grandfather i', 'trace      i', 'cycle i', 'erro i', 'of i', 'i justt try to do my best i', 'foth  sprinles would go hiy u  nictery yaip i', 'gadget  i', 'side i', 'i liged to save prepoted the community i', 'sive  i', 'lop i', 'cher i', 'area i', 'why jaed ovorr over schiliyimans i', 'chio i', 'every thing whon eaow smoat the shelif  said i', 'ate i', 'write i', 'heate  i', 'this was easing for us i', 'whop i', 'down i', 'dlop    i', 'drop i', 'slip   i', 'swar i', 'shott i', 'shot i', 'are your grads highher or lowwer than nancys i', 'rop  i', 'yud ben veartther of carking a cold shower i', 'the island salcfatherr lop up lated i', 'not      i', 'port   i', 'bot i', 'selat i', 'trae i', 'sprnkle i', 'knot i', 'for i', 'star i', 'shp i', 'single i', 'pile i', 'al the bigboy pal players get tratted i', 'pay     i', 'chair   i', 'i can play this wekend i', 'i fe life can  play this weend i', 'they gared me of on the stretcher i', 'write i', 'wil wal br wey ouw yeellow lily i', 'whirpt i', 'sheare i', 'near   i', 'stera i', 'bad  i', 'galore i', 'vut sunshine shimers on the ocean i', 'we gathered  shels on the beach i', 'he wil wl low a va lie i', 'charlie i', 'whelh i', 'ape i', 'lif i', 'tew i', 'tive i', 'seouh i', 'though  i', 'flor i', 'ther house is a gan walth i', 'nothing hasete havfens tev alsther xnoence i', 'nothing has affens ti vale thinourience i', 'slay i', 'slip   i', 'sigh i', 'brocks    i', 'she lis thinner than i am i', 'urgent i', 'jungloe i', 'fal i', 'shp      i', 'justt one yle weat i', 'pile i', 'yourd used to boing on the fod i', 'forward i', 'for i', 'trear i', 'telat i', 'i lokouf af nottice to ald men i', 'slip  i', 'i was conscousah the time i', 'trile i', 'tile i', 'treo i', 'bac i', 'wone  valurd ay deie to scrubl dictat i', 'mere  i', 'shat i', 'fat i', 'mother ses yelow cringham eaprenc i', 'vuch i', 'no i', 'rock i', 'jage m lo mo mu by working hard i', 'shay i', 'chop i', 'brt         i', 'i scrubed the flarms chaugliy i', 'sigh i', 'the train avoche  ted do pot slowy i', 'ter    i', 'explort i', 'grow  i', 'fed i', 'alpha  i', 'pot  i', 'farm  i', 'sip i', 'dage i', 'rane i', 'fair  i', 'fet  i', 'ship  i', 'park  i', 'godfathher licedto bo smal tran aners lankage i', 'spuble  i', 'sbeik   i', 'whil she is nearly nonety te years olve i', 'trouble  i', 'chair  i', 'raide i', 'the i', 'gadget i', 'varn  i', 'torn  i', 'gho  i', 'swarm  i', 'share  i', 'i al cairn i', 'i can reave     i', 'fuit  i', 'stark    i', 'wraite   i', 'knew  i', 'tip  i', 'no  i', 'lef  i', 'store   i', 'chair    i', 'swore  i', 'bad  i', 'stuble i', 'troat  i', 'horn i', 'sheet  i', 'breta  i', 'slip  i', 'fin  i', 'car  i', 'knew  i', 'know  i', 'yet he stel thinksthoush swiftly eavle  i', 'uuse reinus severaol boto  i', 'flor  i', 'train  i', 'ship  i', 'we have often oase jumpd fal more and smoke  glas i', 'left   i', 'born  i', 'peat  i', 'snop  i', 'write  i', 'range  i', 'ship  i', 'sti  i', 'storm i', 'stoubble  i', 'town  i', 'fwu  i', 'glow  i', 'form i', 'form  i', 'rave i', 'warm   i', 'sip i', 'stark  i', 'storm  i', 'sop  i', 'sporm  i', 'up     i', 'stark i', 'rake   i', 'race  i', 'air  i', 'i can read   i', 'air    i', 'jacket  i', 'stont left mis to cary on orinaly exlecd the i', 'ragege  i', 'hair    i', 'spark  i', 'for  i', 'coape  i', 'jagged  i', 'corn  i', 'spark  i', 'fuit  i', 'the qick  brown fox sjunktd over the loay dot i', 'sputthyylvs answers bannana oil  i', 'two  i', 'trate  i', 'she wished to now all aboum my grandfather i', 'tracfe  i', 'cyle   i', 'erroa  i', 'of  i', 'ie just  cray to do my best  i', 'spocth frinles would go hiy oin lightter yars i', 'menum  i', 'side  i', 'i tried to teve preople in the communitty i', 'sive  i', 'lop   i', 'her  i', 'arrea    i', 'why seled avo oer siliyisaums  i', 'hearm  i', 'every thing  when w smot the sheif said i', 'ate   i', 'write      i', 'hate  i', 'this was ouasing for us        i', 'hop   i', 'now  i', 'trop  i', 'trop  i', 'slip  i', 'swar  i', 'shott  i', 'shot  i', 'are your grades higher or lowwer than nancys i', 'fruit  i', 'yud be vether off tarking a cold shower  i', 'the island tacs fath lop opulated i', 'knot  i', 'pot  i', 'sspoule  i', 'swape  i', 'play  i', 'sprinkle i', 'knot  i', 'for  i', 'wheare  i', 'star  i', 'sup  i', 'single  i', 'span  i', 'al the big bave  pol players get straterd i', 'pay  i', 'chair  i', 'i can play this weend  i', 'i fel i can play thisweend  i', 'they caried miolf on the stretcher  i', 'write     i', 'wilvalbin war a yelow lily  i', 'whip  i', 'sheare  i', 'near  i', 'str   i', 'fand  i', 'galore  i', 'ruht sunshine shimers on the yoing i', 'fue gathered  shels on the beach i', 'he wil wl alow a rary lie i', 'charlie  i', 'woarf  i', 'at    i', 'likt  i', 'knew  i', 'tive  i', 'souh  i', 'though  i', 'flor  i', 'their house is a grey and white        i', 'notthing asuse hadfenstef elter noence i', 'nothing as offensivevalo innorcence i', 'slay  i', 'snop  i', 'sive  i', 'rocks  i', 'she is thinner than i am  i', 'urgent    i', 'jungle  i', 'par  i', 'suip  i', 'justt one ycle wad i', 'pile  i', 'yure liced to boing on the flor i', 'sporward  i', 'for  i', 'sper      i', 'delta  i', 'i loked olfthen notice to old men i', 'slip  i', 'i was conscious al the time i', 'prior  i', 'tile  i', 'fear  i', 'bag     i', 'wone valu ay detive tho schrubl distriat i', 'mere  i', 'fate  i', 'fat  i', 'mothersses yelow cringham eaprens i', 'much  i', 'no  i', 'rock   i', 'rock  i', 'janged my ore mol mosu py woleng hose   i', 'shy   i', 'trop  i', 'brot  i', 'i excrubed the flamsthrougly     i', 'sigh  i', 'the train afvolth strouged to both slowly i', 'cher  i', 'explore  i', 'drop i', 'graha i', 'i  moandered ther your to ver wa sare i', 'air i', 'selea  i', 'jagkett   i', 'rop   i', 'sil i', 'whie   i', 'my sis urived the flaw was crn i', 'sleare   i', 'praar   i', 'by a loyl liwil wer i od    i', 'slip  i', 'hop i', 'stile   i', 'ank  i', 'a glo hiher lay nar the wal i', 'eho wiat   i', 'fat    i', 'he honers   i', 'r shar  i', 'seo  i', 'braw     i', 'sergent swale a he goat  out i', 'at  i', 'carklie i', 'shy    i', 'falin i', 'hop   i', 'lair  i', 'tel i', 'dair i', 'vad i', 'kilo', 'arly', 't wal alpha swam around the boalt', 'lair', 'gruu iler seels have lost ther a', 'palha', 'sstare', 'him', 'loyal       i', 'shign  i', 'brawn i', 'saie i', 'rake  i', 'sed  i', 'the par concanchetsway swathers i', 'fror i', 'pi   i', 'sitting     i', 'fril i', 'h laved treplay the package hastfily i', 'pretect i', 'trip    i', 'ovember i', 'ak i', 'salie i', 'barn i', 'hame   i', 'chaip i', 'for i', 'carer i', 'ulat i', 'hark  i', 'blow   i', 'ye a  i', 'yeir   i', 'slep   i', 'w atgr   i', 'icore        i', 'i ave had my ve rong i', 'sergeat i', 'sitting i', 'i', 'rea i', 'spark i', 'spark i', 'spark   i', 'spain i', 'fell i', 'darf  i', 'siter      i', 'carke i', 'harm     i', 'hocrair i', 'the fok sarne very yer spehip i', 'hearp  i', 'cark    i', 'park       i', 'char   i', 'hill   i', 'zero    i', 'sever  i', 'i     spoun i hi wep i', 'jlef scoble hous tre un hingy  i', 'flow   i', 'il procr your chald evlou  i', 'tale  i', 'swing nug arm as high as you can i', 'ifo  cr warm bro i', 'tw   i', 'cha     i', 'shary i', 'sick  i', 'there is a trade of alpphroalt i', 'park    i', 'fa     i', 'har    i', 'the loae i', 'we vot hopeback to the farm i', 'quebec i', 'beton   i', 't jb provided nosing pan cit i', 'hat i', 'ar   i', 'leak  i', 'tark  i', 'park  i', 'leae  i', 'no  i', 'srtent         i', 'h all ur feil nves for aud i', 'torn      i', 'golf   i', 'hitting   i', 'caal loves tana lively hom i', 'tarn   i', 'naw    i', 'wicerd   i', 'praor i', 'chaip  i', 'br hablet to time  con help coupe i', 'hame    i', 'ar      i', 'sita i', 'growp   i', 'walha  i', 'ti have ater yar o ver welm sliar i', 'air  i', 'air   i', 'slaela  i', 'yes  i', 'trop  i', 'far  i', 'white  i', 'mi sif uiniced the floer carrn  i', 'slip   i', 'two al thers crades heavs a sevv onther arvivemen i', 'brar  i', 'br nea war a o  i', 'slip    i', 'cope  i', 'tilt  i', 'ang  i', 'ofa lohier slaysnea asov al i', 'echo  i', 'thought    i', 'bark  i', 'sare  i', 'seo    i', 'braw  i', 'suent  swalke as he got  out i', 'at    i', 'carkle  i', 'siyh  i', 'filin  i', 'left  i', 'lairk  i', 'tell  i', 'lia  i', 'va  i', 'kilo  i', 'wetly  i', 'u wal jalffars swam around the boat  i', 'lairm  i', 'rn clerd sals have lost ther weare i', 'palpa  i', 'this isd a pour of track certond for mint i', 'dark  i', 'hem  i', 'lyal  i', 'sign  i', 'brawn  i', 'taile   i', 'roake  i', 'ser  i', 'the bar conjanhedlayd swater  i', 'brorn  i', 'bit    i', 'knitting  i', 'fril  i', 'he raved the plaf the pakage hastily i', 'pairt  i', 'prote i', 'spit  i', 'no rown bear  i', 'p  i', 'siv  i', 'barn i', 'hame  i', 'cip   i', 'forkheh  i', 'cirtten  i', 'ulieat  i', 'hark  i', 'flow   i', 'ralio i', 'ap  i', 'yes    i', 'leak    i', 'nota  i', 'oca  i', 'i ave had my b rong i', 'sergeant    i', 'sitting  i', 'a   i', 'rark  i', 'spark  i', 'spark  i', 'spairt  i', 'spain  i', 'ch i', 'darn  i', 'singer  i', 'cake  i', 'harm i', 'ho crail  i', 'the foks are very y spechip  i', 'hearp   i', 'car  i', 'park  i', 'jark  i', 'hill  i', 'zeo  i', 'seven    i', 'i harerywe spam sd this wep i', 'se of  hoal hous store un y  i', 'flow  i', 'il procaryurhos to volum        i', 'tor  i', 'swing naw an as hghy asyou can i', 'eathere gots warm bra  i', 'him  i', 'cha  i', 'shay  i', 'six   i', 'there is a trade of alphpal  i', 'fair  i', 'thought    i', 'hearp  i', 'lae  i', 'wil volhed opback to the farm  i', 'uebec  i', 'biten  i', 'the job provoided  hunscing bond he fit  i', 'the jb provuites many beneffiets i', 'hat  i', 'lip i', 'leak  i', 'tar  i', 'nah  i', 'leap  i', 'no  i', 'fitting  i', 'hel al  fil yr fors  i', 'torn  i', 'golf    i', 'hitting  i', 'call lovedtu a livealy horme  i', 'darn  i', 'no  i', 'alcarha the trinle  a god aters ctou glongk vavrable i', 'wikerd    i', 'prar  i', 'ters rlay lok for sombling lop i', 'chairp  i', 'pry hibot ter taime con help to  i', 'hame  i', 'hip    i', 'sita  i', 'sard  i', 'prair i']\n"
          ]
        },
        {
          "name": "stderr",
          "output_type": "stream",
          "text": [
            "Saving model checkpoint to torgo_xlsr_finetune-M02-2/checkpoint-6000\n",
            "Configuration saved in torgo_xlsr_finetune-M02-2/checkpoint-6000/config.json\n",
            "Model weights saved in torgo_xlsr_finetune-M02-2/checkpoint-6000/pytorch_model.bin\n",
            "Feature extractor saved in torgo_xlsr_finetune-M02-2/checkpoint-6000/preprocessor_config.json\n",
            "Deleting older checkpoint [torgo_xlsr_finetune-M02-2/checkpoint-5000] due to args.save_total_limit\n",
            "/usr/local/lib/python3.9/dist-packages/transformers/models/wav2vec2/processing_wav2vec2.py:155: UserWarning: `as_target_processor` is deprecated and will be removed in v5 of Transformers. You can process your labels by using the argument `text` of the regular `__call__` method (either in the same call as your audio inputs, or in a separate call.\n",
            "  warnings.warn(\n",
            "The following columns in the evaluation set don't have a corresponding argument in `Wav2Vec2ForCTC.forward` and have been ignored: input_length. If input_length are not expected by `Wav2Vec2ForCTC.forward`,  you can safely ignore this message.\n",
            "***** Running Evaluation *****\n",
            "  Num examples = 714\n",
            "  Batch size = 8\n"
          ]
        },
        {
          "name": "stdout",
          "output_type": "stream",
          "text": [
            "['grow  i', 'fed i', 'alpha  i', 'pot  i', 'farm  i', 'sip i', 'dager i', 'range i', 'fair i', 'shet   i', 'ship i', 'park  i', 'godfather liged to be modern aners lankage i', 'spubble   i', 'bit  i', 'wi she as nearly nonciyor to    i', 'trouble  i', 'chair i', 'raid i', 'though  i', 'godget i', 'ban   i', 'corn i', 'gow i', 'swarm i', 'share  i', 'i a tarn i', 'i can meat  i', 'fate  i', 'stirp  i', 'wrighte  i', 'dou  i', 'tair i', 'know  i', 'les i', 'store i', 'chair i', 'swore i', 'bat    i', 'stubble i', 'trap      i', 'she had yor docsut in gdwash fater all year i', 'horn  i', 'shet  i', 'praga    i', 'ssi  i', 'fanke  i', 'car  i', 'kmean  i', 'kno  i', 'yeet hsstthingthes wer  abl i', 'usd reminus several bon i', 'flor   i', 'trane  i', 'wou   i', 'we have often notgeed jhuim more and smoke glas i', 'the jugs muna left i', 'font   i', 'beat  i', 'do  i', 'wrihte    i', 'range  i', 'sip   i', 'stick  i', 'storm i', 'stubble  i', 'down i', 'fwo i', 'glow i', 'form  i', 'florm  i', 'braave  i', 'warm   i', 'shirp  i', 'dark i', 'storm     i', 'groat  i', 'sworm  i', 'hop  i', 'a long foongboat ctlings to hhits hhin i', 'stark  i', 'rake  i', 'race i', 'air  i', 'i can read    i', 'air  i', 'jackert     i', 'dont lesk  mey to cay young or sa exect thout i', 'raege i', 'hair i', 'spark i', 'for  i', 'compe  i', 'jaggerd i', 'corn i', 'spark i', 'fard  i', 'the bograwm fox jumpdover the livey to i', 'but the yobas anseors bannana ol i', 'two   i', 'trat   i', 'c to now aa ab y grandfather   i', 'trace  i', 'cycle i', 'ero i', 'of   i', 'i just tray to do my bes i', 'fothe friles wod go hy or nicty yairs i', 'badthem  i', 'sive i', 'i triged to tve people in the communitty i', 'sive  i', 'lop i', 'cher i', 'area   i', 'why jogd afor oal siliismant i', 'sher    i', 'every thing wong bo smoakt the sheelif said i', 'te  i', 'write  i', 'hate  i', 'this was easing for us i', 'whop    i', 'dowm   i', 'drop   i', 'drop    i', 'slipt    i', 'sway i', 'shot i', 'shot i', 'an your grads higher or lowwer than nancys i', 'trop      i', 'yu b v off carking ta cold shower i', 'the yisland  rox foc loked oplited i', 'knot  i', 'pot  i', 'brop  i', 'seat  i', 'trae   i', 'sprinkle i', 'knot  i', 'for i', 'stol i', 'sp   i', 'single   i', 'pir   i', 'al the big boe fbal players gat ragdld i', 'pay  i', 'cher  i', 'i can play this wekend  i', 'i fe aloe crunlay this weend i', 'they caered m of on the streccher i', 'write    i', 'b robiwaw yelow lily i', 'whirp  i', 'shear    i', 'near  i', 'stera    i', 'bad  i', 'gablore  i', 'vst sunshin shimmers on the  occan i', 'gatherd shells on the beac i', 'he wil w low a raar live i', 'charlie    i', 'whorf  i', 'ape     i', 'lif i', 'thwg  i', 'tive i', 'srough i', 'though  i', 'flor    i', 'thehouse is a gun wach i', 'notthing e hav fond theofecxnoence i', 'nothing hhas offens  t valiinorccience i', 'slay  i', 'snop  i', 'sigve    i', 'rocks  i', 'she s thinner than i am i', 'urgent i', 'jungle     i', 'fill i', 'sp  i', 'just one cighe got wet    i', 'pirle i', 'yeut usd troboing on the fild i', 'forward i', 'for  i', 'er i', 'stelta    i', 'i loged o of nottic to  all min  i', 'slip  i', 'i was consciosah the sime i', 'prior   i', 'tile    i', 'f  i', 'fac    i', 'one  valuday dtie to schuba distat i', 'mere  i', 'fate i', 'bat  i', 'mothers ss yelow cinghamapreonscs i', 'roch     i', 'no  i', 'rock  i', 'jangdmy lrong mo mu bry working hat i', 'sige  i', 'trop    i', 'vrot  i', 'i scrubed the flams thorougly i', 'thigh   i', 'the train a voached  sted to fo oy i', 'sera  i', 'exploat   i', 'grow  i', 'fed i', 'alpha  i', 'pot  i', 'farm   i', 'sip  i', 'dagler  i', 'range i', 'failr  i', 'fe  i', 'ship  i', 'park  i', 'godfather liceddto be sm trin in his lackage i', 'pubble  i', 'bi  i', 'wil sh is nearly ninety for yor thod i', 'trouble   i', 'chaire  i', 'raid  i', 'though i', 'goadget  i', 'barn   i', 'torn  i', 'sgo  i', 'swarm  i', 'share  i', 'cairns i', 'i can meave  i', 'filt  i', 'stiark  i', 'wrighte       i', 'no  i', 'tap  i', 'now  i', 'yes  i', 'store  i', 'chair  i', 'flor  i', 'bat  i', 'stubble i', 'troat  i', 'horn i', 'shet  i', 'breta  i', 'slip  i', 'fink  i', 'car  i', 'knew  i', 'know  i', 'yeet he sti think thusc swifly osale  i', 'yus reminus several boto  i', 'flor  i', 'train   i', 'who  i', 'we have oftennoted jumpd for more and smoke glas i', 'left  i', 'forn   i', 'beat  i', 'snop  i', 'wrihte  i', 'range  i', 'sip  i', 'sti   i', 'storm i', 'stoubble   i', 'sstowm  i', 'fiw  i', 'glow  i', 'form  i', 'form   i', 'rave i', 'warm   i', 'sip  i', 'tark  i', 'storm   i', 'sop  i', 'sporm  i', 'op  i', 'stark i', 'rake  i', 'race  i', 'air  i', 'i can read  i', 'air  i', 'jacket  i', 'stontesf mey to cary ong or aelc thot i', 'raege  i', 'hair  i', 'spark  i', 'for  i', 'coanpe  i', 'jaggerd  i', 'corn  i', 'spark  i', 'fid  i', 'the qick  brawm fox jungkd over the lafvy dot i', 'sput the yofrs answers baana oil  i', 'two   i', 'trate  i', 'she wishedd to now a about my grandfather i', 'tracfe   i', 'cycle  i', 'erro    i', 'of  i', 'i just  crah to do my bes   i', 'both ficglres wold go hiy  nic years i', 'menu  i', 'sive  i', 'i tried to dog peple in the communittys i', 'sive  i', 'lop  i', 'her  i', 'arrea     i', 'why shed afor oer siliisams  i', 'hearm   i', 'every thing wen b smo the sherrif  said i', 'ahte  i', 'write  i', 'hate  i', 'this was easding for us  i', 'whop  i', 'nowm  i', 'trop  i', 'trop  i', 'sleft  i', 'swayor  i', 'shopt  i', 'shot   i', 'are your grads higher or lower than nancys i', 'fru  i', 'youd be veryr of taking a cold shower   i', 'the island rocxs  facth lok  opoied i', 'knot  i', 'pot  i', 'sbroul  i', 'srap  i', 'play  i', 'sprinkle i', 'kmot   i', 'for  i', 'were  i', 'stot  i', 'su  i', 'single  i', 'span  i', 'al the big brase fol players ge sragderd i', 'pay  i', 'cher  i', 'i can play this weends  i', 'i fel wise can play this weend   i', 'they caierd maolf on the stretcher    i', 'write    i', 'wi robin war a yelow lieling  i', 'whitc  i', 'shear  i', 'near  i', 'stera  i', 'fand  i', 'galore  i', 'rightt sunshine shimmers on the yolcciang i', 'we gatherd shells on the beach  i', 'he wi low a rare live i', 'charlie  i', 'worf  i', 'at  i', 'loick  i', 'dwo  i', 'taive  i', 'trough  i', 'thogh  i', 'flor  i', 'their house is a grayund white    i', 'nothing touse hadfond the elxnoence i', 'nothing has offens iv va innoccience   i', 'slay  i', 'snop  i', 'sive  i', 'rocks  i', 'she is thinner than i am  i', 'urgent    i', 'jungle  i', 'fia  i', 'sup  i', 'just one cigccot wet i', 'pile  i', 'yure used to bocing on the flo i', 'forward  i', 'for   i', 'sper  i', 'sdellta  i', 'i looked olfthen notic two old min i', 'slip  i', 'i was conscios al the time i', 'prior  i', 'tile  i', 'fur   i', 'fac  i', 'one vartay ditied tho schoubal distroat i', 'meea   i', 'fae  i', 'fat  i', 'mothers sos yelow cingham prens i', 'much  i', 'know i', 'rock    i', 'rock  i', 'jangd my rorg mo mosy by woling hose  i', 'sige  i', 'trop  i', 'brot  i', 'i exscrubed the fams thorougly   i', 'tsigh  i', 'the trang of vot stugd to bo lowly i', 'zr  i', 'explore  i', 'grop  i', 'rowl   i', 'monterr yor tow or a sig i', 'air   i', 'sierl  i', 'ye   i', 'srop  i', 'thigh  i', 'ware  i', 'my sithouived the flowwas carm i', 'thear   i', 'brir  i', 'b m th w wr  oboard  i', 'slip   i', 'colpe    i', 'stawe   i', 'bark  i', 'or browalho hier lting asthor wal i', 'echo     i', 'thought    i', 'pner   i', 'r sarge   i', 'sercle  i', 'brow  i', 'sr gents w i he got  out i', 'oft  i', 'carkive  i', 'shy  i', 'falir i', 'o  i', 'lar  i', 'til      i', 'ziar i', 'baf i', 'carlo', 'virly', 't w alf swam around the fbol', 'lair', 'rungmus ier sels have lost ther w', 'papa', 'ststar', 'him', 'loyal  i', 'sign   i', 'brawn   i', 'sha     i', 'rake  i', 'sed  i', 'the park convandthry sweaers i', 'frow  i', 'vir   i', 'pintting  i', 'fill   i', 'h wred the pla te package hasily i', 'proect i', 'tair  i', 'grandfar    i', 'tick  i', 'shalive  i', 'barn       i', 'hame  i', 'caop    i', 'for i', 'carr i', 'jaa  i', 'hark  i', 'flow  i', 'ye  i', 'yes     i', 'zae   i', 'natger  i', 'a scor  i', 'i ave had my v rong i', 'sergeant     i', 'sitter i', 'cot  i', 'rark i', 'trag   i', 'spark i', 'spair  i', 'spain  i', 'f i', 'narm  i', 'sitter  i', 'cake   i', 'harm      i', 'hole cair       i', 'the box sarme very espsiv i', 'harf         i', 'car  i', 'park    i', 'jark  i', 'hil  i', 'zsero  i', 'sever     i', 'ir  w stosit w i', 'se schoble ho tr un hiny  i', 'flow  i', 'i fogot r chos vou  i', 'tore  i', 'swing naw arm as hgyh as your carn i', 'beforthear cardo bro i', 'hi  i', 'shew  i', 'shay  i', 'sik   i', 'there is a trad of ppral i', 'park  i', 'though       i', 'har       i', 'thdag   i', 'we vothoback tro the farm i', 'quebec   i', 'bit   i', 'god job provd nising bron tip i', 'hat   i', 'wir   i', 'knick  i', 'park    i', 'make  i', 'lage  i', 'now   i', 'fite   i', 'wn a or fils y for us i', 'torn  i', 'golf  i', 'hitting  i', 'ca l zannalived hom i', 'darn  i', 'knaow  i', 'wiccerd  i', 'brar  i', 'chairp  i', 'brhabot to tim con helpcop i', 'ham      i', 'wir    i', 'sita   i', 'grop   i', 'waal  i', 'i aminorsao for longsi i', 'air  i', 'air  i', 'ssel  i', 'yes  i', 'trop  i', 'prir  i', 'wart  i', 'm si thunicsed the flowers carr   i', 'ip  i', 'two a ther cadsshve a sil on ther ar rie s i', 'brar  i', 'b a  or ung  i', 'slip  i', 'colp  i', 'to  i', 'ang  i', 'aa lov aa inas overal i', 'echo  i', 'thought  i', 'mark  i', 'sards  i', 'seo  i', 'braw  i', 'tudent wakd as he got out i', 'at  i', 'tarked   i', 'sigh   i', 'filir   i', 'left  i', 'lar  i', 'tell  i', 'liar  i', 'thegh  i', 'cio  i', 'etty  i', 't wad draw bun swam around the boalt  i', 'lair  i', 'ruusclerd sls have lost their war i', 'palpa  i', 'thisis a prod of trackscion for mik i', 'dark  i', 'him  i', 'loyal  i', 'saign  i', 'brawn  i', 'sil  i', 'roake  i', 'ser  i', 'the box conjaiedtthry swaters  i', 'frown  i', 'bi  i', 'nitting  i', 'fill  i', 'he red the placs the package hasfily i', 'par  i', 'pot  i', 'tet  i', 'no brown fear  i', 'arp  i', 'sive  i', 'barn i', 'hame  i', 'jop   i', 'florthough  i', 'cirn  i', 'musliet  i', 'hark  i', 'flow  i', 'raliveod i', 'alp  i', 'yes  i', 'lake  i', 'mota  i', 'ocrar  i', 'i ave had my brow rong i', 'sergeant  i', 'sitting  i', 'cot   i', 'rark  i', 'spar  i', 'spark  i', 'spair  i', 'spain  i', 'trow i', 'jarn  i', 'sinter  i', 'carke  i', 'ham i', 'holf cail  i', 'the bo are very ye spcci  i', 'harp  i', 'car  i', 'park  i', 'dark  i', 'hill  i', 'zirro  i', 'severn  i', 'i rwea smsthis wek i', 'the of scobal hous st unsty  i', 'flow  i', 'i frogot yourhs thi vmou        i', 'tore  i', 'swing no antas hgy asyour can i', 'eortheir cos on fro   i', 'him  i', 'show  i', 'shay  i', 'sip  i', 'there is a trad of ppr al  i', 'pair   i', 'thought  i', 'har    i', 'lage   i', 'we voed hopeback to the flowm  i', 'quebec  i', 'bit  i', 'the job provod huncing rohas fi  i', 'the jb provigdes many brenfits i', 'hat  i', 'slip i', 'lak  i', 'park  i', 'much  i', 'leak  i', 'no  i', 'fittin   i', 'wan a ar fils  fors  i', 'forn  i', 'golf  i', 'hitting  i', 'ca  alivedti horm  i', 'darn  i', 'knot  i', 'ascar ther trinlsar god ather t ok favirable i', 'wickere  i', 'brar   i', 'the os rclafor suming o i', 'shaip  i', 'f habot t tim con help tro  i', 'hame  i', 'wirp  i', 'sia  i', 'ssard  i', 'prair i']\n"
          ]
        },
        {
          "name": "stderr",
          "output_type": "stream",
          "text": [
            "Saving model checkpoint to torgo_xlsr_finetune-M02-2/checkpoint-6500\n",
            "Configuration saved in torgo_xlsr_finetune-M02-2/checkpoint-6500/config.json\n",
            "Model weights saved in torgo_xlsr_finetune-M02-2/checkpoint-6500/pytorch_model.bin\n",
            "Feature extractor saved in torgo_xlsr_finetune-M02-2/checkpoint-6500/preprocessor_config.json\n",
            "Deleting older checkpoint [torgo_xlsr_finetune-M02-2/checkpoint-5500] due to args.save_total_limit\n",
            "/usr/local/lib/python3.9/dist-packages/transformers/models/wav2vec2/processing_wav2vec2.py:155: UserWarning: `as_target_processor` is deprecated and will be removed in v5 of Transformers. You can process your labels by using the argument `text` of the regular `__call__` method (either in the same call as your audio inputs, or in a separate call.\n",
            "  warnings.warn(\n",
            "The following columns in the evaluation set don't have a corresponding argument in `Wav2Vec2ForCTC.forward` and have been ignored: input_length. If input_length are not expected by `Wav2Vec2ForCTC.forward`,  you can safely ignore this message.\n",
            "***** Running Evaluation *****\n",
            "  Num examples = 714\n",
            "  Batch size = 8\n"
          ]
        },
        {
          "name": "stdout",
          "output_type": "stream",
          "text": [
            "['grow   i', 'fed i', 'alpha  i', 'pot i', 'farm i', 'sirp i', 'gagger i', 'ranve i', 'fair i', 'shet i', 'ship i', 'park i', 'goad fatherslifet to be my dernanmers lankage i', 'spuble i', 'bit    i', 'wil she is  nearly nocive  yerso i', 'trouble i', 'chair i', 'rave i', 'theugh i', 'godglet i', 'brarn i', 'corn i', 'go i', 'swarm i', 'share i', 'i al ctarn i', 'i can mead i', 'fed   i', 'steirp        i', 'righte i', 'nom   i', 'tair i', 'no i', 'yef i', 'storm i', 'chair i', 'swlore i', 'bat  i', 'stubble i', 'trape i', 'she had your dorksuit in gredswae fater al year i', 'harn  i', 'shet  i', 'praca i', 'sze    i', 'spink   i', 'car  i', 'nonu i', 'no  i', 'yeet he  stil trinks tefss  alyasever i', 'musuly minus several brouwns i', 'flor   i', 'train   i', 'boupe i', 'we have often ure jump fore more and smoke glas i', 'there is jugs nonta left i', 'fborn   i', 'beat   i', 'new  i', 'righte   i', 'range     i', 'sip i', 'stick  i', 'storm i', 'stubble  i', 'down i', 'two i', 'glow i', 'form i', 'florm  i', 'brave i', 'brawm   i', 'fhaire i', 'dark i', 'storm     i', 'groat  i', 'swarm   i', 'hop      i', 'a long forloern bd  clings to rds hhin i', 'stark  i', 'rake i', 'race i', 'heror i', 'i can  read  i', 'air i', 'jackert i', 'dont lec mis to cary yong or caliy exleict the i', 'reagegeh i', 'hair i', 'spark i', 'for i', 'coume i', 'jaggerd i', 'corn i', 'spark i', 'fed   i', 'the qke brawn fox jrump over the lacy dog i', 'but theovers answers bannana oil i', 'two       i', 'trat   i', 'ic to now a abount fy grandfather i', 'trace   i', 'cycle i', 'ero i', 'of i', 'i just try to do  my best i', 'fo files would gro hiyer nceter yuse i', 'des   i', 'sive i', 'i tried to teve prepoed the community i', 'sigve   i', 'lop i', 'here i', 'area i', 'why ja afore oel cililivemeans i', 'chere    i', 'every thing harm betho smokt tho sheif  said i', 'ate i', 'wright i', 'hate      i', 'this was easing for us i', 'whop i', 'nawm i', 'drop   i', 'roup i', 'slip   i', 'sway i', 'shorft i', 'shot i', 'arne your grads higheer r or lower than nancys i', 'fruit    i', 'yud ben frtther of charking a cold shower i', 'the yisland foxs fathe  loked opulated i', 'knot   i', 'park    i', 'broupt i', 'sero i', 'trie i', 'sprinkle i', 'knot i', 'for i', 'stot i', 'suit i', 'single i', 'pie i', 'al the big be fol players gunt treac i', 'pay  i', 'chero  i', 'i can play this wekends  i', 'i fe a life can  play this wekend i', 'they cared me of on the stretcher i', 'riht   i', 'b w brweyow yelow lily i', 'worp  i', 'cheare i', 'near   i', 'stera     i', 'bad  i', 'galore      i', 'fousht sunshine shimmers on the  oacher i', 'we gatered  shells on the beac i', 'he wil wil alow a varar lie wi', 'charlie i', 'wormf i', 'eape i', 'licft i', 'thwu   i', 'tive i', 'sevruh i', 'though  i', 'flor i', 'theer house is a gouns waltch i', 'nothing mus use have fond the  olfeer noence i', 'nothing has ffems t valiinnours ence i', 'slay i', 'snop      i', 'sigh   i', 'rocks      i', 'she nes thinner than  i am i', 'urgert i', 'jungle i', 'bear i', 'suit  i', 'just one ciyccot wet i', 'pirle i', 'yust used to boting on the fild i', 'forward i', 'four i', 'per i', 'dellta i', 'a loof of noticed to wale men i', 'fli  i', 'i was consciusale the sime i', 'prior    i', 'tile  i', 'fer   i', 'fa i', 'one valur bay te time to scruble distt i', 'minure  i', 'fate i', 'fat i', 'mother flwals yellow gringham eprons i', 'much  i', 'no i', 'rock    i', 'jangmy ro moe musy bre wore cong had i', 'shiy    i', 'trop i', 'brot  i', 'i scrubed the for aum throucly i', 'sigh i', 'the train o voch  spd to fo floer i', 'zera  i', 'explort i', 'grow  i', 'fed i', 'alpha    i', 'pot  i', 'farm  i', 'sip i', 'dagger i', 'rang i', 'fair    i', 'fet  i', 'ship  i', 'park  i', 'godfather liceds to b my trean iners blackage i', 'pubble  i', 'birt  i', 'whil she is nearly ninety foe years old i', 'trouble  i', 'chair  i', 'raid   i', 'though i', 'goadget i', 'varm   i', 'torn  i', 'grow  i', 'fwarm  i', 'chare  i', 'i al carn i', 'i can reave   i', 'fut  i', 'steark   i', 'rat   i', 'knew  i', 'tar  i', 'no  i', 'yes  i', 'storm     i', 'chair    i', 'flor  i', 'fat   i', 'stubble i', 'trot  i', 'horn i', 'shet  i', 'breta  i', 'selip  i', 'fin  i', 'car  i', 'knew  i', 'now  i', 'yeet he stiel thinks thus swarfly sevlre  i', 'used reminurs several bru  i', 'flor  i', 'train  i', 'whoup  i', 'we have often ursed jump fore more and smoke glas i', 'left   i', 'born  i', 'beat  i', 'ne  i', 'righte  i', 'range  i', 'slip  i', 'stir  i', 'storm i', 'stubble  i', 'stowm   i', 'fiw  i', 'glow  i', 'form i', 'form   i', 'brave i', 'warm   i', 'sip i', 'tark      i', 'storm  i', 'nrop  i', 'fform  i', 'op      i', 'stark i', 'rake   i', 'race  i', 'air  i', 'i can  read  i', 'air   i', 'jackeat  i', 'sdont est misto carry one orinai exlect thoh i', 'raegeh  i', 'hair    i', 'spark  i', 'four  i', 'coampe  i', 'jaggerd  i', 'ccorn  i', 'spark  i', 'fed  i', 'the quick  brawn fox jrumps over the lozy dog i', 'but the yovers answers bannana oil  i', 'trof  i', 'trait  i', 'she wishe to now all abount my grandfather i', 'trace   i', 'cycle  i', 'ero  i', 'of       i', 'i just cray to do my best    i', 'both fiures would go hiyer inlcter years i', 'menum  i', 'sive    i', 'i tryed to te peopolan the communitive i', 'sigve  i', 'lop  i', 'here  i', 'area     i', 'why seld ovore oer ciuliyivemaums  i', 'hearm  i', 'every thing wheme b smophe the sherrif  said i', 'aghte     i', 'riht      i', 'hate  i', 'this was easing for us       i', 'whope  i', 'now  i', 'drot  i', 'trop  i', 'slif  i', 'swayor   i', 'shorft  i', 'shot  i', 'are your grades higher or lower than nancys i', 'fruit  i', 'yud bre betthere of tarking a cold shower  i', 'the yisland foxs  fah l  oppated i', 'knot  i', 'pot  i', 'brul  i', 'serave  i', 'plaior  i', 'sprinkle i', 'knot   i', 'for  i', 'were  i', 'tot  i', 'sup  i', 'single  i', 'pan   i', 'al the big brave  fol players gens tracerd i', 'pay  i', 'chero  i', 'i can play this wekens   i', 'i fel lise can play this weeand  i', 'they caried malf on the stretcher   i', 'right  i', 'wil robin wear a yellow lily     i', 'whiph  i', 'schear  i', 'near  i', 'stera  i', 'fad  i', 'galore  i', 'brught sunshine shimmers on the  oacen i', 'ue gathered shells on the beac i', 'he wil wialow a raae lie i', 'charlie     i', 'worf  i', 'at   i', 'likt        i', 'knw  i', 'tie  i', 'sevru  i', 'though  i', 'flor  i', 'their house is a grey and white        i', 'nohing aus has found the elper noence i', 'nothing has offensive valof innorience i', 'slay  i', 'snop  i', 'sigh  i', 'rocks  i', 'she is thinner than i am i', 'urgent  i', 'jungle  i', 'bear   i', 'suip  i', 'justt one ciyccoet wet i', 'pile  i', 'youre lied tobcing on the flor i', 'forward  i', 'for   i', 'sper         i', 'seliatta  i', 'i lorket dolfthens notic to wold men i', 'slip  i', 'i was consciosal the time i', 'prior  i', 'tile  i', 'fer  i', 'fave      i', 'one father lay the tieto scruble distrit i', 'menure  i', 'fate   i', 'fat  i', 'mother sls yellow gringham eprons i', 'much  i', 'no i', 'rock    i', 'rock  i', 'jangdmy rarme mle mouny by wore con hodse   i', 'sigh     i', 'trop  i', 'brouat  i', 'i exscrubed the for ums thorougly   i', 'sigh  i', 'the train of vo strud to fore flowly  i', 'jer  i', 'explore  i', 'drop i', 'grahal i', 'si  moner ther yor o vr wel sie i', 'air  i', 'serle  i', 'eta     i', 'srope     i', 'sigh  i', 'warme        i', 'my sif chinised the flor was carm i', 'near    i', 'frair      i', 'bre more y wie we w ovord  i', 'sloip   i', 'holpe i', 'tire       i', 'bak  i', 'ou brlohier tolay ninr veal i', 'eho    i', 'tought    i', 'haner   i', 'ar seares    i', 'serhol  i', 'braw   i', 'srgents w is hes got out  i', 'af    i', 'carkive i', 'shy       i', 'favler i', 'hope  i', 'nar   i', 'tairo i', 'zsir i', 'vad i', 'carno', 'viay', 'she wil galus swarm around the fo', 'lear', 'jrunmus ier sls have lost thr w', 'papa', 'startar', 'ham', 'loyal       i', 'shagn   i', 'brawn   i', 'share i', 'rek    i', 'sed  i', 'the par consvearn clay swathers i', 'fror i', 'fair      i', 'itting       i', 'fril i', 'he rived the lay te parkage hasfily i', 'pect i', 'tort  i', 'november   i', 'ssteark   i', 'chliy i', 'farmn  i', 'him        i', 'charp i', 'for hough i', 'carer i', 'jaat i', 'hark  i', 'flow       i', 'ye   i', 'yeears   i', 'knew      i', 'natgear   i', 'cor   i', 'i ave had my bw rong i', 'sergeat i', 'citter i', 'cot i', 'rark i', 'frour i', 'spark i', 'fair   i', 'fain i', 'frow i', 'name  i', 'sinter   i', 'carke  i', 'harm      i', 'holse crair    i', 'the fox sare verry ye ship i', 'harf  i', 'cark           i', 'park       i', 'jark      i', 'hiro  i', 'zero     i', 'sever  i', 'r  strai ti wek i', 's scuble ho etrs un hany  i', 'flo      i', 'i proce your chod to u i', 'tore  i', 'swing n armtas high as you can i', 'beforthere curs warm  i', 'hi   i', 'chaw      i', 'shary i', 'sirk    i', 'there is a tread hof upperbalt i', 'pair       i', 'shogh   i', 'harm    i', 'hnz i', 'we vontehoebc to the farm i', 'quebec i', 'bit   i', 'god job provie msing bron cip i', 'hat i', 'wr    i', 'knew  i', 'car   i', 'mark     i', 'neav  i', 'no    i', 'hte i', 'woneall or fil  for us i', 'torrn       i', 'golf     i', 'hitting      i', 'carl lives zeanal live horm i', 'darn       i', 'naw        i', 'wicerd      i', 'prar      i', 'chairp    i', 'bre haebot t time con helpecpe i', 'ham      i', 'were    i', 'sittar i', 'growp   i', 'grapha  i', 'si have minear lr ro ver welmslir i', 'air  i', 'air   i', 'sirnasela   i', 'eas  i', 'trop  i', 'fiar  i', 'warme  i', 'mi sif thinised the floers car  i', 'sip   i', 't a thers criuds hes al fevea unsthere arloofmins i', 'brar  i', 'be moe n whae w w orborn  i', 'snop   i', 'colpe  i', 'tie  i', 'a  i', 'afra loal harmar ly naasbovee ral i', 'echo  i', 'thought  i', 'mire  i', 'sers  i', 'sero      i', 'braw  i', 'surdents fl as he got  out i', 'act    i', 'carkeve  i', 'sigh   i', 'filir  i', 'left    i', 'lark  i', 'tel  i', 'lir  i', 'thegh  i', 'kino  i', 'prety  i', 'u wil graw funs swarm arom ther fot  i', 'lear  i', 'grunmusclers sls have lost th weare i', 'palpa  i', 'thisisd a proud of crack crcon for mine i', 'dark      i', 'ham  i', 'noyal  i', 'saign  i', 'brawn  i', 'tie   i', 'roke  i', 'ser  i', 'the bar consrain ay swaers  i', 'ffrarm  i', 'bir  i', 'nitting  i', 'fil  i', 'he rived the placfe the parkage hasfiy i', 'pairt  i', 'pet  i', 'tot  i', 'no brown fear  i', 'erp    i', 'shay  i', 'barn i', 'him  i', 'jap  i', 'for though  i', 'curtten  i', 'musiat  i', 'hark  i', 'flor   i', 'ra lie ho i', 'amp  i', 'yees  i', 'neak  i', 'knota  i', 'ofcar  i', 'i ave hadmy brow rung i', 'sergeant   i', 'citter  i', 'cart   i', 'rare  i', 'frar  i', 'spark  i', 'fair  i', 'spain  i', 'frow i', 'narm  i', 'senger  i', 'cark  i', 'harm i', 'hoe crair  i', 'the fox sare verry yel chip   i', 'harp  i', 'cark  i', 'park  i', 'jark  i', 'hilo  i', 'zero  i', 'severn    i', 'i hav rr  stram we i', 'te of schobale house stres un y  i', 'fno  i', 'i proc houshuse to ru    i', 'tore  i', 'swing naw an ths highe as you can i', 'beforethure cods warm fruh  i', 'him  i', 'chow      i', 'shay  i', 'sip    i', 'there is a trad hof pperpal   i', 'pair  i', 'thought  i', 'harm   i', 'lee  i', 'we vo ofrh to the flarm  i', 'quebec  i', 'bit  i', 'ged job provie huncing bron hs fit  i', 'the job providess mne brenifiat i', 'hat  i', 'wirp i', 'neap  i', 'cark  i', 'much  i', 'lea  i', 'no  i', 'fittin  i', 'nall ur fil r forus  i', 'forn  i', 'golf     i', 'hitting  i', 'crarll lves ana livly horm  i', 'jdarn  i', 'naw  i', 'a cara the trumlea card afters c on feverable i', 'woirker      i', 'priiaor  i', 'the onrs rgla for fuming lpe i', 'shairp  i', 'preny haeboat to taime cond help tro  i', 'ham  i', 'wearp   i', 'sia  i', 'share     i', 'prair i']\n"
          ]
        },
        {
          "name": "stderr",
          "output_type": "stream",
          "text": [
            "Saving model checkpoint to torgo_xlsr_finetune-M02-2/checkpoint-7000\n",
            "Configuration saved in torgo_xlsr_finetune-M02-2/checkpoint-7000/config.json\n",
            "Model weights saved in torgo_xlsr_finetune-M02-2/checkpoint-7000/pytorch_model.bin\n",
            "Feature extractor saved in torgo_xlsr_finetune-M02-2/checkpoint-7000/preprocessor_config.json\n",
            "Deleting older checkpoint [torgo_xlsr_finetune-M02-2/checkpoint-6000] due to args.save_total_limit\n",
            "/usr/local/lib/python3.9/dist-packages/transformers/models/wav2vec2/processing_wav2vec2.py:155: UserWarning: `as_target_processor` is deprecated and will be removed in v5 of Transformers. You can process your labels by using the argument `text` of the regular `__call__` method (either in the same call as your audio inputs, or in a separate call.\n",
            "  warnings.warn(\n",
            "The following columns in the evaluation set don't have a corresponding argument in `Wav2Vec2ForCTC.forward` and have been ignored: input_length. If input_length are not expected by `Wav2Vec2ForCTC.forward`,  you can safely ignore this message.\n",
            "***** Running Evaluation *****\n",
            "  Num examples = 714\n",
            "  Batch size = 8\n"
          ]
        },
        {
          "name": "stdout",
          "output_type": "stream",
          "text": [
            "['grow i', 'fed i', 'alpha  i', 'pat i', 'farm i', 'sirp i', 'daor i', 'rave i', 'fair i', 'shet i', 'sip i', 'par i', 'godfatherslieds to be m jrnaners lankage i', 'sparkle i', 'pit  i', 'wil she yesnearly notc expit yor lo i', 'trouble i', 'chair i', 'rate i', 'thagh i', 'godget i', 'brawn i', 'torn i', 'go i', 'swarm i', 'share i', 'i tron i', 'i can mead i', 'fate      i', 'stirp   i', 'wrighte i', 'dom   i', 'tair i', 'now i', 'lys i', 'store i', 'chair i', 'swore i', 'bat   i', 'stubble i', 'trap i', 'she had your doxsuit and gredware fwater all year i', 'horm  i', 'shet  i', 'paca i', 'selict   i', 'sike   i', 'car  i', 'kning i', 'know  i', 'yeeth stif trink thouhtss swrlyebr i', 'musuly minus several butons i', 'flor i', 'train  i', 'bot i', 'we have often uged jum a more and smoke glas i', 'there juges mun left i', 'forn i', 'beat   i', 'dorm    i', 'right  i', 'range  i', 'sip i', 'stirp i', 'storm i', 'stubble  i', 'down i', 'two i', 'glow i', 'form i', 'florm   i', 'braave i', 'brawn i', 'shaire i', 'dark i', 'storm i', 'great   i', 'swarm i', 'op     i', 'a long forlowerng boatd  clingss to wards chind i', 'stark  i', 'rake i', 'race i', 'iror i', 'i can red i', 'air i', 'jacket i', 'dont lic me to carry yong or sha i exlect theh i', 'raich i', 'hair i', 'spark i', 'for i', 'cope i', 'jaggerd i', 'corn i', 'spark i', 'feard   i', 'the qouke brawn faoxsjwumps over the lisy do i', 'but theyalwas janscius bannana ol i', 'two i', 'trat  i', 'vuc to now a aboued f grandfather i', 'trace   i', 'cycle i', 'eror i', 'of i', 'i just try to do my best i', 'foh sprinls would gow hhiy rlicter ip i', 'madet   i', 'side i', 'i lied to teave prepoed the community i', 'sigh  i', 'lop i', 'cer i', 'arreea i', 'why jaged afore loal suliismens i', 'coe  i', 'every thingewam be smop the shelif said i', 'eigt i', 'write i', 'hate  i', 'this was easing for uls i', 'whop i', 'dawm i', 'drop  i', 'troupe i', 'slip  i', 'swaye i', 'shot i', 'shot i', 'are your grads highererr or lower than nancys i', 'shlop  i', 'youd ben ferther off charking the cold sho i', 'the yisland  fos fathe loked oplated i', 'knot  i', 'pot  i', 'bot i', 'seleght i', 'tre i', 'sprinkle i', 'knoht i', 'furm i', 'tot i', 'suipt i', 'singo   i', 'piot i', 'all the bigboe  fol players get try to i', 'pay  i', 'chero        i', 'i can play this wekcens i', 'i falie crruan play this wekend i', 'they cahered beof on the stretchourt i', 'wrihte i', 'b w bwear a yellow lily i', 'whorp i', 'sheare i', 'near    i', 'ster i', 'bad  i', 'galore i', 'fosht sunshine shimmers on the oacen i', 'e gathered shells on the beach i', 'he wil awll alow or vaer lie i', 'charlie i', 'wolh i', 'ape i', 'light i', 'thwgh  i', 'tie i', 'sevoughe i', 'though  i', 'flor i', 'thrhouse is a goand walch i', 'nothing mususe hav found theofher noence i', 'nothing has afes tou valithinnor since i', 'slay i', 'slop   i', 'sigh   i', 'brocks   i', 'she is thinner than i am i', 'urgent i', 'junge i', 'far i', 'suit   i', 'just one ighcot wet i', 'pirle i', 'yut used to botting on the fild i', 'forward i', 'four i', 'ter i', 'stebltap  i', 'a lo  haf noticed to wal men i', 'slip   i', 'i was consciousal the shigne i', 'trior    i', 'tile  i', 'treot i', 'fat i', 'one vlur ay dtime to scrubl dicthat i', 'meere   i', 'fit i', 'fat i', 'mothern sals yellow cinghamaprens i', 'roch i', 'no i', 'rock  i', 'jagmy lo ma mus bre woreing hat i', 'shy  i', 'trop i', 'blroat      i', 'i scrubed the for aum charghliy i', 'thigh i', 'jest train avoach jpd o fo lor i', 'ster  i', 'explort i', 'grow  i', 'fed i', 'alpha     i', 'pot  i', 'farm  i', 'sip i', 'dagger i', 'rane i', 'fair i', 'feet  i', 'sip  i', 'park  i', 'godfather liceds to be sm trenaners blackgage i', 'spuble  i', 'bit    i', 'wil she yes nearly ninefore yearold i', 'trouble  i', 'chair   i', 'raid i', 'thogh i', 'gadget i', 'varm  i', 'torn  i', 'go  i', 'swarm  i', 'share  i', 'l carons i', 'i can read   i', 'felt    i', 'stirk   i', 'wrigt      i', 'knew  i', 'tet  i', 'now  i', 'yes  i', 'store    i', 'chair   i', 'swlorm   i', 'fat   i', 'stubble i', 'trot    i', 'horn i', 'shet  i', 'preta      i', 'selict   i', 'fi   i', 'car  i', 'knew  i', 'know  i', 'yet he still thoing  theouc sswifly evl i', 'yused reminurs several butons   i', 'flor  i', 'train  i', 'who   i', 'we have oftennose jump tofol more and smoke glas i', 'left    i', 'forn  i', 'beat  i', 'no  i', 'riht  i', 'range  i', 'slip  i', 'stip  i', 'storm i', 'stubble  i', 'stowm  i', 'fwu i', 'glow  i', 'form i', 'form  i', 'braave i', 'warm  i', 'sip i', 'stark      i', 'storm  i', 'sop  i', 'sworm    i', 'op   i', 'tark i', 'rake    i', 'race i', 'ar   i', 'i can read   i', 'air   i', 'jacket      i', 'sdontef me to cary on or sayi elect thouh i', 'raigeh   i', 'hair   i', 'spark  i', 'four  i', 'cope  i', 'jaggerd    i', 'corn   i', 'spark  i', 'fild    i', 'the quick brown foox jumps over the lozy dot i', 'sput theyoars answers banana oil   i', 'two  i', 'trait  i', 'she wisheed to know all about my grandfather i', 'traice  i', 'cycle          i', 'ero  i', 'of  i', 'i just try to do my bes   i', 'both files woul go hiy r lighter s i', 'menu  i', 'side   i', 'i tried to dug pepoean the communitive i', 'sigh  i', 'lop   i', 'here      i', 'area    i', 'why yaleed afore  suliimamns  i', 'herm  i', 'every thingwheme b smoph the sherrif  said i', 'aight    i', 'writ  i', 'hate   i', 'jhus was easing for us   i', 'whop  i', 'now  i', 'drot       i', 'drop  i', 'sleftt    i', 'swayor  i', 'shott   i', 'shot  i', \"are your grades higher or lower than nancy's i\", 'fruit  i', 'yousd pre fetter off carking a cold shoor   i', 'the island foxs foah lop opied i', 'knot  i', 'pot  i', 'sbroup  i', 'swap    i', 'play  i', 'sprinkle i', 'knot  i', 'for  i', 'were  i', 'tot   i', 'suip  i', 'single  i', 'pad i', 'all the big bave fol players get tracoed i', 'pay  i', 'cher  i', 'i can play this wecens     i', 'i fel wise can play this weceand  i', 'the caried mhalon the stretcher   i', 'wriht  i', 'will robin wear a yellow lily  i', 'whitch       i', 'sheare   i', 'near  i', 'str     i', 'fad  i', 'galore  i', 'bruight sunshine shimmers on the olccean i', 'fou gatherd shells on the beach i', 'he wil above alou a rare lie i', 'charlie           i', 'worf  i', 'at   i', 'likt   i', 'knew  i', 'tive      i', 'swoh  i', 'though  i', 'flor  i', 'theirhouse is a grey and whit     i', 'nothing athoshe had fond the elrnoence i', 'notthing has affons iv valiinors sence i', 'slay   i', 'snop  i', 'sigh          i', 'rocks   i', 'she is thinner than i am i', 'urgent  i', 'jungle  i', 'fair   i', 'suip  i', 'just one igyccot wet i', 'pile  i', 'youred lused to bocing on the fd i', 'forward  i', 'four  i', 'spere    i', 'selitta  i', 'i loked ofthen notice to old men i', 'slip     i', 'i was conscious all the thine i', 'prior    i', 'tile  i', 'fu  i', 'fa    i', 'wone verlay die th schrubal distrit i', 'meae  i', 'fate  i', 'fat   i', 'motherssls yellow cingham apreons i', 'much  i', 'no  i', 'rock i', 'rock  i', 'janged my wormmale mos by wolcong hods      i', 'shy  i', 'trop  i', 'broat  i', 'i exscrubed the for umsthoroughly   i', 'sigh       i', 'the train avo srugd to bo flowly i', 'stor  i', 'explore  i', 'roup i', 'grah i', 'sg  mother ther yur th brb sie i', 'air  i', 'serlect   i', 'yes    i', 'srop i', 'thigh i', 'wire    i', 'my sifshurmised thef was carm i', 'lear     i', 'frar     i', 'b th wie were w orbord  i', 'slip i', 'colpe i', 'tie   i', 'bark    i', 'our b l hiher lay thingrwall i', 'erho     i', 'foght    i', 'hiner    i', 'ar sage   i', 'sero        i', 'braw     i', 'sr gent swa o  he gotout  i', 'at    i', 'carkete i', 'shy     i', 'falir i', 'o     i', 'lair      i', 'tile i', 'lair i', 'ad i', 'cirlo', 'vgat', 'she wi alfu swam around the fbolt', 'lair', 'jramush iher sls have lost thror', 'papa', 'strtart', 'hem', 'loyal i', 'sgn    i', 'brawn    i', 'sa i', 'rake      i', 'sd          i', 'the bar cuonscance slay swathers i', 'flor i', 'fair   i', 'pitting      i', 'fil i', 've preplar the parkage hastfily i', 'preet i', 'tpait   i', 'november i', 'ait     i', 'shal ie i', 'farm i', 'hail       i', 'chap i', 'foh i', 'caror i', 'day at i', 'parc  i', 'flow   i', 'ye s i', 'yees   i', 'laip    i', 'w hatyu i', 'achore i', 'i have hadmy brl rong i', 'sergeant i', 'sitter i', 'ot i', 'rairkh i', 'for i', 'spark i', 'fair    i', 'spaoun i', 'faw i', 'darf   i', 'siter    i', 'carke i', 'harm i', 'holf crair i', 'the fox sha var yel bship i', 'harp i', 'cark     i', 'park  i', 'car   i', 'hairo      i', 'szero    i', 'sever i', 'bar spthdih w i', 'juli schouble  tr an r i', 'flow    i', 'a proc air chils to lu  i', 'tore     i', 'swing no onas high as you can i', 'befrther curs warm b i', 'twu    i', 'shaw i', 'shy i', 'sirk    i', 'there is a trad of alppop i', 'park   i', 'thought i', 'har    i', 'lae i', 'we voched hoeback to the farm i', 'quebec i', 'bit    i', 'jt job prep mosing bron pit i', 'hat i', 'wirt    i', 'leak  i', 'tark i', 'mark   i', 'leae    i', 'now   i', 'fitin i', 'whlal our fil  for us i', 'torhor  i', 'golf   i', 'hitting   i', 'cara leves tana lie home i', 'storm   i', 'gnaw  i', 'whie caird   i', 'praior i', 'chairp   i', 'prr harebot  jime con helpcoupe i', 'ham   i', 'wire     i', 'sira i', 'grop  i', 'walha      i', 'i hae miner thr yearsa for wl lir i', 'air  i', 'air   i', 'ssel   i', 'yes  i', 'trop    i', 'piar    i', 'whit  i', 'm sif thiunised the floware car i', 'slit     i', 't al thours cariudes heave al sivel on there l i', 'fprar  i', 'br t w wr or br        i', 'slip    i', 'colpe  i', 'tot     i', 'ang  i', 'ala lobl r lin asbove al i', 'erho  i', 'thought    i', 'mike  i', 'sarge    i', 'sero    i', 'braw   i', 'sudent fl as he got ot i', 'at     i', 'tarklie  i', 'sigh  i', 'faili  i', 'let  i', 'lairk     i', 'tell      i', 'liar  i', 'thagh  i', 'cilo  i', 'rarly  i', 'tu tal fo swam arou the boat  i', 'lair  i', 'jranmuclers sls have lost thwear i', 'palpa   i', 'thei sised a pud of trac cateons for mit i', 'dar    i', 'hem     i', 'loyal  i', 'sign  i', 'bran  i', 'taile  i', 'rake  i', 'sr  i', 'the bo cunjanctlay salers  i', 'frow  i', 'pit    i', 'nitting  i', 'fril  i', 'apla the parkage hatfily i', 'pairt  i', 'poet i', 'tot  i', 'no brown fir  i', 'p     i', 'shall iy  i', 'farm i', 'him   i', 'cat  i', 'florthough  i', 'curten     i', 'muliat  i', 'haock  i', 'flor   i', 'ralo i', 'alp  i', 'yes    i', 'leak    i', 'nota  i', 'ascor  i', 'i ave had my brw rong i', 'sergeant   i', 'sittin  i', 'of   i', 'rare  i', 'sprorht    i', 'spark i', 'fair  i', 'spau  i', 'trought i', 'an    i', 'sanger  i', 'carke     i', 'harm i', 'hol crair  i', 'the fox s vera yel spship  i', 'harp    i', 'cark    i', 'park    i', 'jark   i', 'hil  i', 'zero     i', 'sever    i', 'i havrr w spmthedeli w i', 'the lf sschoubal ho strs any i', 'flow   i', 'i pc irshoe to flrup  i', 'tort  i', 'swing no on tas highy as you can i', 'before their cods warm fugh  i', 'him  i', 'sho   i', 'shy  i', 'si   i', 'theire isa tra of alprpal  i', 'pair  i', 'thought    i', 'heart   i', 'laie  i', 'we voopbac to the flor  i', 'quebec  i', 'bit  i', 'got job proo huncing brond h fit    i', 'the jb provodess moner brenerfits i', 'hat   i', 'slipt i', 'laip i', 'park  i', 'mush   i', 'leak   i', 'now    i', 'fitting i', 'whl al our fils  for us  i', 'torarn  i', 'colf    i', 'hitting   i', 'car al loves taa lively home    i', 'jarm  i', 'gnaw  i', 'alscartha th tra cod athers c gon vvrable i', 'wirkore   i', 'praior  i', 'ther rs r goalafor ftumbing lop i', 'chairp     i', 'pe haibot t tame cond help troup   i', 'ham  i', 'wirp      i', 'sira          i', 'sare   i', 'prair i']\n"
          ]
        },
        {
          "name": "stderr",
          "output_type": "stream",
          "text": [
            "Saving model checkpoint to torgo_xlsr_finetune-M02-2/checkpoint-7500\n",
            "Configuration saved in torgo_xlsr_finetune-M02-2/checkpoint-7500/config.json\n",
            "Model weights saved in torgo_xlsr_finetune-M02-2/checkpoint-7500/pytorch_model.bin\n",
            "Feature extractor saved in torgo_xlsr_finetune-M02-2/checkpoint-7500/preprocessor_config.json\n",
            "Deleting older checkpoint [torgo_xlsr_finetune-M02-2/checkpoint-6500] due to args.save_total_limit\n",
            "/usr/local/lib/python3.9/dist-packages/transformers/models/wav2vec2/processing_wav2vec2.py:155: UserWarning: `as_target_processor` is deprecated and will be removed in v5 of Transformers. You can process your labels by using the argument `text` of the regular `__call__` method (either in the same call as your audio inputs, or in a separate call.\n",
            "  warnings.warn(\n",
            "The following columns in the evaluation set don't have a corresponding argument in `Wav2Vec2ForCTC.forward` and have been ignored: input_length. If input_length are not expected by `Wav2Vec2ForCTC.forward`,  you can safely ignore this message.\n",
            "***** Running Evaluation *****\n",
            "  Num examples = 714\n",
            "  Batch size = 8\n"
          ]
        },
        {
          "name": "stdout",
          "output_type": "stream",
          "text": [
            "['grow i', 'fed  i', 'alpha  i', 'pat   i', 'farm i', 'si i', 'daggeor i', 'rave i', 'fair i', 'sete    i', 'ship i', 'park i', 'godfatherslicet to be m drnaneurs lankeage i', 'sparkle i', 'bat    i', 'will she etnearly notceth expsel lo i', 'trouble i', 'chair i', 'rave i', 'thaugh   i', 'godglet i', 'bawn i', 'torn i', 'go i', 'swarm i', 'share  i', 'rextearn i', 'i can meate i', 'shate        i', 'starp  i', 'wrigt i', 'no    i', 'tair i', 'no   i', 'lef i', 'store i', 'chair i', 'slore i', 'bat  i', 'stubble i', 'trap       i', 'she had t toxsi and greaswashe father al year i', 'hormn  i', 'shet  i', 'paca i', 'set      i', 'spainke  i', 'car  i', 'knainge i', 'no   i', 'yetthe  stilfying  tectswearlyaleble i', 'musualy minus several brruoton i', 'flor    i', 'train    i', 'bot   i', 'we have often noticged jum to wae more and smoe glas i', 'thejugs muna left i', 'bown i', 'beat  i', 'dorm  i', 'right   i', 'range  i', 'sip   i', 'stick    i', 'storm i', 'doubble  i', 'town i', 'two i', 'glow i', 'form i', 'florm  i', 'brave i', 'brarm    i', 'shaire i', 'tark i', 'storm    i', 'grate  i', 'swarm i', 'hop  i', 'a long folowerngboat clings toward hhin i', 'tark  i', 'rake i', 'race i', 'error i', 'i can  ad  i', 'ar i', 'jacket i', 'dont  lice me to cay yung or sal i exlect the i', 'rech i', 'hair i', 'spark i', 'for i', 'compe   i', 'jaggered i', 'corn i', 'spark i', 'feate  i', 'the pokrawn fawox jump over the lichy te i', 'but the ya was anscious banana ol i', 'two   i', 'trae   i', 'ch to naow a aboue y grandfather i', 'trace   i', 'cyle i', 'erroa i', 'of i', 'i just try to do my bes i', 'fo spricles woule go hiy a lightter sip i', 'men  i', 'side i', 'i lied to teve preopled the communitty i', 'sigh  i', 'lop i', 'cher i', 'area i', 'why oed fore loal siisemant i', 'chere   i', 'every thing wume be smocth the shelliff said i', 'eaght  i', 'write  i', 'hate  i', 'the was eeasding for us i', 'whop    i', 'nowm i', 'drop  i', 'rop   i', 'slip   i', 'sway i', 'shot i', 'shot i', \"are your grades higheer or lower than nancy's i\", 'sluh    i', \"you'd ben verthere off charking a cold shae i\", 'the yisland ox fache loke opted i', 'knock    i', 'pot  i', 'bot i', 'siela  i', 'tie  i', 'sparkle i', 'knot i', 'form i', 'sto i', 'suit  i', 'singo   i', 'pald i', 'all the bibode bal players gat ry to i', 'pay    i', 'cher      i', 'i can play this wekend i', 'i fe aloe caun play this wekkend i', 'they carred olf on the stretcher i', 'write i', 'b wal brmwey a yellow lily i', 'whoch i', 'sheare i', 'near     i', 'str   i', 'bad    i', 'galore   i', 'fsht sunshine shimmeres on the ocen i', 'e gathhered shells on the beach i', 'he will wll alow ao vaa lie i', 'charlie i', 'walsh i', 'ate      i', 'ligce i', 'thewug    i', 'tive i', 'stogh i', 'though  i', 'flor i', 'thehouse is a good and walch i', 'notthing aouse havfouned the alrxnoence i', 'notthing has affens thou vaioum since i', 'slay   i', 'snp  i', 'sigh   i', 'rocks   i', 'she fes thinner than i am i', 'urgent i', 'jungloe  i', 'bar i', 'suip  i', 'just one side got wet i', 'pile i', 'yust used trobing on the feold i', 'forward i', 'for i', 'cer i', 'delta    i', 'lked a noticed to all men i', 'slip  i', 'i was conscious the sime i', 'prior  i', 'tile   i', 'treo     i', 'bac i', 'one valuay thetime it a scrubl dictut i', 'mere   i', 'fate i', 'fat i', 'mothern sels yellow cingham aprense i', 'woch  i', 'no    i', 'rock   i', 'g my lo al mudare wolkeing ha i', 'sigh    i', 'trop    i', 'blruat  i', 'i scrubed the florm thorouchly i', 'shigh i', 'the traynal voach tueed to boe flowy i', 'ter  i', 'explore i', 'grow  i', 'fed i', 'alpha  i', 'pot  i', 'farm  i', 'sip i', 'dagger  i', 'rain i', 'fair   i', 'fet  i', 'ship  i', 'park  i', 'godfather liced  to bea my trenanr blackware i', 'puble  i', 'sbiet   i', 'will she yeis nearly nine for yeor thoe i', 'trouble  i', 'chair  i', 'raide  i', 'though i', 'gadget i', 'varm   i', 'torn  i', 'co  i', 'swarm  i', 'share  i', 'yal carn i', 'i can meade   i', 'fit  i', 'stark  i', 'wright     i', 'neo  i', 'te  i', 'no  i', 'ys  i', 'storme  i', 'chair  i', 'flor  i', 'fat   i', 'stubble i', 'troat  i', 'horn i', 'shet  i', 'prapa  i', 'selict  i', 'fain  i', 'car  i', 'knew  i', 'nom  i', 'yeet he still thoring  tecwerly elebl i', 'yuse remineus several boto  i', 'flor  i', 'train  i', 'whilm   i', 'we have oftennotce jump towalke more and smoke glas i', 'left  i', 'born   i', 'beat  i', 'neawm  i', 'write  i', 'range  i', 'sip  i', 'sticp  i', 'storm i', 'tubble   i', 'town  i', 'fwu  i', 'glow  i', 'form i', 'form   i', 'brave i', 'warm   i', 'sip i', 'tark  i', 'storm  i', 'smoat   i', 'sporm  i', 'op  i', 'stark i', 'rake  i', 'race  i', 'eor   i', 'i can read    i', 'air         i', 'jackect     i', 'sdountlect me to cary ome or ssayi exglect theh i', 'regh  i', 'hair    i', 'spark  i', 'for  i', 'cope  i', 'jaggerd  i', 'corn  i', 'spark  i', 'filt  i', 'the quick  brown fo ox junk over the loshy dot i', 'put the yawas  answoers baana oil    i', 'two  i', 'traiat  i', 'se wished to know a aboute my grandfather i', 'trice  i', 'cyle  i', 'erra  i', 'of  i', 'i just  crat to do my best   i', 'both figules woule go hiy  and light ther hi i', 'menu  i', 'sige  i', 'i tried to teg peopole  the communitye i', 'sige  i', 'loop  i', 'here  i', 'area    i', 'why selld afor oer siiveanmt i', 'herm  i', 'every thing weme rsmoth the shellif  said i', 'eaght    i', 'write      i', 'hate  i', 'thes foeaseom for us   i', 'whop  i', 'now     i', 'trot  i', 'trop  i', 'sleft  i', 'swayare  i', 'shot    i', 'shot   i', \"are your grades higher or lower than nancy's i\", 'fruit  i', 'youd be verthere off tarking a cold showe   i', 'the yisland ox  foc lok opghte i', 'knot  i', 'pot  i', 'spruche  i', 'swape  i', 'play  i', 'sprinkle i', 'knot   i', 'form  i', 'werme  i', 'sto  i', 'sup  i', 'singoe  i', 'pan  i', 'all the big baye bol players geat tretd to i', 'pay  i', 'cher  i', 'i can play this wekends i', 'i fel i can play this wekend   i', 'the carried mhalf on the stretcher  i', 'wrigte   i', 'wil volbin we a yellow lilly  i', 'witch  i', 'sheare  i', 'near  i', 'str  i', 'fad  i', 'galore  i', 'brught sunshine shimmers on the yolcen i', 'we gathered shells on the beach i', 'he will ll alow a rare lie i', 'charlie  i', 'worf  i', 'eaght     i', 'lickt      i', 'knew  i', 'tive  i', 'swogh  i', 'though  i', 'flor  i', 'their house is a grey and wate    i', 'notthing thuse had foned the elr xnoence i', 'notthing has offensive valinors since i', 'slay  i', 'snop  i', 'sigh  i', 'rocks  i', 'she is thinner than i ame i', 'urgent    i', 'jungle  i', 'bear    i', 'suip   i', 'just one sighegcot wet i', 'pile  i', 'youre lied to boking on the flo i', 'forward  i', 'for  i', 'sper  i', 'dela  i', 'i loked olfton notice two old men i', 'slip  i', 'i was consciousthe the thime i', 'prior  i', 'tile  i', 'feum  i', 'face       i', 'one viray thetie the scruble distroiat i', 'mea  i', 'fate  i', 'fat  i', 'mother sels yellow o cingham eprense i', 'much  i', 'no  i', 'rock  i', 'rock  i', 'jangmy warmale mosu by wolkeong hos    i', 'sigh   i', 'trop  i', 'bruat  i', 'i excrubed the for uums thoroughly    i', 'sigh  i', 'the train avo  struged tho bo flowly i', 'tor  i', 'explore  i', 'tw i', 'raha i', 's  mother thr year thouw si i', 'air i', 'sela  i', 'yes      i', 'rop          i', 'thigh i', 'ware   i', 'my sithuised the flore was carm i', 'slar   i', 'prar       i', 'bmore w while were w overd    i', 'slip i', 'colp i', 'tile    i', 'bank  i', 'our blohigher lyehy asthe wall i', 'echo     i', 'fa    i', 'hime    i', 'ar sage  i', 'cyle   i', 'braw        i', 'urdent w as he got out i', 'at     i', 'parkie i', 'shy  i', 'fatlin i', 'op  i', 'lark  i', 'tell i', 'lair i', 'vad i', 'kilo', 'vilay', 'se ai alfas swarm arouned the fol', 'lair', 'grmushere sels have lost ther w', 'papa', 'strtaret', 'him', 'loyal        i', 'sign   i', 'brawn   i', 'sa i', 'rake  i', 'sevd  i', 'the box counvatslay swather i', 'for i', 'fear       i', 'pitting       i', 'fill i', 'ave repare the package hasttily i', 'peect i', 'ta  i', 'november i', 'at i', 'shly i', 'farm i', 'him   i', 'cop i', 'fothough i', 'carer i', 'day at i', 'hark  i', 'blow  i', 'ye   i', 'yees i', 'la       i', 'natg  i', 'oscar i', 'i ave had my vol rong i', 'sergeat i', 'sitting i', 'cot i', 'rark i', 'por  i', 'spark i', 'spark    i', 'spain  i', 'fell i', 'nine  i', 'sitter   i', 'cake i', 'hum       i', 'holf cair i', 'the fox shawe very yel thsip i', 'harp i', 'cark     i', 'park       i', 'jark       i', 'hill  i', 'sera     i', 'seven   i', 'i crrbe we spththis i', 'the lhal schoubal hi etre unty i', 'flow          i', 'il proc ur chils tloyu  i', 'to  i', 'swing nw onas high as you can i', 'befforther car warm brouh i', 'tw  i', 'shaw          i', 'shy i', 'six    i', 'there is a trea of alpproaa i', 'park          i', 'thugh   i', 'har   i', 'loa i', 'we voche hoeback to the form i', 'quebec i', 'bead  i', 'the job provoue mnocing brot i', 'hat i', 'wr  i', 'lick  i', 'tark  i', 'mash   i', 'lak  i', 'no    i', 'fittin i', 'l all u fiel yu for us i', 'torn  i', 'golf  i', 'hitting      i', 'cal lives aalivey home i', 'torm         i', 'gnaw         i', 'wiccerd   i', 'praor        i', 'chairp   i', 'b we about the time con helptwo i', 'ham          i', 'where           i', 'sita   i', 'rop      i', 'walha  i', 'th maner loyal  ver whelmliar i', 'air  i', 'air  i', 'ssel    i', 'yes  i', 'trop  i', 'bar  i', 'warme  i', 'my si thunised the flowers car i', 'lip     i', 'two al thers criane hee al fill on there ar lo i', 'brar  i', 'bore  wa w oru        i', 'slip     i', 'colp  i', 'tt  i', 'an  i', 'ala lol ara ligeasbove al i', 'echo   i', 'thought  i', 'mike  i', 'sarge  i', 'syle   i', 'braw  i', 'tudent flor as he got out i', 'at  i', 'parkie  i', 'sigh   i', 'fitling  i', 'left   i', 'lark  i', 'tell  i', 'lim  i', 'fad  i', 'kilo  i', 'rily  i', 'u tal fou swam arouh the boat  i', 'lairm  i', 'grauclr sls have lost thouwerm i', 'palpa  i', 'theisis a pud of crack cetion for mee i', 'dark      i', 'him  i', 'loyal  i', 'sign  i', 'brawn  i', 'til  i', 'rake  i', 'sr  i', 'the box cuain lay swyler    i', 'frow  i', 'bit   i', 'nitting  i', 'fill  i', 'ae the package hastfily i', 'park  i', 'pet i', 'tot  i', 'nbrown fear  i', 'arp  i', 'sigh  i', 'barmn i', 'him  i', 'cap  i', 'foxthough  i', 'cuiten  i', 'muliet  i', 'hark  i', 'flor     i', 'ralie o i', 'am  i', 'yes     i', 'lak  i', 'nota  i', 'osscar  i', 'i ave had my brow rong i', 'selcean    i', 'sitting   i', 'ot   i', 'raks  i', 'spark  i', 'spark  i', 'fpair  i', 'spaun  i', 'tthow i', 'nine  i', 'siter  i', 'carke  i', 'huarm i', 'holfcair  i', 'the fox sawy very yel th sip      i', 'harp     i', 'cark  i', 'park  i', 'jark  i', 'hill  i', 'zero  i', 'seven         i', 'i hrw the delcit work i', 'the lf choubal houe stre unty i', 'flow  i', 'il progut esheuse to valu   i', 'tot  i', 'swing naw on as highy asyou can i', 'beforethere cote warm brouwh  i', 'him  i', 'saw   i', 'sy  i', 'six        i', 'there isa trahouse alppropal   i', 'park  i', 'thought   i', 'har  i', 'lak  i', 'we volce hopeback to the flor  i', 'quebec  i', 'bit  i', 'the job provoue moscing oh he fel      i', 'the jb provouides mony brenfbat i', 'hat  i', 'slict i', 'lick  i', 'park  i', 'mush  i', 'leak  i', 'no  i', 'fitting  i', 'el all all fil u for  i', 'torn  i', 'golf   i', 'hitting  i', 'cal love alively home  i', 'torn  i', 'gnaw   i', 'alcarth the acar a the con favrable i', 'wirckoere  i', 'prar  i', 'the s r galal fore sthubbing lop i', 'shaip      i', 'pu ebot the time con helptrwo    i', 'ham  i', 'wark  i', 'sita  i', 'saire      i', 'parm i']\n"
          ]
        },
        {
          "name": "stderr",
          "output_type": "stream",
          "text": [
            "Saving model checkpoint to torgo_xlsr_finetune-M02-2/checkpoint-8000\n",
            "Configuration saved in torgo_xlsr_finetune-M02-2/checkpoint-8000/config.json\n",
            "Model weights saved in torgo_xlsr_finetune-M02-2/checkpoint-8000/pytorch_model.bin\n",
            "Feature extractor saved in torgo_xlsr_finetune-M02-2/checkpoint-8000/preprocessor_config.json\n",
            "Deleting older checkpoint [torgo_xlsr_finetune-M02-2/checkpoint-7000] due to args.save_total_limit\n",
            "/usr/local/lib/python3.9/dist-packages/transformers/models/wav2vec2/processing_wav2vec2.py:155: UserWarning: `as_target_processor` is deprecated and will be removed in v5 of Transformers. You can process your labels by using the argument `text` of the regular `__call__` method (either in the same call as your audio inputs, or in a separate call.\n",
            "  warnings.warn(\n",
            "The following columns in the evaluation set don't have a corresponding argument in `Wav2Vec2ForCTC.forward` and have been ignored: input_length. If input_length are not expected by `Wav2Vec2ForCTC.forward`,  you can safely ignore this message.\n",
            "***** Running Evaluation *****\n",
            "  Num examples = 714\n",
            "  Batch size = 8\n"
          ]
        },
        {
          "name": "stdout",
          "output_type": "stream",
          "text": [
            "['grow i', 'fed   i', 'alpha  i', 'pot   i', 'farm  i', 'sip i', 'dago i', 'rave i', 'fair i', 'shet  i', 'ship i', 'park i', 'goadfather liget to bad my tran ansers lackgage i', 'spurkle i', 'bit   i', 'will she yst nearly notc expit your tlog i', 'trouble i', 'chair i', 'rate i', 'thegh i', 'godgeet i', 'brawn   i', 'orn i', 'go i', 'swarm i', 'share   i', 'al tant i', 'i can meat i', 'fate    i', 'starp  i', 'right i', 'no  i', 'tair i', 'no   i', 'lef i', 'store i', 'chair i', 'swlor i', 'bat  i', 'stubble i', 'trop      i', 'she had th dcsi and godwae water al year i', 'hoan  i', 'sht  i', 'paca i', 'slipt   i', 'spink  i', 'car  i', 'kneing  i', 'no      i', 'yet he  stilltink thts wrly able i', 'muse onus several btons i', 'flor  i', 'train  i', 'bu   i', 'we have often use jump wal mare and smokelas i', 'ther jugs munal left i', 'boant i', 'beat  i', 'new  i', 'right      i', 'range  i', 'sip   i', 'stic     i', 'storm i', 'sdubble  i', 'down i', 'two i', 'glow i', 'form i', 'flarm  i', 'breave  i', 'brawn     i', 'sip     i', 'dark i', 'storm     i', 'groat  i', 'swarm i', 'hop  i', 'a long foloweng boat slings toward chhin i', 'dark  i', 'rake i', 'race i', 'eor i', 'i can rd  i', 'aior i', 'jacket i', 'dont heh mestor cay yung or say exlect the i', 'raegeh i', 'hair i', 'spark i', 'for i', 'coupe  i', 'jaggerd i', 'corn i', 'spark i', 'fuit  i', 'the quuick  brown fawox jumps over the ligchy dog i', 'but the aers answeoers banana ol i', 'two    i', 'trat    i', 'cosvuce to now a abount by grandfather i', 'traice  i', 'cycle i', 'eror i', 'of i', 'ie just try to do my best i', 'foh  prinles wol go hiy   nichter sip i', 'nea   i', 'side i', 'i tried to tell popoed the communitty ri', 'sigh  i', 'lop i', 'cher i', 'ara i', 'why jaged avor loal selllizemans i', 'cheo     i', 'every thing wun be smoat the sheellif  said i', 'ate  i', 'wriht   i', 'hate  i', 'this was easing for uls i', 'whop    i', 'no  i', 'drop   i', 'droop  i', 'slip   i', 'sway i', 'shott i', 'shot      i', \"are your grades higheer or lower than nancy's i\", 'flught      i', \"you'd ben verther off charking a cold shawer i\", 'the island roxs fathe lok up lighted i', 'knot  i', 'pot    i', 'boot  i', 'selaht  i', 'trile  i', 'sparkle i', 'knot i', 'for i', 'stot i', 'suit   i', 'singo    i', 'pile i', 'all the big be  bal players get treto i', 'pay     i', 'chero  i', 'i can play this wekende  i', 'i f awie can play thiswekend i', 'the caedhlf on the stretcher i', 'right i', 'will wal brn wheay a yellow lily i', 'whp i', 'shear    i', 'near     i', 'ster   i', 'bad  i', 'galore   i', 'fut sunshinet shimmers on the ocearn i', 'we gathered shells on the beach i', 'he will ll low a vaare lie i', 'charlie i', 'whaf i', 'ape   i', 'lifht i', 'knew   i', 'tive i', 'though i', 'though  i', 'flor  i', 'the house is a g and walc i', 'notthing vust have found the ofther noence i', 'nothing has apfuns the valithinor since i', 'slay i', 'snoap  i', 'sigh  i', 'rocks   i', 'she es thingner than i am i', 'urgent i', 'jungle  i', 'bar i', 'sp  i', 'just one ide got wet i', 'pirle i', 'just isd trobling on the flo i', 'forward i', 'for i', 'ter i', 'steltat   i', 'a loked opf haof notticedd to al men i', 'slip   i', 'i was consciousa the farm i', 'prior     i', 'tile   i', 'f   i', 'back i', 'one  valuvate the time it o schubal distat i', 'meue  i', 'fat i', 'fat i', 'mothern twls yellow kingham  eaprens i', 'roch        i', 'no   i', 'rock         i', 'jag my loal mus are working hatd i', 'sigh    i', 'troop      i', 'boat  i', 'i scrubed the fams thoroughhly i', 'thigh i', 'the train ha voatch the d depol floarg i', 'str  i', 'exploat i', 'grow  i', 'fed i', 'alpha  i', 'pot  i', 'farm  i', 'sip i', 'dagor  i', 'rand i', 'failr  i', 'fet  i', 'ship  i', 'park  i', 'goadfather lighed  to bad m trean aneard blackgage i', 'pubble  i', 'pit    i', 'alfe is nearly noincey for your thoug i', 'trouble  i', 'chair  i', 'rate  i', 'thugh i', 'gadget i', 'varm   i', 'porn  i', 'go  i', 'swarm  i', 'share  i', 'yl can i', 'i can moave    i', 'fruit  i', 'stark  i', 'right     i', 'no  i', 't  i', 'no   i', 'lef  i', 'store    i', 'chair  i', 'flor  i', 'fat   i', 'stubble i', 'troat  i', 'horn i', 'shet  i', 'brata  i', 'selip  i', 'fi  i', 'car  i', 'knew  i', 'no  i', 'yet he stiell think thes swirflylable i', 'yusd remoins several bto  i', 'flor  i', 'train  i', 'whl  i', 'we have often usce jump fa mare and smoke glas i', 'left   i', 'born   i', 'beat  i', 'sneop  i', 'right  i', 'range  i', 'sip  i', 'sticp  i', 'storm i', 'stubble   i', 'town  i', 'tw  i', 'glow  i', 'form i', 'form   i', 'braave i', 'warm  i', 'sip i', 'dark   i', 'storm  i', 'smot  i', 'sworm  i', 'op  i', 'stark i', 'rake  i', 'race  i', 'air   i', 'i can read    i', 'aior        i', 'jacket       i', 'sdountlesht me to cary oung oray iy eglect the i', 'raegh  i', 'hair    i', 'spark  i', 'four  i', 'cope  i', 'jaggerd  i', 'corn  i', 'spark  i', 'filt  i', 'the quick  brown foox junk over the lozty dog  i', 'putthe yoveirs danscwers baana oil  i', 'two   i', 'trot  i', 'e wished to now all abount my grandfather i', 'trice   i', 'cycle  i', 'eror  i', 'of  i', 'ie just  crt to do my bes   i', 'both figures woul go hiyh am nicter years i', 'menu  i', 'sige   i', 'i tried to thee peopotoun the communitty i', 'sige  i', 'lop  i', 'her  i', 'area    i', 'why yellted avor  over selllieams  i', 'fearm  i', 'every thing wheme b smoth the sherrif  said i', 'eaghte      i', 'wright  i', 'hate  i', 'thes ar tleasing for us  i', 'whop  i', 'now  i', 'drot  i', 'drop  i', 'sleft  i', 'swayar  i', 'shott   i', 'shot   i', \"are your grades higher or lower than nancy's i\", 'fruit   i', 'youd be vetther off tarking a cold shwor     i', 'the island ocxs  fach loop op  lit i', 'knot  i', 'pot  i', 'sbruh  i', 'srap   i', 'playr  i', 'sprinkle i', 'knot   i', 'four  i', 'where  i', 'stot  i', 'sulp  i', 'single  i', 'spand  i', 'all the big bade bol players get treacerd i', 'pay  i', 'chero  i', 'i can play this wkens   i', 'i fel  i can play this wecend  i', 'the caired mhalf on the stretcher  i', 'right   i', 'will robin wear a yellow liely     i', 'whitch  i', 'shear  i', 'near  i', 'ster  i', 'fad  i', 'galore  i', 'brought sunshine shimmers on the  olcear i', 've gathered shells on the beach i', 'he wil  alow a rare lie i', 'charlie  i', 'woarf  i', 'eaght     i', 'larkt     i', 'knew  i', 'tive  i', 'through  i', 'though  i', 'flor  i', 'their house is a gry and whalt     i', 'nothing atuse hav found the elper inoence i', 'notthing has affonsive valiinor ince i', 'slay  i', 'snop  i', 'sigh  i', 'rocks  i', 'she is thinner than i am i', 'urgent     i', 'jungle   i', 'bear    i', 'suip   i', 'just one cigyccolt weat i', 'pile  i', 'yere thised to bocking on the flow i', 'forward  i', 'four  i', 'ssper  i', 'stelita  i', 'i loked  f ound noticed to old men i', 'slip  i', 'i was conscioustall the time i', 'prior    i', 'tile  i', 'fyu  i', 'fave      i', 'one viher lay the tige itthe scrubale distrit i', 'mea  i', 'fate  i', 'fat  i', 'mothers tols yellow o cingham epreons i', 'much  i', 'no i', 'rock   i', 'rock  i', 'janged my warmal mus by wolking hat     i', 'sigh   i', 'troop   i', 'brooat  i', 'i excrubed the for us thoroughly   i', 'thigh  i', 'the traingn afvot  strukd to bo flowly  i', 'stor  i', 'explore  i', 'grow i', 'gral   i', 't  mother ther your to ver whal si i', 'air    i', 'sella  i', 'yes     i', 'trop      i', 'thih i', 'ware     i', 'my sift surrishe floar cra i', 'mear       i', 'priar     i', 'by avoe whe wile were wl obord  i', 'slip  i', 'colpe   i', 'tile     i', 'back   i', 'oar bwlor higher lve th asthe wall  i', 'echo       i', 'thgh       i', 'whime      i', 'are searg     i', 'eho   i', 'braw  i', 'pgent  al as he got  out  i', 'at   i', 'parkive i', 'sy   i', 'fatlier i', 'hop   i', 'lark  i', 'til       i', 'lair i', 'vad i', 'kilo', 'valy', 'ta alfa swam around the bol', 'lair', 'drumus ther sls have lost the wr', 'paca', 'start', 'him', 'loyal           i', 'sign    i', 'brawn   i', 'tai      i', 'rake  i', 'seld  i', 'the bark conveanct tray swathers i', 'flor  i', 'fair      i', 'pitting   i', 'fil     i', 'hlaved tepar the package hastfily i', 'petect i', 'p  i', 'november i', 'fat  i', 'shallie i', 'farmn     i', 'hil   i', 'chop  i', 'fo though i', 'carker i', 'oliat i', 'hark  i', 'blow  i', 'ye  i', 'yees  i', 'knep     i', 'natccar    i', 'oscoare         i', 'i have had my b rung i', 'sergeat i', 'sitter i', 'pot i', 'rark i', 'spore  i', 'spark i', 'spark   i', 'spaun     i', 'fil i', 'nan  i', 'citter         i', 'cake   i', 'hurm       i', 'holf trair i', 'the boks are very yell bship i', 'harf   i', 'car  i', 'park         i', 'jark      i', 'hill  i', 'zero     i', 'sever      i', 'i hal cr wle spth this  i', 'the litle schouble hil etre un hany i', 'flow         i', 'iil pocre r hils tvloyou  i', 'to  i', 'swing n ontas high as you can i', 'beforther car warnm brou i', 'tew  i', 's        i', 'shy i', 'sip     i', 'there is a tread ouse ulpperpal  i', 'par          i', 'thought      i', 'har     i', 'lok i', 'we voche hopback to the farm i', 'quebec i', 'bit    i', 'the job povued mosing bronca ti i', 'hat  i', 'were   i', 'nik  i', 'par  i', 'naoch  i', 'lak  i', 'no    i', 'fte   i', 'whal all ar fail  for us i', 'toor       i', 'golf   i', 'hitting     i', 'caaal lives tana livey home i', 'stor   i', 'no   i', 'wicceard      i', 'prior          i', 'chaip      i', 'bt you have bot the time con helpto i', 'ham     i', 'where    i', 'sita      i', 'grow   i', 'walal  i', 'thig hae motered a yer o ver whelm sliar i', 'air  i', 'air  i', 'sael   i', 'yes  i', 'trop   i', 'bir  i', 'warme  i', 'mi sift thgh the floware cra  i', 'thelip   i', 'tr ar thers cariads have al fvl on there ar ris i', 'braiar  i', 'bfoe the wall w wa orug  i', 'slip    i', 'cope  i', 'tot  i', 'ang  i', 'a ba loal aar ligseabove al i', 'echo    i', 'thought  i', 'mik  i', 'seard  i', 'seo      i', 'braw  i', 'tudent f as he got out i', 'at  i', 'parkie  i', 'sigh   i', 'fili  i', 'left o i', 'laik  i', 'tel  i', 'liar  i', 'va  i', 'kilo  i', 'witly  i', 'tal funk swam around the boat  i', 'lairm  i', 'grmuscther sls have lost the war i', 'palpa  i', 'thirsis a p g of prackcetaon for mik i', 'dark  i', 'hem  i', 'loyal  i', 'thign  i', 'brawn  i', 'til   i', 'rake  i', 's  i', 'the bo cutvanta swater  i', 'brawn  i', 'bil  i', 'nitting  i', 'fil  i', 'veplase the package hastfily i', 'par  i', 'ptent i', 'tt  i', 'nobrown fer  i', 'ap  i', 'slive  i', 'barn i', 'him  i', 'totp  i', 'flor though  i', 'cuitten   i', 'muliet  i', 'hark   i', 'flow     i', 'ralie o i', 'op  i', 'yes  i', 'leak  i', 'noten  i', 'oscar  i', 'i ave had my brw rong i', 'selgeant      i', 'sitting  i', 'cot   i', 'rak  i', 'sparht  i', 'spark  i', 'sfpair  i', 'spanun  i', 'thouwh i', 'nawne  i', 'sitter  i', 'cak  i', 'harm i', 'holf crair  i', 'the foxks are very  achip  i', 'harp   i', 'car  i', 'park  i', 'dark  i', 'hill  i', 'zero  i', 'seven       i', 'i have st well pte vis  wrk i', 'the lile sschoubal houe scued un y  i', 'flow  i', 'il poce eshouse to vau   i', 'tot  i', 'swing naw on thas high as tyou can i', 'efretheire colds warm brought  i', 'hiw  i', 'saw      i', 'sigyh  i', 'sip   i', 'there is a trad hous alpper al   i', 'par   i', 'thought  i', 'harp    i', 'lak  i', 'wil vo hopbackh to the flor   i', 'quebec  i', 'bit  i', 'the job povoed moscing brown  filt      i', 'the jib providess mony brng t i', 'hat  i', 'lip i', 'lip  i', 'park  i', 'nawh  i', 'leak  i', 'no  i', 'fittin  i', 'haln all al fail u flors  i', 'for  i', 'golf     i', 'hitting  i', 'carl lve tu a lively home  i', 'daorn  i', 'now  i', 'alscartha the traca a ther c vviable i', 'wilckhoure  i', 'priar  i', 'the oers r gla for fthubbing lp i', 'ship   i', 'bt you have bot the time cond help tro  i', 'hand  i', 'whrp  i', 'sita  i', 'sare         i', 'par i']\n"
          ]
        },
        {
          "name": "stderr",
          "output_type": "stream",
          "text": [
            "Saving model checkpoint to torgo_xlsr_finetune-M02-2/checkpoint-8500\n",
            "Configuration saved in torgo_xlsr_finetune-M02-2/checkpoint-8500/config.json\n",
            "Model weights saved in torgo_xlsr_finetune-M02-2/checkpoint-8500/pytorch_model.bin\n",
            "Feature extractor saved in torgo_xlsr_finetune-M02-2/checkpoint-8500/preprocessor_config.json\n",
            "Deleting older checkpoint [torgo_xlsr_finetune-M02-2/checkpoint-7500] due to args.save_total_limit\n",
            "/usr/local/lib/python3.9/dist-packages/transformers/models/wav2vec2/processing_wav2vec2.py:155: UserWarning: `as_target_processor` is deprecated and will be removed in v5 of Transformers. You can process your labels by using the argument `text` of the regular `__call__` method (either in the same call as your audio inputs, or in a separate call.\n",
            "  warnings.warn(\n",
            "The following columns in the evaluation set don't have a corresponding argument in `Wav2Vec2ForCTC.forward` and have been ignored: input_length. If input_length are not expected by `Wav2Vec2ForCTC.forward`,  you can safely ignore this message.\n",
            "***** Running Evaluation *****\n",
            "  Num examples = 714\n",
            "  Batch size = 8\n"
          ]
        },
        {
          "name": "stdout",
          "output_type": "stream",
          "text": [
            "['grow i', 'sed    i', 'alpha  i', 'pat  i', 'farm  i', 'slip i', 'dago i', 'rave i', 'fair i', 'shet   i', 'slip i', 'park i', 'gadfather liges to beak mo dananswers lackage i', 'purkle    i', 'bet  i', 'wille she yas nearly notces the xpis yolo i', 'trouble i', 'chair i', 'rade  i', 'theugh      i', 'gadget i', 'brawn     i', 'torn i', 'go i', 'swarm i', 'share  i', 'i l tans i', 'i can beate i', 'shate     i', 'steirp  i', 'rought  i', 'no  i', 'tair i', 'no   i', 'yes i', 'store i', 'chair i', 'swore i', 'bat  i', 'stubble i', 'trot     i', 'she had you dxsu in gredwashe water al year i', 'part  i', 'shet  i', 'praca  i', 'sdicpt    i', 'faint  i', 'car  i', 'mane  i', 'no    i', 'yet  hestiilfinkd fts  swarsly aleuble i', 'musu minus several butous i', 'flor  i', 'traince  i', 'bu   i', 'we have often uge jump twa moe and smoke gleas i', 'the juged munt left i', 'bornt i', 'bit  i', 'no  i', 'right  i', 'rage   i', 'sip   i', 'stick  i', 'storm i', 'buble  i', 'down i', 'two i', 'glow i', 'form i', 'florm  i', 'rave  i', 'barm  i', 'shaip   i', 'dart i', 'storm   i', 'drat  i', 'swarm i', 'top  i', 'a long folowerng bot clings toward hin i', 'tark  i', 'rake   i', 'race i', 'rrior i', 'i can read  i', 'air i', 'jacket i', 'donte lefe misto cay ong or saly exlect the i', 'rae i', 'hair i', 'spark i', 'for i', 'compe  i', 'jaggerd i', 'corn i', 'spark i', 'fad  i', 'the qck  brown fafox jumpds over the leazhy dog i', 'bethe awas answers bannana o i', 'two  i', 'trad   i', 'tsuched to know al abouve fuy grandfather i', 'trace     i', 'cyco i', 'ero i', 'of      i', 'i justt try to do my best i', 'foh  frincles would go hiy ou lichtte sips i', 'beda  i', 'side i', 'i tried to te opoed the community ri', 'side    i', 'lop i', 'cher i', 'arrea i', 'why y aed afo over silliicemands i', 'cio   i', 'every thing wam we smot the sherriff  said i', 'eighte  i', 'wrihte   i', 'hate  i', 'this was easing for us i', 'whop  i', 'do   i', 'drop   i', 'drop    i', 'slip   i', 'sway i', 'shott i', 'sht     i', \"are your grads higher or lower than nancy's i\", 'trop   i', \"you'd pefather off charking a cold shwe i\", 'the island ox fathe lokeds up late i', 'knot  i', 'pot    i', 'bott  i', 'selat   i', 'trae  i', 'sprrinkle i', 'knot i', 'form i', 'ftot i', 'suit  i', 'singo   i', 'pald   i', 'all the big bde bal players get treated i', 'pay  i', 'chero     i', 'i can play this wekend  i', 'i fe alwie can play this  wekend i', 'the taied of on the stretcheor i', 'write    i', 'will wl burn wa a yellow lilly i', 'wop  i', 'shear   i', 'near     i', 'stera   i', 'bad  i', 'galore     i', 'fut sunshine shimers on the ocean i', 'e gathered shells on the beac i', 'he willwl alow a vare lie i', 'charlie    i', 'walsh i', 'ate   i', 'lift  i', 'thoug  i', 'tive i', 'swogh i', 'though  i', 'flor   i', 'ther house is a gand watch i', 'notthing hthuse have fountd the  of her noence ni', 'nothing has affens the va thinur since i', 'slay i', 'snak  i', 'sigh  i', 'rocks       i', 'she is thinner than i am i', 'urgent i', 'jungle     i', 'bal  i', 'suit  i', 'just one side got wet i', 'pile i', 'yust used trobling on the fl i', 'forward i', 'for i', 'ter i', 'stelat   i', 'a lok f of noticed tow al men i', 'slip   i', 'i was consousalw the farme i', 'trile    i', 'tile   i', 'treo   i', 'bat   i', 'one  faluae the time wit h scubalm dittat i', 'mere    i', 'st i', 'fat  i', 'mothers sws yello cingham apreons i', 'much     i', 'no    i', 'rock    i', 'jagmoral musrsare working had i', 'shy   i', 'trop      i', 'goat  i', 'i scrubed the farm thorouchly i', 'sigh i', 'the tranaf voached sdupd to f slowry i', 'zer  i', 'explore   i', 'grow  i', 'fed i', 'alpha  i', 'pat  i', 'farm  i', 'sip i', 'dagor  i', 'raze i', 'fair  i', 'fate  i', 'shlip  i', 'park  i', 'goadfather likes  to beoa sml tran inhis blackgage i', 'puble  i', 'bit  i', 'weill she ias nearly nineto fe yor tho i', 'trouble  i', 'chhair  i', 'raid  i', 'though i', 'gadget i', 'farm   i', 'torn  i', 'go  i', 'swarm  i', 'share  i', 'yl charns i', 'i can meavd    i', 'fuit  i', 'stark  i', 'rought       i', 'no  i', 'tep  i', 'no  i', 'yes  i', 'store    i', 'chair  i', 'flor  i', 'bat  i', 'stubble i', 'trot  i', 'hone i', 'shet  i', 'breta  i', 'selipt  i', 'fin  i', 'car  i', 'knew  i', 'now  i', 'yeet he stild thinks thuch swiftly able i', 'yuse remineus several butoms  i', 'flor  i', 'train  i', 'wholl  i', 'we have often uce jumpdfomoe and smoke gles i', 'left  i', 'forns   i', 'beat  i', 'snop  i', 'rihe  i', 'range  i', 'ship  i', 'stick  i', 'storm i', 'stubble   i', 'town  i', 'fiw  i', 'glow  i', 'form i', 'form   i', 'brave i', 'form   i', 'sip i', 'tark    i', 'storm  i', 'smoat  i', 'sporm  i', 'op  i', 'star i', 'rake  i', 'race   i', 'air   i', 'i can read   i', 'aior        i', 'jacket          i', 'sdount left me to cary on oraiy eglect the i', 'rae  i', 'hair   i', 'spark  i', 'for  i', 'coate   i', 'jaggerd  i', 'corn   i', 'spark   i', 'fit  i', 'the quick brown foox jungks over the lazy dog i', 'sputthfwas  answers banana oilm   i', 'two   i', 'trot  i', 'shu wished to know all abounte my grandfather i', 'trace   i', 'cycle    i', 'eror  i', 'of    i', 'ie just  try to do my bes   i', 'both figures would go high an lightter his i', 'menu  i', 'side  i', 'i tried to te popoton the communitye i', 'sie  i', 'lop  i', 'hear  i', 'arrea    i', 'why shelfed afol over siliums i', 'hirm   i', 'every thing wenmt b smoth the sherif  said i', 'eight  i', 'rite  i', 'hate  i', 'theis wasleaze him for us  i', 'whop  i', 'nof     i', 'drot  i', 'tdrop  i', 'sleft  i', 'swaar  i', 'shot   i', 'shot   i', \"are your grades higher or lower than nancy's i\", 'fruit   i', \"yu'd bre featther off tarking a cold shwore   i\", 'the island ocxs  farc lop up ltd i', 'knot  i', 'pot  i', 'spounkle  i', 'srave  i', 'play  i', 'sprinkle i', 'knot   i', 'for  i', 'weare  i', 'tot  i', 'su  i', 'single  i', 'pand  i', 'all the big baded  fol players gd treacterd i', 'pay  i', 'chero  i', 'i can play this weends  i', 'i fel wie can play this wekend  i', 'they caried mhlff on the stretcher  i', 'wriht   i', 'will robin wear a yellow lilly  i', 'witph  i', 'shear  i', 'near  i', 'ster  i', 'fad  i', 'galore  i', 'brught sunshine shimmers on the ocen i', 'fouk gathered shells on the beach i', 'he will abl alo a rare lie i', 'charlit     i', 'worf  i', 'aght     i', 'select    i', 'knew  i', 'tive  i', 'swogh  i', 'though  i', 'flor  i', 'their house is a gry and wite     i', 'notthing htheuse hasd found the elper noence i', 'notthing has offensive ainers ience i', 'slay  i', 'snop  i', 'sige   i', 'rocks  i', 'she is thinner than i am i', 'urgent     i', 'jungle   i', 'bear     i', 'suipt   i', 'just one cide cot wet i', 'pile  i', 'youre yused tobocing on the flor i', 'forward  i', 'for   i', 'sper  i', 'selita  i', 'i lked the founce notice to olth men i', 'slip  i', 'i was conscious all the time i', 'prior  i', 'tile  i', 'feu  i', 'fat       i', 'wone father las the tie witthe schrubolm distrit i', 'meue   i', 'fate     i', 'fat  i', 'mothers sls yell o cinghams eprense i', 'much  i', 'no i', 'rock  i', 'rock  i', 'janged my warmale mosu by woking hath   i', 'shy      i', 'trop  i', 'brot  i', 'i excrubed the fo mmus thoroughly   i', 'sigh  i', 'the traign offoched srugd tho fo flowly  i', 'jer  i', 'explore  i', 'growp i', 'raha  i', 'si  mothers r your thover welm she i', 'air  i', 'select  i', 'yes  i', 'trop       i', 'fil i', 'ware         i', 'touised the fors c i', 'mer      i', 'prar      i', 'ba voe w wie were w bord  i', 'slip  i', 'cope i', 'tile      i', 'bac   i', 'ao bowlo hiere lay nea asthe wall i', 'echo     i', 'fat       i', 'hie    i', 'ar sarge   i', 'zerho   i', 'bawt     i', 'pgents w u as he got  out i', 'at     i', 'tartive i', 'shy  i', 'faitler i', 'hop   i', 'lair  i', 'tell   i', 'lair i', 'bad i', 'plo', 'rarly', 't alffa swam around the bot', 'lair', 'ruher suls have lost thewar', 'papa', 'sstart', 'him', 'loyal           i', 'sign   i', 'bran   i', 'sail i', 'rake  i', 'seid  i', 'the bar cunt banctslayd sweathers i', 'for     i', 'fair      i', 'pitting    i', 'fil   i', 'hlved epars the package hastfily i', 'prtect i', 'trait     i', 'ovemfear i', 'st  i', 'slie i', 'farmn        i', 'hil     i', 'jhp   i', 'fothough i', 'carkor i', 'apiat i', 'paralc     i', 'flow  i', 'ye  i', 'yes   i', 'nae       i', 'wn hat y  i', 'score         i', 'i ave had my b rong i', 'sergeant i', 'sittirng i', 'pat i', 'reart i', 'fore     i', 'spark i', 'sfair      i', 'span   i', 'felw i', 'narn  i', 'sitter    i', 'cake    i', 'harm      i', 'hof trail i', 'the boxs are very e btship i', 'harf   i', 'cart  i', 'park         i', 'jar      i', 'hailo   i', 'zero      i', 'sever      i', 'i ha  ths  i', 'tl schouble  extre un hansiy i', 'flo         i', 'al pocd chalds lu  i', 'tot  i', 'swing ne om thas high as you can i', 'efor there cars warm brouht i', 'hilw  i', 'sh       i', 'shy i', 'sic    i', 'there is a trade of  uppepol i', 'par     i', 'fat   i', 'hare     i', 'low i', 'we voahe opeback to the farm i', 'quebec i', 'beta   i', 'the job povued musing brancfil i', 'hat i', 'were   i', 'kniw  i', 'part   i', 'mush  i', 'leiv   i', 'no       i', 'fitel  i', 'ln all or fail ol es for us i', 'trar      i', 'golf   i', 'hitting       i', 'caral lives tanalivuly hom i', 'starm     i', 'gnaw     i', 'wicceard   i', 'praor         i', 'shaip      i', 'phbout the ji  con hhelpto i', 'ham      i', 'where   i', 'sita       i', 'grow   i', 'walha  i', 'ti hae motrlayers over welm sl i', 'air  i', 'air  i', 'ssel   i', 'yes  i', 'trop   i', 'bile  i', 'wite  i', 'mi sif thouniced the flowere ca i', 'lip  i', 'twoo are thers criads heave all fiv unsthere ar ris i', 'brar  i', 'bfore the walle w w u  i', 'slip    i', 'cope  i', 'pot  i', 'ang  i', 'a b loal ar laiys naovall i', 'echo  i', 'thought  i', 'mike  i', 'sarge  i', 'zero      i', 'brouwt  i', 'podent wur as he got  out i', 'at  i', 'tacie  i', 'sigh   i', 'filer  i', 'left  i', 'lair   i', 'tell  i', 'lair  i', 'fad  i', 'klo  i', 'riatly  i', 'to of tal fo swam arund the boat  i', 'lairm  i', 'rusaers sls have lost thwear i', 'papa  i', 'this is a pud off track setcearn for me i', 'dart  i', 'him  i', 'loal  i', 'sign  i', 'bran  i', 'til  i', 'rake  i', 'fid  i', 'the ba  cunt jank lavd swaler  i', 'fror  i', 'bit  i', 'knitting  i', 'fill  i', 'he raved  plase the package hastfily i', 'pait  i', 'potent i', 'pit  i', 'nrown fear  i', 'op  i', 'sivle  i', 'barmn i', 'hil  i', 'jat  i', 'fothough  i', 'citten  i', 'ruliet  i', 'park  i', 'flor      i', 'ralif o i', 'op  i', 'yes  i', 'leak  i', 'mneta  i', 'ocor  i', 'i ave had my b rung i', 'sergeant       i', 'sitting  i', 'pot      i', 'rare  i', 'spart  i', 'spark  i', 'fair  i', 'spaoun  i', 'thow i', 'nan  i', 'sitter  i', 'cake  i', 'harm i', 'holf trail  i', 'the foxs are very pship     i', 'harp  i', 'car  i', 'park  i', 'jark  i', 'hill  i', 'zero  i', 'seven      i', 'i have rwe pm the velp i', 'the lial scbal house scues us  i', 'flow  i', 'il pocyou sllvs tvor you   i', 'tot  i', 'swing nw amthas highe asyou can i', 'epfoe theire cots warm bought  i', 'him  i', 'sho      i', 'sy  i', 'six   i', 'theire is a trade of upper ale  i', 'fair  i', 'thought  i', 'harp    i', 'li  i', 'wil fopbc to the flor   i', 'quebec  i', 'bitan  i', 'the job pobed mocing brount he fit      i', 'the jb provides many breneffiats i', 'hat  i', 'slit i', 'lip  i', 'par  i', 'mush  i', 'leak  i', 'no  i', 'fite  i', 'weln all a fai olf u fors  i', 'forn  i', 'golf   i', 'hitting   i', 'carll lives tas alivealy home  i', 'darn  i', 'gna  i', 'alscar thei trob a ca a heu  favrable i', 'wickcoared  i', 'prair  i', 'the oers srcla for fubbing lop i', 'chaip  i', 'pry habout the jame cond helptroubl  i', 'ham  i', 'whirp  i', 'sita  i', 'sard    i', 'prar i']\n"
          ]
        },
        {
          "name": "stderr",
          "output_type": "stream",
          "text": [
            "Saving model checkpoint to torgo_xlsr_finetune-M02-2/checkpoint-9000\n",
            "Configuration saved in torgo_xlsr_finetune-M02-2/checkpoint-9000/config.json\n",
            "Model weights saved in torgo_xlsr_finetune-M02-2/checkpoint-9000/pytorch_model.bin\n",
            "Feature extractor saved in torgo_xlsr_finetune-M02-2/checkpoint-9000/preprocessor_config.json\n",
            "Deleting older checkpoint [torgo_xlsr_finetune-M02-2/checkpoint-8000] due to args.save_total_limit\n",
            "/usr/local/lib/python3.9/dist-packages/transformers/models/wav2vec2/processing_wav2vec2.py:155: UserWarning: `as_target_processor` is deprecated and will be removed in v5 of Transformers. You can process your labels by using the argument `text` of the regular `__call__` method (either in the same call as your audio inputs, or in a separate call.\n",
            "  warnings.warn(\n",
            "The following columns in the evaluation set don't have a corresponding argument in `Wav2Vec2ForCTC.forward` and have been ignored: input_length. If input_length are not expected by `Wav2Vec2ForCTC.forward`,  you can safely ignore this message.\n",
            "***** Running Evaluation *****\n",
            "  Num examples = 714\n",
            "  Batch size = 8\n"
          ]
        },
        {
          "name": "stdout",
          "output_type": "stream",
          "text": [
            "['grow   i', 'fed  i', 'alpha  i', 'pat  i', 'farm  i', 'sip i', 'daggor i', 'rave i', 'fair i', 'shet   i', 'ship i', 'park i', 'gadfatherligets to bea m ananers lankgage i', 'parkle   i', 'pit  i', 'will sh snearly notcis ti yearsov i', 'trouble  i', 'cchair i', 'rat  i', 'thagh  i', 'gadge i', 'brawn  i', 'torn i', 'go i', 'sworm i', 'share  i', 'i have tarn i', 'i can meoat i', 'shet   i', 'starp    i', 'wright  i', 'knew  i', 'tar i', 'no     i', 'yes i', 'store i', 'chair i', 'swore i', 'bat  i', 'stubble i', 'trot  i', 'she had your dksuit in greaw waterall year i', 'hoat  i', 'shet  i', 'praca  i', 'it     i', 'paint  i', 'car   i', 'knone  i', 'no  i', 'yeetsse frink thots   sworsly aeble i', 'musuay minus several butoon i', 'flor   i', 'train  i', 'bho   i', 'we have often ue jump amoe and smoke gla i', 'thejug mun left i', 'poat     i', 'beat  i', 'knew  i', 'wriht  i', 'range  i', 'sip  i', 'stick  i', 'storm i', 'buble  i', 'town i', 'two i', 'glow i', 'form  i', 'florm  i', 'breav  i', 'brown   i', 'sip  i', 'tark i', 'storm   i', 'grouat  i', 'sworm i', 'op  i', 'a long folowengbot clings toward chin i', 'tark   i', 'rake  i', 'race i', 'air i', 'i can read  i', 'air  i', 'jacket i', 'dont li mister cay ung or s exlict the i', 'rech i', 'hair i', 'spark i', 'fo  i', 'come  i', 'daggerd i', 'corn i', 'spark i', 'fud   i', 'the quk  rown fawox jrumps over the lichy to i', 'bather fars ansiours baana ol i', 'two  i', 'troat    i', 'tsuc to now a aboue bu grandfather  i', 'trace    i', 'cycle i', 'error  i', 'of   i', 'i justt try to do my best i', 'foth files would go i f lichter yir i', 'dean  i', 'side  i', 'i tried to ave eofoed the community i', 'sgh         i', 'loop  i', 'cher  i', 'area i', 'why aed afo over sillisemans i', 'ko   i', 'every thingwee we smoth the sherif  said i', 'aht  i', 'write   i', 'hate  i', 'this was easing for us i', 'whop   i', 'now   i', 'drot   i', 'trop    i', 'slip   i', 'sway i', 'showft i', 'shoot     i', \"are your grads higherr or lower than nancy's i\", 'slop     i', 'yu fter off arking a cold shwe i', 'the island o fath loe uated i', 'knot  i', 'pot     i', 'bot  i', 'sewat  i', 'trie  i', 'sprainkle i', 'knot    i', 'for i', 'tot i', 'suit     i', 'single   i', 'pile   i', 'al the bbed fbal players gu treato i', 'pay  i', 'cher  i', 'i can play this wekend  i', 'falie can play this wekkend i', 'the caenhalf on the stretcher i', 'write   i', 'wil wa bw yellow lily i', 'whitc  i', 'shear   i', 'near   i', 'ster   i', 'bad  i', 'galore   i', 'fost sunshine shimmers on the ocen i', 'o gathered shells on the beach i', 'he wil low a vaa lie i', 'charlie    i', 'wish i', 'ate  i', 'lif     i', 'knew  i', 'tie i', 'serough i', 'though  i', 'flor      i', 'therhouse is a grand watch   i', 'nothing ueuse have fond theofrnoence i', 'nothing has afu thu va thiner since i', 'slay i', 'snop  i', 'sgh   i', 'brocks  i', 'she his thinner than i am i', 'urger  i', 'jungle  i', 'bar   i', 'suit  i', 'just one side got wet i', 'pile   i', 'yeut used trabing on the fild i', 'forward   i', 'for   i', 'per i', 'staltat   i', 'a l of haf noticed toall men i', 'slip  i', 'i was consciousalw the sirme i', 'triolr  i', 'tile  i', 'treo  i', 'p    i', 'one  fr lay thie t scrubon ditat i', 'mere     i', 'sht i', 'fat  i', 'mother ts yellow kingham aprons i', 'motch  i', 'no  i', 'rock  i', 'g my lounga mudbre working had i', 'shy     i', 'troop     i', 'froot  i', 'i scrubed the fams thorougly i', 'sigh i', 'the tru voch rud to fo slowly i', 'ster  i', 'explore  i', 'grow  i', 'fed i', 'alpha  i', 'pot  i', 'farm  i', 'sip i', 'dagor  i', 'rav i', 'fair   i', 'fint  i', 'ship   i', 'park  i', 'goadfather lies to b m tranini lakgage i', 'buble  i', 'pit    i', 'will sh is nearly ninety froe years ov i', 'trouble  i', 'chair  i', 'raiid   i', 'though i', 'gadget i', 'worn   i', 'torn  i', 'go  i', 'sworm  i', 'share  i', 'a can i', 'i can read    i', 'fut  i', 'stark    i', 'rought     i', 'knew  i', 't  i', 'no  i', 'yes  i', 'store       i', 'chair  i', 'flor  i', 'ba  i', 'stubble i', 'trot  i', 'hon i', 'shet  i', 'breta  i', 'slip  i', 'fain  i', 'car  i', 'knew  i', 'no  i', 'yeet he still think thuch swiftly aeavl i', 'yush reminus several btoons    i', 'flor  i', 'traion  i', 'whie  i', 'we have ofote jump fomoe and smoke glea i', 'left   i', 'born  i', 'beat  i', 'knew  i', 'ri  i', 'range  i', 'sip  i', 'stik  i', 'storm i', 'stubble   i', 'town  i', 'few   i', 'glow  i', 'form i', 'form   i', 'rave i', 'worn  i', 'sip i', 'park      i', 'storm  i', 'mot  i', 'sporm  i', 'op  i', 'star i', 'rake   i', 'race  i', 'air  i', 'i can read  i', 'air        i', 'jacket    i', 'dont lef m to cary un o elec the i', 'raegh  i', 'hair     i', 'park  i', 'for  i', 'coape  i', 'jaggerd  i', 'corn  i', 'spark       i', 'filt  i', 'the quick brown fowox junks over the laty do i', 'bothars answers baana oil     i', 'two  i', 'trot  i', 'u wished to know al abount my grandfather i', 'traice  i', 'cycle     i', 'error  i', 'of    i', 'i just crah to do my bes    i', 'both figures woul go hig ar lighter her i', 'menu  i', 'side      i', 'i tryed to t befoan the community i', 'sige  i', 'lop  i', 'her  i', 'area    i', 'why shelled avol over silimaums i', 'eom  i', 'every thing went w smoth the sherrif  said i', 'eaght       i', 'write  i', 'hate  i', 'this was leasing for us   i', 'whop  i', 'now  i', 'trot  i', 'troop  i', 'slipt  i', 'swayr  i', 'showt   i', 'shoot   i', \"are your grades higher or lower than nancy's i\", 'fruit  i', \"you'd be fertther off tarking a cold shower     i\", 'the island bc fahlp oplat i', 'knot  i', 'pot  i', 'b  i', 'swave  i', 'play  i', 'sprinkle i', 'knot   i', 'for  i', 'where  i', 'to  i', 'sut  i', 'single  i', 'pand  i', 'all the bibrave fol players gtreater i', 'pay  i', 'cheo  i', 'i can play this wkend i', 'i fel i can play this weend  i', 'the caired mhalfon the stretcher  i', 'wriht   i', 'will robin wea yellow lily    i', 'whitch  i', 'shear  i', 'near  i', 'ster  i', 'fad  i', 'galore  i', 'bright sunshine shimmers on the ocean i', 'fou gathered shells on the beac i', 'he wil louw a rare lie i', 'charlie     i', 'worlf  i', 'a     i', 'slikt    i', 'knew  i', 'tive  i', 'through  i', 'though  i', 'flor  i', 'their house is a grey and white     i', 'nohing thuse have fond the elrnorence i', 'notthing has affensivealinnor ince i', 'slay  i', 'snop  i', 'sigh  i', 'rocks  i', 'she is thinner than i am i', 'urgent   i', 'jungle  i', 'bar   i', 'suit   i', 'just one igegot wet i', 'pile  i', 'youre used to loking on the fild i', 'forward  i', 'for   i', 'spr        i', 'sela  i', 'lk efonce notice to old men i', 'slip  i', 'i was consciousal the time i', 'prior      i', 'tile  i', 'feu  i', 'fve         i', 'one fatherthay e ithe schoubl distroit i', 'mera  i', 'fate  i', 'fat  i', 'mother thls yellow o cingham aprons i', 'much  i', 'no i', 'rok  i', 'rock  i', 'jangd my wornmal mostr by wolkong hath  i', 'sh  i', 'troop  i', 'broat  i', 'i excrubed the forusthoroughly    i', 'sigh  i', 'the trainofvo struggd tho fo slowly i', 'cer  i', 'explore  i', 'dow  i', 'graha   i', 'motherer your thoverwea s i', 'air i', 'select   i', 'ye   i', 'top         i', 'thil i', 'whre        i', 'm urisedt c i', 'mere   i', 'priar         i', 'woe wie were vrd  i', 'snoop  i', 'colpe i', 'te      i', 'i', 'a blohiher lay nathe wall i', 'echo     i', 'pa    i', 'hani   i', 'srg    i', 'ccle    i', 'braw      i', 'gent wawa a he got out i', 'at     i', 'parki i', 'shy   i', 'falier i', 'o  i', 'lair   i', 'tel i', 'lair i', 'bad i', 'clo', 'rarl', 'tal swam around the fo', 'lair', 'rausther sls have lost th', 'palpa', 'tart', 'him', 'loyal          i', 'sign   i', 'bran    i', 's  i', 'rake  i', 'seld    i', 'the ba cuna sry sweathers i', 'flor i', 'fai       i', 'pitting     i', 'fil    i', 'pla te parkage hastfily i', 'peect i', 't     i', 'enfar   i', 'st  i', 'sal i', 'farn  i', 'hil         i', 'chp  i', 'ftho i', 'caeor i', 'a i', 'aa    i', 'flow  i', 'ye    i', 'yee  i', 'knew       i', 'we hatyu i', 'chore         i', 'i ave had m bw rong i', 'sergeant i', 'ittirn i', 'pat i', 'rark i', 'for      i', 'spark i', 'fair     i', 'paun   i', 'few i', 'na  i', 'iter    i', 'cae   i', 'hum       i', 'holf trair i', 'the fox are very ybship i', 'harp   i', 'cart  i', 'park       i', 'car      i', 'hill    i', 'zero     i', 'sever      i', 'i w ththiw i', 'schouble  tr un iny i', 'flow     i', 'a pc  ou i', 'tor  i', 'swing nawon as hgh as you can i', 'beforther cuar warm bru i', 'tew    i', 'c  i', 'shy i', 'sik    i', 'there is a trad of  ulpba i', 'par          i', 'th    i', 'har    i', 'leow i', 'we vohe obg to the florm i', 'quebec  i', 'beta      i', 'te j poved musing breacfi i', 'hat i', 'were     i', 'knew  i', 'par   i', 'mar     i', 'leav   i', 'no  i', 'hotel    i', 'a ar fil irs for us i', 'torhar       i', 'golf     i', 'hitting    i', 'car lives aalively hom i', 'star     i', 'gnaw     i', 'wiccered     i', 'prior    i', 'chairp     i', 'bo te ti con hellpto i', 'hm    i', 'where  i', 'sita     i', 'grow     i', 'wala  i', 'ti have motheryears overwelmliar i', 'air  i', 'air    i', 'sel   i', 'ea  i', 'trop      i', 'pl  i', 'whie  i', 'm si thunised the flowere ca i', 'lip     i', 'tww ar ther criads heave al fve untere ari i', 'briar  i', 'b the wal wer wu   i', 'sleop      i', 'colpe  i', 'p  i', 'ang  i', 'afa loaar lys naabove all i', 'echo  i', 'though  i', 'mike  i', 'sarg  i', 'zeo      i', 'braw   i', 'sentw as he got out i', 'at  i', 'parkle  i', 'sgh   i', 'filir  i', 'l   i', 'lairk     i', 'tell  i', 'lair  i', 'tha  i', 'klo  i', 'rarly  i', 'to ta fou swam around the bot  i', 'liam  i', 'grausher ls have lost twar i', 'palpa   i', 'thisis a pof tracetion for me i', 'tart  i', 'him  i', 'noryal  i', 'sign  i', 'bran  i', 'ti  i', 'roke  i', 'fe  i', 'the b cunan tra swler   i', 'fror  i', 'bi   i', 'knitting  i', 'fill   i', 'hlae the parkage hasfily i', 'part  i', 'p i', 'p  i', 'nrown fir  i', 'op    i', 'sail  i', 'barn i', 'him  i', 'cap  i', 'fothoug  i', 'curtten      i', 'rulia  i', 'pack  i', 'flo      i', 'ralo i', 'ow   i', 'yes     i', 'leak    i', 'notun  i', 'a cor  i', 'i ave had m brow rong i', 'sergeant    i', 'sitting   i', 'car   i', 'rare  i', 'po  i', 'spark  i', 'fair  i', 'spaun  i', 'tow i', 'nine  i', 'sitter  i', 'cake   i', 'hurm i', 'holf crai  i', 'the fox are veryship         i', 'harp      i', 'car  i', 'park  i', 'dar  i', 'hill  i', 'zero  i', 'seven     i', 'i have rwe thevillco i', 'the  scobahou strs un y i', 'flow  i', 'a pocuhs lru   i', 'tor  i', 'swing nawontas hgh asyou can i', 'before thur cots warm frw  i', 'him  i', 'c      i', 'sy  i', 'sick      i', 'there is a tradof ulpperall    i', 'par  i', 'thought   i', 'har    i', 'le  i', 'we voob to the flor  i', 'quebe   i', 'bit  i', 'jb poo mocing brouwn ft    i', 'the jb provides mony brenifits i', 'hat  i', 'w i', 'lep  i', 'par  i', 'mush  i', 'lea  i', 'no  i', 'fitew  i', 'waa  fail  for us  i', 'trorn  i', 'gol       i', 'hitting  i', 'car lives taa lively home  i', 'tarn  i', 'gnaw   i', 'acar thtrouacaa ther  fvrable i', 'wickere      i', 'rior  i', 'ters safor foubbing l i', 'chaip     i', 'f bot  time con help tro  i', 'ham  i', 'where   i', 'sita      i', 'sare       i', 'prair i']\n"
          ]
        },
        {
          "name": "stderr",
          "output_type": "stream",
          "text": [
            "Saving model checkpoint to torgo_xlsr_finetune-M02-2/checkpoint-9500\n",
            "Configuration saved in torgo_xlsr_finetune-M02-2/checkpoint-9500/config.json\n",
            "Model weights saved in torgo_xlsr_finetune-M02-2/checkpoint-9500/pytorch_model.bin\n",
            "Feature extractor saved in torgo_xlsr_finetune-M02-2/checkpoint-9500/preprocessor_config.json\n",
            "Deleting older checkpoint [torgo_xlsr_finetune-M02-2/checkpoint-8500] due to args.save_total_limit\n",
            "/usr/local/lib/python3.9/dist-packages/transformers/models/wav2vec2/processing_wav2vec2.py:155: UserWarning: `as_target_processor` is deprecated and will be removed in v5 of Transformers. You can process your labels by using the argument `text` of the regular `__call__` method (either in the same call as your audio inputs, or in a separate call.\n",
            "  warnings.warn(\n",
            "The following columns in the evaluation set don't have a corresponding argument in `Wav2Vec2ForCTC.forward` and have been ignored: input_length. If input_length are not expected by `Wav2Vec2ForCTC.forward`,  you can safely ignore this message.\n",
            "***** Running Evaluation *****\n",
            "  Num examples = 714\n",
            "  Batch size = 8\n"
          ]
        },
        {
          "name": "stdout",
          "output_type": "stream",
          "text": [
            "['grow i', 'fed  i', 'alpha  i', 'pot   i', 'farm  i', 'sip i', 'daggo i', 'rave i', 'fair i', 'shet i', 'ship i', 'park i', 'god fatherslichts to be my darn ansers lackgage i', 'spurkble i', 'pit  i', 'wll sh ye snearly notcis with yearso i', 'trouble i', 'chair i', 'rat i', 'thegh  i', 'gadget i', 'brawn i', 'torn i', 'go i', 'swarm i', 'share i', 'y i teroncs i', 'i can meat i', 'shate  i', 'starp      i', 'wright i', 'dub   i', 'tair i', 'no i', 'yes i', 'store i', 'chair i', 'swore i', 'bat  i', 'stubble i', 'trop     i', 'she had your doksic in ged swe fwater all year i', 'hoat  i', 'shet  i', 'parca i', 'slect  i', 'fite   i', 'car  i', 'knaing i', 'no   i', 'yetthe still triinks tefs swoarsly as ever i', 'usualy minus several bottouns i', 'flor  i', 'trainc   i', 'bo   i', 'we have often urge jump tfo moe and smoke glas i', 'there jugs munt lef i', 'fornt i', 'bight     i', 'do  i', 'wright   i', 'rage  i', 'sip i', 'stick   i', 'storm i', 'stubble  i', 'torm i', 'two i', 'glow i', 'form i', 'florm  i', 'briar i', 'borm   i', 'ship i', 'tark i', 'storm   i', 'roat  i', 'swarm    i', 'top  i', 'a long forlowern ftd cingss to ards chhin i', 'tark  i', 'rake i', 'race i', 'eror i', 'i can read  i', 'air i', 'jacket i', \"don't li mto cary oun or sh i expeict the i\", 'rgedh i', 'hair i', 'spark i', 'for i', 'compe  i', 'jaggerd i', 'corn i', 'spark i', 'fud        i', 'the quick brown fowox jumps over the lichy dog i', 'but the bars ansiers banana oil i', 'two   i', 'trad   i', 'suce to now all abount fu grandfather  i', 'trace     i', 'cycle i', 'error i', 'of i', 'i just try to do my best i', 'fosth  sfrigles would go hiy  lichter sirp i', 'dea   i', 'side i', 'i tlied just have preopoled the communitty i', 'sigh  i', 'loop i', 'chero i', 'area i', 'why joged afo  oer shellylisemans i', 'kio    i', 'every thingwene beouc smocth the sherrif  said i', 'eight i', 'rite i', 'hate   i', 'this was easing for us i', 'whop  i', 'do     i', 'trot   i', 'troop i', 'slip  i', 'sway i', 'shoft i', 'shoot i', \"are your greads higher or lower than nancy's i\", 'shrop  i', \"you'd pefr off charking a cold shower i\", 'the island  fach lokes olaters i', 'knot      i', 'pot       i', 'bot i', 'selacht  i', 'trie i', 'sprinkle i', 'knot i', 'form i', 'tot i', 'seut i', 'singo i', 'pile i', 'all the fixbused fall players get treto i', 'pay   i', 'cher   i', 'i can play this weekend  i', 'i fee alloie can play this wekend i', 'the carred bhlf on the stretcher i', 'writ i', 'bill o bamwl yellow lily i', 'whip i', 'shear i', 'near   i', 'stera i', 'bad   i', 'galore  i', 'fost sunshine shimers on the ocean i', 'woue gathered shells on the beac i', 'he wil abo low a veara lie i', 'charlie i', 'welsh i', 'et   i', 'light i', 'thewug   i', 'tie i', 'sevroughe i', 'though  i', 'flor   i', 'the house is a god yes watch i', 'no thingsures have found the  oferxnoence i', 'not sigs hav fems ther vali hinner ince i', 'slay i', 'snorp           i', 'sigh i', 'rocks   i', 'she lils thinner than i am i', 'urgent i', 'jungle   i', 'fear  i', 'sip  i', 'just one side got wet i', 'pile i', 'yet its trabing on the filed i', 'forward i', 'for i', 'ter i', 'steltot   i', 'a log dfa notice to wall men i', 'slip  i', 'i as conscus all the sirm i', 'trile   i', 'tile   i', 'treo     i', 'pot  i', 'one fahr lay the time t schroubl dictat i', 'meue    i', 'sht i', 'fat i', 'mother sws  yellow kingham aprons i', 'moch    i', 'nop i', 'rock   i', 'jg maal musare workong hard i', 'shy   i', 'troop i', 'froit  i', 'i exscrubed the foams thoroughly i', 'sigh i', 'the traina voche sjud toe fo slowly i', 'ster   i', 'explore i', 'grow  i', 'feed i', 'alpha  i', 'pot  i', 'farm  i', 'sip i', 'daggo  i', 'rave i', 'fair  i', 'fint  i', 'ship  i', 'park  i', 'godfather liges to beo my trananers slackgage i', 'pubble  i', 'pit    i', 'alfe is nearly ninec fre years old i', 'trouble  i', 'chair  i', 'raid i', 'though i', 'gadget i', 'farm  i', 'torn  i', 'go   i', 'swarm i', 'share   i', 'al yur carns i', 'i can read  i', 'fillt  i', 'stark     i', 'right  i', 'knew  i', 'te  i', 'no  i', 'yes  i', 'store     i', 'chair   i', 'flor   i', 'bat      i', 'stubble i', 'trot  i', 'hon i', 'shet  i', 'preapa   i', 'selicp  i', 'fin  i', 'car    i', 'knew      i', 'nom  i', 'yeet he still thinks  thech swiftly as evl i', 'use reminus several botoums i', 'flor  i', 'train  i', 'whie  i', 'we have oftenotce jump tofo male and smoke glas i', 'left   i', 'form  i', 'beaght  i', 'snop  i', 'rihe   i', 'range  i', 'sip  i', 'stic  i', 'storm i', 'stubble  i', 'storm  i', 'fim  i', 'glow   i', 'form i', 'form   i', 'rave i', 'form   i', 'sip i', 'tark  i', 'storm  i', 'smoat  i', 'storm      i', 'op   i', 'start i', 'rake i', 'race i', 'air   i', 'i can read i', 'air   i', 'jjacket  i', \"don't  eft me to carry oun erini exlect the i\", 'raege        i', 'hair   i', 'park       i', 'for  i', 'compe  i', 'jaggerd     i', 'corn  i', 'spark  i', 'fillt    i', 'the quick  brown fohox jumks over the lagchy dot  i', 'but theors  ansers baana oil      i', 'to  i', 'traoot     i', 'she wished to know all abount my grandfather i', 'trice  i', 'cycle      i', 'error   i', 'of    i', 'i just cratc o do my best i', 'both  figules would go higyh r lighter ears i', 'nenhum  i', 'side   i', 'i tried to dg befolun the communitys i', 'sige  i', 'loop    i', 'here  i', 'area   i', 'why selled afory over sielisams i', 'hem  i', 'every thing went rel smoth the sherif said i', 'ight         i', 'write  i', 'hate  i', 'hist as eaves him for us i', 'whoop  i', 'now     i', 'trot   i', 'trop  i', 'sleft    i', 'swayar     i', 'shoft   i', 'shot  i', \"are your grades higher or lower than nancy's i\", 'fruit  i', \"you'd pre ferthere off tearking a cold showor     i\", 'the island boc farcslips opat i', 'knot  i', 'pot  i', 'spul  i', 'swave         i', 'play  i', 'sprinkle i', 'knot   i', 'form  i', \"we're  i\", 'tot  i', 'sivr  i', 'single  i', 'pad   i', 'all the bigbased fol players get treaterd i', 'pay  i', 'chero  i', 'i can play this wekend i', 'i fel i can play this wekend i', 'the carried molff on the stretcher i', 'writ  i', 'will fafinwar a yellow liely  i', 'whitch    i', 'shear       i', 'near  i', 'ster      i', 'fad  i', 'galore  i', 'bright sunshine shimmers on the ocean i', 'foue gathered shells on the beach i', 'he wil above ou a rare lie i', 'charlie  i', 'worf     i', 'eight    i', 'sliyc   i', 'knew  i', 'tie     i', 'sroch  i', 'though  i', 'flor  i', 'their house is a grey and white  i', 'notthing uthuse have fond the elrexnoence i', 'notthing has offens ivfl inners ince i', 'slay   i', 'snop  i', 'sigh     i', 'rocks  i', 'she is thinner than i am i', 'urgent   i', 'jungle  i', 'far  i', 'suip  i', 'just one ide got wet i', 'pile  i', 'yurt used to boing on the field i', 'forward      i', 'for  i', 'sper       i', 'selica    i', 'i loke the fonce notice two old men i', 'slip         i', 'i was conscious all the tirme i', 'prior    i', 'tile  i', 'feum  i', 'fov  i', 'one filhrtay thetie wit the schroubal distrit i', 'meu  i', 'fate  i', 'fat  i', 'mothers thewls yellow of cingham eprons i', 'much  i', 'no  i', 'rock i', 'rock  i', 'jange my warmalle musus by wolkong hath i', 'shy  i', 'troop  i', 'brooat  i', 'i excrubed the fms thoroughly   i', 'sigh  i', 'the train of vfoc sjued to fo lowly  i', 'zeer  i', 'explore      i', 'drop i', 'roha  i', 'i mothher r your tho for wal sh i', 'air i', 'select  i', 'ye   i', 'srop        i', 'thilh i', 'wore  i', 'm si unised the floor wa cam i', 'seare     i', 'ppriar          i', 'by aloie lilswile were bord  i', 'slip i', 'colpe i', 'tie       i', 'ak          i', 'al b a alo hiher lave cinga va i', 'echo    i', 'thouht     i', 'panu   i', 'are sage   i', 'zerc   i', 'braw      i', 'jent swawal ic he got out i', 'at       i', 'parket i', 'shy       i', 'favlie i', 'hop   i', 'lair   i', 'til i', 'lair i', 'bad i', 'cirlo', 'varly', 't alfox swarm around the fole', 'lair', 'gruus ther sels have lost ther i', 'papa', 'tart', 'hem', 'loryal         i', 'sign   i', 'bran i', 's i', 'rake          i', 'siee       i', 'the b cunta slay sweathers i', 'floor i', 'fair       i', 'sitting     i', 'fil i', 'h eplar the parkcage hastfily i', 'peect i', 't      i', 'november i', 'stirt i', 'shall ive i', 'farn i', 'him    i', 'chop i', 'fthough i', 'car i', 'zat i', 'paaoc  i', 'flow  i', 'ye    i', 'yees i', 'lake   i', 'bnatcim i', 'schore   i', 'i ave had my b rong i', 'sergeant i', 'sitting i', 'pot i', 'vark i', 'flour   i', 'spark i', 'fair   i', 'fau i', 'few i', 'darn   i', 'siter    i', 'cake i', 'hum      i', 'hof trae i', 'the fox are very ye fst ship i', 'harf  i', 'cart        i', 'park       i', 'jar        i', 'hill    i', 'zero     i', 'sever  i', 'i darpe  thes  woot i', 'te f schouble i ters unasy i', 'flor   i', 'al poc ar chais cil i', 'tore  i', 'swing nw  arm as high asyou can i', 'befor there cars a warm b i', 'hil    i', 'ch    i', 'shy i', 'six     i', 'there is a trad of ulpppo i', 'park    i', 'though  i', 'har    i', 'lo i', 'we voce bgh to the flaorm i', 'quebec i', 'bitan     i', 'the job provuied mosing brecfi i', 'hat i', 'war       i', 'lick  i', 'tar   i', 'mark       i', 'leve    i', 'no    i', 'hete i', 'el all or fails sers for us i', 'torhar    i', 'golf        i', 'hitting     i', 'caral lives taa liasy hom i', 'starm       i', 'gnaw        i', 'whiccared     i', 'prior     i', 'chaip    i', 'hbt the jil coan helptoop i', 'hem i', \"whe're  i\", 'sita i', 'grow      i', 'wala  i', 'ig have malaors al fer wealmiar i', 'ar  i', 'air    i', 'csel   i', 'era  i', 'trop       i', 'fil   i', 'wie  i', 'mil sif thinirsed the flowere car i', 'lip       i', 't a ther cuariades heaves all several unstere ais s i', 'braiar  i', 'bfore the walls weare o our          i', 'slip      i', 'colpe  i', 'te  i', 'ang  i', 'ofal loaal arar lys near abov all i', 'echo  i', 'thought  i', 'mike  i', 'sarge     i', 'zero     i', 'baw  i', 's dent wr as he got out i', 'at    i', 'tparke  i', 'sigh  i', 'fili  i', 'le  i', 'lairk   i', 'tell  i', 'lair  i', 'thegh  i', 'kilo  i', 'rarly  i', 'to  tall founxs swam aroun ther boat  i', 'lairm  i', 'gauscarers sls have lost ther warm i', 'palpa   i', 'theirs is a puof track crcions for mint i', 'dart       i', 'hem  i', 'nora  i', 'sign  i', 'bran     i', 'tio  i', 'rake  i', 'siev  i', 'the bo cut jan lay swayler          i', 'ffror  i', 'bit    i', 'nitting  i', 'fill  i', 'he place the parkcage hastftily i', 'part  i', 'pect i', 't  i', 'no brown fher  i', 'eip      i', 'sall ir  i', 'barn i', 'him  i', 'cop  i', 'forthough  i', 'curen       i', 'mulicet  i', 'park  i', 'fo    i', 'ralo i', 'alp  i', 'yes      i', 'leak      i', 'knotim  i', 'al core  i', 'i ave had my brbe rung i', 'sergeant   i', 'sitting  i', 'cart    i', 'rare  i', 'por  i', 'spark   i', 'fair  i', 'spaun  i', 'thop i', 'darn  i', 'sitter  i', 'cark       i', 'hurm i', 'hof cair  i', 'the fox  are very yel ship  i', 'harp      i', 'car   i', 'park  i', 'dark   i', 'hill  i', 'zero  i', 'seven    i', 'i have r wel farm te elicive lop i', 'there of schoubal hous stares uny i', 'flow  i', 'al poc ehs c u   i', 'tort  i', 'swing naw an as high as you can i', 'before theire cods warm fruht  i', 'him  i', 'chw     i', 'sy  i', 'six        i', 'there isa trade housf  alppepall  i', 'far    i', 'thought   i', 'harp  i', 'lie  i', 'wevofofgh to the flor  i', 'quebec  i', 'bitan  i', 'the job provoued moscing oh fit i', 'the job provoices many benefits i', 'hat  i', 'lip i', 'lip   i', 'tark  i', 'mush  i', 'leak  i', 'no  i', 'fitew i', 'walall a fails rs forus  i', 'torn  i', 'golf       i', 'hitting  i', 'car a lives tus a livealy horm  i', 'darn  i', 'gnaw  i', 'alscarl thei troubles l cara ther con favrable i', 'wickared  i', 'prair  i', 'the mners srge galap for fubing locs i', 'caip      i', 'pety hbote the jime cond helptroual     i', 'ham  i', 'whip   i', 'sieta         i', 'share  i', 'prair i']\n"
          ]
        },
        {
          "name": "stderr",
          "output_type": "stream",
          "text": [
            "Saving model checkpoint to torgo_xlsr_finetune-M02-2/checkpoint-10000\n",
            "Configuration saved in torgo_xlsr_finetune-M02-2/checkpoint-10000/config.json\n",
            "Model weights saved in torgo_xlsr_finetune-M02-2/checkpoint-10000/pytorch_model.bin\n",
            "Feature extractor saved in torgo_xlsr_finetune-M02-2/checkpoint-10000/preprocessor_config.json\n",
            "Deleting older checkpoint [torgo_xlsr_finetune-M02-2/checkpoint-9000] due to args.save_total_limit\n",
            "/usr/local/lib/python3.9/dist-packages/transformers/models/wav2vec2/processing_wav2vec2.py:155: UserWarning: `as_target_processor` is deprecated and will be removed in v5 of Transformers. You can process your labels by using the argument `text` of the regular `__call__` method (either in the same call as your audio inputs, or in a separate call.\n",
            "  warnings.warn(\n",
            "The following columns in the evaluation set don't have a corresponding argument in `Wav2Vec2ForCTC.forward` and have been ignored: input_length. If input_length are not expected by `Wav2Vec2ForCTC.forward`,  you can safely ignore this message.\n",
            "***** Running Evaluation *****\n",
            "  Num examples = 714\n",
            "  Batch size = 8\n"
          ]
        },
        {
          "name": "stdout",
          "output_type": "stream",
          "text": [
            "['grow i', 'feed   i', 'alpha  i', 'pot   i', 'farm  i', 'sip i', 'daggoe i', 'rave i', 'fiar i', 'fate i', 'sip i', 'park i', 'godfathers light to be mo dernaners lackgage i', 'sparkble i', 'pit  i', 'wll sh  snearly notce ith your o i', 'trouble i', 'chair i', 'raid  i', 'thugh            i', 'godget i', 'brawn    i', 'torn i', 'go i', 'swarm i', 'share i', 'i  teront i', 'i can meat i', 'shate  i', 'star     i', 'wrighte  i', 'no    i', 'tar i', 'no    i', 'leef i', 'store i', 'chair i', 'slore i', 'bat  i', 'stubble i', 'trop       i', 'she had your darksiut in ged swse fater all year i', 'hart  i', 'sheet  i', 'paca i', 'sebict    i', 'spainge  i', 'car   i', 'knoing i', 'no     i', 'yeet the stelffing thefht ssworsly thas eval i', 'musualy minus several buttons i', 'flor  i', 'train   i', 'b  i', 'we have often urge jumped a more and smoe glas i', 'ther juges muna left i', 'ban i', 'bight   i', 'neow  i', 'wrihe  i', 'rage   i', 'slip i', 'stick   i', 'storm i', 'stubble  i', 'dowm i', 'two i', 'galow i', 'form i', 'florm  i', 'briar  i', 'brawn  i', 'ship i', 'stark i', 'storm   i', 'raiht  i', 'swarm   i', 'chop  i', 'a long folowern both  clings towards in i', 'dark  i', 'rake i', 'race i', 'error i', 'i can read  i', 'aior i', 'jacket i', \"don't  mister cary ung or sh exict the i\", 'regh i', 'hair i', 'spark i', 'four i', 'coump  i', 'jaggered i', 'corn i', 'spark i', 'faid  i', 'the quk  brawn fowox shumpdd over the lichy to i', 'but the abwas anscious bannana al i', 'two    i', 'trad     i', 'csuced to now al abount by grandfather i', 'trace    i', 'cycle i', 'error i', 'of i', 'i just try to do my best i', 'foths frigules would go hhir lighter years i', 'ned  i', 'side i', 'i tried jus  have preopoled the communitty ri', 'sigh  i', 'loop i', 'cher i', 'area i', 'why joged afo oer sellisemans i', 'cher   i', 'every thingwonge beo smoakth the sherliff said i', 'eight  i', 'write   i', 'hate   i', 'sti was leasing for aus i', 'whop  i', 'dow    i', 'drop   i', 'droop i', 'sliep   i', 'sway i', 'shoft i', 'shot i', \"are your grads higher or lower than nancy's i\", 'shrop  i', \"you'd ben be off charking a cold shoer i\", 'the island bfaoch loked up lit i', 'knot  i', 'pot     i', 'bt i', 'selagt    i', 'trie i', 'sprarnkle i', 'knot i', 'faur i', 'tot i', 'suit i', 'single  i', 'pile i', 'all the bibased  ball players got treato i', 'pay   i', 'cher   i', 'i can play this weekends  i', 'i fee alie canc  play this weekend i', 'they carred me of on the stretcher i', 'write i', 'bil  baml yellow lilly i', 'woc   i', 'shear i', 'near   i', 'ster  i', 'bat  i', 'galore  i', 'but sunshine shimmers on the ocen i', 'bope gathered shells on the beac i', 'he wil abou louw a vera lie i', 'charlie i', 'walsh i', 'eape   i', 'ligft i', 'though       i', 'tive i', 'sevrough i', 'though  i', 'flor i', 'the house is a g and wite i', 'notthing a use have found the ornoence ni', 'not sings havfums th vahinner since i', 'slay i', 'snap     i', 'sigh    i', 'rocks   i', 'she lis thinner than i am i', 'urgent i', 'jungle       i', 'their  i', 'suip     i', 'just one side got wet i', 'pile i', 'yet usd trabting on the filed i', 'forward i', 'four i', 'er i', 'stablopt    i', 'i lk of have notice two all men i', 'slip  i', 'i was conscusalw the signe i', 'trior   i', 'tile   i', 'tro   i', 'p   i', 'one father lay the time  scoubln distruit i', 'meue    i', 'shiht i', 'fat  i', 'mother seus yellow kingham aprons i', 'ruch       i', 'no     i', 'rock   i', 'sg my loa mus bre workong hard i', 'shy    i', 'throop  i', 'bruit  i', 'i scrubed the foums thoroughly i', 'sigh i', 'the trina voche sjuped toe fa slowly i', 'sther    i', 'exploret  i', 'grow  i', 'feed i', 'alpha  i', 'pot  i', 'farm  i', 'sip i', 'sagge  i', 'rave i', 'fail  i', 'fate  i', 'ship  i', 'park  i', 'god father ligedsd to be smy trainainer lackgage i', 'spubble  i', 'bi     i', 'alf is nearly ninety fre yearsold i', 'trouble  i', 'chair  i', 'raid   i', 'though i', 'gadget i', 'barn   i', 'torn  i', 'go  i', 'swarm  i', 'share  i', 'iy  cans i', 'i can mread  i', 'fite  i', 'star   i', 'wright     i', 'now  i', 't  i', 'no   i', 'yes  i', 'store        i', 'chair    i', 'flor  i', 'bat   i', 'stubble i', 'trout  i', 'hon i', 'sheet  i', 'pepca  i', 'selict  i', 'fain  i', 'car  i', 'knew   i', 'no  i', 'yeet he still thinks thouch swiftly as eavl i', 'us  reminus several butons  i', 'flor  i', 'train  i', 'whem     i', 'we have oftenuced jumped fo mole and smoke gleas i', 'left  i', 'born  i', 'bight  i', 'snew  i', 'rip  i', 'range  i', 'slip  i', 'stip  i', 'storm i', 'stubble  i', 'staowm  i', 'friu  i', 'glow  i', 'form i', 'florm   i', 'brave i', 'born  i', 'sip i', 'tark    i', 'storm  i', 'smoat  i', 'sptorm  i', 'op    i', 'stark i', 'rake i', 'race i', 'air  i', 'i can read      i', 'air      i', 'jacket   i', 'sount ifht me to carry une orni eglectd the i', 'raege         i', 'hair    i', 'spark  i', 'four  i', 'colmpe  i', 'jaggerd       i', 'corn  i', 'spark   i', 'fillt  i', 'the quick  brown fox junks over the lagchy dot  i', 'buths  answers banana oil   i', 'two  i', 'traiot         i', 'shu wished to know all abount my grandfather i', 'traice   i', 'cycle       i', 'error  i', 'of    i', 'i just cr to do my best i', 'both  figures wouled go higr lghter years i', 'menu  i', 'side   i', 'i tried to d bepoten the community i', 'sige  i', 'loop     i', 'shear  i', 'area     i', 'why shealled afol over sielliaums i', 'hearm  i', 'everything wene rel smoth the sherrif said i', 'eight       i', 'rite  i', 'hate  i', 'theis was leve in for us   i', 'wo  i', 'now   i', 'drot     i', 'droop  i', 'sleft     i', 'swior  i', 'shoft   i', 'shot   i', \"are your gurades higher or lower than nancy's i\", 'fruit  i', \"you'd be berter off tarking a cold shoor   i\", 'the island bc farclop opate i', 'knot  i', 'pot  i', 'sprounglee  i', 'swave  i', 'plaiye  i', 'sprinkle i', 'knot   i', 'four  i', \"we're  i\", 'to  i', 'siu  i', 'single  i', 'span  i', 'all the big base fbal players get streted i', 'pay  i', 'cheror  i', 'i can play this weekend  i', 'i feel i can pplay this weekend  i', 'they carired me olff on the stretcher  i', 'write  i', 'will fobin ma yellow lilly     i', 'whitc    i', 'shear  i', 'near  i', 'steor     i', 'fad  i', 'galore  i', 'bright sunshine shimmers on the ocean i', 'bue gathered shells on the beach i', 'he wil above ou a rare lie i', 'charlie      i', 'wolf  i', 'eght     i', 'slight    i', 'knew  i', 'tive     i', 'through  i', 'though  i', 'flor  i', 'their house is a grey and white      i', 'notthing uthuse hav found the ealprnoence i', 'notthing has offensive fainnoers since i', 'slay  i', 'snop  i', 'sigh    i', 'rocks  i', 'she is thinner than i am i', 'urgent   i', 'jungle  i', 'bear    i', 'suip  i', 'just one side got wet i', 'pile  i', 'yourt used tbing on the fold i', 'forward     i', 'four  i', 'sper    i', 'seblicca  i', 'i lke dofons notice to ald men i', 'slip         i', 'i was conscious all the sime i', 'prior   i', 'tile  i', 'fer   i', 'fi  i', 'one father lay heige th scruouble distroit i', 'mere  i', 'fate          i', 'pat  i', 'mothers sels yellow  kingham aprons i', 'much  i', 'no i', 'rocg    i', 'rock  i', 'jangmy warmale musy by wokong hard  i', 'sigh  i', 'troop  i', 'bruat  i', 'i excrubed the f us thoroughly   i', 'sigh  i', 'the train of vo struged to foh stlowhly  i', 'sher  i', 'explore     i', 'ggrow i', 'rawha  i', 's mother r your tho wrwall shi i', 'air i', 'selet  i', 'ita   i', 'srop       i', 'shigh i', 'whire     i', 'my si survised the floo was car i', 'ler   i', 'priar      i', 'ba moie liwile wer rd  i', 'slip i', 'colpe i', 'tie       i', 'ba         i', 'al ba al  higher lave na  oal i', 'echo    i', 'thought     i', 'inur   i', 'are sarge  i', 'sero   i', 'braw       i', 'sr jent sw as he got out  i', 'at      i', 'parkit i', 'shy         i', 'fairli i', 'i', 'lair   i', 'til i', 'liar i', 'ba i', 'cilo', 'viuly', 't alff swam around the bol', 'lair', 'rmus ither sels have lost ther viare', 'papa', 'start', 'hem', 'loyal    i', 'sign  i', 'brawn    i', 's i', 'rake       i', 'sed           i', 'the ba cuncai slay sweather i', 'flor i', 'fir      i', 'itting    i', 'fill i', 'he ed epair the packcage hatfily i', 'pect i', 'trrait   i', 'venfar i', 'sstark i', 'shall iy i', 'barn i', 'hill     i', 'chop  i', 'tothough i', 'caror i', 'bia i', 'haaac  i', 'blow        i', 'ye  i', 'yes i', 'lak   i', 'bnaca    i', 'a schoure      i', 'i ave had my bw rong i', 'sergeant i', 'sitting i', 'cot i', 'rar i', 'spar i', 'spark i', 'spir  i', 'spaun i', 'felw i', 'nin   i', 'siter    i', 'cake i', 'hum    i', 'holf trair i', 'the box sarwe very pship i', 'harp   i', 'car   i', 'par    i', 'jarw       i', 'hill       i', 'zero   i', 'sever   i', 'i carpwall th ol  i', 'the f schouble  star un haty i', 'flo   i', 'al poc ar shs vliir i', 'to  i', 'swing n arn as high asou can i', 'bifor theire cars warm  i', 'hill      i', 's    i', 'shy i', 'si   i', 'there is a trad ouf  ulppbal  i', 'par    i', 'thuig   i', 'har    i', 'liw i', 'we vo bgh to the flarm i', 'quebec i', 'bit    i', 'the job provied musing beancas fo i', 'hat i', 'wire     i', 'lick  i', 'car  i', 'imack   i', 'li  i', 'no    i', 'fit i', 'al all o fail r for us i', 'tor   i', 'golf       i', 'hitting   i', 'carll lives ana lily home i', 'tarn       i', 'gno      i', 'whicared    i', 'prior        i', 'chhairp  i', 'bt the im con helpto i', 'ham      i', 'where   i', 'sita i', 'grow   i', 'walhal  i', 'sig ha minrloyars   ver welmsliar i', 'sair  i', 'air     i', 'sel  i', 'era  i', 'troop   i', 'pil    i', 'white  i', 'mi sif thounized the flowared car i', 'lip      i', 'to ar ther curiads heave all several on there aliive mun i', 'briar  i', 'bre tie wal war  one          i', 'slip     i', 'colpe  i', 't  i', 'and  i', 'ofall lol arr ly nea above al i', 'echo  i', 'thought  i', 'mie  i', 'sarge    i', 'seru   i', 'baw  i', 'suent w as he got out i', 'at    i', 'parkle  i', 'sigh  i', 'filin  i', 'l  i', 'lar     i', 'tell  i', 'liar  i', 'thegh  i', 'clo  i', 'rirely  i', 't tal fus swam around ther boat  i', 'lair  i', 'gra musirlere sals have lost thrwair i', 'palpa   i', 'their is a period off track zeccion for mie i', 'dar      i', 'hem  i', 'na  i', 'sign  i', 'bran  i', 'tiwo  i', 'rake  i', 'sear  i', 'the b cut jain lay swaler      i', 'fror  i', 'bi     i', 'nitting  i', 'fill  i', 'hploed the parckage hasthftily i', 'pair  i', 'pect i', 'p     i', 'no brown fir  i', 'aip     i', 'salire  i', 'barn i', 'hill  i', 'cop  i', 'flothough  i', 'cuirten     i', 'musia     i', 'hark  i', 'i', 'ralo i', 'alp  i', 'yes      i', 'leak     i', 'knoten  i', 'al  score  i', 'i ave had my brow rong i', 'sergeant    i', 'sitting  i', 'cat   i', 'rare  i', 'sparh  i', 'spark  i', 'spar  i', 'spaiun  i', 'though i', 'nine  i', 'sitter  i', 'carke     i', 'harm i', 'holfcar  i', 'the fox sarwe very ship  i', 'harp      i', 'car  i', 'park  i', 'dark  i', 'hill   i', 'zero  i', 'severn  i', 'i have  well m the dlicive orp i', 'the of schoubal house sturbed uny i', 'flow  i', 'il pocu sevs vi   i', 'to  i', 'swing nawh aon as high as you can i', 'befoe theire gots warm bouht  i', 'him  i', 'saw   i', 'sigh  i', 'si     i', 'there is a trad of  upperall   i', 'fair        i', 'thought       i', 'har   i', 'lie  i', 'wil voobcgh to the flor     i', 'quebec   i', 'bit  i', 'the job provued moscing bough fuil   i', 'the job provoitdess many benefits i', 'hat  i', 'slecht i', 'lip  i', 'par  i', 'mush  i', 'leak  i', 'no  i', 'fiteu  i', 'lal al fil r fors  i', 'forn  i', 'golf      i', 'hitting  i', 'carl lives ta a livly home  i', 'darn  i', 'gnaw  i', 'alscar the troubbl up cara the cun fvirable i', 'wickceare  i', 'prioar  i', 'the oers se gala p for umbbing le i', 'sshairp      i', 'pi habout the time cond help tro     i', 'ham  i', 'where    i', 'sita       i', 'share   i', 'prair i']\n"
          ]
        },
        {
          "name": "stderr",
          "output_type": "stream",
          "text": [
            "Saving model checkpoint to torgo_xlsr_finetune-M02-2/checkpoint-10500\n",
            "Configuration saved in torgo_xlsr_finetune-M02-2/checkpoint-10500/config.json\n",
            "Model weights saved in torgo_xlsr_finetune-M02-2/checkpoint-10500/pytorch_model.bin\n",
            "Feature extractor saved in torgo_xlsr_finetune-M02-2/checkpoint-10500/preprocessor_config.json\n",
            "Deleting older checkpoint [torgo_xlsr_finetune-M02-2/checkpoint-9500] due to args.save_total_limit\n",
            "/usr/local/lib/python3.9/dist-packages/transformers/models/wav2vec2/processing_wav2vec2.py:155: UserWarning: `as_target_processor` is deprecated and will be removed in v5 of Transformers. You can process your labels by using the argument `text` of the regular `__call__` method (either in the same call as your audio inputs, or in a separate call.\n",
            "  warnings.warn(\n",
            "The following columns in the evaluation set don't have a corresponding argument in `Wav2Vec2ForCTC.forward` and have been ignored: input_length. If input_length are not expected by `Wav2Vec2ForCTC.forward`,  you can safely ignore this message.\n",
            "***** Running Evaluation *****\n",
            "  Num examples = 714\n",
            "  Batch size = 8\n"
          ]
        },
        {
          "name": "stdout",
          "output_type": "stream",
          "text": [
            "['grow i', 'sheed  i', 'alpha  i', 'pot  i', 'farm  i', 'share i', 'daggor i', 'rave i', 'fair i', 'shet     i', 'ship i', 'par i', 'godfathersliget to be m dan aners lackage i', 'sparble i', 'pit   i', 'will sh y nearly notceis with yor ow i', 'trouble i', 'chair i', 'rav  i', 'thagh      i', 'goadget i', 'barwn  i', 'torn i', 'go i', 'swarm i', 'share i', 'tarn i', 'i can meat i', 'shat   i', 'starp         i', 'right i', 'don         i', 'tair i', 'now   i', 'yes i', 'store i', 'chair i', 'flor i', 'bat  i', 'stubble i', 'trop         i', 'she had your dorksit in grewash water all year i', 'hart  i', 'sheet  i', 'paca i', 'eit  i', 'paine  i', 'car   i', 'knoing   i', 'no   i', 'yeethstel taink thouf sworscialy thas eval i', 'musualy minus several butonss i', 'flor  i', 'train   i', 'bot   i', 'we have often urge jumpoal mo and small glas i', 'ther juges muna left i', 'barn i', 'beat  i', 'now  i', 'right     i', 'range    i', 'sip  i', 'stick      i', 'storm i', 'tuble  i', 'dawm i', 'two i', 'glow i', 'form i', 'florm  i', 'briar  i', 'bawn   i', 'chair i', 'tark i', 'storm   i', 'greaht  i', 'swarm  i', 'cop  i', 'a long  foower bot clings towards hhin i', 'dark  i', 'rake i', 'race i', 'error i', 'i can read    i', 'aror i', 'jacket i', 'dont  mister caryun or co i expect the i', 'rageth i', 'hair i', 'spark i', 'for i', 'coump i', 'jaggerd i', 'corn i', 'spark i', 'fhed    i', 'the quk  brawn fowoxjump over the lachy do i', 'bot the awas jansers banana all i', 'two   i', 'trat    i', 'sce to know all abount buy grandfather  i', 'trace   i', 'cycle i', 'error i', 'of i', 'i jus try to do my bes i', 'foth fricgules would go hi of licar years i', 'nea  i', 'side i', 'i tied just have preopoed the communitty i', 'sigh  i', 'loop i', 'chera i', 'area i', 'why joed a fo oer schelly iymans i', 'cheer    i', 'every thingwime beo  smocth the sherlif said i', 'eight  i', 'right  i', 'hate    i', 'this was easing for us i', 'whop   i', 'daw    i', 'drot   i', 'troop   i', 'slip  i', 'sway i', 'shoft i', 'shoot i', \"are your grades higher  or lower than nancy's i\", 'troop   i', \"you'd b off charking a cold show i\", 'the island foth looked opat i', 'knot  i', 'pot     i', 'boot i', 'serat   i', 'tie i', 'sprankle i', 'knot i', 'faur i', 'tot i', 'suit i', 'sango  i', 'pal   i', 'all the bibused ball players get tretod i', 'pay    i', 'chero   i', 'i can play this weekend  i', 'i feel alife croanmp play this weekend i', 'they carred beaof on the stretcher i', 'right i', 'wil a bamwl yellow lilly i', 'whop  i', 'shear i', 'nar   i', 'steer  i', 'bad  i', 'galore  i', 'bosht sunshine shimmers on the occearn i', 'op gathered shells on the beac i', 'he will l lowh a rara lie i', 'charlie i', 'walsh i', 'ate  i', 'lifht i', 'though    i', 'tive i', 'seroagh i', 'though  i', 'flor i', 'thehouse is go  watch  i', 'notthing asuilse have found the opher nocence i', 'nothing has havfs the validinners since i', 'slay i', 'snak  i', 'sigh i', 'rocks   i', 'she is thinner than i am i', 'urgent i', 'jungle       i', 'bear  i', 'suit       i', 'just one igh got wet i', 'pirle i', 'yet utid trabong on the fiold i', 'forward i', 'four i', 'er i', 'staat   i', 'a long dolffo notice two all men i', 'slip  i', 'i was consciousall the sime i', 'trior   i', 'tile   i', 'treo    i', 'ba   i', 'onefathur lay thetime to schroubolne ditoit i', 'meu  i', 'sht i', 'bat  i', 'mother ewlsyellow kingham aprons i', 'roch  i', 'no       i', 'rock    i', 'jangmo al musare workong hard i', 'shy    i', 'troop  i', 'broot  i', 'i scrubed the flowms tharoughly i', 'sigh i', 'the traina voched sjupd to fo slowly i', 'ztera  i', 'explore  i', 'grow  i', 'feed i', 'alpha  i', 'pot  i', 'farm  i', 'sip i', 'daggor  i', 'raive i', 'fair   i', 'feet  i', 'ship  i', 'park   i', 'godfather ligkes to be my trainainers lackgoage i', 'pubble  i', 'bit  i', 'wall she is nearly ninety fro yearsold i', 'trouble  i', 'chair  i', 'raid  i', 'thagh i', 'gadget i', 'barn   i', 'torn  i', 'go  i', 'swarm  i', 'share  i', 'ya chairns i', 'i can read  i', 'fit  i', 'stark  i', 'right  i', 'no   i', 't  i', 'no  i', 'yes  i', 'store       i', 'chair    i', 'flor  i', 'bat  i', 'stubble i', 'trot  i', 'horn i', 'sheet  i', 'peta  i', 'selict  i', 'pain  i', 'car  i', 'knew  i', 'nom  i', 'yeet he still thoinks thouch swiftly as eaval i', 'usuy minus several butons i', 'flor  i', 'train  i', 'whoillm     i', 'we have ofn urce jump tofoal mole and smoke gla i', 'left  i', 'born   i', 'beat  i', 'new  i', 'right     i', 'range  i', 'slip  i', 'stick  i', 'storm i', 'taurble    i', 'tawm  i', 'feum  i', 'glow  i', 'form i', 'form   i', 'braave i', 'barn  i', 'sip i', 'tark     i', 'storm  i', 'smeoat  i', 'sporm  i', 'op  i', 'tark i', 'rake i', 'race i', 'air  i', 'i can read       i', 'arror         i', 'jacket    i', 'sountifht mto carry un orin eglect thegh i', 'raege        i', 'hair     i', 'spark  i', 'four  i', 'coat   i', 'jaggerd  i', 'corn   i', 'spark   i', 'filt  i', 'the quick  braown foxjunks over the lagy do i', 'puths answers bannana oil  i', 'two   i', 'traiot       i', 'sho wished to know all abount my grandfather i', 'trace   i', 'cycle       i', 'error  i', 'of    i', 'i just cray to do my bes i', 'both figures would go hiyh n ilghter years i', 'nenum  i', 'side    i', 'i tried to d bepoltun the community i', 'sive  i', 'loop  i', 'cher  i', 'area    i', 'why shallved avol over chilliyams i', 'hem   i', 'everything wen rl smoth the sherrif said i', 'eight   i', 'right  i', 'hate  i', 'jhis oleves him for us i', 'whoop i', 'naw     i', 'trot   i', 'troop  i', 'sleft    i', 'swayar     i', 'shoft   i', 'shoot   i', \"are your grades higher or lower than nancy's i\", 'fruit  i', \"you'd pe ferre off tarking a cold showor   i\", 'the island oc facloo oppated i', 'knot   i', 'pot  i', 'sproule  i', 'swave  i', 'play  i', 'sprinkle i', 'knot   i', 'four  i', \"whe're  i\", 'tot  i', 'suit  i', 'singo  i', 'pand  i', 'all the big basce fball players get treaterd i', 'pay  i', 'chero  i', 'i can play this weeends i', 'i feel i cuanplay this weekend    i', 'they carrired me olf on the stretcher   i', 'right  i', 'will robin waa yellow lily     i', 'whoitc     i', 'shear  i', 'near  i', 'ster  i', 'fad  i', 'galore  i', 'brought sunshine shimmers on the occean i', 'oue gathered shells on the beach i', 'he will above louw a rare lie i', 'charlie    i', 'woarlf    i', 'eaght       i', 'liyht   i', 'knew  i', 'tive     i', 'throgh  i', 'though  i', 'flor  i', 'their house is agrey and white     i', 'nothing touse hav found the ealpr noence i', 'nothing has hoffensiv vaif innoers since i', 'slay  i', 'snop   i', 'sigh     i', 'rocks  i', 'she is thinner than i am i', 'urgent    i', 'jungle   i', 'bear   i', 'suit   i', 'just one ighgot wet i', 'pile  i', 'youre used troboocing on the fold i', 'forward    i', 'four  i', 'speer     i', 'selita   i', 'a lk dolfins notice two old mein i', 'slip         i', 'i was conscious all the time i', 'prior     i', 'tile  i', 'fea  i', 'fa    i', 'one fathr ay igh the scrouble distroit i', 'mea  i', 'fate     i', 'fat  i', 'motherssels yellow kingham aprons i', 'much  i', 'no i', 'rockk   i', 'rock   i', 'jangmy warmal mousu by workong had  i', 'shy    i', 'troop  i', 'brooat  i', 'i excrubed the foms thoroughly    i', 'sigh  i', 'the train ofvolt strud to bo slowly i', 'tor  i', 'explore        i', 'grow  i', 'raha  i', 'mother or your thhow oal sh i', 'air i', 'select  i', 'yes     i', 'troop       i', 'tigh i', 'whire       i', 'my si survized the flow wa ca i', 'lear    i', 'priar        i', 'boie wie were obord  i', 'slip  i', 'colpe i', 'tie        i', 'bak   i', 'allba ala  hir lay aa all i', 'echo   i', 'toght        i', 'iar    i', 'ar shear    i', 'zero   i', 'braw    i', 'e gent w as he got out i', 'at      i', 'parkit i', 'shy       i', 'fairli i', 'op  i', 'lair   i', 'til i', 'lair i', 'bad i', 'kiilo', 'rarly', 'ta alf swam around the bolt', 'lair', 'grusher sels have lost theriar', 'alpa', 'tart', 'ham', 'loryal       i', 'sign  i', 'bran  i', 'a i', 'rake         i', 'seld         i', 'the ba cunbanc lay sweaters i', 'flow i', 'fair     i', 'nitting    i', 'faill i', 'h edpeplared the parkage hastily i', 'pect i', 'trait         i', 'afa i', 'spirt   i', 'shall ive i', 'barn i', 'hill       i', 'chop  i', 'tthough i', 'carceor i', 'ba   i', 'hark  i', 'blow  i', 'ye  i', 'yes i', 'naw     i', 'banatca   i', 'core           i', 'i ave had my bw rong i', 'sergeant i', 'cittin i', 'cot i', 'rar i', 'spar i', 'spark i', 'spar   i', 'span i', 'felw i', 'nin  i', 'citer   i', 'carke i', 'harm       i', 'holf trair i', 'the fox saw vary  pohip i', 'harp   i', 'car           i', 'park       i', 'jar    i', 'hill    i', 'zero   i', 'sevr   i', 'i arpa thi  woal i', 'te f cobal a tar un y i', 'flow  i', 'al pocaoa charl   i', 'to  i', 'swing nwh armas high asyou can i', 'beorthere cars  warm boh i', 'hiwo      i', 'cha        i', 'shy i', 'sir   i', 'there is a trade of alppabal i', 'par    i', 'thought    i', 'har    i', 'leaw i', 'we vbh to the flor i', 'quebec   i', 'bit     i', 'the job provied nosing brea fi i', 'hat   i', 'were      i', 'leak  i', 'car  i', 'moch   i', 'lear   i', 'naw      i', 'hate i', 'alall o fel  for us i', 'tora       i', 'golf   i', 'hitting   i', 'car al loves ana lily hom i', 'tarn       i', 'gnaw     i', 'whiccared      i', 'praior          i', 'chairp   i', 'about the jaim con help to i', 'ham   i', 'where   i', 'siera  i', 'grow  i', 'walha  i', 'i hae milaor o r wall sr i', 'air  i', 'air  i', 'sel   i', 'ea  i', 'troop  i', 'pil  i', 'white  i', 'mi sif tounized the floware car i', 'lefht   i', 'twow ar ther craiades heave all severa on there aie i', 'briar  i', 'bo the wal wr aooe  i', 'sleep   i', 'colpe  i', 'te  i', 'and  i', 'ofall loaara lay nea above all i', 'echo   i', 'thought  i', 'mie  i', 'seard  i', 'zer      i', 'baw  i', 'ent wa as he got out i', 'at  i', 'parkle  i', 'sigh   i', 'filin  i', 'lef  i', 'lair   i', 'tell  i', 'lair  i', 'thigh  i', 'kiilo  i', 'rairly  i', 'to  tal bou swam around ther boat  i', 'laiar  i', 'gaurhers sls have lost thorair i', 'palpa  i', 'theirsis a piud off tracjeccion for mat i', 'dart  i', 'ham  i', 'loya  i', 'sign  i', 'bran  i', 'tio   i', 'rake  i', 'seard   i', 'the bw cujaint lay swaer     i', 'braw  i', 'bit    i', 'knitting  i', 'fill  i', 'ploased the parkage hasfily i', 'pairt  i', 'pe i', 'poit  i', 'nobrown vir  i', 'aip  i', 'salive  i', 'barn i', 'him  i', 'jot  i', 'fothough  i', 'curten  i', 'musia  i', 'hark   i', 'flo     i', 'rali o i', 'ap  i', 'yes  i', 'leak  i', 'nota  i', 'al cor  i', 'i ave had my brw roung i', 'sergeant      i', 'sitting   i', 'cot   i', 'rar  i', 'par   i', 'spark  i', 'spair  i', 'spain  i', 'though i', 'nine  i', 'siter  i', 'cark      i', 'harm i', 'holfcail   i', 'the fox awe very ship    i', 'harp  i', 'car  i', 'park  i', 'dark  i', 'hill  i', 'zero  i', 'sevrn      i', 'i hav weall amth volaca worp i', 'the of coball hous stores uny i', 'flow  i', 'al pocu sevs voue   i', 'to  i', 'swing naw onas high as you can i', 'beoe theire gots warm brouwht  i', 'him  i', 'caw        i', 'shy  i', 'sip   i', 'there is a trade of alppaal     i', 'pairt  i', 'thought  i', 'har      i', 'la  i', 'will vobgh to the flor   i', 'quebec  i', 'bit  i', 'the job provoued mocing browh foit        i', 'the job provoites mony benfit i', 'hat  i', 'sleacht i', 'leap  i', 'par  i', 'mush   i', 'leafr  i', 'now  i', 'fitew   i', 'aln all al fil  for  i', 'farn  i', 'golf  i', 'hitting  i', 'cal loves aaliusly horm  i', 'darn  i', 'gnaw  i', 'alscara thei troubbluf cara  goun favirable i', 'wickared       i', 'prar   i', 'the rs ry gala for oming lo i', 'chair  i', 'pi habot the jam cond helptro  i', 'ham  i', 'where  i', 'sira      i', 'share     i', 'praw i']\n"
          ]
        },
        {
          "name": "stderr",
          "output_type": "stream",
          "text": [
            "Saving model checkpoint to torgo_xlsr_finetune-M02-2/checkpoint-11000\n",
            "Configuration saved in torgo_xlsr_finetune-M02-2/checkpoint-11000/config.json\n",
            "Model weights saved in torgo_xlsr_finetune-M02-2/checkpoint-11000/pytorch_model.bin\n",
            "Feature extractor saved in torgo_xlsr_finetune-M02-2/checkpoint-11000/preprocessor_config.json\n",
            "Deleting older checkpoint [torgo_xlsr_finetune-M02-2/checkpoint-10000] due to args.save_total_limit\n",
            "/usr/local/lib/python3.9/dist-packages/transformers/models/wav2vec2/processing_wav2vec2.py:155: UserWarning: `as_target_processor` is deprecated and will be removed in v5 of Transformers. You can process your labels by using the argument `text` of the regular `__call__` method (either in the same call as your audio inputs, or in a separate call.\n",
            "  warnings.warn(\n",
            "The following columns in the evaluation set don't have a corresponding argument in `Wav2Vec2ForCTC.forward` and have been ignored: input_length. If input_length are not expected by `Wav2Vec2ForCTC.forward`,  you can safely ignore this message.\n",
            "***** Running Evaluation *****\n",
            "  Num examples = 714\n",
            "  Batch size = 8\n"
          ]
        },
        {
          "name": "stdout",
          "output_type": "stream",
          "text": [
            "['grow i', 'sheed i', 'alpha  i', 'pot i', 'farm i', 'share i', 'dagger i', 'rave i', 'fare i', 'shet i', 'ship i', 'park i', 'gadfathersligkets to be my dern answers lackuage i', 'spurble i', 'bit  i', 'will she yetsnearly notcis it yor o i', 'trouble i', 'chair i', 'raive i', 'thagh i', 'goadget i', 'barn i', 'torn i', 'go i', 'swarm i', 'share i', 'all yor tarn i', 'i can meat i', 'sheat i', 'star i', 'right i', 'dom  i', 'tar i', 'no i', 'yes i', 'store i', 'chair i', 'slore i', 'bat   i', 'stubble i', 'trot i', 'she had your doxsoit in greswa fatter all year i', 'horn    i', 'sheet  i', 'paca i', 'it   i', 'stainke   i', 'car  i', 'knotting i', 'no  i', 'yeet he stlf fhink thoufts  socaly thes evel i', 'usually minus several buotton i', 'flor i', 'train i', 'boot i', 'we have often urge jump fo more and smae glas i', 'there jugs muna left i', 'born i', 'bingt  i', 'knew   i', 'right  i', 'range  i', 'sip i', 'stick  i', 'storm i', 'double i', 'dawm i', 'two i', 'glow i', 'form i', 'florm i', 'braiar i', 'born  i', 'chair i', 'tark i', 'storm i', 'reat      i', 'storm i', 'op      i', 'a long folowern boat clings to wards hhin i', 'tark i', 'rake i', 'race i', 'error i', 'i can read i', 'error i', 'jacket i', 'dont link mister cary oung or so y exleict the i', 'ragetch i', 'hair i', 'spark i', 'four i', 'coumpe i', 'jaggerd i', 'corn i', 'spark i', 'sheed i', 'the quk  brawn fowfox jumpt over the ligcy do i', 'buthoers jansers bannana ol i', 'two i', 'traged i', 'cos to know all abount buy grandfather i', 'trace i', 'cycle i', 'error i', 'of i', 'i just try to do my bes i', 'foth frigules would go hhi of nict sirp i', 'ed  i', 'side i', 'i tried jushave preopoled the communitty i', 'sigh i', 'loop i', 'cher i', 'area i', 'why joaged a fol oer shellimans i', 'cheeor i', 'everything whome beo smokth the sherriff said i', 'eite i', 'right i', 'hate i', 'this was easing for us i', 'whoop i', 'daw i', 'drop i', 'droop i', 'sliep i', 'sway i', 'shoft i', 'shoot i', \"are your grades higheerr or lower than nancy's i\", 'troop  i', 'youd ba off charking a cold showe i', 'the island fot look up t i', 'knot  i', 'pot i', 'boot i', 'serait i', 'trie i', 'sprainkle i', 'knot i', 'four i', 'to i', 'shoot i', 'singloe i', 'pile i', 'all the bibde ball players get tretoed i', 'pay  i', 'cheer  i', 'i can play this weekend i', 'i feel alie crumps lay this weekend i', 'the carred bihof on the stretcher i', 'wright i', 'befol bamal yellow lilly i', 'whorp i', 'sher i', 'near i', 'steer i', 'bad  i', 'galore i', 'foht sunshine shimmers on the occen i', 'oe gathered shells on the beach i', 'he will aboe loue a vara lie i', 'charlie i', 'walsh i', 'ate i', 'light i', 'thew i', 'tive i', 'sevroughe i', 'though   i', 'flor i', 'ther house is grow yes watch i', 'notthingusarles have fountd the ofter noence i', 'not hingas affems the validinnoers since i', 'slay i', 'snark i', 'sigh i', 'rocks i', 'she hrs thinner than i am i', 'urgent i', 'jungle i', 'beare i', 'suit i', 'just one cycolt wet i', 'pile i', 'yeut used traboing on the filed i', 'forward i', 'four i', 'cheer i', 'starat i', 'a log doff o notice twoall men i', 'slip  i', 'i was constousall the sime i', 'trior  i', 'tile   i', 'threeo i', 'bat  i', 'one father lay the tie to scroubl dituit i', 'menu   i', 'sht i', 'bat i', 'mother swalsyellow kingham aprons i', 'roch i', 'no i', 'rock i', 'jang maonal musare workeing hard i', 'shy i', 'troop i', 'broot   i', 'i xscrubed the foaums thoaroughly i', 'shigh i', 'the train of votc sjued to foe slowly i', 'ster i', 'explore i', 'grow  i', 'feed i', 'alpha  i', 'pot  i', 'farm i', 'sip i', 'daggor i', 'raine i', 'fair i', 'feet  i', 'ship  i', 'park  i', 'god father liges to be my tran inis black goage i', 'bubble     i', 'bit     i', 'alfe is nearly ninety foe yeorsold i', 'trouble       i', 'chair  i', 'raivd i', 'tthough i', 'gadget i', 'born  i', 'torn   i', 'go  i', 'sworm i', 'share    i', 'all your carns i', 'i can read  i', 'fuit  i', 'stairk  i', 'right  i', 'knew  i', 'te  i', 'nom  i', 'yes    i', 'store i', 'chair     i', 'flor      i', 'bat  i', 'stubble i', 'trot  i', 'horn i', 'sheet  i', 'beta  i', 'selict  i', 'sing  i', 'car        i', 'knew  i', 'knome  i', 'yeet he still thinks thuc swrs eabal i', 'us reminus several boton i', 'flor  i', 'train  i', 'whop  i', 'we have ofurce jumped fore mole and smoke glas i', 'left   i', 'born   i', 'beagt  i', 'knew  i', 'right   i', 'range  i', 'slip  i', 'stick  i', 'storm i', 'tubble  i', 'tawm  i', 'fewu  i', 'glow  i', 'form i', 'form   i', 'braare i', 'born   i', 'shir i', 'tark  i', 'storm   i', 'spot  i', 'storm      i', 'op      i', 'stark i', 'rake i', 'race i', 'erior i', 'i can read   i', 'aror   i', 'jacket        i', 'stounticht mstou carry un oranyi elect theh i', 'raedgh         i', 'hair  i', 'spark   i', 'four  i', 'compe  i', 'jaggerd        i', 'corn  i', 'spark  i', 'fiuit     i', 'the quick  brawn fohox junks over the lagy dog i', 'butth os answers bannana oil  i', 'two  i', 'traiot      i', 'sho wishee to know all about my grandfather i', 'traice  i', 'cycle   i', 'error  i', 'of  i', 'i just  cra to do my bes i', 'both figures would go hiy n nichter ers i', 'menhum  i', 'side  i', 'i tried to dog bepoltun the community i', 'sive  i', 'loop   i', 'shere           i', 'area   i', 'why sheallveed afo over shiliyaums i', 'cheerm  i', 'everything wenk beal smoth the sherrif said i', 'eight       i', 'wright  i', 'hate  i', 'this alse him for us i', 'whoop  i', 'now   i', 'drot  i', 'droop  i', 'slept    i', 'swayor   i', 'shoft   i', 'shoot  i', \"are your grades higher or lower than nancy's i\", 'fruit  i', \"you'd prefer  off tearking a cold showore i\", 'the island ofarcloo op ati i', 'knot  i', 'pot  i', 'spou  i', 'swave           i', 'playe  i', 'sprinkle i', 'knot   i', 'four  i', 'hhere  i', 'to  i', 'suip  i', 'single  i', 'pan   i', 'all the big base fboall players get streaerd i', 'pay  i', 'cheero  i', 'i can play this weekend i', 'i feel li canp play this weekend  i', 'the carrired mlff on the stretcher i', 'wright  i', 'will o brwe a yellow lilly  i', 'whotch  i', 'sher   i', 'near  i', 'steer        i', 'fad  i', 'galore  i', 'ffoght sunshine shimmers on the occen i', 'oe gathered shells on the beach i', 'he wil above tu a rare lie i', 'charlie   i', 'worf  i', 'eight    i', 'flect  i', 'knew  i', 'tive     i', 'through    i', 'though  i', 'flor    i', 'their house is a groey and whit  i', 'notthinguhuse have fund the altr noence i', 'notthing has offens ive valif innoers since i', 'slay    i', 'snoop  i', 'shige       i', 'rocks   i', 'she is thinner than i am i', 'urgent  i', 'jungle  i', 'bear    i', 'suit  i', 'just one cycoet wet i', 'pile  i', 'youre used to booking on the feold i', 'forward   i', 'four  i', 'ster    i', 'selitta    i', 'i look doelfions notice two old men i', 'slip     i', 'i was conscious all the time i', 'prior  i', 'tile  i', 'feum  i', 'fave  i', 'one father thay digh the scroubale distroit i', 'menu  i', 'fate  i', 'fat  i', 'mothers sols yellow kingham eaprons i', 'much  i', 'no i', 'rock i', 'rock  i', 'jangmy wormal musu by wokang hadh i', 'shy i', 'troop  i', 'broot  i', 'i excrubed the fo aums thoroughly  i', 'sigh  i', 'the train of volft sjuged to folh flowly i', 'teor  i', 'explore     i', 'grow i', 'growhal i', 'muitersr your thho bor a shy i', 'air i', 'select     i', 'beta   i', 'toop i', 'thigh i', 'swore  i', 'my si sugvized the frow as car i', 'sleere    i', 'briar   i', 'boe waile were bord  i', 'slip i', 'colpe i', 'tie    i', 'k   i', 'albaa alo  hir lay ne as oall i', 'echo i', 'cha    i', 'hner  i', 'shear i', 'ercole    i', 'braw      i', 'sergent swa a a he got out i', 'at  i', 'parket i', 'shy   i', 'faitli i', 'hop  i', 'lair i', 'till i', 'lair i', 'bad i', 'kiilo', 'at', 'talffu swam around the bollt', 'leair', 'jruus ther sls have lost ther', 'alca', 'sstart', 'him', 'loyal i', 'sign i', 'bran i', 'hai i', 'rake i', 'seed i', 'the bar cuntbanct sray sweaters i', 'flor i', 'fair   i', 'kitting     i', 'fil i', 'he redepar the parkage hastfily i', 'potect i', 'tit i', 'enbar i', 'stirt i', 'shal ie i', 'barn i', 'hill  i', 'chaop i', 'for though i', 'car i', 'siat i', 'haarlc  i', 'blow   i', 'ye   i', 'year i', 'lae   i', 'mnatgar  i', 'score i', 'i ave had my b rong i', 'sergeant i', 'cittin i', 'cot i', 'rairk i', 'flor i', 'spark i', 'spair i', 'spanun i', 'chaw i', 'darn   i', 'sitor i', 'carke i', 'hum i', 'holf trair i', 'the fox shaw vary your fotship i', 'harp i', 'car    i', 'par i', 'jar  i', 'hiro   i', 'zero   i', 'sever i', 'are  starpba theeicive wo i', 'jhaf schouble a ter un r i', 'flow   i', 'a pocu charls ivou  i', 'tore    i', 'swing naw on as high asyou can i', 'before there cares a warm bgh i', 'tiwo    i', 'cha i', 'shy i', 'sirk i', 'there is a trade of alppeball i', 'park i', 'though  i', 'har   i', 'leae i', 'we vot g to the florm i', 'quebec i', 'bit   i', 'the job provuied musing braca f i', 'hat i', 'were  i', 'leak   i', 'tar i', 'muach    i', 'league      i', 'no  i', 'hiten i', 'hal o fails ers for us i', 'torhar i', 'golf   i', 'hitting   i', 'caral lives acional lie as  home i', 'tarn   i', 'no    i', 'whiccerd   i', 'prior i', 'chairp   i', 'bbut te jin can help two i', 'ham i', 'where i', 'sita i', 'grow   i', 'wohal  i', 'ig hae maayor o vore ral sr i', 'air  i', 'air      i', 'sel  i', 'eta  i', 'troop      i', 'bia  i', 'whorn  i', 'mi sif thounized the flowward car i', 'lip       i', 'tw are there cauriades heave all sever unsthere ar losivsmen i', 'braiar  i', 'bore e walls were  bo  i', 'slip       i', 'cope  i', 'tel  i', 'a  i', 'ofall loal ara lay near above all i', 'echo  i', 'thought  i', 'mi  i', 'sear     i', 'zero   i', 'braw   i', 'stent fw as he got out i', 'at  i', 'parkle  i', 'sigh  i', 'fitlin  i', 'left  i', 'lairk      i', 'tell  i', 'liar  i', 'thegh  i', 'kilo  i', 'rairhly  i', 't f tall bous swam araung ther boat  i', 'lear  i', 'graurther sls have lost thorre i', 'palpa  i', 'thirsis a pud off track zurcion for meink i', 'dar       i', 'him  i', 'torya  i', 'sign  i', 'bran       i', 'tewo   i', 'rake   i', 'ser  i', 'the ba cutjan thhrey sweaters      i', 'fror  i', 'bit     i', 'knitting  i', 'fill  i', 'he plase the parkage hastfhily i', 'pairt  i', 'pte i', 'tot  i', 'no brown fvere  i', 'oop      i', 'sall ie  i', 'barn i', 'hill  i', 'jot  i', 'forthough  i', 'curten        i', 'musiat     i', 'hock   i', 'flo   i', 'rali o i', 'ope  i', 'yes     i', 'leak       i', 'knoten  i', 'al score  i', 'i ave had my braw rong i', 'sergeant  i', 'sitting  i', 'cart    i', 'rare  i', 'spore  i', 'spark  i', 'spair  i', 'speun  i', 'frouw i', 'darn  i', 'siter  i', 'cark       i', 'horm i', 'holf crail  i', 'the fox are very y ship  i', 'harp      i', 'car  i', 'park  i', 'jark  i', 'hill   i', 'zero      i', 'severn   i', 'i hav well m the vilic work i', 'the  of schoubal hous stres uny i', 'flow  i', 'ial pocutsels a volue   i', 'tore  i', 'swing naw on tas high as you can i', 'before theire cos warm brauwht  i', 'him  i', 'chaw    i', 'shy  i', 'sip      i', 'there is a trade of  alpperall i', 'fair        i', 'thought    i', 'har   i', 'leake  i', 'wevolobgh to the flor  i', 'quebec   i', 'bit  i', 'the job provoued moscy broh fiuilt i', 'the job provouitess many benefits i', 'hat  i', 'wre i', 'leak   i', 'car  i', 'mush  i', 'leak  i', 'no  i', 'fiteu  i', 'l all al faiyls ve for  i', 'forn  i', 'golf      i', 'hitting   i', 'carl al lives tana lie ais as home  i', 'darn  i', 'gnaw  i', 'alscarl the troub cara the got on favrable i', 'wickker   i', 'priar  i', 'the ors srge galafor thumbinglo i', 'chair      i', 'bin habot the jime con help tro    i', 'ham  i', 'where       i', 'sita       i', 'share        i', 'prai i']\n"
          ]
        },
        {
          "name": "stderr",
          "output_type": "stream",
          "text": [
            "Saving model checkpoint to torgo_xlsr_finetune-M02-2/checkpoint-11500\n",
            "Configuration saved in torgo_xlsr_finetune-M02-2/checkpoint-11500/config.json\n",
            "Model weights saved in torgo_xlsr_finetune-M02-2/checkpoint-11500/pytorch_model.bin\n",
            "Feature extractor saved in torgo_xlsr_finetune-M02-2/checkpoint-11500/preprocessor_config.json\n",
            "Deleting older checkpoint [torgo_xlsr_finetune-M02-2/checkpoint-10500] due to args.save_total_limit\n",
            "/usr/local/lib/python3.9/dist-packages/transformers/models/wav2vec2/processing_wav2vec2.py:155: UserWarning: `as_target_processor` is deprecated and will be removed in v5 of Transformers. You can process your labels by using the argument `text` of the regular `__call__` method (either in the same call as your audio inputs, or in a separate call.\n",
            "  warnings.warn(\n",
            "The following columns in the evaluation set don't have a corresponding argument in `Wav2Vec2ForCTC.forward` and have been ignored: input_length. If input_length are not expected by `Wav2Vec2ForCTC.forward`,  you can safely ignore this message.\n",
            "***** Running Evaluation *****\n",
            "  Num examples = 714\n",
            "  Batch size = 8\n"
          ]
        },
        {
          "name": "stdout",
          "output_type": "stream",
          "text": [
            "['grow i', 'sheed i', 'alpha  i', 'pat  i', 'farm i', 'share i', 'dagger i', 'rave i', 'far i', 'sheet i', 'ship i', 'park i', 'goadfatherslickes to be my dern answers lackage i', 'spubble i', 'bit   i', 'will she yas nearly notceis fis yearsold i', 'trouble i', 'chair i', 'raid i', 'shagh i', 'goadget i', 'barn i', 'torn i', 'go i', 'swarm i', 'share i', 'i tarn i', 'i can mread i', 'shate i', 'starp i', 'right i', 'dom  i', 'tair i', 'no i', 'yes i', 'store i', 'chair i', 'slore i', 'bat  i', 'stubble i', 'trap  i', 'she had your dolksouit in greawash father al year i', 'horn   i', 'sheet   i', 'paca i', 'e  i', 'fainte  i', 'car  i', 'knotting i', 'no  i', 'yet he sstel fhink sefss swoasely thas ever i', 'musually minus several buttoun i', 'flor i', 'train   i', 'bhop i', 'we have often urcge jumpd vall more and smole glas i', 'theur juges nuna left i', 'boarn i', 'beiat  i', 'new    i', 'right    i', 'range  i', 'ship i', 'stick  i', 'storm i', 'double  i', 'dawm i', 'thwo i', 'glow i', 'form i', 'florm   i', 'briar i', 'born  i', 'chair i', 'dark i', 'storm  i', 'reat       i', 'swarm   i', 'chop   i', 'a long forlowen boad clinks to ward hhin i', 'dark i', 'rake i', 'rice i', 'error i', 'i can rad i', 'air i', 'jacket i', \"don't linf mister caryung ore coy exict tha i\", 'raede i', 'hair i', 'park i', 'for i', 'coump i', 'jaggerd i', 'corn i', 'spark i', 'feard  i', 'the quick  brawn fowox jump over the lithy dog i', 'both aways answers banana all i', 'two i', 'trade  i', 'cosviuche to know all abount muy grandfather i', 'trice   i', 'cycle i', 'error i', 'of i', 'i just try to do my bes i', 'folsth figules would go hiye o ninceter yirs i', 'nat  i', 'side i', 'i tried to tave preopoled the communitty i', 'sigh   i', 'loop i', 'chea i', 'area i', 'why jaged afor oer chllimands i', 'cheo i', 'every thing wame beeal smocth the shelliff said i', 'eite i', 'rihte i', 'hate     i', 'this was easing for us i', 'whop  i', 'now  i', 'drop i', 'droop i', 'sliep  i', 'sware i', 'shoft i', 'shoot i', \"are your grades higher r or lower than nancy's i\", 'roop  i', \"you'd fig off charking a cold showe i\", 'the island box facth lookes up loity i', 'knot  i', 'pot i', 'boot i', 'selat i', 'tie i', 'sprainkle i', 'knot i', 'four i', 'tot i', 'shoot i', 'single i', 'pad i', 'all the viboue sball players get tratod i', 'pay  i', 'cher  i', 'i can play this weekend i', 'i feel aloife cruanmps play this weekend i', 'they gathered behoff on the stretcher i', 'rihte i', 'balfal banwal yellow lilly i', 'whoap i', 'shear i', 'near i', 'steer i', 'bad    i', 'galore i', 'foiht sunshine shimmers on the oacean i', 'foue gathered shells on the beac i', 'he will all low a vara lie i', 'charlie i', 'walsh i', 'ate i', 'lift i', 'thew  i', 'tive i', 'sevoughe i', 'though  i', 'flor i', 'the house is go and watch i', 'notthing ususe have found the alter noence i', 'nothing has offeuns thou valliad thinnoer since i', 'slay i', 'snakp i', 'sigh i', 'rocks     i', 'she is thinner than i am i', 'urgent i', 'jungle    i', 'dar i', 'shoot  i', 'just one sigh got weat i', 'pile i', 'yeut ussd trabocing on the field i', 'forward i', 'for i', 'cheer i', 'tellta  i', 'a lok d val otic twoall men i', 'flip  i', 'i was conscious all the time i', 'triolr   i', 'tile   i', 'treo  i', 'fave  i', 'one  falu day diime tous scroubl distut i', 'meu  i', 'shat i', 'fat   i', 'mothern sewals yellow kingham aprons i', 'much  i', 'no i', 'rock  i', 'jng moal mus bare workeang hard i', 'shy   i', 'troop i', 'voot  i', 'i scrubed the flarms tharoughly i', 'sigh i', 'the traina votch sjud to fo slowly i', 'deer  i', 'explore i', 'grow  i', 'feed i', 'alpha   i', 'pot  i', 'farm  i', 'sip i', 'dagger  i', 'range i', 'fair i', 'feet  i', 'ship  i', 'park  i', 'god father likes to beo my tanainers lackgage i', 'bubble  i', 'bit    i', 'will she is nearly ninety fore yor old i', 'trouble     i', 'chair   i', 'raid  i', 'tthagh i', 'gadget i', 'varm   i', 'torn  i', 'go  i', 'sworm  i', 'share   i', 'yl charns i', 'i can read   i', 'filt  i', 'steark   i', 'right  i', 'knew  i', 't  i', 'nom   i', 'yes    i', 'store  i', 'chair     i', 'flor    i', 'batd     i', 'stubble i', 'trot    i', 'horn i', 'sheet  i', 'beta        i', 'selict   i', 'fint  i', 'car          i', 'knew  i', 'nom  i', 'yeet he still thinks thuch swoarfly s eaveal i', 'usaly minus several bouton i', 'flor  i', 'train  i', 'whoem   i', 'we have ofn urce jumpd foa mole and smoke glas i', 'left   i', 'born   i', 'beat  i', 'knew  i', 'right       i', 'range  i', 'sip  i', 'stir  i', 'storm i', 'stubble     i', 'towm  i', 'fium  i', 'glow  i', 'form i', 'form   i', 'braiarve i', 'barn  i', 'fir i', 'dark  i', 'storm  i', 'smeoat  i', 'storm      i', 'op      i', 'tark i', 'rake i', 'race i', 'air   i', 'i can read   i', 'air   i', 'jacket      i', 'dount ef mistou carryun ornyi elect they i', 'raege         i', 'hair  i', 'park     i', 'four  i', 'coampe  i', 'jaggerd       i', 'corn  i', 'spark  i', 'fild      i', 'the quick  brown fox  junks over the loazty dog i', 'but  heovas  answers banana oil    i', 'two  i', 'traot      i', 'shou wished to know all about my grandfather i', 'trice  i', 'cycle     i', 'error  i', 'of    i', 'ie just cray to do my bes i', 'both  figures would go high rn nicher years i', 'nenhum  i', 'side  i', 'i tried to doug pepolthan the communitty i', 'sive  i', 'loop        i', 'here          i', 'alrea       i', 'why shellfed avo over sillimaums i', 'harm  i', 'everything went veal  smoth the sherriff said i', 'eght     i', 'riht  i', 'hate  i', 'this was ase him for us  i', 'whoop  i', 'nowm    i', 'drot    i', 'droop  i', 'sleft     i', 'swiore    i', 'shoft   i', 'shoot   i', \"are your grades higher or lowwer than nancy's i\", 'fruit  i', \"you'd prefer  off tearking a cold shower  i\", 'the island bos farchslo op at i', 'knot  i', 'pot  i', 'booup  i', 'swave          i', 'plie  i', 'sprinkle i', 'knot   i', 'four  i', \"we're  i\", 'tot  i', 'suitp  i', 'single  i', 'pan   i', 'all the big base fball players get trased i', 'pay  i', 'cher  i', 'i can play this weeend i', 'i feel li cant pplay this weeend    i', 'the catrired mlff on the stretcher   i', 'right  i', 'will faolbirn wa a yellow lilly       i', 'whoitc   i', 'shear   i', 'near  i', 'steer     i', 'fad  i', 'galore  i', 'ffought sunshine shimmers on the ocean i', 'fou gathered shells on the beach i', 'he will abul louw a rare lie i', 'charlie     i', 'woarf    i', 'eight    i', 'flect   i', 'knew  i', 'tive      i', 'througe    i', 'though  i', 'flor  i', 'their house is a grey and white     i', 'nothing aouse hav funds the ealter noence i', 'nothing has offens valli innor since i', 'slay       i', 'snop  i', 'sige       i', 'rocks  i', 'she is thinner than i am i', 'urgent   i', 'jungle   i', 'bear   i', 'suitp  i', 'just one sigcgot wet i', 'pile  i', 'youre used tro boocking on the field i', 'forward    i', 'four   i', 'sper  i', 'selta  i', 'i lok dolfins noticsto ald min i', 'slip       i', 'i was conscious all the time i', 'prior    i', 'tile  i', 'feaum  i', 'fave   i', 'one faur day iie th schroubal district i', 'meum  i', 'fate    i', 'fat  i', 'mother souls yellow kingham approns i', 'much  i', 'nom i', 'rockk    i', 'rock   i', 'jang my warmal musu by wokang had i', 'shy  i', 'troop   i', 'broot  i', 'i excrubed the flarms thoroughly     i', 'sigh  i', 'the train afvolct sjruged to fok flowly i', 'ter  i', 'explore    i', 'grow i', 'gaha  i', 'moterr your ol vr wheal shy i', 'air i', 'select       i', 'bita   i', 'troop i', 'sigh i', 'ware   i', 'my sis survized the frow was carm i', 'leare     i', 'briar   i', 'bya moe suwille were w vord   i', 'slip i', 'colpe i', 'tie   i', 'ak  i', 'alba balo hiere lay ne as the wall i', 'echo  i', 'fa    i', 'hinar   i', 'are searge  i', 'sero    i', 'baw   i', 'ser gent swas as he got  out i', 'at  i', 'parkat i', 'shy   i', 'faitlir i', 'hop  i', 'lair i', 'till i', 'sair i', 'bad i', 'kilo', 'viuat', 'tu weal alffus swam around the foll', 'lair', 'rummus ither sels have lost tour riare', 'alca', 'start', 'him', 'loyal i', 'sign  i', 'brawn i', 'shai i', 'rake    i', 'sed     i', 'the ba cuntcache slay swaters i', 'flor i', 'fair    i', 'pitting  i', 'fill i', 'he red the pail the package hasfily i', 'pt i', 'tait i', 'november i', 'fairk i', 'shal iye i', 'barn i', 'hil  i', 'chap i', 'fo ouh i', 'cart i', 'ziat i', 'hark  i', 'flow  i', 'ye  i', 'yeas i', 'lape   i', 'wnatu  i', 'score i', 'i ave had my bl rong i', 'sergant i', 'sittin i', 'cot i', 'rark i', 'for i', 'spark i', 'fair i', 'span i', 'shaw i', 'nawn  i', 'siter  i', 'cake i', 'hurm i', 'holf trair i', 'the fox saw vary yoour foirst ship i', 'harp i', 'cart  i', 'park   i', 'jarw   i', 'hill   i', 'zero  i', 'sever    i', 'i al tarpball is  a wart  i', 'sell af schoubale a stear un iny i', 'flow    i', 'a pocud chiild ly ou i', 'to   i', 'swing naw arm as high as you can i', 'beffor thiure cars warm bw i', 'hill   i', 'chaw   i', 'shy i', 'sirk  i', 'there is a trade houfe  alppaball i', 'par i', 'thought  i', 'har  i', 'loge i', 'we vot bach to the farm i', 'quebec i', 'biet  i', 'the job provides musing brantcas foilt i', 'hat i', 'were   i', 'leak  i', 'tark  i', 'mash  i', 'lave   i', 'no  i', 'fitten i', 'alall al fills searvs for us i', 'torhar  i', 'golf  i', 'hitting   i', 'carlal lives aiunal life s a home i', 'darn  i', 'no  i', 'wiccard  i', 'priar    i', 'chairp i', 'p bat the im can help to i', 'ham i', 'where i', 'sieta i', 'growp   i', 'walha  i', 'si have mia yars ol ver welm sir i', 'air  i', 'air    i', 'csel  i', 'ea  i', 'troop       i', 'file  i', 'warme  i', 'miy sif thouinised the flowward car i', 'left    i', 'two are ther cauariades heav all severllal unsthere arlhers mint i', 'brar  i', 'b wae the walls war wa ormoe  i', 'slip     i', 'colpe  i', 'te    i', 'ad  i', 'offal lowaai lys near a thoall i', 'echo  i', 'thought    i', 'mile  i', 'seare      i', 'sero   i', 'baw   i', 'sudeants fw as he got  out i', 'at    i', 'parkle  i', 'sigh  i', 'fitlin  i', 'left  i', 'lair    i', 'tell  i', 'liar  i', 'thag  i', 'kilo  i', 'wrishly  i', 'tu tal fous swam around their boat  i', 'lair  i', 'ganmus ihers sals have lost tour ware i', 'palpa  i', 'this is a pud off track zurtcion for me i', 'dart    i', 'him  i', 'noya  i', 'sign  i', 'brawn       i', 'tilo   i', 'rake  i', 'seard  i', 'the bo cunjint sray swater        i', 'frow  i', 'bit     i', 'nitting  i', 'fill  i', 'hfaed the package hasfily i', 'pairt  i', 'potent i', 'pot   i', 'no brown fvear  i', 'irp     i', 'sall ie  i', 'barn i', 'him  i', 'jat  i', 'forthough  i', 'cuirten     i', 'musiat     i', 'hark   i', 'flo   i', 'rai o i', 'omp  i', 'yes    i', 'leak     i', 'not  i', 'al score   i', 'i ave had my brw rong i', 'sergant   i', 'sitting  i', 'cat   i', 'rare  i', 'spore  i', 'spark  i', 'fair  i', 'spaun  i', 'cow i', 'dawn  i', 'siter  i', 'cark     i', 'harm i', 'holf cill  i', 'the fox sae veryay   ship  i', 'harp     i', 'car  i', 'park  i', 'dark  i', 'hill     i', 'zero       i', 'severn   i', 'i have r well fam t villica work i', 'the of schoubal house stares unsy i', 'fow  i', 'il poctsols a volum   i', 'tore   i', 'swing naw ontas high as you can i', 'before theire gos warm brauwht  i', 'him  i', 'chaw    i', 'shy  i', 'sip     i', 'theire is a tradehouf alppaall i', 'fair      i', 'thought      i', 'har   i', 'lae  i', \"we'll volhopeback to the florm  i\", 'quebec   i', 'bit   i', 'the job provied moscing brogh filt     i', 'the job providess many benefuats i', 'hat  i', 'ware i', 'leir  i', 'car  i', 'mush  i', 'leak  i', 'no   i', 'fitteu i', 'alal al fils ourm for  i', 'forn  i', 'golf      i', 'hitting    i', 'carll loves tanalieas a home  i', 'darn  i', 'na   i', 'alscara th troubba gadaturs cgos on farvirable i', 'wilcker   i', 'prair   i', 'the oers  se gala for fuming loie i', 'chair      i', 'prin haboat the tirme con help to   i', 'ham  i', \"whe're        i\", 'sita       i', 'share      i', 'prain i']\n"
          ]
        },
        {
          "name": "stderr",
          "output_type": "stream",
          "text": [
            "Saving model checkpoint to torgo_xlsr_finetune-M02-2/checkpoint-12000\n",
            "Configuration saved in torgo_xlsr_finetune-M02-2/checkpoint-12000/config.json\n",
            "Model weights saved in torgo_xlsr_finetune-M02-2/checkpoint-12000/pytorch_model.bin\n",
            "Feature extractor saved in torgo_xlsr_finetune-M02-2/checkpoint-12000/preprocessor_config.json\n",
            "Deleting older checkpoint [torgo_xlsr_finetune-M02-2/checkpoint-11000] due to args.save_total_limit\n",
            "/usr/local/lib/python3.9/dist-packages/transformers/models/wav2vec2/processing_wav2vec2.py:155: UserWarning: `as_target_processor` is deprecated and will be removed in v5 of Transformers. You can process your labels by using the argument `text` of the regular `__call__` method (either in the same call as your audio inputs, or in a separate call.\n",
            "  warnings.warn(\n",
            "The following columns in the evaluation set don't have a corresponding argument in `Wav2Vec2ForCTC.forward` and have been ignored: input_length. If input_length are not expected by `Wav2Vec2ForCTC.forward`,  you can safely ignore this message.\n",
            "***** Running Evaluation *****\n",
            "  Num examples = 714\n",
            "  Batch size = 8\n"
          ]
        },
        {
          "name": "stdout",
          "output_type": "stream",
          "text": [
            "['grow i', 'seed i', 'alpha  i', 'pot  i', 'farm i', 'ship i', 'dagger i', 'rave i', 'far i', 'sheet i', 'ship i', 'park i', 'goadfatherslights to be m dernanerslackage i', 'bubble i', 'bit    i', 'will she yasnearly notctis pis yearso i', 'trouble i', 'chair i', 'raid i', 'thagh i', 'godget i', 'barn i', 'torn i', 'go i', 'swarm i', 'share i', 'a  tarns i', 'i can meat i', 'sheat i', 'starp    i', 'right i', 'no  i', 'tair i', 'know i', 'yes i', 'store i', 'chair i', 'slore i', 'bat    i', 'stubble i', 'trot   i', 'she had you daksouit in greadwash father al year i', 'horn  i', 'sheet  i', 'paca i', 'zere    i', 'painkte   i', 'car  i', 'knoing  i', 'know  i', 'yeetthestl fying thets swarsly haseval i', 'musualy minus several button i', 'flor i', 'trace i', 'bot i', 'we have often  uged jump tova more and small glas i', 'the jugs muna left i', 'born i', 'bigt  i', 'knew         i', 'right i', 'rage  i', 'ship i', 'stick  i', 'storm i', 'double i', 'tam i', 'two i', 'glow i', 'form i', 'florm  i', 'breave i', 'warm  i', 'chair i', 'dark i', 'storm i', 'brooat  i', 'swarm   i', 'chop  i', 'a long forlowerng booatd clings toward hhin i', 'dark i', 'rake i', 'race i', 'erlor i', 'i can read i', 'air i', 'jacket i', 'dont lngk mister carung orcayexict tho i', 'ragede i', 'hair i', 'spark i', 'for i', 'coump i', 'jaggerd i', 'corn i', 'spark i', 'feead   i', 'the quick  brown foxjumptover the lizy dog i', 'bothawas ganscers banana ol i', 'two i', 'trade i', 'tosbucte to know all aboumt my grandfather i', 'trace i', 'cycle i', 'error i', 'of i', 'i just try to do my best i', 'foth figules would go hiye r  lighter shirs i', 'neadam  i', 'side i', 'i trlied to tave preopold the communitty rri', 'sige i', 'loop i', 'chea i', 'area i', 'why jaed ovor oal sillisemand i', 'cher     i', 'every thing wam below  smoth the shelliff said i', 'eight i', 'write i', 'hate    i', 'this was easing for us i', 'whoop  i', 'know i', 'drop i', 'droop i', 'slep i', 'sweaye i', 'shoft i', 'shoot i', \"are your greads higherr or lower than nancy's i\", 'troop  i', \"you'd bi off chearking a cold shawe i\", 'the island boxs father loots uplt i', 'knot  i', 'pot i', 'boot i', 'selat i', 'tie i', 'spainkle i', 'knot i', 'form i', 'tot i', 'shooit i', 'singoe i', 'pad i', 'all the bigbode ball players get treoed i', 'pay   i', 'cher    i', 'i can play this weekend i', 'i feel alo crraunmps play this weekkend i', 'they gahered meoff on the stretcher i', 'write i', 'will r banwal yellow lilly i', 'whop i', 'cher i', 'near i', 'ster i', 'bad   i', 'galore  i', 'fisht sunshine shimmers on the occean i', 'oe gathered shells on the beac i', 'he will all low a vara lie i', 'charlie i', 'walsh i', 'eat   i', 'lift i', 'thew i', 'tive i', 'sevoughe i', 'though       i', 'flor i', 'the house is go and watch i', 'notthing ause have found the oter noence i', 'notthingas havfuns tho validhiner since i', 'slay i', 'snoarp     i', 'sigh i', 'rocks  i', 'she los thinner than i am i', 'urgent i', 'jungle i', 'deare i', 'shoot   i', 'just one siggot weat i', 'pile i', 'yeeut yut is traving on the fieled i', 'forward i', 'for i', 'cheer i', 'stela i', 'a lk dva notice toall men i', 'slip  i', 'i was constusalw the time i', 'trior i', 'tile    i', 'treo   i', 'fat i', 'one  valurd lay the time to schroubl dittat i', 'meu   i', 'shet i', 'fat i', 'mothern sowals yellow kingham aprons i', 'roch i', 'kno i', 'rock i', 'jgmoall musrsare workang had i', 'shy i', 'troop i', 'loot  i', 'i exscrubed thot flarms thoroughhly i', 'sigh i', 'the trainavotch sued to fo slowly i', 'steer    i', 'explore i', 'grow  i', 'feed i', 'alpha   i', 'pot  i', 'farm i', 'ship i', 'daggeor i', 'rave i', 'fair i', 'feet  i', 'ship   i', 'park   i', 'godfather likeds to beo my teniners blackgoage i', 'bubble     i', 'bit    i', 'well she yas nearly ninety fore yearold i', 'trouble     i', 'chair    i', 'raid i', 'gthow i', 'gadget i', 'form   i', 'torn   i', 'go  i', 'swarm i', 'share      i', 'yal ctarns i', 'i can read  i', 'filt  i', 'steark    i', 'right i', 'knew  i', 'te  i', 'kno   i', 'yes  i', 'store  i', 'chair   i', 'flor  i', 'bat  i', 'stubble i', 'trot   i', 'horn i', 'sheet   i', 'beta  i', 'selict  i', 'fin  i', 'car   i', 'knew  i', 'knom  i', 'yeet he steill thinks thouc warflyseavbal i', 'usaly minus several button i', 'flor  i', 'train  i', 'whoem  i', 'we have offen uazged jumpd tofoa more and smoke gleas i', 'left    i', 'born   i', 'beat  i', 'knew  i', 'right  i', 'rage  i', 'ship  i', 'stik  i', 'storm i', 'tuble  i', 'towm   i', 'feum  i', 'glow      i', 'form  i', 'form   i', 'rave i', 'warm  i', 'ship i', 'tark  i', 'storm     i', 'smeooat   i', 'storm        i', 'op  i', 'tark i', 'rake i', 'race i', 'air i', 'i can read    i', 'air   i', 'jacket     i', 'dount leght mister caryun ory elect theigh i', 'raege          i', 'hair  i', 'spark  i', 'for  i', 'coate   i', 'jaggered    i', 'corn   i', 'spark  i', 'fild       i', 'the quick  brown foxjunk over the lazy dog i', 'but heovs answers banana oil  i', 'two   i', 'trait  i', 'shou wished to know all about my grandfather i', 'traice   i', 'cycle i', 'error  i', 'of  i', 'i just  cray to do my bes i', 'both figures would go higyhe rn lighter years i', 'menu  i', 'side  i', 'i tried to dog bepoltan the community ri', 'sive  i', 'loop   i', 'her            i', 'area   i', 'why selvfed ovo over siliams i', 'cherm   i', 'everything went rel smoth the sherif  said i', 'eight          i', 'write  i', 'hate  i', 'this wasleoaszeng for us i', 'whoop i', 'know   i', 'drop  i', 'droop  i', 'sleft   i', 'swayare    i', 'shoft   i', 'shoot   i', \"are your grades higher or lower than nancy's i\", 'fruit  i', \"you'd prefer off tearking a cold shower i\", 'the island box fath slop op lat i', 'knot   i', 'pot  i', 'boop  i', 'swave     i', 'playe     i', 'sprinkle i', 'knot   i', 'for  i', 'were  i', 'tot  i', 'suip  i', 'single   i', 'pad  i', 'all the big bazed bol players get treaded i', 'pay  i', 'chero      i', 'i can play this weekkend i', 'i feel wli canplay this weekend i', 'the cgarired molff on the stretcher i', 'write   i', 'will rolbin wa yellow lielly  i', 'whotp  i', 'chear      i', 'near  i', 'ster   i', 'fad  i', 'galore      i', 'broight sunshine shimmers on the occean i', 'we gathered shells on the beac i', 'he wil u low a rare lie i', 'charlie i', 'worm  i', 'eight      i', 'sleght  i', 'knew  i', 'tive    i', 'through   i', 'though         i', 'flor    i', 'the house is a grey and white  i', 'knotthingthoushe hav fond the alter noence i', 'notthing has affons t vainoers since i', 'slay     i', 'snoop  i', 'sighe     i', 'rocks    i', 'she is thinner than i am i', 'urgent   i', 'jungle  i', 'bear    i', 'souit   i', 'just one sigcgot weat i', 'pile      i', 'youre sed trobocking on the fold i', 'forward   i', 'for   i', 'speer  i', 'selita    i', 'i lk dolfhins noticse to old men i', 'slip   i', 'i was consciousall the time i', 'prior  i', 'tile     i', 'fearm  i', 'fave  i', 'one father lay the tie the schroubal distroit i', 'meu  i', 'fate   i', 'fat  i', 'mother sls yellow kingham aprons i', 'much  i', 'kno  i', 'rock i', 'rock   i', 'janged my warmal mosu by wokang hath i', 'sigh  i', 'troop  i', 'broot  i', 'i excrued thoe farmsthoroughly  i', 'sigh    i', 'the train ofvoct sjrugged to fo slowly i', 'steer  i', 'explore    i', 'grow i', 'waha  i', 'i  motherr your to vorwell shy i', 'air i', 'select   i', 'bietas   i', 'troop          i', 'thigh i', 'swre   i', 'my sissurvived the frowwas carm i', 'slere   i', 'bar  i', 'wh oe lo wille were wvord   i', 'slip i', 'cope i', 'tie     i', 'bak     i', 'albaalohiger lay nea asthewall i', 'echo     i', 'thogh     i', 'hias   i', 'are seare  i', 'zerco           i', 'braw         i', 's dent w as he got out i', 'at   i', 'parkead i', 'shy     i', 'fatlir i', 'hop  i', 'lair   i', 'tell i', 'lair i', 'vad i', 'klo', 'vugeat', 't alfs swam around the bold', 'lear', 'jrumus ither suls have lost tor rar', 'papa', 'start', 'him', 'loyal i', 'sign  i', 'bran i', 'pa i', 'rake    i', 'seed      i', 'the bax cuntbanct sreaye sweaters i', 'flor i', 'fair    i', 'pitting    i', 'fill i', 'he wwraped the pail the package hastfily i', 'ptet i', 'tit  i', 'november i', 'eirt i', 'shye i', 'barn i', 'him   i', 'chop i', 'fothough i', 'carer i', 'uziat i', 'hark   i', 'blow      i', 'ye   i', 'yeas i', 'leake   i', 'banatga  i', 'score i', 'i ave had my bow rong i', 'sergeat i', 'sitting i', 'cot i', 'vark i', 'stor i', 'spark i', 'spair i', 'spayn i', 'chaw i', 'nawne      i', 'citter    i', 'cake i', 'hum   i', 'holf trail i', 'the fox sawe very r frst ship i', 'harp i', 'car   i', 'park     i', 'jar        i', 'hill      i', 'zero    i', 'sever   i', 'i hav scrbp wal this weak i', 'zlof schoubale a xtere un yd i', 'flow   i', 'a pocud chaild ivl er i', 'to        i', 'swing nawarm as high asyou can i', 'befortheire cards warm brought i', 'hiwo    i', 'ch i', 'shy i', 'sirk   i', 'there is a treade house alppeball i', 'park  i', 'thought   i', 'har   i', 'leoage i', 'we vot g to the flarm i', 'quebec  i', 'bit     i', 'the job provid musing breata filt i', 'hat  i', 'were   i', 'leak  i', 'tark  i', 'much      i', 'leage       i', 'know    i', 'fite i', 'wal all alf feills ves for us i', 'torn   i', 'golf       i', 'hitting   i', 'cal loves aa lisly home i', 'tarn  i', 'gnaw      i', 'wicared  i', 'prar i', 'chairp  i', 'bt the tim con help to i', 'hamar i', \"whe're   i\", 'sita i', 'grop  i', 'wala  i', 'i have mer loyars overwelm lar i', 'fair  i', 'air     i', 'sel   i', 'ea  i', 'troop      i', 'pale  i', 'ware  i', 'my sif tunized the floward car i', 'lipt     i', 'two are thers cariads heaves all sever unse are othrsmn i', 'brar  i', 'boe the walls were wa orbord  i', 'slep      i', 'cope  i', 'tot  i', 'ag  i', 'ofa laa lay neara boall i', 'echo    i', 'thought  i', 'mirke  i', 'sears      i', 'zero   i', 'baw  i', 'tudent w as he got out i', 'at  i', 'parke  i', 'sigh   i', 'fitling  i', 'left  i', 'leark        i', 'tell  i', 'lair  i', 'thagh  i', 'kilo  i', 'raisly  i', 'to tol foms swam around ther boat  i', 'learm  i', 'granmuscarlers sls have lost o weare i', 'papa  i', 'thisis a pof trackzecion for meat i', 'dark  i', 'him   i', 'loyal  i', 'sign i', 'bran  i', 'tewo   i', 'rake   i', 'seard  i', 'the box cunjanktd three sweater   i', 'fror  i', 'bit   i', 'knitting  i', 'fill   i', 'he redgfae the parkage hastfoily i', 'pit  i', 'potet   i', 'pt  i', 'nobrown vear  i', 'eap     i', 'sive  i', 'barn i', 'him  i', 'jap   i', 'forthough   i', 'cuiten   i', 'rusliat    i', 'hark   i', 'flow     i', 'rali oe i', 'op  i', 'yes     i', 'leak    i', 'knoten  i', 'o score  i', 'i ave had my brow rong i', 'sergeant   i', 'sitting  i', 'cot      i', 'rarke  i', 'spore  i', 'spark  i', 'spair  i', 'spayun  i', 'thow i', 'nawne  i', 'sitter  i', 'cark      i', 'horm i', 'holf cel   i', 'the fox sowe very ye at ship  i', 'harp  i', 'car  i', 'park  i', 'jdark  i', 'hell  i', 'zero  i', 'severn  i', 'i have  well fm t villiive work i', 'the of scoubal house stores unly i', 'flow  i', 'il procutsevs tho voue   i', 'tore  i', 'swing naw ontas high as you can i', 'before theire gos warm brought  i', 'him  i', 'caw    i', 'shy  i', 'sip        i', 'there is a treadeof alppepall i', 'pairt   i', 'thought  i', 'harp   i', 'league  i', 'well voopback to the flor  i', 'quebec  i', 'bit  i', 'the job provud mostty brogta fult i', 'ghoe job provitess many bren fuats i', 'hat  i', 'swlip i', 'leak  i', 'par  i', 'mush  i', 'leak  i', 'know  i', 'fitteu  i', 'wnal al falv ov form  i', 'torn  i', 'golf  i', 'hitting  i', 'cal loves taa livesly home  i', 'tarn  i', 'gnaw  i', 'alscar th troubb of gd aters co goton farviable i', 'woirckeard       i', 'prar   i', 'the ners sr gala fore fuming lo i', 'chair     i', 'prey boat the time con help too       i', 'ham  i', 'were  i', 'sirta         i', 'share      i', 'prawn i']\n"
          ]
        },
        {
          "name": "stderr",
          "output_type": "stream",
          "text": [
            "Saving model checkpoint to torgo_xlsr_finetune-M02-2/checkpoint-12500\n",
            "Configuration saved in torgo_xlsr_finetune-M02-2/checkpoint-12500/config.json\n",
            "Model weights saved in torgo_xlsr_finetune-M02-2/checkpoint-12500/pytorch_model.bin\n",
            "Feature extractor saved in torgo_xlsr_finetune-M02-2/checkpoint-12500/preprocessor_config.json\n",
            "Deleting older checkpoint [torgo_xlsr_finetune-M02-2/checkpoint-11500] due to args.save_total_limit\n",
            "/usr/local/lib/python3.9/dist-packages/transformers/models/wav2vec2/processing_wav2vec2.py:155: UserWarning: `as_target_processor` is deprecated and will be removed in v5 of Transformers. You can process your labels by using the argument `text` of the regular `__call__` method (either in the same call as your audio inputs, or in a separate call.\n",
            "  warnings.warn(\n",
            "The following columns in the evaluation set don't have a corresponding argument in `Wav2Vec2ForCTC.forward` and have been ignored: input_length. If input_length are not expected by `Wav2Vec2ForCTC.forward`,  you can safely ignore this message.\n",
            "***** Running Evaluation *****\n",
            "  Num examples = 714\n",
            "  Batch size = 8\n"
          ]
        },
        {
          "name": "stdout",
          "output_type": "stream",
          "text": [
            "['grow i', 'feed  i', 'alpha  i', 'pot  i', 'farm  i', 'ship i', 'dagger i', 'rave i', 'fair i', 'sheet i', 'ship i', 'park i', 'goadfatherslighets to bea my dern answers lackage i', 'spubble i', 'bit  i', 'will she as nearly notcis twit yor o i', 'trouble i', 'chair i', 'rat i', 'though  i', 'goadget i', 'barn i', 'torn i', 'go i', 'swarm i', 'share i', 'tarn i', 'i can meat i', 'sheet   i', 'starp  i', 'right i', 'dw  i', 'tair i', 'no i', 'yeeft i', 'store i', 'chair i', 'swore i', 'bat  i', 'stubble i', 'trop        i', 'she had your doksuit in grewash watter all year i', 'horn  i', 'sheet         i', 'paca i', 'sit  i', 'spaint  i', 'car    i', 'knoing  i', 'kno    i', 'yeethe  stl thrink tets swasly has eval i', 'musually minus several bton i', 'flor   i', 'traine  i', 'bhoop   i', 'we have often urged jump fo more and smo gleas i', 'the jugs munal left i', 'forn i', 'binat  i', 'knew  i', 'right    i', 'range    i', 'sip i', 'stick     i', 'storm i', 'bubble  i', 'tarwm i', 'two i', 'glow i', 'form i', 'florm  i', 'breave i', 'warm  i', 'shar i', 'stark i', 'storm   i', 'groat  i', 'swarm  i', 'chop  i', 'a long forloweng boat clings to urd hhin i', 'dark i', 'rake i', 'race i', 'erlor i', 'i can read  i', 'air i', 'jacket i', \"don't link mister carun orcalyy exlpect thoht i\", 'ragedh i', 'hair i', 'spark i', 'for i', 'compe i', 'jaggered i', 'corn i', 'spark i', 'feed  i', 'the quick brown foox jumpt over the lazy dog i', 'buthalwars answers banana ol i', 'two     i', 'trad  i', 'tosvut to know all abont buy grandfather  i', 'trace   i', 'cycle i', 'error i', 'of i', 'i just try to do my best i', 'foth figules would go higyer lighter ships i', 'ntc  i', 'side i', 'i trlied to tave preoboled the communitty ri', 'sigh  i', 'loop i', 'chero i', 'area i', 'why joed for oal sillisemans i', 'cheere  i', 'every thing wam belo smoth the shelliff said i', 'eight i', 'right i', 'hate      i', 'this was easing for us i', 'whoop     i', 'now    i', 'drop   i', 'droop i', 'slip  i', 'sway i', 'shoft i', 'shoot i', \"are your greads higher or lower than nancy's i\", 'troop  i', \"you'd bit off chearkking a cold showe i\", 'the island boxs fath loot oplate i', 'knot     i', 'pot i', 'boot i', 'selat i', 'tile i', 'sprinkle i', 'knot i', 'for i', 'tot i', 'suit i', 'single  i', 'pad  i', 'all the bixbuaed ball players get treated i', 'pay  i', 'cher  i', 'i can play this weekkend i', 'i fee alo crrumps play this weekend i', 'they gahered bioff on the stretcher i', 'wright i', 'will ro banwal yellow lilly i', 'whop   i', 'cher i', 'near i', 'steer  i', 'bad  i', 'galore   i', 'feht sunshine shimmers on the occean i', 'e gathered shells on the beach i', 'he will all low a vaa lie i', 'charlie i', 'woalsh i', 'eate    i', 'lifht i', 'thew  i', 'tive i', 'serohe i', 'though  i', 'flor i', 'the houseis gro and watch  i', 'notthing ause have found the oltr nocence i', 'notthing has offens to valit thinner since i', 'slay i', 'snak     i', 'sigh i', 'rocks    i', 'she wis thinner than i am i', 'urgent i', 'jungle     i', 'far i', 'soit       i', 'just one iycgot wet i', 'pile i', 'yeut yit is trobooing on the field i', 'forward i', 'for i', 'theer i', 'stelat   i', 'i lookedoff o notic twowall men i', 'slip  i', 'i was conscious all the sime i', 'trile   i', 'tile   i', 'treeo     i', 'fat   i', 'one falurd lay dtime tus schrubl ditat i', 'meu    i', 'sheet i', 'fat  i', 'mother sls yellow kingham aprons i', 'ruch i', 'no    i', 'rock   i', 'sn maoall musersare workeing hard i', 'shy   i', 'troop  i', 'froot  i', 'i exscrubbed thoe floarms thoroughhly i', 'sigh i', 'the train olf voch sjupped to fo slowly i', 'steer       i', 'explore i', 'grow  i', 'feed i', 'alpha   i', 'pot  i', 'farm i', 'sip i', 'dagger  i', 'rave i', 'fair i', 'feet  i', 'ship  i', 'park   i', 'godfather ligkeds to beo my treniners black goage i', 'bubble   i', 'bit  i', 'will she isnearly ninety fore your old i', 'trouble        i', 'chair  i', 'raid   i', 'gtho i', 'gadget i', 'form   i', 'torn   i', 'go   i', 'swarm  i', 'share  i', 'lyul carns i', 'i can read    i', 'fiot  i', 'steirk     i', 'right  i', 'knew  i', 'tep  i', 'nom  i', 'left  i', 'store    i', 'chair   i', 'flor   i', 'fat  i', 'stubble i', 'trot  i', 'horn i', 'sheet   i', 'beta     i', 'selict  i', 'fin  i', 'car  i', 'knew  i', 'nom  i', 'yeet he still thinks thuc swarflyeable i', 'yus reminus several button i', 'flor  i', 'train  i', 'whop   i', 'we have often urced jumpdfo morle and smoke gles i', 'left    i', 'forn   i', 'beat  i', 'knew  i', 'right       i', 'range  i', 'sip  i', 'stick  i', 'storm i', 'stubble   i', 'tom  i', 'fewu  i', 'glow  i', 'form  i', 'form   i', 'brave i', 'warm i', 'sip i', 'tark   i', 'storm  i', 'smoot  i', 'storm  i', 'op  i', 'stark i', 'rake i', 'race i', 'air  i', 'i can read   i', 'air   i', 'jacket      i', 'dount lefht mister carry un ory  elect thogh i', 'raeg       i', 'hair   i', 'spark    i', 'for  i', 'coat   i', 'jagged      i', 'corn  i', 'spark  i', 'filt  i', 'the quick  brown fox junk over the lazy dog i', 'but heovs answers banana oil    i', 'two   i', 'troit    i', 'she wished to know all about my grandfather i', 'trice   i', 'cycle  i', 'error  i', 'of  i', 'i just cra to do my bes  i', 'both  figules would go higyhe rn lighter his i', 'nenhum  i', 'side   i', 'i tried to dg befoltn the community ri', 'sige  i', 'loop     i', 'here  i', 'area      i', 'whiy sellfed vo over sulimams i', 'herm   i', 'every thing went rl smoth the sherrif said i', 'eight    i', 'right  i', 'hate  i', 'this wasloosing for us  i', 'whoop i', 'now   i', 'drot    i', 'droop  i', 'slept     i', 'sware   i', 'shoft  i', 'shoot   i', \"are your grades higher or lower than nancy's i\", 'fruit   i', \"you' prefer off tearkking a cold shower   i\", 'the island boxs farhsloop op litn i', 'knot   i', 'pot  i', 'boot  i', 'swave            i', 'play  i', 'sprinkle i', 'knot   i', 'for  i', 'were  i', 'tot  i', 'suit  i', 'single  i', 'pand  i', 'all the big brase fol players get treaterd i', 'pay  i', 'cher  i', 'i can play this weekend i', 'i feel i can play this weekend   i', 'the carrired miolff on the stretcher   i', 'wright  i', 'will robin wa yellow lilly    i', 'whotp   i', 'shear     i', 'near  i', 'ster           i', 'fad  i', 'galore  i', 'bruight  sunshine shimmers on the occean i', 'oe gathered shells on the beach i', 'he wil bu low a rare lie i', 'charlit   i', 'worf   i', 'eight    i', 'slect  i', 'knew  i', 'tive     i', 'through    i', 'though  i', 'flor   i', 'their house is a grey and white    i', 'nothing athushe had fond the eltr noence i', 'notthing has offensi vallinoers since i', 'slay     i', 'snoop  i', 'sighe    i', 'rocks  i', 'she is thinner than i am i', 'urgent   i', 'jungle  i', 'feair  i', 'suit   i', 'just one siyccot weat i', 'pile    i', 'youre sed toboocing on the fiold i', 'forward   i', 'for   i', 'speer   i', 'selita     i', 'i look dolfins notice two old men i', 'slip   i', 'i was conscious all the time i', 'prior   i', 'tile  i', 'fear   i', 'fave  i', 'one  father lay tetie th schrubal distrit i', 'me   i', 'fate  i', 'fat  i', 'mothers suls yellow kingham aprons i', 'much  i', 'no i', 'rock  i', 'rock   i', 'janged my warmal mosy by wolkang hat i', 'sigh   i', 'troop   i', 'brooat  i', 'i excrubbed the farmsthoroughly     i', 'sigh  i', 'the train of voct sjrugged to fo flowly i', 'teer  i', 'explore    i', 'growp i', 'rohal   i', 'i a mtherr your gol vowel shy i', 'air i', 'select   i', 'biasp   i', 'troop     i', 'thigh i', 'swore   i', 'my sissurvived the frlowwas cam i', 'hliere   i', 'brar   i', 'by ol lou waille were wvord  i', 'slip  i', 'colpe i', 'tie     i', 'back        i', 'alblo hier lay neathe wall i', 'echo    i', 'thought     i', 'whnr   i', 'ure sear  i', 'rcle       i', 'braw     i', 's dents sw as he got out i', 'at     i', 'parket i', 'shy       i', 'fatlir i', 'hop  i', 'lair i', 'till  i', 'slair i', 'vbad i', 'kilo', 'vgat', 't alfast swam around thei fol', 'lear', 'grunmus iher suls have lost tr r', 'alpa', 'start', 'him', 'loyal    i', 'sign  i', 'brawn i', 'spi i', 'rake    i', 'seed    i', 'the parx cuncanchtsray sweathers i', 'flor i', 'fair    i', 'pitting    i', 'fill i', 'he wraped the faill te package hasttfily i', 'ptect i', 'trrit   i', 'randfor i', 'feirt i', 'shy i', 'barn i', 'haime  i', 'charp   i', 'for though i', 'carer i', 'liat i', 'hark   i', 'flow        i', 'ye   i', 'yeesr i', 'leak   i', 'binatger  i', 'score     i', 'i ave had my brow rong i', 'sergeat i', 'citting i', 'cot i', 'rark i', 'sftlor i', 'spark i', 'sfair  i', 'spain i', 'chaw i', 'nawn      i', 'citer    i', 'cake i', 'hum   i', 'holf tral i', 'the fox sawe very yr first ship i', 'harf  i', 'car        i', 'park      i', 'jark        i', 'hill      i', 'zero   i', 'sever  i', 'i h scrobe l sthis wek  i', 'jlaf schoubale hou extere un injury i', 'flo   i', 'a pocu choils ily i i', 'tort        i', 'swing naw onas high as you can i', 'beforthure cars warm brogh i', 'hiwo    i', 'ch    i', 'shy i', 'sik   i', 'there is a treade house  alpperball i', 'park  i', 'thought    i', 'har   i', 'loak i', 'we voat g to the flarm i', 'quebec    i', 'bit    i', 'the job provuided mosing brancha silt i', 'hat   i', \"we're    i\", 'leak  i', 'park   i', 'march    i', 'leae     i', 'no   i', 'hiten i', 'lall olf fell vs for us i', 'toron  i', 'golf     i', 'hitting   i', 'carll lives anal lily home i', 'tarn   i', 'gna     i', 'wicceared  i', 'prair   i', 'chhairp  i', 'b bat te tim con help toop i', 'ham  i', 'where   i', 'sita i', 'grow  i', 'walgha  i', 'i have milyars over welm slr i', 'air  i', 'air    i', 'seleht   i', 'iea  i', 'troop  i', 'fial  i', 'we  i', 'miy sif tunizsed the floware carn i', 'lipt    i', 'two are ther criads heaves all siverll unsrs ar lohrsmi i', 'brar  i', 'bwor the walls were w bold  i', 'slip   i', 'cope  i', 'pot  i', 'and i', 'affall lowar lays near the wall i', 'echo    i', 'thought  i', 'mirke  i', 'a sears  i', 'zercl      i', 'braw  i', 'student wa as he got  out i', 'at  i', 'parkle  i', 'sigh   i', 'fitlin   i', 'left  i', 'lairk  i', 'tell  i', 'lair  i', 'thigh  i', 'kilo  i', 'ratly  i', 't ol fo swam around thir boat  i', 'leairm  i', 'granmuscarlrs suls have lost lo war i', 'palpa  i', 'thisis a pdoff track zecion for met i', 'dart  i', 'him  i', 'loyal  i', 'sign  i', 'bran  i', 'tewo   i', 'roke  i', 'seerd   i', 'the box cuonjaict three sweater       i', 'frorm   i', 'bit    i', 'knitting  i', 'fill  i', 'he raed tpas the package hastfily i', 'pait  i', 'potent  i', 'tit  i', 'nobrown fir  i', 'eihp   i', 'slive   i', 'barn i', 'him  i', 'jop    i', 'forthought   i', 'cuitten  i', 'rusliet  i', 'hark   i', 'flo     i', 'ral o i', 'op  i', 'yes    i', 'leak  i', 'knotten  i', 'l score  i', 'i ave had my brow rong i', 'sergeant     i', 'sitting   i', 'cot    i', 'rark  i', 'spore  i', 'spark  i', 'spair  i', 'spain  i', 'thow i', 'dawn  i', 'sitter  i', 'cake     i', 'horm i', 'holf crell   i', 'the fox sawe very yl  ship  i', 'harp  i', 'car  i', 'park   i', 'dark  i', 'hill  i', 'zero  i', 'severn      i', 'i have st well bm t villiciv work i', 'the lof schoubal house stures uny i', 'flow  i', 'il procuyou selves to vol   i', 'tort  i', 'swing naw onas high asyou can i', 'before thoure gos warm brought   i', 'him  i', 'chow        i', 'sy   i', 'sip      i', 'theire is a treadhouse alpperall     i', 'fair  i', 'thought  i', 'harp      i', 'leak  i', \"we'll volobach to the flor  i\", 'quebec  i', 'bit  i', 'ged job provoued mostiny brough filt     i', 'goed job provoites many brenel fits i', 'hat  i', 'wlirp i', 'leak  i', 'park  i', 'mush  i', 'leak  i', 'no  i', 'fitten   i', 'aln al al fil u form  i', 'forn  i', 'golf  i', 'hitting  i', 'cal lives taalieasly home  i', 'darn  i', 'gna  i', 'alsca t troubbls of gd atters co goun favible i', 'wickker     i', 'prair  i', 'the oners srye galay for fumbing lo i', 'chairp      i', 'pry hboat the time con help too  i', 'ham   i', 'were  i', 'sita          i', 'share       i', 'praiwn i']\n"
          ]
        },
        {
          "name": "stderr",
          "output_type": "stream",
          "text": [
            "Saving model checkpoint to torgo_xlsr_finetune-M02-2/checkpoint-13000\n",
            "Configuration saved in torgo_xlsr_finetune-M02-2/checkpoint-13000/config.json\n",
            "Model weights saved in torgo_xlsr_finetune-M02-2/checkpoint-13000/pytorch_model.bin\n",
            "Feature extractor saved in torgo_xlsr_finetune-M02-2/checkpoint-13000/preprocessor_config.json\n",
            "Deleting older checkpoint [torgo_xlsr_finetune-M02-2/checkpoint-12000] due to args.save_total_limit\n",
            "/usr/local/lib/python3.9/dist-packages/transformers/models/wav2vec2/processing_wav2vec2.py:155: UserWarning: `as_target_processor` is deprecated and will be removed in v5 of Transformers. You can process your labels by using the argument `text` of the regular `__call__` method (either in the same call as your audio inputs, or in a separate call.\n",
            "  warnings.warn(\n",
            "The following columns in the evaluation set don't have a corresponding argument in `Wav2Vec2ForCTC.forward` and have been ignored: input_length. If input_length are not expected by `Wav2Vec2ForCTC.forward`,  you can safely ignore this message.\n",
            "***** Running Evaluation *****\n",
            "  Num examples = 714\n",
            "  Batch size = 8\n"
          ]
        },
        {
          "name": "stdout",
          "output_type": "stream",
          "text": [
            "['grow  i', 'seed   i', 'alpha  i', 'pot  i', 'farm  i', 'share i', 'daggor i', 'rave i', 'far i', 'sheet i', 'ship i', 'park i', 'gadfatherslices to be my dern answers lackage i', 'spubble i', 'pit  i', 'well she as nearly notcis it yorsove i', 'trouble i', 'chair i', 'rat i', 'thagh     i', 'goadget i', 'barn i', 'torn i', 'go i', 'swarm i', 'share i', 'i  tarn i', 'i can meat i', 'sheat  i', 'star    i', 'right i', 'do     i', 'tair i', 'know  i', 'yeef i', 'store i', 'chair i', 'swore i', 'bat  i', 'stubble i', 'trop      i', 'she had your dksouit in goroeod was fater all year i', 'horn  i', 'sheet      i', 'paca i', 'set  i', 'fate    i', 'car     i', 'knoying   i', 'know  i', 'yeetthe stels tfhink sefs swarsely thas evel i', 'musually minus several buttons i', 'flor  i', 'trane    i', 'whoop   i', 'we have often  urged jumpd o more and smow gleas i', 'tou jugs muna left i', 'borm i', 'beigat  i', 'new  i', 'right  i', 'range  i', 'ship  i', 'stick   i', 'storm i', 'dubble  i', 'tarwm i', 'two i', 'glow i', 'form i', 'form  i', 'briar  i', 'warm  i', 'share i', 'stark i', 'storm    i', 'broat  i', 'swarm   i', 'op  i', 'a long forlower boatd clings to urd hhin i', 'tark   i', 'rake i', 'raice i', 'error i', 'i can read  i', 'air i', 'jacket i', \"don't lef mister carryun or al exlect the i\", 'raegeh i', 'hair i', 'spark i', 'for i', 'compe    i', 'jaggered i', 'corn i', 'spark i', 'feard    i', 'the quick  brown fowox jumpt over the lazy dog i', 'but thaars ansors banana ol i', 'two     i', 'trade   i', 'osviuce to know all abont u grandfather  i', 'trace    i', 'cycle i', 'error i', 'of   i', \"i' just try to do my best i\", 'foth pigles would go hiyer lichter ships i', 'detam  i', 'side  i', 'i tried to tave peopled the communitty ri', 'sige   i', 'loop i', 'cheer i', 'area i', 'why jaed avo oerl silllisemans i', 'cheer   i', 'every thing wam beal  smocte the shelliff sad i', 'eight  i', 'wright i', 'hate  i', 'this was easy for us i', 'whoop    i', 'dow    i', 'drop   i', 'droop i', 'slip  i', 'sware i', 'shoft i', 'shoot i', \"are your greades higher or lower than nancy's i\", 'troop  i', \"you'd bi off chearking a cold showe i\", 'the island fash looes op later i', 'knot  i', 'pot     i', 'boot i', 'selat  i', 'tie i', 'sparkle i', 'knot i', 'for i', 'to i', 'shoot i', 'single   i', 'pade    i', 'all the vixbased  ball players get treaoed i', 'pay    i', 'cheer     i', 'i can play this weeend i', 'i feel alow craump play this weekend i', 'they carered biof on the stretcher i', 'wright i', 'bewol bawal yellow lilly i', 'wop   i', 'shear i', 'near   i', 'steer  i', 'bad  i', 'galore    i', 'fit sunshine shimmers on the occean i', 'toe gathered shells on the beach i', 'he will all low a varar lie i', 'charlie i', 'walsh i', 'ate   i', 'lift i', 'tnhew    i', 'tive i', 'sevouhe i', 'though  i', 'flor   i', 'the house is grow and weach  i', 'notthing asuse have fond the oter noence i', 'notthing has offens t val thinner since i', 'slay i', 'snop        i', 'sigh i', 'rocks   i', 'she is thinner than i am i', 'urgent i', 'jungle    i', 'bear  i', 'shoot    i', 'just one ighegot wet i', 'pile i', 'yeust used trobooing on the field i', 'forward i', 'for i', 'heer i', 'stlap   i', 'i looked off o notics two all men i', 'slip  i', 'i was conscious all the fairme i', 'trior    i', 'tile  i', 'treo    i', 'fa     i', 'one  valured lay dtime tos schroubal distruit i', 'meu  i', 'sheet i', 'fat   i', 'mothers sewls yellow kingham aprons i', 'much       i', 'no      i', 'rock   i', 'jan maoa a musbare workeang hard i', 'shy    i', 'troop  i', 'root  i', 'i excrubed the flarms thoroughhly i', 'sigh i', 'the train afvoc suped do fo slowry i', 'steer    i', 'explore i', 'grow  i', 'feed i', 'alpha  i', 'pot  i', 'farm  i', 'ship i', 'dagor  i', 'rave i', 'fair i', 'feet  i', 'ship   i', 'park   i', 'godfather liceds to bea my traninius black gage i', 'pubble  i', 'bir  i', 'well she isnearly noiney fore yor old i', 'trouble   i', 'chair   i', 'raid   i', 'gaha i', 'gadget i', 'farm   i', 'torn  i', 'go  i', 'swarm  i', 'share    i', 'alyour carms i', 'i can read   i', 'fruit  i', 'stark     i', 'right  i', 'knew  i', 'tarp  i', 'no  i', 'yef  i', 'store        i', 'chair  i', 'flor  i', 'bat  i', 'stubble i', 'trot  i', 'horn i', 'sheet  i', 'peta  i', 'selict  i', 'fain  i', 'car  i', 'knew  i', 'nom  i', 'yeet he stills thinks theus swearfly seava i', 'yuse reminus several button  i', 'flor  i', 'train  i', 'whop    i', 'we have ofen urced jumpd foa more and smoke gle i', 'left   i', 'born   i', 'beat  i', 'knew  i', 'right   i', 'range  i', 'sip  i', 'stear  i', 'storm i', 'stubble     i', 'towm  i', 'feuum  i', 'glow  i', 'form  i', 'form   i', 'brave i', 'warm  i', 'ship i', 'tark        i', 'storm  i', 'smoot   i', 'spworm  i', 'op  i', 'stark i', 'rake i', 'race i', 'air  i', 'i can read      i', 'air       i', 'jacket        i', 'dount lef mister carry uns oray elect they i', 'raege  i', 'hair   i', 'spark      i', 'four  i', 'compe   i', 'jaggerd  i', 'corn   i', 'spark    i', 'filtd  i', 'the quick  brown fox junkps over the lazy dog i', 'but theovers answers banana oil    i', 'two   i', 'troat    i', 'she wished to know all about my grandfather i', 'trice   i', 'cycle    i', 'error  i', 'of   i', \"i'e just scray to do my bes  i\", 'both  figures would go higyer lighter hirs i', 'nonhum   i', 'side        i', 'i tried to d bepolta the community i', 'sive  i', 'loop   i', 'heare  i', 'area     i', 'whiy selfd avo over sulisemams  i', 'hear   i', 'every thing wenm real smoth the sherriff said i', 'eight  i', 'right  i', 'hate  i', 'this was loasy for us  i', 'whoop i', 'know    i', 'drop    i', 'droop  i', 'slept   i', 'swaire    i', 'shoft   i', 'shoot   i', \"are your grades higher or lower than nancy's i\", 'fruit   i', \"you'd prefer  off tearking a cold showor   i\", 'the island bosfarh sloop op latve i', 'knot   i', 'pot  i', 'poo  i', 'swave  i', 'playo  i', 'sprinkle i', 'knot   i', 'for  i', \"we're  i\", 'to  i', 'sup  i', 'single  i', 'pav  i', 'all the big base foll players get treaerd i', 'pay  i', 'cheer  i', 'i can play this weeend i', 'i feel wi can play this weekend    i', 'they carrired molff on the stretcher  i', 'wright  i', 'will albrwa yellow lilly     i', 'whoc     i', 'shear    i', 'near  i', 'steer         i', 'fad  i', 'galore  i', 'breight sunshine shimmers on the ocean i', 'oue gathered shells on the beach i', 'he wil abo low a rare lie i', 'charlie    i', 'woarf    i', 'eought  i', 'elect   i', 'knew  i', 'tive      i', 'shrogh    i', 'though  i', 'flor  i', 'their house is a grey and wite    i', 'notthing athuse hav fonds the elper noence i', 'notthing has offensive vall tinnoers since i', 'slay    i', 'snoop  i', 'sighe    i', 'rocks  i', 'she is thinner than i am i', 'urgent     i', 'jungle  i', 'bear  i', 'suip   i', 'just one sigce got wet i', 'pile  i', 'youre used trbooing on the field i', 'forward      i', 'for   i', 'speer       i', 'selita  i', 'i looke delfins noticetwo old men i', 'slip     i', 'i was conscious all the time i', 'prior     i', 'tile  i', 'fear   i', 'fave        i', 'one father lays tie th schroubal distrit i', 'mere   i', 'fate  i', 'fat  i', 'mothers sls yellow kingham aprons i', 'much  i', 'no i', 'rock  i', 'rock   i', 'jangedmy warmal musers by wo cang hat i', 'shy  i', 'troop  i', 'brooat  i', 'i excrubed the farms thoroughly    i', 'sigh  i', 'the train ofvolfct strued to fo slowly i', 'deer  i', 'explore    i', 'grow i', 'aha  i', 'i  mothersr your o owall shar i', 'air i', 'select   i', 'bita  i', 'troop       i', 'tigh i', 'sware   i', 'my si survived the flow was carm i', 'lear   i', 'braiar     i', 'be lou wile were vord  i', 'slip i', 'colpe i', 'tae       i', 'bark        i', 'ala alo ier lay nea astheall i', 'echo    i', 'pa      i', 'hnor   i', 'r sear   i', 'zero     i', 'braw   i', 's dent sws as he got out i', 'at       i', 'parket i', 'shy       i', 'fatler i', 'hop  i', 'lair i', 'till i', 'lair i', 'vad i', 'kilo', 'y', 'alpha swam around ther fold', 'lear', 'ruus ther sels have lost rir', 'apa', 'star', 'him', 'loyal        i', 'sign  i', 'brawn i', 'sa i', 'rake    i', 'seed   i', 'the parx cuntanc say sweaters i', 'for i', 'fair    i', 'pitting   i', 'fill i', 'he raed te par e parckage hastfily i', 'ptect i', 'trait    i', 'nvaear i', 'seart i', 'shay i', 'barn i', 'hal   i', 'chap  i', 'for o i', 'carer i', 'usia i', 'hark  i', 'flow  i', 'ye   i', 'year i', 'leap    i', 'wat your  i', 'scor   i', 'i ave had my brow rong i', 'sergar i', 'sitter i', 'pot i', 'rark i', 'for  i', 'spark i', 'fair i', 'spain i', 'fhaw i', 'dawn  i', 'siter     i', 'carke i', 'hurm     i', 'holf trair i', 'the fox sawe veary your bet ship i', 'harf  i', 'car          i', 'park      i', 'jar         i', 'hill      i', 'zero   i', 'sever  i', 'i scrb a dis   woce i', 'jl f schoubale a extear un esy i', 'flow  i', 'a pocof shols avly e i', 'tort  i', 'swing nw armas high asyou can i', 'bifwo care cars warm b i', 'hiwo    i', 'ch     i', 'shy i', 'sairk   i', 'there is a tread ouf   alppebal i', 'par   i', 'though     i', 'har   i', 'lork i', 'we vot g to the farm i', 'quebec   i', 'bit    i', 'the job provied musiys brancasfil i', 'hat i', 'were     i', 'leak   i', 'park   i', 'mash   i', 'lear     i', 'no     i', 'heten i', 'alal of fells erves for us i', 'torhar   i', 'golf     i', 'hitting   i', 'carlal lives aia life as a hom i', 'tar   i', 'na       i', 'wicare    i', 'priaor         i', 'chhairp   i', 'pr bat the jim can help to i', 'ham   i', 'where   i', 'sita i', 'grow   i', 'walha  i', 'i have maer loyarsol vor weall slir i', 'air  i', 'air   i', 'sel   i', 'bea  i', 'troop  i', 'pia  i', 'warm  i', 'mi sif survnized the floware carr i', 'lip   i', 'tw are ther criades eves all feveral unstere arlhers meinn i', 'briar  i', 'ore the walls were vo  i', 'sleip   i', 'cope  i', 't  i', 'and i', 'of all loalarar lay near abovall i', 'echo    i', 'though  i', 'mire  i', 'seares  i', 'zero     i', 'baw  i', 'tudentswa as he got out i', 'at  i', 'parkle  i', 'sigh   i', 'filer   i', 'left  i', 'lark   i', 'tell  i', 'lair  i', 'thag  i', 'kilo  i', 'rasly   i', 't al forms swam around ther boat  i', 'lair  i', 'grausarhers suls have lost orware i', 'palpa  i', 'this is a periudof traczecion for me i', 'dar  i', 'him  i', 'noyal  i', 'thign  i', 'bran  i', 'tewo   i', 'roake  i', 'sear  i', 'the baw cunvaned trae sweater            i', 'fror   i', 'bi  i', 'knitting  i', 'fill  i', 'he raed pase te parkage hastfily i', 'pair  i', 'protet  i', 'pr  i', 'nobrown vear  i', 'airp  i', 'slaire  i', 'barn i', 'him  i', 'chop    i', 'for ho   i', 'curen  i', 'muslie  i', 'hark   i', 'flo     i', 'rao i', 'op  i', 'yeear  i', 'leak  i', 'knota  i', 'al scor  i', 'i ave had my brow rong i', 'sergeant     i', 'sitting   i', 'car     i', 'rare  i', 'spror  i', 'spark  i', 'spar  i', 'span  i', 'thow i', 'dawn  i', 'sitter  i', 'carke     i', 'horm i', 'holf crar   i', 'the fox are very y ship   i', 'harp  i', 'car  i', 'park   i', 'dark  i', 'hill  i', 'zero  i', 'severn     i', 'i have t well m tvilliive work i', 'the of schoubal house stres unsy i', 'fnow  i', 'il pocuu selves to voy you   i', 'tore  i', 'swing naw onas high as you can i', 'before thoure gos warm brauwt   i', 'him  i', 'chaw     i', 'shy  i', 'sirp   i', 'there is a treade of alpperpal     i', 'fair  i', 'thought   i', 'har     i', 'leark  i', \"we'l vooeback to the flor  i\", 'quebec  i', 'bit  i', 'ghed job provoued mosty brouwnt o fil      i', 'goed job provitess many brenefuats i', 'hat  i', 'wore i', 'leiak  i', 'par  i', 'mush  i', 'leak  i', 'no  i', 'fitou   i', 'aln all als fil oe forus  i', 'forn  i', 'golf  i', 'hitting  i', 'carall lives tn a live as a home  i', 'darn  i', 'gnaw  i', 'alscar th troubs o gad aers c goun farvirable i', 'wickere  i', 'priar  i', 'the oners sre galea for umingloe i', 'chair      i', 'pry aboat the tim con help tro  i', 'ham   i', 'were  i', 'sita        i', 'share       i', 'praior i']\n"
          ]
        },
        {
          "name": "stderr",
          "output_type": "stream",
          "text": [
            "Saving model checkpoint to torgo_xlsr_finetune-M02-2/checkpoint-13500\n",
            "Configuration saved in torgo_xlsr_finetune-M02-2/checkpoint-13500/config.json\n",
            "Model weights saved in torgo_xlsr_finetune-M02-2/checkpoint-13500/pytorch_model.bin\n",
            "Feature extractor saved in torgo_xlsr_finetune-M02-2/checkpoint-13500/preprocessor_config.json\n",
            "Deleting older checkpoint [torgo_xlsr_finetune-M02-2/checkpoint-12500] due to args.save_total_limit\n",
            "/usr/local/lib/python3.9/dist-packages/transformers/models/wav2vec2/processing_wav2vec2.py:155: UserWarning: `as_target_processor` is deprecated and will be removed in v5 of Transformers. You can process your labels by using the argument `text` of the regular `__call__` method (either in the same call as your audio inputs, or in a separate call.\n",
            "  warnings.warn(\n",
            "The following columns in the evaluation set don't have a corresponding argument in `Wav2Vec2ForCTC.forward` and have been ignored: input_length. If input_length are not expected by `Wav2Vec2ForCTC.forward`,  you can safely ignore this message.\n",
            "***** Running Evaluation *****\n",
            "  Num examples = 714\n",
            "  Batch size = 8\n"
          ]
        },
        {
          "name": "stdout",
          "output_type": "stream",
          "text": [
            "['grow   i', 'feed   i', 'alpha  i', 'pot  i', 'farm  i', 'sip i', 'daggor i', 'rave i', 'fair i', 'sheet i', 'ship i', 'park i', 'goadfathersligkes to be my dernanswers lackguage i', 'spubble i', 'bit  i', 'will she as nearly notcis sist yearsov i', 'trouble i', 'chair i', 'raid i', 'theugh  i', 'gadget i', 'barn i', 'torn i', 'go i', 'swarm i', 'share i', 'tarn i', 'i can meat i', 'sheat  i', 'starp  i', 'rought   i', 'don    i', 'chair i', 'know  i', 'yes i', 'store i', 'chair i', 'swore i', 'bat  i', 'stubble i', 'trop      i', 'she had your darksouit in goroed wash fater all year i', 'horn  i', 'sheet     i', 'paca i', 'set  i', 'spainkte    i', 'car      i', 'knoying   i', 'know      i', 'yeetthe stels thinks selfs swoasly as everl i', 'musually minus several buttons i', 'flor  i', 'traine  i', 'bhop  i', 'we have often uzged jumpd vo more and smow gleas i', 'the jugs smuna left i', 'barn i', 'beigat  i', 'down  i', 'right  i', 'range  i', 'sip  i', 'stick   i', 'storm i', 'double  i', 'dawm i', 'thwo i', 'glow i', 'form i', 'florm  i', 'brar  i', 'borm  i', 'share i', 'tark i', 'storm      i', 'broat  i', 'swarm  i', 'op  i', 'a long folowng board clingss to urd hhin i', 'dark   i', 'rake i', 'race i', 'air i', 'i can read  i', 'air i', 'jacket i', \"don't lefk mister carun orallyexlect thet i\", 'raege i', 'hair i', 'spark i', 'for i', 'coumpe   i', 'jaggerd i', 'corn i', 'spark i', 'feed    i', 'the quick  brown fox jumpt over the lazy dog i', 'bothaars ansiors banana oil i', 'two    i', 'tread   i', 'osviuced to know all abont u grandfather   i', 'trace    i', 'cycle i', 'error i', 'of   i', 'i just try to do my best i', 'foth spricgules would go higyher lighter ships i', 'nedm  i', 'side i', 'i tried to teave people the communitty ri', 'sigh  i', 'loop i', 'cheer i', 'area i', 'why jaged avol oeal sillisemans i', 'cheer  i', 'everything wum weel smoct the shelliff sad i', 'eight   i', 'riht   i', 'hate  i', 'this was easng for us i', 'whoop   i', 'dow    i', 'drop   i', 'troop  i', 'slip  i', 'sway i', 'shoft i', 'shoot  i', \"are your greads higher or lower than nancy's i\", 'shroop  i', \"you'd tt   off chearking a cold showe i\", 'the island osxfath loopts up loter i', 'knot  i', 'pot    i', 'boot i', 'selaht  i', 'tie i', 'sparerkle i', 'knot i', 'for i', 'tot i', 'suit i', 'singoe  i', 'pad     i', 'all the bibased ball players get treaoed i', 'pay   i', 'chair    i', 'i can play this weekend i', 'i feel alo cuanpplay this weekend i', 'they cahered beof on the stretcher i', 'wright   i', 'befoe bawal yellow lilly i', 'woc   i', 'shear i', 'near   i', 'steer  i', 'bad  i', 'galore    i', 'fishtsunshine shimmers on the ocean i', 'foe gathered shells on the beach i', 'he will all low a vara lie i', 'charlie i', 'welsh i', 'ate    i', 'lifht  i', 'thewgh   i', 'tive i', 'sevough i', 'though  i', 'flor      i', 'the houseis go and weatch  i', 'notthing uused have found tiv  altr noence i', 'notthing has offens t val thinnoer since i', 'slay i', 'snap       i', 'sigh i', 'rocks     i', 'she is thinner than i am i', 'urgent i', 'jungle  i', 'bear  i', 'soot      i', 'just one ighcot wet i', 'pile i', 'yeut used trobooing on the field i', 'forward i', 'for i', 'chair i', 'stelat    i', 'i looked offo notcice twoalld men i', 'slip    i', 'i was conscious all the tirme i', 'trior    i', 'tile  i', 'treeo   i', 'fat    i', 'one  valurd day time tous schroubal distuit i', 'meu  i', 'sheet i', 'fat   i', 'mothers sewls yellow kingham aprons i', 'much     i', 'no      i', 'rock          i', 'jang maoal musbare workeang hard i', 'shy   i', 'troop  i', 'root  i', 'i scrubbed the flarms tharoughly i', 'sigh i', 'the traina vocht stupbed to fo slowlay i', 'steer     i', 'explore i', 'grow  i', 'feed i', 'alpha  i', 'pot  i', 'farm  i', 'sip i', 'dageor  i', 'range i', 'fair i', 'feet  i', 'ship  i', 'park   i', 'godfather likes to bea my tanainers blackgage i', 'bubble  i', 'bit     i', 'well she his nearly noinety fore yearsold i', 'trouble  i', 'chair    i', 'raid   i', 'gattha i', 'gadget i', 'varm   i', 'torn  i', 'go  i', 'swarm  i', 'share    i', 'yl carn i', 'i can read   i', 'fuit  i', 'stark      i', 'right     i', 'knew  i', 'chir  i', 'nom  i', 'yes  i', 'store      i', 'chair   i', 'flor  i', 'bat  i', 'stubble i', 'trot  i', 'horn i', 'sheet  i', 'betca  i', 'selict  i', 'fain  i', 'car  i', 'knew  i', 'nom  i', 'yeet he stiell thinks theush swiftly as eaval i', 'usualy minus several buttoun  i', 'flor  i', 'train   i', 'whol    i', 'we have ofenuced jumpd foa more and smoke gle i', 'left    i', 'born   i', 'beat  i', 'knew  i', 'right  i', 'range  i', 'sip  i', 'stick  i', 'storm i', 'tubble    i', 'town  i', 'firm  i', 'glow  i', 'form  i', 'form   i', 'brave i', 'warm  i', 'sip i', 'tark        i', 'storm  i', 'smooat  i', 'sworm  i', 'op  i', 'stark i', 'rake   i', 'race i', 'air  i', 'i can read      i', 'air      i', 'jacket        i', 'sdount left mister carry un orianlyi elect theyh i', 'raege  i', 'hair   i', 'spark  i', 'for  i', 'cope   i', 'jaggerd    i', 'corn  i', 'spark    i', 'fild  i', 'the quick  brown fox jumkps over the lazy dog i', 'buttheovirs answers banana oil   i', 'two   i', 'trat      i', 'she wished to know all about my grandfather i', 'trace   i', 'cycle     i', 'error  i', 'of   i', \"i' just scrayh to do my best  i\", 'both  figures would go highern lighter hils i', 'nonhum  i', 'side   i', 'i tried to doug bepolte the community i', 'sige  i', 'loop    i', 'her  i', 'area     i', 'why selfed avoloer shuliiseams  i', 'cherm  i', 'every thing wenmt rel smoth the sherliff said i', 'eight   i', 'right  i', 'hate  i', 'this was leasyg for us   i', 'whoope i', 'now    i', 'drop     i', 'droop  i', 'slefptt      i', 'sware   i', 'shoft   i', 'shoot   i', \"are your greades higher or lower than nancy's i\", 'fruit  i', \"you'd pre ferr off tearking a cold shower   i\", 'the island bos  farhslips op litie i', 'knot   i', 'pot  i', 'poo  i', 'swav  i', 'play  i', 'sprinkle i', 'knot   i', 'for  i', 'wwere  i', 'to  i', 'suip  i', 'single  i', 'pad  i', 'all the big basced foall players get treaerd i', 'pay  i', 'chair  i', 'i can play this weeend i', 'i feel wi can play this weekend    i', 'the carrired molff on the stretcher  i', 'right  i', 'will folbirw yellow lilly      i', 'whetc    i', 'shear    i', 'near  i', 'steer        i', 'fad  i', 'galore  i', 'breight sunshine shimmers on the ocean i', 'fou gathered shells on the beach i', 'he will au low a rare lie i', 'charlie    i', 'worf    i', 'eought      i', 'select    i', 'knew  i', 'tive      i', 'swrough  i', 'though  i', 'flor  i', 'their house is agrey and white    i', 'notthing athuse had fonds the elter noence i', 'notthing has offensive valinnoers since i', 'slay     i', 'snoop  i', 'sigh     i', 'rocks  i', 'she is thinner than i am i', 'urgent    i', 'jungle  i', 'bear     i', 'suit   i', 'just one sighe got wet i', 'pile  i', 'youre used trbooing on the field i', 'forward      i', 'for   i', 'speer     i', 'selica  i', 'i looke elfins notice two old men i', 'slip       i', 'i was conscious all the time i', 'prior     i', 'tile  i', 'fear   i', 'fave         i', 'one faur lay tie the schroubal distrit i', 'mer   i', 'fate     i', 'fat  i', 'mothers sels yellow kingham aprons i', 'much  i', 'no i', 'rock  i', 'rock   i', 'janged my warmal musurs by woleang hadt  i', 'shy  i', 'troop  i', 'broot  i', 'i excrubbed the farmsthoroughly    i', 'sigh  i', 'the train ofvolcht strued to fo slowly i', 'zeer  i', 'explore     i', 'grow    i', 'gaha  i', 'i ad moterr youars o owaell sh i', 'air i', 'select   i', 'e   i', 'troop       i', 'thigh i', 'whire   i', 'my sisurvized the flowwas carm i', 'slir   i', 'brar   i', 'b ole lu whille were wlvord  i', 'slip i', 'colpe i', 'tie   i', 'back     i', 'allohiger lay near the wall i', 'echo    i', 'thought     i', 'hnar   i', 'ar sarge  i', 'serco         i', 'braw       i', 'serdentsw as he got out i', 'at     i', 'parket i', 'shy        i', 'faitlir i', 'hop  i', 'lairk i', 'tell i', 'lair i', 'vad i', 'kilo', 'at', 'alpha swam around the fold', 'lair', 'jruus ither sells have lost trrr', 'apa', 'start', 'him', 'loyal    i', 'sign   i', 'brawn i', 'shai i', 'rake    i', 'seed    i', 'the parx cunanc slays sweaters i', 'frow i', 'fir  i', 'pitting   i', 'fill i', 'he rapped the pair te package hasttfily i', 'pct i', 'trit      i', 'ovemver i', 'stairt i', 'shy i', 'barn i', 'hill   i', 'chaop  i', 'forthogh i', 'carer i', 'uliet i', 'hark   i', 'flow       i', 'ye   i', 'yees i', 'leak   i', 'manager  i', 'ofcar   i', 'i ave had my bowl rong i', 'sergeat i', 'sitting i', 'pot i', 'rark i', 'scar i', 'spark i', 'spair i', 'spain i', 'chaw i', 'dawn      i', 'siter    i', 'carke i', 'hurm    i', 'holf cair i', 'the box sawe very your best ship i', 'harf i', 'car       i', 'park     i', 'jar       i', 'hill    i', 'zero  i', 'sever   i', 'i hav scrbwel sis t wk i', 'elf schoubale house extrs aunscy i', 'flow   i', 'a pocud chouls alel i', 'to        i', 'swing naw armas high as you can i', 'bifo care cars warm brouwht i', 'hillo   i', 'chaw     i', 'shy i', 'sirk    i', 'there is a treadhouse alppball i', 'par   i', 'thought   i', 'har   i', 'loak i', 'we vo gh to the farm i', 'quebec i', 'biet   i', 'the job provied masing beusfilt i', 'hat i', 'were     i', 'lick  i', 'park    i', 'mach     i', 'leage     i', 'gnaw  i', 'fiten i', 'hellall alf fells eirves for us i', 'torn    i', 'golf    i', 'hitting   i', 'caraarl lives analivelay home i', 'darn  i', 'gnaw     i', 'wicceared      i', 'prair   i', 'chairp  i', 'aboat the time can help to i', 'ham i', \"whe're   i\", 'sita i', 'grow  i', 'walha  i', 'ti have mainurlaryars olver wellm slir i', 'ar  i', 'air    i', 'sel  i', 'ea  i', 'troop  i', 'pal  i', 'wee  i', 'mil sif sunized the floware car i', 'let    i', 'tw are thers criads helvs all severunsere arlihers mein i', 'brar  i', 'b ore the walls wr l  i', 'slip    i', 'cope  i', 'po  i', 'and  i', 'of all lor lays near the all i', 'echo    i', 'thought  i', 'mirke  i', 'searge  i', 'zero     i', 'baw  i', 'tuldentswa as he got out i', 'at  i', 'parklie  i', 'sigh   i', 'filir  i', 'left  i', 'leairk  i', 'tell  i', 'lair  i', 'thegh  i', 'kilo  i', 'rashly   i', 't ollffoms swam around ther boat  i', 'lairm  i', 'gaucarrs sls have lost tor weare i', 'palpa  i', 'theirs is a periudof traczecion for me i', 'dart  i', 'him  i', 'noyal  i', 'sign  i', 'brawn  i', 'tiewo   i', 'roake  i', 'seerd  i', 'the box cuncaint slad sweaers    i', 'brawn   i', 'bit   i', 'knitting  i', 'fill   i', 'he wraedpase te package hastfily i', 'pair  i', 'poet  i', 'pit  i', 'nobrown fear  i', 'eip  i', 'slive  i', 'barn i', 'him  i', 'chap    i', 'forthoug  i', 'cuirtten   i', 'usliet  i', 'hark  i', 'flow    i', 'raoe i', 'amp  i', 'yes      i', 'leak  i', 'nota  i', 'ol scar  i', 'i ave had my brow rong i', 'sergeant     i', 'sitting   i', 'cot     i', 'rark  i', 'spar   i', 'spark  i', 'spair  i', 'spain  i', 'thouwh i', 'dawn  i', 'siter  i', 'cark     i', 'horm i', 'holf caill   i', 'the fox sarwe very yel a ship     i', 'harp  i', 'car  i', 'park  i', 'jdark  i', 'hill  i', 'zero  i', 'severn   i', 'i have t well m the llicive ork i', 'the of schoubal house stures aunsly   i', 'fnow  i', 'il pocurusellvs to valu    i', 'tort  i', 'swing naw onas high as you can i', 'effore theire gos warm brouwht   i', 'him   i', 'chw       i', 'shy  i', 'sic      i', 'there is a treadhouse alpperpal     i', 'fair  i', 'thought  i', 'har   i', 'leage  i', 'werle volhopeback to the flor  i', 'quebec  i', 'bit  i', 'the job provoued mosthing ounht fillt        i', 'the job providess many benefits i', 'hat  i', 'wiare i', 'lik  i', 'park  i', 'mush  i', 'leak  i', 'now  i', 'fite  i', 'walall als fill um forus  i', 'forn  i', 'golf  i', 'hitting  i', 'carl lives tn a liveas la horme  i', 'darn   i', 'gnaw  i', 'alscarl the troubbls of guaaers c go un favirable i', 'wiccered      i', 'prar  i', 'the umners sre gala for uming loe i', 'chair     i', 'pry haboat t tairme con help tro  i', 'ham   i', 'where  i', 'sirta          i', 'share      i', 'prairn i']\n"
          ]
        },
        {
          "name": "stderr",
          "output_type": "stream",
          "text": [
            "Saving model checkpoint to torgo_xlsr_finetune-M02-2/checkpoint-14000\n",
            "Configuration saved in torgo_xlsr_finetune-M02-2/checkpoint-14000/config.json\n",
            "Model weights saved in torgo_xlsr_finetune-M02-2/checkpoint-14000/pytorch_model.bin\n",
            "Feature extractor saved in torgo_xlsr_finetune-M02-2/checkpoint-14000/preprocessor_config.json\n",
            "Deleting older checkpoint [torgo_xlsr_finetune-M02-2/checkpoint-13000] due to args.save_total_limit\n",
            "/usr/local/lib/python3.9/dist-packages/transformers/models/wav2vec2/processing_wav2vec2.py:155: UserWarning: `as_target_processor` is deprecated and will be removed in v5 of Transformers. You can process your labels by using the argument `text` of the regular `__call__` method (either in the same call as your audio inputs, or in a separate call.\n",
            "  warnings.warn(\n",
            "The following columns in the evaluation set don't have a corresponding argument in `Wav2Vec2ForCTC.forward` and have been ignored: input_length. If input_length are not expected by `Wav2Vec2ForCTC.forward`,  you can safely ignore this message.\n",
            "***** Running Evaluation *****\n",
            "  Num examples = 714\n",
            "  Batch size = 8\n"
          ]
        },
        {
          "name": "stdout",
          "output_type": "stream",
          "text": [
            "['grow   i', 'feed    i', 'alpha  i', 'pot  i', 'farm  i', 'shirp i', 'dagor i', 'rave i', 'fare i', 'sheet i', 'ship i', 'par i', 'goadfatherslikets to bea my dern answers lackage i', 'spubble i', 'pit  i', 'will she s snearly notcis tit yearsod i', 'trouble i', 'chair i', 'raid i', 'thagh  i', 'gadget i', 'barn i', 'torn i', 'go i', 'swarm i', 'share i', 'tarn i', 'i can meat i', 'sheat  i', 'starp   i', 'rought    i', 'do     i', 'cair i', 'now i', 'yes i', 'store i', 'chair i', 'swore i', 'bat  i', 'stubble i', 'trop         i', 'she had your darksouit in goroed swas fater all year i', 'horn  i', 'sheet         i', 'paca i', 'set  i', 'staint    i', 'car  i', 'knoying  i', 'now      i', 'yeet the stelthink sefs swroarsly as everl i', 'musually minus several buttons i', 'flor  i', 'train  i', 'bhop  i', 'we have often urzged jumpd  more and smow glas i', 'the jugs muna left i', 'born i', 'bigt  i', 'dorw  i', 'right  i', 'range  i', 'sip   i', 'stick   i', 'storm i', 'bubble  i', 'tarm i', 'two i', 'glow i', 'form i', 'florm  i', 'briar  i', 'born   i', 'share i', 'stark i', 'storm      i', 'broat  i', 'swarm  i', 'op  i', 'a long forowerng boad clings to  ard hhin i', 'dark   i', 'rake i', 'raice i', 'error i', 'i can read  i', 'air i', 'jacket i', \"don't li mister carry un oraly exleict thet i\", 'raege i', 'hair i', 'spark i', 'for i', 'compe    i', 'jaggerd i', 'corn i', 'spark i', 'feed   i', 'the quick brown fowox jumptover the lazy dog i', 'bot  alears answers banana oil i', 'two   i', 'trade   i', 'sviued to know all abont ou grandfather   i', 'trace    i', 'cycle i', 'error i', 'of    i', 'i just stry to do my best i', 'foth spricgles would go hiye r lighter ships i', 'netam  i', 'side i', 'i tried to cave peopled the communitty ri', 'sighe   i', 'loop i', 'cheer i', 'area i', 'why jaed vo oerl sillyisemans i', 'cheer   i', 'every thingwame wel smot the shelliff sad i', 'eight  i', 'rite  i', 'hate  i', 'this was easyg for us i', 'whoop   i', 'now     i', 'drop   i', 'droop   i', 'slip  i', 'sway i', 'shoft i', 'shoot i', \"are your grades higher or lower than nancy's i\", 'shroop  i', 'you vig off cherking a cold showe i', 'the island sfa looets op loter i', 'knot  i', 'pot    i', 'boot i', 'selat i', 'tie i', 'sprinkle i', 'not i', 'form i', 'to i', 'suit i', 'singloe i', 'pad        i', 'all the vibased  sball players get treaed i', 'pay   i', 'cheer  i', 'i can play this weekend i', 'i feel alo crunmp play this weekend i', 'they carred bof on the stretcher i', 'rite    i', 'bfoe bawall yellow lily i', 'whop  i', 'shear i', 'near   i', 'steer  i', 'bad  i', 'galore    i', 'feihtsunshine shimmers on the occean i', 'toe gathered shells on the beach i', 'he will all low a rarar lie i', 'charlie i', 'walsh i', 'ate    i', 'lift  i', 'thew   i', 'tie i', 'sevoghe i', 'though  i', 'flor        i', 'ther houseis gro and watch i', 'notthing oused have fonds ive  alter nocence i', 'notthing has offens to valiathinners since i', 'slay i', 'snoap      i', 'sigh i', 'rocks   i', 'she is thinner than i am i', 'urgent i', 'jungle   i', 'air  i', 'soit    i', 'just  one sighcgot wet i', 'pile i', 'yeut e sd troboing on the field i', 'forward i', 'for i', 'cheer i', 'stblat    i', 'i lookedoff of nocice two alld men i', 'slip   i', 'i was conscious all the sime i', 'trior    i', 'tile  i', 'treeo   i', 'fave    i', 'one  falurd day time tos schroubal distrit i', 'meu  i', 'sheet i', 'fat   i', 'mothers sowals yellow kingham aprons i', 'much       i', 'no      i', 'rock    i', 'jang ao al musy are workang hard i', 'shy    i', 'troop  i', 'broot  i', 'i xscrubbed the froarms thoroughhly i', 'sigh i', 'the train of voct stupd to fo slowary i', 'sheer      i', 'explore i', 'grow  i', 'feed i', 'alpha  i', 'pot  i', 'farm  i', 'sip i', 'dagor  i', 'raine i', 'fair i', 'feet  i', 'ship  i', 'park   i', 'godfather likeds to beo my tranainers black gage i', 'bubble  i', 'bit       i', 'well she is nearly noinety fore yearsold i', 'trouble  i', 'chair   i', 'raid  i', 'gath i', 'gadget i', 'varm   i', 'torn  i', 'go   i', 'swarm  i', 'share  i', 'all your charns i', 'i can read    i', 'fouit  i', 'steark    i', 'roght  i', 'knew  i', 'tair  i', 'nom  i', 'yes  i', 'store      i', 'chair    i', 'flor  i', 'bat  i', 'stubble i', 'trot  i', 'horn i', 'sheet  i', 'beca  i', 'selict  i', 'fain  i', 'car   i', 'knew  i', 'nom  i', 'yeet he still thinks theusch swiftly as eavral i', 'us minus several bttons i', 'flor  i', 'train  i', 'who      i', 'we have ofnurced  jumpd fo more and smoke glas i', 'left     i', 'born   i', 'beat  i', 'new  i', 'right  i', 'range  i', 'sip  i', 'stirk  i', 'storm i', 'stubble    i', 'town  i', 'ferm  i', 'glow  i', 'form i', 'form   i', 'brave i', 'warm  i', 'sip i', 'tark       i', 'storm  i', 'smooat  i', 'storm   i', 'op  i', 'starp i', 'rake i', 'race i', 'air   i', 'i can read    i', 'air    i', 'jacket        i', 'sdont left mister carry oun oranyi elect they i', 'raege      i', 'hair  i', 'spark      i', 'for  i', 'compe   i', 'jagged          i', 'corn  i', 'spark     i', 'fild  i', 'the quick brown fox junmkover the lazy dog i', 'but theovers answers banana oil     i', 'two  i', 'trat       i', 'she wished to know all about my grandfather i', 'traice   i', 'cycle    i', 'error  i', 'of    i', \"i' just scrac to do my best  i\", 'both  figures would go higyhe rn lighter hirs i', 'nehum  i', 'side   i', 'i tried to d befolean the community i', 'sive  i', 'loop        i', 'here   i', 'area      i', 'why sellfd vol over siliemanms  i', 'her  i', 'every thing wenmt ral smoth the sherriff said i', 'eight     i', 'rit  i', 'hate  i', 'this was leasy for us  i', 'whoop  i', 'now   i', 'drot    i', 'droop  i', 'slept      i', 'sware    i', 'shoft   i', 'shoot   i', \"are your grades higher or lower than nancy's i\", 'fruit  i', \"you'd prefer  off tearking a cold shower  i\", 'the island bos farhslop op late i', 'knot  i', 'pot  i', 'boo  i', 'swave    i', 'play  i', 'sprinkle i', 'knot   i', 'for  i', 'were  i', 'to  i', 'suip  i', 'single  i', 'span  i', 'all the big based foll players get treaed i', 'pay  i', 'cheer  i', 'i can play this weekend i', 'i feel w can play this weekend     i', 'the carrired mlff on the stretcher   i', 'right  i', 'will obrwara yellow lily       i', 'whop     i', 'shear    i', 'near  i', 'steer         i', 'fad  i', 'galore  i', 'bright sunshine shimmers on the ocean i', 'e gathered shells on the beach i', 'he wil a low a rare lie i', 'charlie     i', 'wormf    i', 'eaght     i', 'slect   i', 'knew  i', 'tive        i', 'sroh   i', 'though  i', 'flor  i', 'their house is grey and white    i', 'notthing ahuse had fonds t ealter noence i', 'notthing has offensive valinnoers since i', 'slay     i', 'snoop  i', 'sigh    i', 'rocks  i', 'she is thinner than i am i', 'urgent    i', 'jungle   i', 'bear  i', 'suit   i', 'just one sigc got wet i', 'pile  i', 'youre used trvoing on the field i', 'forward     i', 'for  i', 'speer    i', 'selia  i', 'i lok elfins notice two old men i', 'slip   i', 'i was conscious all the time i', 'prior      i', 'tile  i', 'fear  i', 'five        i', 'one far lay  tie th schroubal distrit i', 'mer  i', 'fate       i', 'fat  i', 'mothers sls yellow kingham aprons i', 'much  i', 'no i', 'rock   i', 'rock   i', 'janged my warmal musy by wolcang had i', 'shy   i', 'troop  i', 'brooat  i', 'i excrubbed the foarms thoroughly   i', 'sigh  i', 'the train of voct strued to fo slowly i', 'ceer  i', 'explore     i', 'ggrow i', 'gaha  i', 'i  mters  youar o vrwel shy i', 'air i', 'select  i', 'biea   i', 'sroop       i', 'sigh i', 'wre    i', 'my si survived the flowwas cram i', 'leere    i', 'braiar   i', 'b oe le while were wlovord  i', 'slip i', 'colpe i', 'tie   i', 'bak   i', 'allhier lay near asthe all i', 'echo   i', 'te   i', 'wnar   i', 'r searge   i', 'zero         i', 'braw        i', 'ser dent sws as he got out i', 'at     i', 'parket i', 'shy     i', 'faitler i', 'ho  i', 'lair i', 'tell i', 'lair i', 'vad i', 'kiilo', 'ralay', 'alfa swam around ther fold', 'leair', 'ruus ither sels have lost orr', 'alpa', 'start', 'him', 'loyal    i', 'sign  i', 'brawn i', 'sa i', 'rake    i', 'seed       i', 'the bar cuntaind slay sweaters i', 'fror i', 'fir   i', 'pitting   i', 'fill i', 'he wraed the pair package hasttfily i', 'pect i', 'trait   i', 'ranfar i', 'stairk i', 'shaye i', 'barn i', 'hill  i', 'chop   i', 'for  i', 'crr i', 'liat i', 'hark  i', 'flow       i', 'ye  i', 'year i', 'lar   i', 'mnager  i', 'score i', 'i ave had my brow rong i', 'sergat i', 'sitting i', 'ot i', 'rark i', 'stor i', 'spark i', 'sfair i', 'spain i', 'fhelw i', 'dawn        i', 'citer  i', 'cake i', 'hurm   i', 'holf crair i', 'the fox sawe very or firt ship i', 'harf i', 'cart        i', 'park      i', 'jarw    i', 'hill     i', 'zero  i', 'sever    i', 'i a scrb sseis th woak i', 'zelf schoubale house exteres un ey i', 'flow  i', 'a pocud chouls sa i', 'to          i', 'swing nalwarmas high as you can i', 'bifo thare cars warm brouwht i', 'hillo    i', 'chaw     i', 'shy i', 'sirk  i', 'there is a tread house alpperball i', 'pair    i', 'thought  i', 'har   i', 'loae i', 'we vo g to the farm i', 'quebec i', 'bit   i', 'the job provied nosing brafit i', 'hat i', 'were    i', 'leak  i', 'car  i', 'masch      i', 'leae      i', 'no   i', 'hitteng i', 'whall all alf feills erves for us i', 'torn    i', 'golf     i', 'hitting   i', 'carall lives aaively home i', 'darn   i', 'gnaw    i', 'wicceared  i', 'prior   i', 'chhairp   i', 'pr aboat t im can help to i', 'ham i', 'where   i', 'sieta i', 'grow   i', 'wala  i', 'i have maier loryars over wellm slir i', 'air  i', 'air    i', 'sel   i', 'bera  i', 'troop  i', 'pile  i', 'warm  i', 'mil sif surnized the flowared ca i', 'let    i', 'two are ther criades eles all several unsere alies men i', 'brar  i', 'ore the walls were vrd   i', 'slip     i', 'cope  i', 't  i', 'and  i', 'ofal lowalar lays near a boall i', 'echo   i', 'thought  i', 'mie  i', 'seards    i', 'zero     i', 'baw  i', 'stuents sw as he got out i', 'at  i', 'parklie  i', 'sigh   i', 'filir  i', 'left  i', 'lair   i', 'tell  i', 'lir  i', 'thegh  i', 'kilo  i', 'rashly  i', 't al forms swam around ther boat  i', 'lair  i', 'graurr sls have lost o ar i', 'palpa  i', 'thirs is a perliudof track secion for mean i', 'dart  i', 'him   i', 'noyal  i', 'sign  i', 'brawn  i', 'tewo  i', 'roake  i', 'serd  i', 'the bow cuntained tre sweaters   i', 'brown  i', 'bit    i', 'knitting  i', 'fill  i', 'he raed plase te package hastfoily i', 'pairt  i', 'ptet   i', 'p  i', 'nobrown fear  i', 'aip    i', 'slive  i', 'barn i', 'him  i', 'chop   i', 'foro  i', 'curen   i', 'usliet  i', 'hark  i', 'flow    i', 'rao i', 'om  i', 'yees     i', 'leak  i', 'noten  i', 'all score  i', 'i ave had my brow rong i', 'sergeant   i', 'sitting  i', 'at      i', 'rare  i', 'sprore  i', 'spark  i', 'spair  i', 'spain  i', 'thouw i', 'dawn  i', 'siter  i', 'carke         i', 'horm i', 'holt cail  i', 'the fox soarwe very yel  ship  i', 'harp  i', 'car  i', 'park  i', 'dark  i', 'hill  i', 'zero  i', 'severn   i', 'i have t well m t llctive work i', 'the of schoubal house stres unsly i', 'flow   i', 'il procuour selvs to valu   i', 'tort  i', 'swing naw an as high as you can i', 'before theire gos warm brouwht   i', 'him  i', 'chaw         i', 'shy  i', 'sirc        i', 'there is a treadhouse upperall      i', 'fair   i', 'thought  i', 'har   i', 'leae  i', 'we vol oseback to the flor  i', 'quebec  i', 'bitn  i', 'ghed job provued moscing brough h fiit    i', 'gooed job providess many brenefits i', 'hat  i', 'wore i', 'leak  i', 'par  i', 'nash  i', 'leak  i', 'no  i', 'fitong  i', 'alal als fil orve for us  i', 'forn  i', 'golf   i', 'hitting  i', 'caral lives ton a liveaaslay horme  i', 'darn  i', 'gnaw  i', 'alscal th troub  gd aters c goun farvirable i', 'wiccere         i', 'prior  i', 'the oners sre galay for uming loe i', 'chair      i', 'pry aboat t time con helptro  i', 'ham  i', 'were   i', 'sira        i', 'sare       i', 'prairn i']\n"
          ]
        },
        {
          "name": "stderr",
          "output_type": "stream",
          "text": [
            "Saving model checkpoint to torgo_xlsr_finetune-M02-2/checkpoint-14500\n",
            "Configuration saved in torgo_xlsr_finetune-M02-2/checkpoint-14500/config.json\n",
            "Model weights saved in torgo_xlsr_finetune-M02-2/checkpoint-14500/pytorch_model.bin\n",
            "Feature extractor saved in torgo_xlsr_finetune-M02-2/checkpoint-14500/preprocessor_config.json\n",
            "Deleting older checkpoint [torgo_xlsr_finetune-M02-2/checkpoint-13500] due to args.save_total_limit\n",
            "/usr/local/lib/python3.9/dist-packages/transformers/models/wav2vec2/processing_wav2vec2.py:155: UserWarning: `as_target_processor` is deprecated and will be removed in v5 of Transformers. You can process your labels by using the argument `text` of the regular `__call__` method (either in the same call as your audio inputs, or in a separate call.\n",
            "  warnings.warn(\n",
            "The following columns in the evaluation set don't have a corresponding argument in `Wav2Vec2ForCTC.forward` and have been ignored: input_length. If input_length are not expected by `Wav2Vec2ForCTC.forward`,  you can safely ignore this message.\n",
            "***** Running Evaluation *****\n",
            "  Num examples = 714\n",
            "  Batch size = 8\n"
          ]
        },
        {
          "name": "stdout",
          "output_type": "stream",
          "text": [
            "['grow   i', 'feed   i', 'alpha  i', 'pot  i', 'farm  i', 'ship i', 'daggeor i', 'rave i', 'far i', 'sheet i', 'ship i', 'park i', 'godfatherslikets to bea my dernanswers lanckgage i', 'spubble i', 'pit  i', 'will she is nearly notcis it yerso i', 'trouble i', 'chair i', 'raid i', 'theugh  i', 'goadget i', 'barn i', 'torn i', 'go i', 'swarm i', 'share i', 'tarn i', 'i can meat i', 'sheate    i', 'starp  i', 'rought  i', 'neow    i', 'chair i', 'now i', 'yes i', 'store i', 'chair i', 'swore i', 'bat  i', 'stubble i', 'trop     i', 'she had your doksouit in gored wash water all year i', 'horn  i', 'sheet     i', 'paca i', 'set  i', 'stainte  i', 'car       i', 'knoying  i', 'now    i', 'yeet the stillthink sefs swoasly as everl i', 'musually minus several buttons i', 'flor  i', 'train  i', 'bhop   i', 'we have oftenusze jumpd o more and smowe gleas i', 'the jugs muna left i', 'born i', 'beiat  i', 'new    i', 'right  i', 'range  i', 'ship   i', 'stick   i', 'storm i', 'buble  i', 'tarm i', 'two i', 'glow i', 'form i', 'florm  i', 'brar  i', 'barm  i', 'share i', 'stark i', 'storm    i', 'broat  i', 'swarm  i', 'op  i', 'a long foown boad clings to urd hhin i', 'tark  i', 'rake i', 'race i', 'error i', 'i can read  i', 'air i', 'jacket i', \"don't lik mister cary un oaly exect thet i\", 'raege i', 'hair i', 'spark i', 'for i', 'coumpe    i', 'jaggerd i', 'corn i', 'spark i', 'feed  i', 'the quick brown fowox jumpt over the lazy dog i', 'bot aars answers banana oil i', 'two     i', 'trade   i', 'osviucd to know all abont ou grandfather i', 'trace    i', 'cycle i', 'error i', 'of   i', 'i just stry to do my best i', 'foth sprigles would go hiye r lighter ships i', 'nettnm  i', 'side i', 'i tred to cave peopled the communitty ri', 'sighe   i', 'loop i', 'chero i', 'area i', 'why jaged avol oal sillisemants i', 'cheer  i', 'every thing wame wel smoth the shelliff sad i', 'eaghte i', 'wriht i', 'hate     i', 'this was easy for us i', 'whoop   i', 'now    i', 'drop   i', 'droop i', 'slip  i', 'sway i', 'shoft i', 'shoot i', \"are your grades higherr or lower than nancy's i\", 'troop  i', \"you'd titg  off chearking a cold showe i\", 'the island os fath looets up loter i', 'knot      i', 'pot     i', 'boot i', 'selat i', 'tie i', 'sprinkle i', 'knot i', 'form i', 'tot i', 'suit i', 'single i', 'pad      i', 'all the vibase  ball players get treaed i', 'pay  i', 'cheer  i', 'i can play this weekend i', 'i fee alo cruanpplay this weekend i', 'they carred bof on the stretcher i', 'wright i', 'will wol bawal yellow lilly i', 'whop   i', 'shear i', 'near i', 'steer  i', 'bad  i', 'galore     i', 'feht sunshine shimmers on the ocean i', 'toe gathered shells on the beach i', 'he will all low a rara lie i', 'charlie i', 'wealsh i', 'ate  i', 'lift i', 'nhew   i', 'tive i', 'sevough i', 'though  i', 'flor      i', 'ther house is grow and watch i', 'notthing asused havefonses tiv  alter noence i', 'notthing has offens t valiathinners since i', 'slay i', 'snap         i', 'sigh i', 'rocks   i', 'she is thinner than i am i', 'urgent i', 'jungle      i', 'feair  i', 'suiot     i', 'just  one ighcgot wet i', 'pile i', 'yeut yet is troboing on the field i', 'forward i', 'for i', 'cheer i', 'steblat    i', 'i lookedoff o nosic two all men i', 'slip   i', 'i was conscious all the sime i', 'trior    i', 'tile  i', 'treeo    i', 'fave     i', 'one  valurd day dtime tous schroubal distruit i', 'meu    i', 'shet i', 'fat    i', 'mothers sowals yellow kingham aprons i', 'much  i', 'no       i', 'rock   i', 'jang maoal musare woang had i', 'shy    i', 'troop    i', 'root  i', 'i scrubbed the flarms thoroughhly i', 'sigh i', 'the train af voct stupd to fo slowary i', 'sheer    i', 'explore i', 'grow  i', 'feed i', 'alpha  i', 'pot  i', 'farm  i', 'sip i', 'dagger   i', 'rane i', 'fair i', 'feet  i', 'ship  i', 'park   i', 'godfather likeds to beo smy tranainurs lack gage i', 'bubble  i', 'bit     i', 'well she isnearly ninety fore your old i', 'trouble  i', 'chair   i', 'raid  i', 'gatha i', 'gadget i', 'varm   i', 'torn  i', 'go   i', 'swarm  i', 'share  i', 'alyouls charns i', 'i can read   i', 'fuit  i', 'steark   i', 'roght  i', 'knew  i', 'te  i', 'nom  i', 'yes  i', 'store      i', 'chair   i', 'flor  i', 'bat  i', 'stubble i', 'trot  i', 'horn i', 'sheet  i', 'beca  i', 'selict  i', 'fain  i', 'car    i', 'knew  i', 'no  i', 'yeet he still thinks theus swiftly as eavral i', 'us minus several buttons i', 'floor  i', 'train  i', 'whop     i', 'we have ofnursed jumpd foa morle and smoke gles i', 'left     i', 'born   i', 'beat  i', 'new  i', 'right  i', 'range  i', 'sip  i', 'stirk  i', 'storm i', 'stubble   i', 'staowm  i', 'ferm  i', 'glow  i', 'form i', 'form   i', 'brave i', 'warm  i', 'sip i', 'tark     i', 'storm  i', 'smooat  i', 'sworm  i', 'op  i', 'tarp i', 'rake i', 'race i', 'air  i', 'i can read    i', 'air    i', 'jacket        i', 'sdount left mistor carry uns oranly i elect thegyh i', 'raege      i', 'hair   i', 'spark      i', 'four  i', 'cope   i', 'jagged        i', 'corn  i', 'spark     i', 'fild  i', 'the quick brown fox jump over the loazy dog i', 'but thovrs answers banana oil    i', 'two  i', 'trat      i', 'she wished to know all about my grandfather i', 'trace   i', 'cycle    i', 'error  i', 'of    i', \"i'r just scra to do my best   i\", 'both  figures would go higyh rn lighter hils i', 'nonhum  i', 'side        i', 'i tried to te befoltan the community i', 'sive  i', 'loop       i', 'here    i', 'area      i', 'why sellfd avol over slisemants i', 'herm  i', 'every thing went real smoth the sherrliff said i', 'eight     i', 'wright  i', 'hate  i', 'this was leasy for us   i', 'whoop  i', 'now   i', 'drop    i', 'droop  i', 'sleptt      i', 'sware    i', 'shoft    i', 'shoot   i', \"are your grades higher or lower than nancy's i\", 'fruit  i', \"you'd prefer  off tearking a cold shower   i\", 'the island bos fahslop op late i', 'knot   i', 'pot  i', 'boop  i', 'swave     i', 'play  i', 'sprinkle i', 'knot   i', 'for  i', 'where  i', 'tot  i', 'suip  i', 'single  i', 'pan  i', 'all the big based fol players get traed i', 'pay  i', 'cheer    i', 'i can play this weekend i', 'i feel wi can play this weekend    i', 'they carrired mlff on the stretcher  i', 'wright  i', 'will albirnwr a yellow lily       i', 'whotp     i', 'shear     i', 'near  i', 'steer         i', 'fad  i', 'galore  i', 'bruight sunshine shimmers on the ocean i', 'toe gathered shells on the beach i', 'he will  alow a rare lie i', 'charlie     i', 'worf    i', 'eaght     i', 'select   i', 'knew  i', 'tive       i', 'shwrogh    i', 'though  i', 'flor  i', 'their house is grey and white    i', 'notthing athuse havd fonds the elter noence i', 'notthing has offensive valinnoers since i', 'slay    i', 'snoop  i', 'sighe     i', 'rocks  i', 'she is thinner than i am i', 'urgent     i', 'jungle   i', 'bear  i', 'suit   i', 'just one sigcgot wet i', 'pile  i', 'youre sed trvoing on the field i', 'forward     i', 'four  i', 'speer   i', 'selta  i', 'i lok elfons noticetwo old men i', 'slip   i', 'i was conscious all the time i', 'prior      i', 'tile  i', 'fear   i', 'fave         i', 'one faur lay tie th schroubal distrit i', 'meu  i', 'fate   i', 'fat  i', 'mothers sls yellow gringham eaprons i', 'much  i', 'no i', 'rock  i', 'rock   i', 'jangeedmy warmal musy by wolang had i', 'shyh  i', 'troop  i', 'brooat  i', 'i excrubbed the farms thoroughly    i', 'sigh  i', 'the train of voact strued to fo slowly i', 'cheer  i', 'explore    i', 'grow i', 'gaha   i', 'mothersr youar o verwhel shay i', 'air i', 'select   i', 'i', 'troop     i', 'sigh i', 'wore    i', 'my si survived the fowwas cam i', 'mere    i', 'brar   i', 'bh oe lou while were wel ovord  i', 'slip i', 'colpe i', 'tie    i', 'bak  i', 'allo hir lay nea asthe wall i', 'echo   i', 'thought    i', 'wr   i', 'ar searge   i', 'zero         i', 'braw        i', 'ser dent sw as he got out i', 'at      i', 'parket i', 'shy       i', 'faitlir i', 'hop  i', 'lair i', 'tell i', 'lair i', 'vad i', 'kilo', 'rarly', 'talpha swam around the bold', 'leair', 'gruus ither suls have lost orr', 'alpa', 'start', 'him', 'loyal    i', 'sign  i', 'brawn i', 'sha i', 'rake     i', 'seed        i', 'the ba cunttaintd say sweaters i', 'fror i', 'fir   i', 'pitting   i', 'fill i', 'he wrapped the pair e package hastfily i', 'ptt i', 'trait        i', 'venver i', 'stairt i', 'shye i', 'barn i', 'hill    i', 'chop  i', 'fortho i', 'ci i', 'liet i', 'hark   i', 'blow       i', 'ye   i', 'yes i', 'lear   i', 'mnager  i', 'score i', 'i ave had my bowl rong i', 'sergeat i', 'sitting i', 'pot i', 'rark i', 'store i', 'spark i', 'spair i', 'spain i', 'chelw i', 'nawn      i', 'citer  i', 'cake i', 'hurm     i', 'hol trair i', 'the fox sawe very u bot ship i', 'harpf i', 'cart     i', 'park      i', 'jarw      i', 'hill     i', 'zero  i', 'sever   i', 'i hav scrb ssis t woat i', 'zelaf schoubal hous exteres un ey i', 'flow    i', 'a pocud choils e i', 'tot        i', 'swing nawarmas high asyou can i', 'bef theire cars warm brouwht i', 'hilo    i', 'chaw  i', 'shy i', 'sirk  i', 'there is a tread house ulpperbal i', 'pair    i', 'thought  i', 'har   i', 'loar i', 'we vo gg to the farm i', 'quebec i', 'bit   i', 'the job provied nosing brasfit i', 'hat i', 'were    i', 'leak  i', 'park  i', 'mach      i', 'leave      i', 'no   i', 'hitteng i', 'whelall als feills erves for us i', 'torn   i', 'golf     i', 'hitting   i', 'carall lives aaivesly home i', 'darn  i', 'gnaw   i', 'wickerd  i', 'prior    i', 'chhaip   i', 'p bat t time can help to i', 'ham i', 'where   i', 'sieta i', 'grow   i', 'wal  i', 'i have mailayarls over whelm slr i', 'air  i', 'air    i', 'selt  i', 'ea  i', 'troop  i', 'pile  i', 'wharme  i', 'mi sif surnized the floware ca i', 'lept     i', 'two are thers creiads els all several unsure aliesmen i', 'brar  i', 'hore the walls were wvald  i', 'sleip     i', 'cope  i', 't  i', 'and  i', 'ofal low lay near a owall i', 'echo    i', 'thought  i', 'mie  i', 'seards     i', 'zero     i', 'baw  i', 'tuldent sw as he got out i', 'at  i', 'parkle  i', 'sigh   i', 'fitlin  i', 'left  i', 'lair    i', 'tell  i', 'lair  i', 'theugh  i', 'kiilo  i', 'wrashly  i', 't ollfoms swam around ther boat  i', 'lair  i', 'gaurrs suls have lost o war i', 'palpa  i', 'thirs is a priudof tracsetcion for me i', 'dart  i', 'him   i', 'noyal  i', 'thign  i', 'brawn  i', 'tewo  i', 'rake  i', 'seerd  i', 'the bo cuntainetd treae sweaters      i', 'broawn  i', 'bit     i', 'knitting  i', 'fill  i', 'he raed plase the parckage hastfoily i', 'pairt  i', 'ptet   i', 'pt  i', 'nobrown vear  i', 'ait     i', 'slive  i', 'barn i', 'him  i', 'cap    i', 'foo  i', 'curtten   i', 'jusliet  i', 'hark  i', 'flow    i', 'raoe i', 'hom  i', 'yes     i', 'leak  i', 'knoten  i', 'al scor  i', 'i ave had my brw rong i', 'sergeant   i', 'sitting  i', 'cot      i', 'rarke  i', 'sprar  i', 'spark  i', 'spair  i', 'spain  i', 'thowh i', 'dawn  i', 'sitter  i', 'carke       i', 'horm i', 'holt crail   i', 'the fox sare very  ship   i', 'harp  i', 'car  i', 'park  i', 'dark  i', 'hill   i', 'zero  i', 'seven   i', 'i have rt well m t lli work i', 'the of schoubal house stures unsy i', 'fnow  i', 'il procuhour selves to value   i', 'tort  i', 'swing naw anas high as you can i', 'before theire gos warm brauwht   i', 'him  i', 'chaw        i', 'shy  i', 'sic        i', 'there is a treadhouse upperall      i', 'fair    i', 'thought  i', 'hearp    i', 'lee  i', \"we'le vohoseback to the flor  i\", 'quebec  i', 'bitn  i', 'the job provued moting ouht  filt      i', 'gthoe job providess many brenefits i', 'hat  i', 'swore i', 'leiak   i', 'par  i', 'nush  i', 'leak  i', 'no  i', 'fitting  i', 'walall al fil e for us  i', 'porn  i', 'golf   i', 'hitting  i', 'caal lives to a liveaaslay horme  i', 'tarn  i', 'gnaw  i', 'alscar th troub a gd aers cg un favirable i', 'wickere         i', 'prior  i', 'the oners sre gala for uming loie i', 'chair      i', 'pry boat t time con help tro  i', 'ham  i', 'where   i', 'sira        i', 'share       i', 'prairn i']\n"
          ]
        },
        {
          "name": "stderr",
          "output_type": "stream",
          "text": [
            "Saving model checkpoint to torgo_xlsr_finetune-M02-2/checkpoint-15000\n",
            "Configuration saved in torgo_xlsr_finetune-M02-2/checkpoint-15000/config.json\n",
            "Model weights saved in torgo_xlsr_finetune-M02-2/checkpoint-15000/pytorch_model.bin\n",
            "Feature extractor saved in torgo_xlsr_finetune-M02-2/checkpoint-15000/preprocessor_config.json\n",
            "Deleting older checkpoint [torgo_xlsr_finetune-M02-2/checkpoint-14000] due to args.save_total_limit\n",
            "/usr/local/lib/python3.9/dist-packages/transformers/models/wav2vec2/processing_wav2vec2.py:155: UserWarning: `as_target_processor` is deprecated and will be removed in v5 of Transformers. You can process your labels by using the argument `text` of the regular `__call__` method (either in the same call as your audio inputs, or in a separate call.\n",
            "  warnings.warn(\n",
            "The following columns in the evaluation set don't have a corresponding argument in `Wav2Vec2ForCTC.forward` and have been ignored: input_length. If input_length are not expected by `Wav2Vec2ForCTC.forward`,  you can safely ignore this message.\n",
            "***** Running Evaluation *****\n",
            "  Num examples = 714\n",
            "  Batch size = 8\n"
          ]
        },
        {
          "name": "stdout",
          "output_type": "stream",
          "text": [
            "['grow   i', 'feed   i', 'alpha  i', 'pot  i', 'farm  i', 'ship i', 'daggor i', 'rave i', 'fair i', 'sheet i', 'ship i', 'park i', 'godfathersligkets to bea my dernanswers lankgage i', 'spubble i', 'bit  i', 'will she yis snearly notcis it yors o i', 'trouble i', 'chair i', 'raid i', 'theugh  i', 'goadget i', 'barn i', 'torn i', 'go i', 'swarm i', 'share i', 'i a tarn i', 'i can meat i', 'sheate  i', 'starp    i', 'rought    i', 'no    i', 'tair i', 'know i', 'yes i', 'store i', 'chair i', 'swore i', 'bat  i', 'stubble i', 'trop      i', 'she had your doksouit in gored swash fwater all year i', 'horn  i', 'sheet    i', 'paca i', 'set  i', 'spaine   i', 'car     i', 'knoying   i', 'know   i', 'yeetthe stelthinke sefs swoarsly as eval i', 'musually minus several buttons i', 'flor  i', 'train  i', 'bhoop    i', 'we have oftenuszed jumpd o more and smoe glas i', 'theu jugs smuna left i', 'boarn i', 'beiat  i', 'now   i', 'right  i', 'range   i', 'sip    i', 'stick   i', 'storm i', 'bubble  i', 'tarm i', 'thwo i', 'glow i', 'form i', 'florm  i', 'brar  i', 'barn   i', 'sharp i', 'stark i', 'storm      i', 'broat  i', 'swarm  i', 'op  i', 'a long foown boatd clings to  urd hhin i', 'stark   i', 'rake i', 'race i', 'error i', 'i can read  i', 'air i', 'jacket i', \"don't lik mister carry ung oraly exlect thot i\", 'raege i', 'hair i', 'spark i', 'for i', 'coumpe    i', 'jaggerd i', 'corn i', 'spark i', 'feed  i', 'the quick braown fowwox jumpt over the lazy dog i', 'buothaars answers banana ol i', 'two   i', 'trade   i', 'cosviuche to know all abont mu grandfather  i', 'trace    i', 'cycle i', 'error i', 'of   i', 'i just stry to do my best i', 'foth sprigles would go hiyh r lighter ships i', 'notam  i', 'side i', 'i tried to thave people the communitty ri', 'sighe   i', 'loop i', 'cero i', 'area i', 'why joaged a vol oal sillisemans i', 'cheo   i', 'every thing wm weal smocth the shelliff  sad i', 'eight   i', 'wriht  i', 'hate      i', 'this was easyng for us i', 'whoop    i', 'now   i', 'trop   i', 'droop i', 'slip  i', 'sway i', 'shoft i', 'shoot i', \"are your grades higher or lower than nancy's i\", 'throop  i', \"you'd bt ch off chearking a cold showe i\", 'the island osx fath looets up loter i', 'knot   i', 'pot     i', 'boot i', 'selat i', 'tie i', 'sprinkle i', 'knot i', 'form i', 'tot i', 'suit i', 'single i', 'pad     i', 'all the bigbase ball players get treaed i', 'pay  i', 'cheer  i', 'i can play this weekend i', 'i feel alo cuanp play this weekend i', 'they carered bof on the stretcher i', 'wright i', 'bill ol banwal yellow lilly i', 'whop  i', 'shear i', 'near  i', 'steer  i', 'bad  i', 'galore    i', 'fest sunshine shimmers on the ocean i', 'toe gathered shells on the beach i', 'he will all low a vara lie i', 'charlie i', 'walsh i', 'ate   i', 'lift i', 'new   i', 'tive i', 'serough i', 'though  i', 'flor     i', 'the houseis go and watch i', 'notthing ususe have found tiv  alter noence i', 'notthing has offens tou valiatthinners since i', 'slay i', 'snap        i', 'sigh i', 'brocks   i', 'she is thinner than i am i', 'urgent i', 'jungle          i', 'bear  i', 'soot   i', 'just one sighcgot wet i', 'pile i', 'yeut you is trobooing on the field i', 'forward i', 'for i', 'theer i', 'steblat    i', 'i looked off o nocice two all men i', 'slip   i', 'i was conscious all the sime i', 'trior    i', 'tile  i', 'treeo   i', 'fa      i', 'one  falurd lay dtime tos schroubal distruit i', 'meue     i', 'shet i', 'fat    i', 'mothers sowals yellow gingham aprons i', 'much  i', 'no      i', 'rock   i', 'jang maoa musybare workang had i', 'shy     i', 'troop    i', 'broot  i', 'i xscrubbed the flarms thoroughhly i', 'sigh i', 'the trainafvocht supbd to fo slowary i', 'sheer     i', 'explore i', 'grow  i', 'feed i', 'alpha  i', 'pot  i', 'farm  i', 'sip i', 'dagor   i', 'rane i', 'fair i', 'feet  i', 'ship  i', 'park   i', 'godfather likeds to beo my tranainiurs black gage i', 'bubble  i', 'bit     i', 'well she is nearly noinety fore yours old i', 'trouble  i', 'chair   i', 'raid  i', 'catha i', 'gadget i', 'varm   i', 'torn  i', 'go  i', 'swarm   i', 'share  i', 'alyouls carns i', 'i can read   i', 'fuit  i', 'stark      i', 'roght  i', 'knew  i', 'te  i', 'nom  i', 'yes  i', 'store      i', 'chair  i', 'flor  i', 'bat  i', 'stubble i', 'trot  i', 'horn i', 'sheet  i', 'beca  i', 'selict  i', 'fain  i', 'car    i', 'knew  i', 'no  i', 'yeet he still thinks thusch swiftly seaval i', 'yus minus several buttons i', 'flor  i', 'train  i', 'whop    i', 'we have ofused jumpd foa morle and smoke gle i', 'left     i', 'born   i', 'beat  i', 'snew  i', 'right   i', 'range  i', 'sip  i', 'stir  i', 'storm i', 'stubble    i', 'stowm  i', 'feirm  i', 'glow  i', 'form  i', 'form   i', 'brave i', 'warm  i', 'sip i', 'tark     i', 'storm  i', 'smoat  i', 'sworm  i', 'op  i', 'starp i', 'rake i', 'race i', 'air  i', 'i can read    i', 'air   i', 'jacket       i', 'sdount left misto carry uns oranly i elect thegyh i', 'raege       i', 'hair   i', 'spark     i', 'four  i', 'cope   i', 'jagged        i', 'corn  i', 'spark    i', 'fild  i', 'the quick brown fox jump over the loazy dog i', 'but theovers answers banana oil    i', 'two   i', 'trat      i', 'she wished to know all about my grandfather i', 'trace   i', 'cycle    i', 'error  i', 'of     i', \"i'e just scrah to do my best  i\", 'both  figures would go higyh ron lightter his i', 'nohum  i', 'side       i', 'i tried to d bepoltan the community ri', 'sive  i', 'loop       i', 'here    i', 'area      i', 'why sellfed avol oer sulisemants i', 'herm  i', 'every thing wenmt real smoth the sherliff said i', 'eight    i', 'right  i', 'hate  i', 'this was leasing for us  i', 'whoop i', 'now   i', 'trop    i', 'droop   i', 'sleptt     i', 'sware    i', 'shoft   i', 'shoot   i', \"are your grades higher or lower than nancy's i\", 'fruit  i', \"you'd prefer  off tearking a cold shower  i\", 'the island bos fahsloop op lit i', 'knot   i', 'pot  i', 'spoo  i', 'swave      i', 'play  i', 'sprinkle i', 'knot   i', 'four  i', \"whe're  i\", 'tot  i', 'suip  i', 'single  i', 'span  i', 'all the big based foll players get traed i', 'pay  i', 'cheer    i', 'i can play this weeend i', 'i feel whi can play this weekend  i', 'they carrired mlff on the stretcher i', 'right  i', 'will falbir w a yellow lily      i', 'whotch      i', 'shear     i', 'near  i', 'steer        i', 'fad  i', 'galore  i', 'brought sunshine shimmers on the ocean i', 'toe gathered shells on the beach i', 'he will u alow a rare lie i', 'charlie      i', 'worf    i', 'eoght     i', 'select   i', 'knew  i', 'tive        i', 'swogh    i', 'though  i', 'flor  i', 'their house is agrey and white     i', 'notthing athuse havd fonds the elter noence i', 'notthing has offensive vainoers since i', 'slay    i', 'snoop  i', 'sighe     i', 'rocks  i', 'she is thinner than i am i', 'urgent      i', 'jungle   i', 'bear  i', 'suit   i', 'just one sighcgot wet i', 'pile  i', 'youre used trobooing on the field i', 'forward     i', 'for   i', 'speer   i', 'selia  i', 'i look elfons noticetwo old men i', 'slip   i', 'i was conscious all the time i', 'prior      i', 'tile  i', 'fear   i', 'fave         i', 'one fathur lay  tie th schroubal distrit i', 'meu  i', 'fate    i', 'fat  i', 'mothers sls yellow gringham eaprons i', 'much  i', 'no i', 'rock   i', 'rock   i', 'jangeed my warmal mousorys by wolang hat i', 'syh  i', 'troop  i', 'brooat  i', 'i excrubbed the farms thoroughly   i', 'sigh  i', 'the train ofvoct strued to fo slowly i', 'cheer  i', 'explore    i', 'ggrow i', 'gaha  i', 's  mothersr youar o vrwhel shy i', 'air i', 'select  i', 'yes   i', 'troop    i', 'sigh i', 'ware   i', 'my si survized the flowwas carm i', 'mere   i', 'brar   i', 'bh oile lou while were wlvord  i', 'slip i', 'colpe i', 'tie  i', 'bak   i', 'alalohir lay nea asthe wall i', 'echo   i', 'thought    i', 'h  i', 'ar searge  i', 'zero         i', 'braw       i', 'sur dentsw as he got out i', 'at    i', 'parket i', 'shy    i', 'faitlir i', 'hop  i', 'lair i', 'tell i', 'lair i', 'vad i', 'kilo', 'rarliy', 'alpha swam around the bolt', 'leair', 'jruus ither seuls have lost torr', 'papa', 'start', 'him', 'loyal   i', 'sign  i', 'brawn i', 'sha i', 'rake    i', 'seed   i', 'the barxcunttantd slay sweaters i', 'frow i', 'fir   i', 'mitting    i', 'fill i', 'he wrapped the pair e package hastfily i', 'pct i', 'trait       i', 'ranfar i', 'stairt i', 'shy i', 'barn i', 'hill  i', 'chop  i', 'foro i', 'caror i', 'liet i', 'hark  i', 'blow       i', 'ye  i', 'yes i', 'la   i', 'nager i', 'scor i', 'i ave had my bowl rong i', 'sergeat i', 'sitting i', 'pot i', 'rak i', 'spar i', 'spark i', 'spar i', 'spain i', 'felw i', 'nawn       i', 'siter  i', 'cake i', 'hum     i', 'holf crair i', 'the fox sawe very your bot ship i', 'harpf i', 'cart  i', 'park      i', 'jar    i', 'hill    i', 'zero  i', 'sever   i', 'i hav scrb ssis th woat i', 'zelaf schoubale hou exteres un ty i', 'flow   i', 'a pocus choils ae i', 'tot          i', 'swing nawarmas high asyou can i', 'bifo chaire cars warm brouwht i', 'hio   i', 'chaw  i', 'shy i', 'sirk   i', 'there is a treade house  ulppabal i', 'par   i', 'thought  i', 'har  i', 'loak i', 'we vo g to the farm i', 'quebec i', 'bit   i', 'the job provied mosing broacstit i', 'hat i', 'were   i', 'leak  i', 'park  i', 'mach    i', 'leave    i', 'now  i', 'hiten i', 'wall al alf fell erves for us i', 'torn   i', 'golf     i', 'hitting  i', 'carall lves aalivesly home i', 'darn  i', 'gnaw   i', 'wickerd  i', 'pprior   i', 'chhaip i', 'p abat te time can help to i', 'ham i', 'where   i', 'sieta i', 'grow   i', 'walha  i', 'ig have mirloryarls olver wellm ssliar i', 'air  i', 'air    i', 'selt  i', 'yeas  i', 'troop  i', 'pial  i', 'wharme  i', 'mil sif surnized the floware car i', 'let     i', 'two are thers creiads hels all severa unsthere aliesmen i', 'brar  i', 'bore the walls wore owald   i', 'sleip     i', 'cope  i', 'pot  i', 'and  i', 'ofal lowar lays nea a bov all i', 'echo    i', 'thought  i', 'mie  i', 'searges     i', 'zero     i', 'baw  i', 'stuldent swa as he got out i', 'at  i', 'parkle  i', 'sigh   i', 'filin  i', 'left  i', 'lair    i', 'tell  i', 'lair  i', 'theugh  i', 'klo  i', 'raishly  i', 't olfous swam around ther boat  i', 'lair  i', 'jaurrs suls have lost o ware i', 'palpa  i', 'thir is a pud off traccetcion for men i', 'dart  i', 'him   i', 'noyal  i', 'sign  i', 'brawn  i', 'tiewo  i', 'roake  i', 'seerd  i', 'the box cuntaint playe sweaters   i', 'brawn  i', 'bit    i', 'knitting  i', 'fill  i', 'he raed plase the parckage hastfoily i', 'pairt  i', 'poet   i', 'p  i', 'nobrown vear  i', 'aip     i', 'slive  i', 'barn i', 'him  i', 'chap   i', 'foo  i', 'curten   i', 'jusliet  i', 'hark  i', 'flow    i', 'ra oe i', 'hom  i', 'yes     i', 'leak  i', 'knoten  i', 'al scor  i', 'i ave had my brw rong i', 'sergeant   i', 'sitting  i', 'cot      i', 'rarke  i', 'spar   i', 'spark  i', 'spar  i', 'spain  i', 'thow i', 'dawn  i', 'siter  i', 'carke       i', 'horm i', 'holt caill   i', 'the fox soarwe very yel ship  i', 'harp  i', 'car  i', 'park  i', 'dark  i', 'hill  i', 'zero  i', 'severn   i', 'i have t well pm t vlli work i', 'the of schoubal house stures unsy i', 'fnow   i', 'il procuhou sellves to value   i', 'tot  i', 'swing naw on as high as you can i', 'befoe theire gos warm brauwht   i', 'him  i', 'chaw        i', 'shy  i', 'sic        i', 'there is a treadhouse upperpal      i', 'fair    i', 'thought  i', 'harp    i', 'lege  i', \"we'le vo hoseback to the flor  i\", 'quebec  i', 'bitn  i', 'ghed job provoued moscing brought ho fiilt    i', 'ghoed job provides many brenfuts i', 'hat  i', 'swore i', 'leiak   i', 'par  i', 'nush  i', 'leak  i', 'now  i', 'fitong  i', 'walall al fil yue for us  i', 'porn  i', 'golf   i', 'hitting  i', 'caraall loves to a liveaasly home  i', 'darn  i', 'gnaw  i', 'alscarl th troubbls f gd aers cgt un favirable i', 'wickcered         i', 'prar  i', 'the oners sre gala for uming loes i', 'chair      i', 'pry aboat the time con help tro    i', 'ham  i', \"whe're   i\", 'siera        i', 'share        i', 'pprawn i']\n"
          ]
        },
        {
          "name": "stderr",
          "output_type": "stream",
          "text": [
            "Saving model checkpoint to torgo_xlsr_finetune-M02-2/checkpoint-15500\n",
            "Configuration saved in torgo_xlsr_finetune-M02-2/checkpoint-15500/config.json\n",
            "Model weights saved in torgo_xlsr_finetune-M02-2/checkpoint-15500/pytorch_model.bin\n",
            "Feature extractor saved in torgo_xlsr_finetune-M02-2/checkpoint-15500/preprocessor_config.json\n",
            "Deleting older checkpoint [torgo_xlsr_finetune-M02-2/checkpoint-14500] due to args.save_total_limit\n",
            "/usr/local/lib/python3.9/dist-packages/transformers/models/wav2vec2/processing_wav2vec2.py:155: UserWarning: `as_target_processor` is deprecated and will be removed in v5 of Transformers. You can process your labels by using the argument `text` of the regular `__call__` method (either in the same call as your audio inputs, or in a separate call.\n",
            "  warnings.warn(\n",
            "The following columns in the evaluation set don't have a corresponding argument in `Wav2Vec2ForCTC.forward` and have been ignored: input_length. If input_length are not expected by `Wav2Vec2ForCTC.forward`,  you can safely ignore this message.\n",
            "***** Running Evaluation *****\n",
            "  Num examples = 714\n",
            "  Batch size = 8\n"
          ]
        },
        {
          "name": "stdout",
          "output_type": "stream",
          "text": [
            "['grow   i', 'feed   i', 'alpha  i', 'pot  i', 'farm  i', 'sip i', 'dagger i', 'rave i', 'fair i', 'sheet i', 'ship i', 'park i', 'goadfathersligkhts to be my dern answers lankgage i', 'spurgble i', 'bit  i', 'will she yis snearly notcis sit yorso i', 'trouble i', 'chair i', 'raid i', 'thaugh  i', 'goadget i', 'barn i', 'torn i', 'go i', 'swarm i', 'share i', 'ig a tarn i', 'i can meat i', 'sheate  i', 'starp     i', 'rought  i', 'no    i', 'tair i', 'know i', 'yes i', 'store i', 'chair i', 'swore i', 'bat  i', 'stubble i', 'trop      i', 'she had your doksouit in gored swash fwater all year i', 'horn  i', 'sheet     i', 'paca i', 'slect  i', 'spaine    i', 'car    i', 'knoying  i', 'know      i', 'yeet the stel think sefs swoasly as ever i', 'musually minus several buttons i', 'flor   i', 'traine  i', 'bhotp   i', 'we have often uszged jumpd o more and smoe gleas i', 'theue jugs smuna left i', 'boarn i', 'beiaht  i', 'nowm  i', 'right  i', 'range   i', 'sip   i', 'stick    i', 'storm i', 'bubble  i', 'tarm i', 'thwo i', 'glow i', 'form i', 'florm  i', 'briar  i', 'barn  i', 'shairp i', 'stark i', 'storm   i', 'broat  i', 'swarm  i', 'op  i', 'a long folowen boatd clings to  urd hhin i', 'stark  i', 'rake i', 'raice i', 'error i', 'i can read  i', 'air i', 'jacket i', \"don't lik mister carry oung oraly exleict thot i\", 'raege i', 'hair i', 'spark i', 'for i', 'coumpe   i', 'jaggerd i', 'corn i', 'spark i', 'feed  i', 'the quick  braown fowox jumpt over the lazhy dog i', 'buotaars answers banana ol i', 'two     i', 'trade   i', 'cosviuich to know all abont u grandfather  i', 'trace     i', 'cycle i', 'error i', 'of   i', \"i' just stry to do my best i\", 'fosth sprigules would go higyh on lighter ships i', 'notm  i', 'side i', 'i tried to thave people the communitty ri', 'sigh  i', 'loop i', 'chero i', 'area i', 'why joged afol oal sillisemants i', 'chero   i', 'every thing wame weal smoth the shelliff said i', 'eight  i', 'wright i', 'hate     i', 'stis was easng for us i', 'whoop    i', 'now   i', 'trop   i', 'troop i', 'slip  i', 'sway i', 'shoft i', 'shoot i', \"are your grades higher or lower than nancy's i\", 'shroop   i', \"you'd fig off chearking a cold showe i\", 'the island osx fath lookets up loter i', 'knot     i', 'pot     i', 'boot i', 'selat i', 'tie i', 'sprinkle i', 'knot i', 'form i', 'tot i', 'suit i', 'single i', 'pad    i', 'all the bigbase  ball players get treaed i', 'pay  i', 'cheer  i', 'i can play this weekend i', 'i feel alof cruanpplay this weekkend i', 'they carered behof on the stretcher i', 'right i', 'bll ol banwal yellow lilly i', 'whop   i', 'shear i', 'near   i', 'steer  i', 'bad  i', 'galore    i', 'fisht sunshine shimmers on the ocean i', 'tope gathered shells on the beach i', 'he will all alow a vara lie i', 'charlie i', 'walsh i', 'ate   i', 'lift i', 'tnhew    i', 'tive i', 'serogh i', 'though  i', 'flor      i', 'ther house is go and watch i', 'notthing asuse have founds tiv  alter noence i', 'notthing has offens tou valiatthinner since i', 'slay i', 'snap      i', 'sigh i', 'brocks   i', 'she is thinner than i am i', 'urgent i', 'jungle      i', 'bear  i', 'soot       i', 'just  one sighgot wet i', 'pile i', 'yeut yoit is troboing on the field i', 'forward i', 'for i', 'theer i', 'steblot    i', 'i looked off notcice two all men i', 'slip    i', 'i was conscious all the sime i', 'trior   i', 'tile  i', 'treeo    i', 'fav    i', 'one  falurd day dtime tos schroubal distruit i', 'mue    i', 'shet i', 'fat    i', 'mothers swals yellow kingham aprons i', 'much  i', 'no       i', 'rock   i', 'jang maoal musey bare workang hard i', 'shy    i', 'troop   i', 'froot  i', 'i exscrubbed the flarms thoroughhly i', 'sigh i', 'the train af vocht supbd to fol slowary i', 'stheer      i', 'explore i', 'grow  i', 'feed i', 'alpha  i', 'pot  i', 'farm  i', 'sip i', 'dagger  i', 'range i', 'fair i', 'feet  i', 'sip   i', 'park   i', 'godfather likeds to beo smy tranainiers black gage i', 'bubble  i', 'sbit     i', 'will she is nearly noinety fore yoars old i', 'trouble   i', 'chair    i', 'raid  i', 'gathag i', 'gadget  i', 'varm   i', 'torn  i', 'go  i', 'swarm  i', 'share   i', 'alyouls carns i', 'i can read  i', 'fuit  i', 'stark       i', 'right  i', 'knew  i', 'te  i', 'nom  i', 'yes  i', 'store     i', 'chair  i', 'flor  i', 'fat  i', 'stubble i', 'trot  i', 'horn i', 'sheet  i', 'beca   i', 'selict  i', 'fain  i', 'car    i', 'knew  i', 'nowm  i', 'yeet he still thinks theuscht swiftly as eavral i', 'yus minus several buttons i', 'flor  i', 'train   i', 'whop     i', 'we have oftnuced jumpd foa morle and smoke gle i', 'left    i', 'born   i', 'beat  i', 'snew  i', 'right    i', 'range  i', 'slip  i', 'stir  i', 'storm i', 'stubble    i', 'storm  i', 'firm  i', 'glow  i', 'form  i', 'form   i', 'brave i', 'warm  i', 'sip i', 'tark     i', 'storm  i', 'smoat  i', 'sworm  i', 'op  i', 'starp i', 'rake i', 'race i', 'air i', 'i can read   i', 'air    i', 'jacket       i', 'sdount left mistor carry uns oranyi elect thegh i', 'raege       i', 'hair   i', 'spark     i', 'four  i', 'compe   i', 'jaggerd         i', 'corn   i', 'spark    i', 'fileld  i', 'the quick brown fox jumkpt over the loazy dog i', 'but theovers answers banana oil    i', 'two   i', 'trat     i', 'she wished to know all about my grandfather i', 'traice   i', 'cycle    i', 'error   i', 'of   i', \"i' just scrah to do my best i\", 'both figures would go higyh rn lightter his i', 'nohm  i', 'side         i', 'i tried to se bepoltan the community ri', 'sive  i', 'loop         i', 'here   i', 'area      i', 'why selfed avol over sulisemants i', 'herm  i', 'every thing wenmt real smoth the sherriff said i', 'eight  i', 'right  i', 'hate  i', 'thist was leasing for us  i', 'whoop i', 'now    i', 'trop   i', 'troop  i', 'sleftt      i', 'sware    i', 'shoft   i', 'shoot   i', \"are your grades higher or lower than nancy's i\", 'fruit  i', \"you'd prefer  off tearking a cold shower   i\", 'the island bos farhsloopt op ligtie i', 'knot   i', 'pot  i', 'spoo  i', 'swave         i', 'play  i', 'sprinkle i', 'knot   i', 'for  i', 'were  i', 'tot  i', 'suip  i', 'single  i', 'span  i', 'all the big based foll players get treated i', 'pay  i', 'cher  i', 'i can play this weekends i', 'i feel wi can play this weekend  i', 'they carrired mlff on the stretcher i', 'right  i', 'will falfir wa a yellow lily   i', 'whotc    i', 'shear     i', 'near  i', 'steer           i', 'fad  i', 'galore  i', 'brught sunshine shimmers on the ocean i', 'foue gathered shells on the beach i', 'he wil au alow a rare lie i', 'charlie    i', 'worf   i', 'eought    i', 'select   i', 'knew  i', 'tive       i', 'sworfe     i', 'though  i', 'flor   i', 'their house is agrey and white     i', 'notthing athuse havd fonds the ealter noence i', 'notthing has offensive valinnoers since i', 'slay     i', 'snoop  i', 'sigh    i', 'rocks  i', 'she is thinner than i am i', 'urgent    i', 'jungle   i', 'bear    i', 'suit   i', 'just one sighegot wet i', 'pile  i', 'youre used trvooing on the field i', 'forward    i', 'for   i', 'speer    i', 'seblia  i', 'i look elfons noticetwo old men i', 'slip    i', 'i was conscious all the time i', 'prior    i', 'tile  i', 'fear   i', 'fave        i', 'one father lays  tie th schroubal distrit i', 'mere  i', 'fate   i', 'fat  i', 'mothers sols yellow gringham eaprons i', 'much  i', 'no i', 'rock    i', 'rock   i', 'jangeedmy warmale moserys by wolang hath i', 'sgh  i', 'troop  i', 'brooat  i', 'i excrubbed the flarms thoroughly   i', 'sigh  i', 'the train ofvoft strued to fo slowly i', 'cheer  i', 'explore   i', 'grow i', 'gaha   i', 'sig  mothersr youar o vorwael shy i', 'air i', 'select   i', 'es    i', 'sroop       i', 'sigh i', 'swore   i', 'my si survived the flowwas carm i', 'leere   i', 'braiar  i', 'by oe lu while were wvord  i', 'slip i', 'colpe i', 'tie    i', 'bak   i', 'alb alohigr lay near as thoe wall i', 'echo   i', 'thought   i', 'hnars    i', 'ar searge     i', 'serco         i', 'braw         i', 'sur dent sw as he got out i', 'at      i', 'parket i', 'shy       i', 'faitlir i', 'hopn  i', 'lair i', 'tell i', 'lair i', 'vad i', 'kilo', 'varliy', 'alpha swam around the fold', 'leair', 'gruus ther sels have lost tor rir', 'papa', 'start', 'him', 'loyal    i', 'sign  i', 'brawn i', 'sa i', 'rake    i', 'seed    i', 'the barx cunttant slay sweaters i', 'fror i', 'fir   i', 'mitting    i', 'fill i', 'he wraped the pair e package hastfily i', 'pect i', 'trait       i', 'grandfar i', 'stairt i', 'shye i', 'barn i', 'hill    i', 'chap  i', 'foho i', 'caror i', 'uliet i', 'hark  i', 'flow        i', 'ye   i', 'yes i', 'la   i', 'mnatger  i', 'scor i', 'i ave had my bowl rong i', 'sergeat i', 'sitting i', 'pot i', 'rak i', 'spar i', 'spark i', 'spair i', 'spain i', 'felw i', 'nawn      i', 'siter  i', 'cake i', 'hum     i', 'holf cair i', 'the fox sawe very your bt ship i', 'harf i', 'cart    i', 'park      i', 'jar    i', 'hill     i', 'zero   i', 'sever   i', 'i hav scrb ssis th woate i', 'zelaf schoubale hou exteres un ety i', 'flow    i', 'al pocus choils le i', 'tot          i', 'swing naw armas high as you can i', 'bifoe chaire cars warm brouwht i', 'hio    i', 'chaw   i', 'shy i', 'sirk   i', 'there is a tread house alppeabal i', 'par   i', 'thought  i', 'har   i', 'loak i', 'we vo gh to the farm i', 'quebec i', 'bit   i', 'thoetd job provied nosing bracit i', 'hat i', 'were    i', 'leak  i', 'park  i', 'mach       i', 'leave        i', 'naow   i', 'hiten i', 'wallaall alf fells erves for us i', 'torn   i', 'golf       i', 'hitting   i', 'carlall lives ana lives ay home i', 'darn  i', 'gnaw   i', 'wiccered   i', 'pprior    i', 'chhairp  i', 'p abat te time can help too i', 'ham i', 'where   i', 'sieta i', 'grow  i', 'walha  i', 'ig have mierloryars ol ver wellm sliar i', 'ar  i', 'air    i', 'selt  i', 'ea  i', 'troop  i', 'pile  i', 'warme  i', 'mil sif surnized the floware ca i', 'left    i', 'two are thers cariads hels all several unsere arlieres meint i', 'briar  i', 'bore the walls ware wowold   i', 'slip    i', 'cope  i', 'tot  i', 'and  i', 'ofal loaara lays near above all i', 'echo    i', 'thought  i', 'mire  i', 'searge  i', 'zero      i', 'baw  i', 'tuldent swa as he got out i', 'at  i', 'parkle  i', 'sigh   i', 'filir  i', 'left  i', 'leairk   i', 'tell  i', 'lair  i', 'thaigh  i', 'kilo  i', 'raighly  i', 'to olffoms swam around ther boat  i', 'lairm  i', 'gauarrs sls have lost low ware i', 'palpa  i', 'thirs is a piudof trackcetcion for ment i', 'dart  i', 'him  i', 'noyal  i', 'sign  i', 'brawn  i', 'tio   i', 'roake  i', 'seerd  i', 'the bowx  cucaint saye sweaters    i', 'frawrn   i', 'bit   i', 'knitting  i', 'fill   i', 'he raed plae the parckage hastfoily i', 'pairt  i', 'poet   i', 'pot  i', 'nobrown fear  i', 'ait  i', 'slive  i', 'barn i', 'him  i', 'carp    i', 'foo  i', 'curen  i', 'jusliet  i', 'hark  i', 'flo     i', 'ra oe i', 'hom  i', 'yes      i', 'leak  i', 'knotan  i', 'al scor  i', 'i ave had my brow long i', 'sergeant   i', 'sitting  i', 'cot     i', 'rarke  i', 'sparht   i', 'spark  i', 'spar  i', 'spain  i', 'thouwh i', 'dawn  i', 'siter  i', 'cark      i', 'horm i', 'holt cail   i', 'the fox soarge very yel ship  i', 'harp  i', 'car  i', 'park  i', 'dark  i', 'hill  i', 'zero  i', 'seven   i', 'i have t well pam t litive work i', 'the of sschoubal house stures unsy i', 'flow   i', 'il procuhou selves to value   i', 'tot  i', 'swing naw an as high as you can i', 'before theire gos warm brauwht   i', 'him  i', 'chw        i', 'shy  i', 'sic     i', 'there is a treadhouse ulpperal     i', 'fair  i', 'thought  i', 'har      i', 'leage  i', 'were vol hoseback to the flor  i', 'quebec  i', 'bitn  i', 'ghed job provoued moscing brought hoi filt     i', 'ghooed job provides many brenefuats i', 'hat  i', 'swore i', 'leik  i', 'park  i', 'nush  i', 'leak  i', 'now  i', 'fitong  i', 'waln all als fils ouve for us  i', 'forn  i', 'golf  i', 'hitting  i', 'carall lives ton a liveaslay home  i', 'darn  i', 'gnaw  i', 'alscarla th troubbls f guad aers cgot un farvirable i', 'wickcered     i', 'prioar  i', 'the ouners srge gala for uming loies i', 'chair      i', 'pry haboat the time con help tro       i', 'ham  i', \"whe're  i\", 'sira         i', 'share       i', 'praiwn i']\n"
          ]
        },
        {
          "name": "stderr",
          "output_type": "stream",
          "text": [
            "Saving model checkpoint to torgo_xlsr_finetune-M02-2/checkpoint-16000\n",
            "Configuration saved in torgo_xlsr_finetune-M02-2/checkpoint-16000/config.json\n",
            "Model weights saved in torgo_xlsr_finetune-M02-2/checkpoint-16000/pytorch_model.bin\n",
            "Feature extractor saved in torgo_xlsr_finetune-M02-2/checkpoint-16000/preprocessor_config.json\n",
            "Deleting older checkpoint [torgo_xlsr_finetune-M02-2/checkpoint-15000] due to args.save_total_limit\n",
            "/usr/local/lib/python3.9/dist-packages/transformers/models/wav2vec2/processing_wav2vec2.py:155: UserWarning: `as_target_processor` is deprecated and will be removed in v5 of Transformers. You can process your labels by using the argument `text` of the regular `__call__` method (either in the same call as your audio inputs, or in a separate call.\n",
            "  warnings.warn(\n",
            "The following columns in the evaluation set don't have a corresponding argument in `Wav2Vec2ForCTC.forward` and have been ignored: input_length. If input_length are not expected by `Wav2Vec2ForCTC.forward`,  you can safely ignore this message.\n",
            "***** Running Evaluation *****\n",
            "  Num examples = 714\n",
            "  Batch size = 8\n"
          ]
        },
        {
          "name": "stdout",
          "output_type": "stream",
          "text": [
            "['grow   i', 'feed   i', 'alpha  i', 'pot  i', 'farm  i', 'sip i', 'daggeor i', 'rave i', 'fair i', 'sheet i', 'ship i', 'park i', 'gadfathers ligkhts to beae my dernanswers lankgage i', 'spurbble i', 'bit  i', 'will she yis snearly notcis it yors o i', 'trouble i', 'chair i', 'raid i', 'thaugh  i', 'goadget i', 'barn i', 'torn i', 'go i', 'swarm i', 'share i', 'ig a tarn i', 'i can meat i', 'sheate  i', 'starp    i', 'rought    i', 'no    i', 'tair i', 'know i', 'yes i', 'store i', 'chair i', 'swore i', 'bat  i', 'stubble i', 'trop       i', 'she had your doksouit in gored swash fwater all year i', 'horn  i', 'sheet       i', 'paca i', 'sect  i', 'spaine    i', 'car      i', 'knoying  i', 'know     i', 'yeet the stel think sefs swoasly as ever i', 'musually minus several buttons i', 'flor  i', 'train  i', 'bhop   i', 'we have often uszged jumpd o more and smowe glas i', 'theu jugs smuna left i', 'born i', 'beat  i', 'nowm   i', 'right  i', 'range   i', 'sip   i', 'stick    i', 'storm i', 'bubble  i', 'farm i', 'thwo i', 'glow i', 'form i', 'florm  i', 'briar  i', 'barn  i', 'share i', 'stark i', 'storm   i', 'broat  i', 'swarm  i', 'op  i', 'a long foowen boad clings to urd hhin i', 'stark   i', 'rake i', 'raice i', 'error i', 'i can read  i', 'air i', 'jacket i', \"don't lik mister carry oung oraly exleict thot i\", 'raege i', 'hair i', 'spark i', 'for i', 'compe   i', 'jaggerd i', 'corn i', 'spark i', 'feed  i', 'the quick  braown fwox jumpt over the lazy dog i', 'buotaars answers banana ol i', 'two     i', 'trade   i', 'cosviuich to know all abont u grandfather  i', 'trace     i', 'cycle i', 'error i', 'of   i', \"i' just stry to do my best i\", 'foth sprigles would go hiyh o lighter ships i', 'notm  i', 'side i', 'i tried to tave people the communitty ri', 'sigh   i', 'loop i', 'cero i', 'area i', 'why joged afol oal sillisemants i', 'cheo   i', 'every thing wame weal smocth the shelliff said i', 'eight   i', 'wriht i', 'hate     i', 'stis was easng for us i', 'whoop    i', 'now   i', 'drop   i', 'droop i', 'slip  i', 'sway i', 'shoft i', 'shoot i', \"are your grades higher or lower than nancy's i\", 'sroop   i', \"you'd fig off chearking a cold showe i\", 'the island osx fath lookets up loter i', 'knot      i', 'pot     i', 'boot i', 'selat i', 'tie i', 'sprinkle i', 'knot i', 'form i', 'tot i', 'suit i', 'single i', 'pad       i', 'all the bigbase  ball players get treaed i', 'pay  i', 'cheer  i', 'i can play this weekend i', 'i feel alof cruanmpplay this weekkend i', 'they carered beof on the stretcher i', 'right i', 'bill ol banwal yellow lilly i', 'whop   i', 'shear i', 'near   i', 'steer  i', 'bad  i', 'galore    i', 'fisht sunshine shimmers on the ocean i', 'tope gathered shells on the beach i', 'he will all low a vara lie i', 'charlie i', 'walsh i', 'ate  i', 'lift i', 'tnhew    i', 'tive i', 'sevogh i', 'though  i', 'flor       i', 'ther house is go and watch i', 'notthing asuse have found ti  alter noence i', 'notthing has offens tou valiatthinner since i', 'slay i', 'snap     i', 'sigh i', 'brocks   i', 'she is thinner than i am i', 'urgent i', 'jungle       i', 'bear  i', 'soot      i', 'just one sighgot wet i', 'pile i', 'yeut yoit is trobooing on the field i', 'forward i', 'for i', 'theer i', 'steblaot    i', 'i looked offo notcice two all men i', 'slip   i', 'i was constous all the sime i', 'trior    i', 'tile  i', 'treeo    i', 'fav     i', 'one  falurd day dtime tos schroubal distruit i', 'mue    i', 'shet i', 'fat    i', 'mothers swals yellow kingham aprons i', 'much  i', 'no        i', 'rock   i', 'jang maoal musy bare workang had i', 'shy   i', 'troop   i', 'root  i', 'i excrubbed the flarms thoroughhly i', 'sigh i', 'the train af vocht supbd to fol slowary i', 'stheer      i', 'explore i', 'grow  i', 'feed i', 'alpha  i', 'pot  i', 'farm i', 'sip i', 'dagger  i', 'range i', 'fair i', 'feet  i', 'sip  i', 'park   i', 'godfather likeds to beo smy tranainis black gage i', 'bubble  i', 'bit      i', 'will she is nearly noinety fore yoars old i', 'trouble   i', 'chair   i', 'raid  i', 'gatha i', 'gadget  i', 'varm   i', 'torn  i', 'go  i', 'swarm  i', 'share    i', 'alyous carns i', 'i can read   i', 'fuit  i', 'steark       i', 'right  i', 'knew  i', 'te  i', 'nom  i', 'yes  i', 'store     i', 'chair  i', 'flor  i', 'bat  i', 'stubble i', 'trot  i', 'horn i', 'sheet  i', 'beca   i', 'selict  i', 'fain  i', 'car     i', 'knew  i', 'nowm  i', 'yeet he still thinks theusch swiftly as eaval i', 'yus minus several buttons i', 'flor  i', 'train   i', 'who     i', 'we have ofnuced jumpd foa morle and smoke gle i', 'left     i', 'born   i', 'beat  i', 'snew  i', 'right    i', 'range  i', 'slip  i', 'stir  i', 'storm i', 'stubble    i', 'storm  i', 'filrm  i', 'glow  i', 'form  i', 'form   i', 'brave i', 'warm  i', 'sip i', 'tark     i', 'storm  i', 'smoat  i', 'sworm  i', 'op  i', 'starp i', 'rake i', 'race i', 'air i', 'i can read   i', 'air   i', 'jacket       i', 'sdount left mistor carry un oranyi elect thegh i', 'raege       i', 'hair   i', 'spark     i', 'four  i', 'come   i', 'jaggerd         i', 'corn   i', 'spark   i', 'fild   i', 'the quick brown fox jumkp over the loazy dog i', 'but theovers answers banana oil    i', 'two   i', 'trat     i', 'she wished to know all about my grandfather i', 'traice   i', 'cycle    i', 'error   i', 'of   i', \"i' just scrah to do my best i\", 'both  figures would go higyh rn lightter his i', 'nohm  i', 'side         i', 'i tried to se bepoltan the community ri', 'sive  i', 'loop         i', 'here   i', 'area      i', 'why sellfed avol over slisemants i', 'herm  i', 'every thing wenmt real smoth the sherriff said i', 'eight  i', 'right  i', 'hate  i', 'thist was leasing for us  i', 'whoop i', 'now    i', 'trop   i', 'droop  i', 'sleftt      i', 'sware    i', 'shoft   i', 'shoot   i', \"are your grades higher or lower than nancy's i\", 'fruit  i', \"you'd prefer  off tearking a cold shower   i\", 'the island bos fahsloop op ligtie i', 'knot   i', 'pot  i', 'spoo  i', 'swave        i', 'play  i', 'sprinkle i', 'knot   i', 'for  i', 'were  i', 'tot  i', 'sup  i', 'single  i', 'span  i', 'all the big baszed foll players get trated i', 'pay  i', 'cheer  i', 'i can play this weekkend i', 'i feel wi can play this weekend  i', 'they carrired mlff on the stretcher i', 'right  i', 'will folfir war a yellow lily     i', 'whotc    i', 'shear     i', 'near  i', 'steer           i', 'fad  i', 'galore  i', 'brught sunshine shimmers on the ocean i', 'foue gathered shells on the beach i', 'he will au alow a rare lie i', 'charlie    i', 'worf   i', 'eoght      i', 'slect   i', 'knew  i', 'tive       i', 'swoofe     i', 'though  i', 'flor   i', 'their house is agrey and white     i', 'notthing athuse havd fonds the ealter noence i', 'notthing has offensive valinnoers since i', 'slay    i', 'snoop  i', 'sigh    i', 'rocks  i', 'she is thinner than i am i', 'urgent    i', 'jungle   i', 'bear    i', 'suit   i', 'just one sighegot wet i', 'pile  i', 'youre used trbooing on the field i', 'forward     i', 'for  i', 'speer    i', 'seblica  i', 'i look elfons noticetwo old men i', 'slip    i', 'i was conscious all the time i', 'prior    i', 'tile  i', 'fear   i', 'fave        i', 'one fathur lays  tie th schroubal distrit i', 'mere  i', 'fate   i', 'fat  i', 'mothers sols yellow gingham aprons i', 'much  i', 'no i', 'rock   i', 'rock   i', 'jangeedmy warmale moserys by wolang hath i', 'syh  i', 'troop  i', 'brooat  i', 'i excrubbed the farms thoroughly   i', 'sigh  i', 'the train ofvoft strued to fo slowly i', 'zeer  i', 'explore   i', 'grow i', 'gaha   i', 'sig  mothersr youar o vorwael shy i', 'air i', 'select  i', 'i', 'sroop      i', 'siglh i', 'wore   i', 'my si survived the flowwas carm i', 'meere    i', 'braiar   i', 'by oe lu while were wvord  i', 'slip i', 'colpe i', 'tie  i', 'bark   i', 'alb alohigr lay near as thoe wall i', 'echo   i', 'thought    i', 'hnar   i', 'ar searge     i', 'zero         i', 'braw       i', 'sur gent  sws as he got out i', 'at      i', 'parket i', 'shy     i', 'faitlir i', 'hop  i', 'lair i', 'tell i', 'lair i', 'vad i', 'kilo', 'rarliy', 'alfa swam around the fold', 'leair', 'gruus ther sels have lost or rir', 'papa', 'tart', 'him', 'loyal    i', 'sign  i', 'brawn i', 'sa i', 'rake    i', 'seed   i', 'the barxcunttantd slay sweaters i', 'fror i', 'fir   i', 'mitting    i', 'fill i', 'he wraped the pair e package hastfily i', 'pct i', 'trait       i', 'grandfar i', 'stairt i', 'shaiye i', 'barn i', 'hill   i', 'chap  i', 'foo i', 'carr i', 'liet i', 'hark  i', 'flow        i', 'ye   i', 'yes i', 'la   i', 'mnager i', 'score i', 'i ave had my bowl rong i', 'sergeat i', 'sitting i', 'pot i', 'rak i', 'stor i', 'spark i', 'spair i', 'spain i', 'felw i', 'nawn      i', 'siter  i', 'cake i', 'hum     i', 'holf crair i', 'the fox sawe very your bt ship i', 'harf i', 'cart    i', 'park      i', 'jar    i', 'hill     i', 'zero  i', 'sever   i', 'i ha scrb ssis th woat i', 'zelaf schoubale hou exteres un ety i', 'flo    i', 'al pocs choils lel i', 'tot          i', 'swing nawarmas high as you can i', 'bife chaire cars warm brouwht i', 'hillo    i', 'chaw  i', 'shy i', 'sirk   i', 'there is a tread house alppebal i', 'par   i', 'thought  i', 'har  i', 'loag i', 'we vo gh to the farm i', 'quebec i', 'bit   i', 'thoetd job provied nosing brancit i', 'hat i', 'were   i', 'leak  i', 'park  i', 'mach      i', 'leave      i', 'now   i', 'hiten i', 'wallaall alf fells erves for us i', 'torn   i', 'golf       i', 'hitting   i', 'carlall lives aa lives y home i', 'darn  i', 'gnaw    i', 'wicceared   i', 'pprior    i', 'chhair i', 'p abat te ime can help to i', 'ham i', 'where    i', 'sieta i', 'grow  i', 'walha  i', 'ig have mierloryars ol ver wellm sliar i', 'air  i', 'air    i', 'selt  i', 'ea  i', 'troop  i', 'pil  i', 'warme  i', 'mil sif surnized the flowared ca i', 'left    i', 'two are thers cariads hels all several unstere aleres mein i', 'brar  i', 'bore the walls wore wowold   i', 'slip     i', 'cope  i', 'tot  i', 'and  i', 'ofal loalar lys near above all i', 'echo    i', 'thought  i', 'mie  i', 'searges  i', 'zero      i', 'baw  i', 'tuldent sw as he got out i', 'at  i', 'parkle  i', 'sigh   i', 'filir  i', 'left  i', 'lair   i', 'tell  i', 'lair  i', 'thaigh  i', 'klo  i', 'raighly  i', 'to olffoms swam around ther boat  i', 'lairm  i', 'gamurrs sls have lost low ware i', 'palpa  i', 'thirs is a pudof trackctcions for ment i', 'dart  i', 'him  i', 'noyal  i', 'sign  i', 'brawn  i', 'tio   i', 'roake  i', 'seerd  i', 'the bowx cucaint aye sweaters    i', 'frowrn  i', 'bit    i', 'knitting  i', 'fill   i', 'he raed flae the parckage hastfoily i', 'pairt  i', 'poet   i', 'p  i', 'nobrown fear  i', 'aip   i', 'slive  i', 'barn i', 'him  i', 'cap    i', 'foro  i', 'curen   i', 'usliet  i', 'hark  i', 'flo    i', 'ra oe i', 'hom  i', 'yes     i', 'leak  i', 'knoten  i', 'al scor  i', 'i ave had my brw long i', 'sergeant   i', 'sitting  i', 'cot      i', 'rarke  i', 'sprarh   i', 'spark  i', 'spair  i', 'spain  i', 'thowh i', 'dawn  i', 'siter  i', 'cark       i', 'horm i', 'holt cail   i', 'the fox soare very yel  ship  i', 'harp  i', 'car  i', 'park  i', 'dark  i', 'hill  i', 'zero  i', 'seven   i', 'i have t well pam t litive work i', 'the of schoubal house stures unsy i', 'fnow   i', 'il procuhou sellves to valu   i', 'tort  i', 'swing naw an as high as you can i', 'before theire gos warm brauwht   i', 'him  i', 'chaw        i', 'shy  i', 'sic      i', 'there is a treadhouse ulpperall     i', 'fair   i', 'thought  i', 'har    i', 'leage  i', 'wele vol hoseback to the flor  i', 'quebec  i', 'bitn  i', 'ged job provoued moscing brought ho filt     i', 'ghooed job provides many bren futs i', 'hat  i', 'wore i', 'leiak  i', 'park  i', 'nush  i', 'leak  i', 'now  i', 'fitong  i', 'wal all als fils oe for us  i', 'forn  i', 'golf  i', 'hitting  i', 'car al lives ton a liveaslay home  i', 'darn  i', 'gnaw  i', 'alscarla th troubbls  gud aers cgot oun farvirable i', 'wickcered      i', 'priar  i', 'the oners srge gala for fuming loies i', 'chair      i', 'pry haboat the time con help tro      i', 'ham  i', 'where  i', 'sira         i', 'sare       i', 'praiwn i']\n"
          ]
        },
        {
          "name": "stderr",
          "output_type": "stream",
          "text": [
            "Saving model checkpoint to torgo_xlsr_finetune-M02-2/checkpoint-16500\n",
            "Configuration saved in torgo_xlsr_finetune-M02-2/checkpoint-16500/config.json\n",
            "Model weights saved in torgo_xlsr_finetune-M02-2/checkpoint-16500/pytorch_model.bin\n",
            "Feature extractor saved in torgo_xlsr_finetune-M02-2/checkpoint-16500/preprocessor_config.json\n",
            "Deleting older checkpoint [torgo_xlsr_finetune-M02-2/checkpoint-15500] due to args.save_total_limit\n",
            "/usr/local/lib/python3.9/dist-packages/transformers/models/wav2vec2/processing_wav2vec2.py:155: UserWarning: `as_target_processor` is deprecated and will be removed in v5 of Transformers. You can process your labels by using the argument `text` of the regular `__call__` method (either in the same call as your audio inputs, or in a separate call.\n",
            "  warnings.warn(\n",
            "\n",
            "\n",
            "Training completed. Do not forget to share your model on huggingface.co/models =)\n",
            "\n",
            "\n"
          ]
        },
        {
          "data": {
            "text/plain": [
              "TrainOutput(global_step=16560, training_loss=1.3274605709573497, metrics={'train_runtime': 24071.3345, 'train_samples_per_second': 5.504, 'train_steps_per_second': 0.688, 'total_flos': 1.2378565275038376e+19, 'train_loss': 1.3274605709573497, 'epoch': 30.0})"
            ]
          },
          "execution_count": 46,
          "metadata": {},
          "output_type": "execute_result"
        }
      ],
      "source": [
        "trainer.train()"
      ]
    },
    {
      "cell_type": "code",
      "execution_count": null,
      "metadata": {
        "colab": {
          "background_save": true,
          "referenced_widgets": [
            "5ee445f934274d8d883e428bc2b37634",
            "80400f371dda47b6af784f4ed254a751"
          ]
        },
        "id": "C_-0QdfBSwup",
        "outputId": "6e651f40-0efd-463d-dcbc-c9cfba167548"
      },
      "outputs": [
        {
          "name": "stderr",
          "output_type": "stream",
          "text": [
            "Cloning https://huggingface.co/yip-i/torgo_xlsr_finetune-M02-2 into local empty directory.\n",
            "WARNING:huggingface_hub.repository:Cloning https://huggingface.co/yip-i/torgo_xlsr_finetune-M02-2 into local empty directory.\n",
            "Saving model checkpoint to torgo_xlsr_finetune-M02-2\n",
            "Configuration saved in torgo_xlsr_finetune-M02-2/config.json\n",
            "Model weights saved in torgo_xlsr_finetune-M02-2/pytorch_model.bin\n",
            "Feature extractor saved in torgo_xlsr_finetune-M02-2/preprocessor_config.json\n"
          ]
        },
        {
          "data": {
            "application/vnd.jupyter.widget-view+json": {
              "model_id": "5ee445f934274d8d883e428bc2b37634",
              "version_major": 2,
              "version_minor": 0
            },
            "text/plain": [
              "Upload file pytorch_model.bin:   0%|          | 32.0k/1.18G [00:00<?, ?B/s]"
            ]
          },
          "metadata": {},
          "output_type": "display_data"
        },
        {
          "data": {
            "application/vnd.jupyter.widget-view+json": {
              "model_id": "80400f371dda47b6af784f4ed254a751",
              "version_major": 2,
              "version_minor": 0
            },
            "text/plain": [
              "Upload file training_args.bin: 100%|##########| 3.43k/3.43k [00:00<?, ?B/s]"
            ]
          },
          "metadata": {},
          "output_type": "display_data"
        },
        {
          "name": "stderr",
          "output_type": "stream",
          "text": [
            "remote: Scanning LFS files of refs/heads/main for validity...        \n",
            "remote: LFS file scan complete.        \n",
            "To https://huggingface.co/yip-i/torgo_xlsr_finetune-M02-2\n",
            "   5d18e70..ad97514  main -> main\n",
            "\n",
            "WARNING:huggingface_hub.repository:remote: Scanning LFS files of refs/heads/main for validity...        \n",
            "remote: LFS file scan complete.        \n",
            "To https://huggingface.co/yip-i/torgo_xlsr_finetune-M02-2\n",
            "   5d18e70..ad97514  main -> main\n",
            "\n",
            "Dropping the following result as it does not have all the necessary fields:\n",
            "{'task': {'name': 'Automatic Speech Recognition', 'type': 'automatic-speech-recognition'}, 'metrics': [{'name': 'Wer', 'type': 'wer', 'value': 1.0790568654646324}]}\n",
            "To https://huggingface.co/yip-i/torgo_xlsr_finetune-M02-2\n",
            "   ad97514..613a746  main -> main\n",
            "\n",
            "WARNING:huggingface_hub.repository:To https://huggingface.co/yip-i/torgo_xlsr_finetune-M02-2\n",
            "   ad97514..613a746  main -> main\n",
            "\n"
          ]
        },
        {
          "data": {
            "application/vnd.google.colaboratory.intrinsic+json": {
              "type": "string"
            },
            "text/plain": [
              "'https://huggingface.co/yip-i/torgo_xlsr_finetune-M02-2/commit/ad97514361362b3d5d9ea484568eaca59b9fe17e'"
            ]
          },
          "execution_count": 48,
          "metadata": {},
          "output_type": "execute_result"
        }
      ],
      "source": [
        "# push to trained model to huggingface\n",
        "# trainer.push_to_hub(\"yip-i/\" + repo_name)\n",
        "trainer.push_to_hub(repo_name)"
      ]
    },
    {
      "cell_type": "markdown",
      "source": [
        "# **Evaluate the model and generate WER**"
      ],
      "metadata": {
        "id": "Robxbt0B-2ux"
      }
    },
    {
      "cell_type": "code",
      "source": [
        "!pip install evaluate\n",
        "!pip install jiwer"
      ],
      "metadata": {
        "id": "zlaSpBY3V43K"
      },
      "execution_count": null,
      "outputs": []
    },
    {
      "cell_type": "code",
      "source": [
        "import re\n",
        "from datasets import load_dataset, DatasetDict, Dataset, Audio\n",
        "from huggingface_hub import Repository\n",
        "from transformers import Wav2Vec2Processor, Wav2Vec2ForCTC\n",
        "import torch\n",
        "\n",
        "from dataclasses import dataclass, field\n",
        "from typing import Any, Dict, List, Optional, Union\n",
        "from tqdm import tqdm\n",
        "from evaluate import load"
      ],
      "metadata": {
        "id": "NJi6zWVX_1Ix"
      },
      "execution_count": null,
      "outputs": []
    },
    {
      "cell_type": "code",
      "source": [
        "# Already present in the training section\n",
        "\n",
        "'''\n",
        "def remove_special_characters(batch):\n",
        "    batch[\"text\"] = re.sub(chars_to_ignore_regex, '', batch[\"text\"]).lower() + \" \"\n",
        "    return batch\n",
        "\n",
        "def prepare_dataset(batch):\n",
        "    audio = batch[\"audio\"]\n",
        "\n",
        "    # batched output is \"un-batched\" to ensure mapping is correct\n",
        "    batch[\"input_values\"] = processor(audio[\"array\"], sampling_rate=audio[\"sampling_rate\"]).input_values[0]\n",
        "    batch[\"input_length\"] = len(batch[\"input_values\"])\n",
        "\n",
        "    with processor.as_target_processor():\n",
        "        # batch[\"labels\"] = processor(batch[\"text\"]).input_ids\n",
        "        batch[\"labels\"] = batch[\"text\"]\n",
        "        # print(processor(batch[\"text\"]))\n",
        "    return batch\n",
        "'''"
      ],
      "metadata": {
        "id": "pJC2E9nM_4gM"
      },
      "execution_count": null,
      "outputs": []
    },
    {
      "cell_type": "code",
      "source": [
        "# Function to be used for prediction\n",
        "def map_to_result(batch):\n",
        "    with torch.no_grad():\n",
        "      input_values = torch.tensor(batch[\"input_values\"], device=\"cpu\").unsqueeze(0)\n",
        "      logits = model(input_values).logits\n",
        "\n",
        "    pred_ids = torch.argmax(logits, dim=-1)\n",
        "    batch[\"pred_str\"] = processor.batch_decode(pred_ids)[0]\n",
        "    batch[\"text\"] = batch[\"labels\"]\n",
        "\n",
        "    return batch"
      ],
      "metadata": {
        "id": "qWMybJCSAZhu"
      },
      "execution_count": null,
      "outputs": []
    },
    {
      "cell_type": "code",
      "source": [
        "def get_result(torgo_dataset):\n",
        "    pred_str = []\n",
        "    actual = []\n",
        "    for i in range(torgo_dataset.num_rows):\n",
        "      inputs = processor(torgo_dataset[i][\"input_values\"], sampling_rate=16_000, return_tensors=\"pt\")\n",
        "      with torch.no_grad():\n",
        "        logits = model(**inputs).logits\n",
        "      transcription = processor.batch_decode(logits.numpy()).text\n",
        "      pred_str.append(transcription[0].lower())\n",
        "      actual = processor.decode(torgo_dataset[i][\"labels\"]).text\n",
        "\n",
        "    return pred_str, actual"
      ],
      "metadata": {
        "id": "3VJijBwKAuKk"
      },
      "execution_count": null,
      "outputs": []
    },
    {
      "cell_type": "code",
      "source": [
        "# change speaker and model_name (this is the model that was trained and should be on Huggingface)\n",
        "target_lang=\"en\"  # change to your target lang\n",
        "speaker = \"M02\"\n",
        "model_name = \"yip-i/torgo_xlsr_finetune-\" + speaker + \"-2\""
      ],
      "metadata": {
        "id": "EIueVIa_UIeT"
      },
      "execution_count": null,
      "outputs": []
    },
    {
      "cell_type": "code",
      "source": [
        "\"\"\"Cloning and uploading of modeling files can be done conveniently with the `huggingface_hub`'s `Repository` class.\n",
        "\n",
        "More information on how to use the `huggingface_hub` to upload any files, please take a look at the [official docs](https://huggingface.co/docs/hub/how-to-upstream).\n",
        "\"\"\"\n",
        "repo = Repository(local_dir=\"model_staging\", clone_from=model_name)"
      ],
      "metadata": {
        "id": "h4BeV7eSA8FL"
      },
      "execution_count": null,
      "outputs": []
    },
    {
      "cell_type": "code",
      "source": [
        "\"\"\"### Processing Data\"\"\"\n",
        "\n",
        "\n",
        "data = load_dataset('csv', data_files='/content/output_modified.csv')\n",
        "data = data.cast_column(\"audio\", Audio(sampling_rate=16_000))\n",
        "timit = data['train'].filter(lambda x: x == speaker, input_columns=['speaker_id'])\n",
        "\n",
        "\n",
        "processor = Wav2Vec2Processor.from_pretrained(\"model_staging\")\n",
        "model = Wav2Vec2ForCTC.from_pretrained(model_name)\n",
        "\n",
        "chars_to_ignore_regex = '[\\,\\?\\.\\!\\-\\;\\:\\\"]'\n",
        "\n",
        "\n",
        "\n",
        "timit = timit.map(remove_special_characters)\n",
        "\n",
        "\n",
        "timit = timit.map(prepare_dataset, remove_columns=timit.column_names, num_proc=4)\n",
        "timit = timit.filter(lambda x: x < 25 * processor.feature_extractor.sampling_rate, input_columns=[\"input_length\"])\n",
        "\n",
        "timit[0]"
      ],
      "metadata": {
        "id": "09PiCMbqA-fH"
      },
      "execution_count": null,
      "outputs": []
    },
    {
      "cell_type": "code",
      "source": [
        "# Generate the WER\n",
        "pred_str = []\n",
        "actual = []\n",
        "for i in tqdm(range(timit.num_rows)):\n",
        "  inputs = processor(timit[i][\"input_values\"], sampling_rate=16_000, return_tensors=\"pt\")\n",
        "  with torch.no_grad():\n",
        "    logits = model(**inputs).logits\n",
        "  transcription = processor.batch_decode(logits.numpy()).text\n",
        "  pred_str.append(transcription[0].lower())\n",
        "\n",
        "  actual.append(timit[i][\"labels\"])\n",
        "\n",
        "wer_metric = load(\"wer\")\n",
        "wer = wer_metric.compute(predictions = pred_str, references = actual)\n",
        "print(\"WER LOCATION\")\n",
        "print(wer)"
      ],
      "metadata": {
        "id": "8qla8a5TBD46"
      },
      "execution_count": null,
      "outputs": []
    }
  ],
  "metadata": {
    "accelerator": "GPU",
    "colab": {
      "collapsed_sections": [
        "Q6WC6XEhmdhj",
        "IklZJHyXJ4Qr"
      ],
      "machine_shape": "hm",
      "provenance": []
    },
    "gpuClass": "standard",
    "kernelspec": {
      "display_name": "Python 3",
      "name": "python3"
    },
    "language_info": {
      "name": "python"
    },
    "widgets": {
      "application/vnd.jupyter.widget-state+json": {
        "86e192e38a484121a44e3e5393ca0557": {
          "model_module": "@jupyter-widgets/controls",
          "model_name": "VBoxModel",
          "model_module_version": "1.5.0",
          "state": {
            "_dom_classes": [],
            "_model_module": "@jupyter-widgets/controls",
            "_model_module_version": "1.5.0",
            "_model_name": "VBoxModel",
            "_view_count": null,
            "_view_module": "@jupyter-widgets/controls",
            "_view_module_version": "1.5.0",
            "_view_name": "VBoxView",
            "box_style": "",
            "children": [
              "IPY_MODEL_c4d207776895430e9ee5d790a6a07122",
              "IPY_MODEL_4aa12d5672f14bbba844d430ef935a66",
              "IPY_MODEL_b6f9fe1473524adc87be9b6dd80bf817",
              "IPY_MODEL_b96e5bfbe60b4a489cdd07bee50f8d18"
            ],
            "layout": "IPY_MODEL_426cd67c99a94a709a167853940e1513"
          }
        },
        "ac9c3cfadc0a4ce7b1f4bd7f16d41870": {
          "model_module": "@jupyter-widgets/controls",
          "model_name": "HTMLModel",
          "model_module_version": "1.5.0",
          "state": {
            "_dom_classes": [],
            "_model_module": "@jupyter-widgets/controls",
            "_model_module_version": "1.5.0",
            "_model_name": "HTMLModel",
            "_view_count": null,
            "_view_module": "@jupyter-widgets/controls",
            "_view_module_version": "1.5.0",
            "_view_name": "HTMLView",
            "description": "",
            "description_tooltip": null,
            "layout": "IPY_MODEL_b74d13676f524999af0fec556be86aed",
            "placeholder": "​",
            "style": "IPY_MODEL_6c18ea94282b40888d6f94fa62f80e94",
            "value": "<center> <img\nsrc=https://huggingface.co/front/assets/huggingface_logo-noborder.svg\nalt='Hugging Face'> <br> Copy a token from <a\nhref=\"https://huggingface.co/settings/tokens\" target=\"_blank\">your Hugging Face\ntokens page</a> and paste it below. <br> Immediately click login after copying\nyour token or it might be stored in plain text in this notebook file. </center>"
          }
        },
        "5840f881ca584b959fd7a39476997c30": {
          "model_module": "@jupyter-widgets/controls",
          "model_name": "PasswordModel",
          "model_module_version": "1.5.0",
          "state": {
            "_dom_classes": [],
            "_model_module": "@jupyter-widgets/controls",
            "_model_module_version": "1.5.0",
            "_model_name": "PasswordModel",
            "_view_count": null,
            "_view_module": "@jupyter-widgets/controls",
            "_view_module_version": "1.5.0",
            "_view_name": "PasswordView",
            "continuous_update": true,
            "description": "Token:",
            "description_tooltip": null,
            "disabled": false,
            "layout": "IPY_MODEL_7b84aff5552a46d1a4e83f2e518f886d",
            "placeholder": "​",
            "style": "IPY_MODEL_dc70f3e73e584a86be6a2f3261970032",
            "value": ""
          }
        },
        "1d80700fdbf145faa3c561e2f8d728e0": {
          "model_module": "@jupyter-widgets/controls",
          "model_name": "CheckboxModel",
          "model_module_version": "1.5.0",
          "state": {
            "_dom_classes": [],
            "_model_module": "@jupyter-widgets/controls",
            "_model_module_version": "1.5.0",
            "_model_name": "CheckboxModel",
            "_view_count": null,
            "_view_module": "@jupyter-widgets/controls",
            "_view_module_version": "1.5.0",
            "_view_name": "CheckboxView",
            "description": "Add token as git credential?",
            "description_tooltip": null,
            "disabled": false,
            "indent": true,
            "layout": "IPY_MODEL_9a3a4771ddcd45b784014466ef439eeb",
            "style": "IPY_MODEL_702fc418d412436998d44b789e3a1ca3",
            "value": true
          }
        },
        "f9ac19dde08742e5ba8771273c4b3499": {
          "model_module": "@jupyter-widgets/controls",
          "model_name": "ButtonModel",
          "model_module_version": "1.5.0",
          "state": {
            "_dom_classes": [],
            "_model_module": "@jupyter-widgets/controls",
            "_model_module_version": "1.5.0",
            "_model_name": "ButtonModel",
            "_view_count": null,
            "_view_module": "@jupyter-widgets/controls",
            "_view_module_version": "1.5.0",
            "_view_name": "ButtonView",
            "button_style": "",
            "description": "Login",
            "disabled": false,
            "icon": "",
            "layout": "IPY_MODEL_49bf51dc63d643d89213917b6372dc29",
            "style": "IPY_MODEL_d77c097b16d14fbe83c13e1e5844e518",
            "tooltip": ""
          }
        },
        "81f7e0c4585242de9fae4b1b144e1b75": {
          "model_module": "@jupyter-widgets/controls",
          "model_name": "HTMLModel",
          "model_module_version": "1.5.0",
          "state": {
            "_dom_classes": [],
            "_model_module": "@jupyter-widgets/controls",
            "_model_module_version": "1.5.0",
            "_model_name": "HTMLModel",
            "_view_count": null,
            "_view_module": "@jupyter-widgets/controls",
            "_view_module_version": "1.5.0",
            "_view_name": "HTMLView",
            "description": "",
            "description_tooltip": null,
            "layout": "IPY_MODEL_b6df76eab0154a75aa7f4428ee28d153",
            "placeholder": "​",
            "style": "IPY_MODEL_d88c41fa39e64b6cbc81698d45d41968",
            "value": "\n<b>Pro Tip:</b> If you don't already have one, you can create a dedicated\n'notebooks' token with 'write' access, that you can then easily reuse for all\nnotebooks. </center>"
          }
        },
        "426cd67c99a94a709a167853940e1513": {
          "model_module": "@jupyter-widgets/base",
          "model_name": "LayoutModel",
          "model_module_version": "1.2.0",
          "state": {
            "_model_module": "@jupyter-widgets/base",
            "_model_module_version": "1.2.0",
            "_model_name": "LayoutModel",
            "_view_count": null,
            "_view_module": "@jupyter-widgets/base",
            "_view_module_version": "1.2.0",
            "_view_name": "LayoutView",
            "align_content": null,
            "align_items": "center",
            "align_self": null,
            "border": null,
            "bottom": null,
            "display": "flex",
            "flex": null,
            "flex_flow": "column",
            "grid_area": null,
            "grid_auto_columns": null,
            "grid_auto_flow": null,
            "grid_auto_rows": null,
            "grid_column": null,
            "grid_gap": null,
            "grid_row": null,
            "grid_template_areas": null,
            "grid_template_columns": null,
            "grid_template_rows": null,
            "height": null,
            "justify_content": null,
            "justify_items": null,
            "left": null,
            "margin": null,
            "max_height": null,
            "max_width": null,
            "min_height": null,
            "min_width": null,
            "object_fit": null,
            "object_position": null,
            "order": null,
            "overflow": null,
            "overflow_x": null,
            "overflow_y": null,
            "padding": null,
            "right": null,
            "top": null,
            "visibility": null,
            "width": "50%"
          }
        },
        "b74d13676f524999af0fec556be86aed": {
          "model_module": "@jupyter-widgets/base",
          "model_name": "LayoutModel",
          "model_module_version": "1.2.0",
          "state": {
            "_model_module": "@jupyter-widgets/base",
            "_model_module_version": "1.2.0",
            "_model_name": "LayoutModel",
            "_view_count": null,
            "_view_module": "@jupyter-widgets/base",
            "_view_module_version": "1.2.0",
            "_view_name": "LayoutView",
            "align_content": null,
            "align_items": null,
            "align_self": null,
            "border": null,
            "bottom": null,
            "display": null,
            "flex": null,
            "flex_flow": null,
            "grid_area": null,
            "grid_auto_columns": null,
            "grid_auto_flow": null,
            "grid_auto_rows": null,
            "grid_column": null,
            "grid_gap": null,
            "grid_row": null,
            "grid_template_areas": null,
            "grid_template_columns": null,
            "grid_template_rows": null,
            "height": null,
            "justify_content": null,
            "justify_items": null,
            "left": null,
            "margin": null,
            "max_height": null,
            "max_width": null,
            "min_height": null,
            "min_width": null,
            "object_fit": null,
            "object_position": null,
            "order": null,
            "overflow": null,
            "overflow_x": null,
            "overflow_y": null,
            "padding": null,
            "right": null,
            "top": null,
            "visibility": null,
            "width": null
          }
        },
        "6c18ea94282b40888d6f94fa62f80e94": {
          "model_module": "@jupyter-widgets/controls",
          "model_name": "DescriptionStyleModel",
          "model_module_version": "1.5.0",
          "state": {
            "_model_module": "@jupyter-widgets/controls",
            "_model_module_version": "1.5.0",
            "_model_name": "DescriptionStyleModel",
            "_view_count": null,
            "_view_module": "@jupyter-widgets/base",
            "_view_module_version": "1.2.0",
            "_view_name": "StyleView",
            "description_width": ""
          }
        },
        "7b84aff5552a46d1a4e83f2e518f886d": {
          "model_module": "@jupyter-widgets/base",
          "model_name": "LayoutModel",
          "model_module_version": "1.2.0",
          "state": {
            "_model_module": "@jupyter-widgets/base",
            "_model_module_version": "1.2.0",
            "_model_name": "LayoutModel",
            "_view_count": null,
            "_view_module": "@jupyter-widgets/base",
            "_view_module_version": "1.2.0",
            "_view_name": "LayoutView",
            "align_content": null,
            "align_items": null,
            "align_self": null,
            "border": null,
            "bottom": null,
            "display": null,
            "flex": null,
            "flex_flow": null,
            "grid_area": null,
            "grid_auto_columns": null,
            "grid_auto_flow": null,
            "grid_auto_rows": null,
            "grid_column": null,
            "grid_gap": null,
            "grid_row": null,
            "grid_template_areas": null,
            "grid_template_columns": null,
            "grid_template_rows": null,
            "height": null,
            "justify_content": null,
            "justify_items": null,
            "left": null,
            "margin": null,
            "max_height": null,
            "max_width": null,
            "min_height": null,
            "min_width": null,
            "object_fit": null,
            "object_position": null,
            "order": null,
            "overflow": null,
            "overflow_x": null,
            "overflow_y": null,
            "padding": null,
            "right": null,
            "top": null,
            "visibility": null,
            "width": null
          }
        },
        "dc70f3e73e584a86be6a2f3261970032": {
          "model_module": "@jupyter-widgets/controls",
          "model_name": "DescriptionStyleModel",
          "model_module_version": "1.5.0",
          "state": {
            "_model_module": "@jupyter-widgets/controls",
            "_model_module_version": "1.5.0",
            "_model_name": "DescriptionStyleModel",
            "_view_count": null,
            "_view_module": "@jupyter-widgets/base",
            "_view_module_version": "1.2.0",
            "_view_name": "StyleView",
            "description_width": ""
          }
        },
        "9a3a4771ddcd45b784014466ef439eeb": {
          "model_module": "@jupyter-widgets/base",
          "model_name": "LayoutModel",
          "model_module_version": "1.2.0",
          "state": {
            "_model_module": "@jupyter-widgets/base",
            "_model_module_version": "1.2.0",
            "_model_name": "LayoutModel",
            "_view_count": null,
            "_view_module": "@jupyter-widgets/base",
            "_view_module_version": "1.2.0",
            "_view_name": "LayoutView",
            "align_content": null,
            "align_items": null,
            "align_self": null,
            "border": null,
            "bottom": null,
            "display": null,
            "flex": null,
            "flex_flow": null,
            "grid_area": null,
            "grid_auto_columns": null,
            "grid_auto_flow": null,
            "grid_auto_rows": null,
            "grid_column": null,
            "grid_gap": null,
            "grid_row": null,
            "grid_template_areas": null,
            "grid_template_columns": null,
            "grid_template_rows": null,
            "height": null,
            "justify_content": null,
            "justify_items": null,
            "left": null,
            "margin": null,
            "max_height": null,
            "max_width": null,
            "min_height": null,
            "min_width": null,
            "object_fit": null,
            "object_position": null,
            "order": null,
            "overflow": null,
            "overflow_x": null,
            "overflow_y": null,
            "padding": null,
            "right": null,
            "top": null,
            "visibility": null,
            "width": null
          }
        },
        "702fc418d412436998d44b789e3a1ca3": {
          "model_module": "@jupyter-widgets/controls",
          "model_name": "DescriptionStyleModel",
          "model_module_version": "1.5.0",
          "state": {
            "_model_module": "@jupyter-widgets/controls",
            "_model_module_version": "1.5.0",
            "_model_name": "DescriptionStyleModel",
            "_view_count": null,
            "_view_module": "@jupyter-widgets/base",
            "_view_module_version": "1.2.0",
            "_view_name": "StyleView",
            "description_width": ""
          }
        },
        "49bf51dc63d643d89213917b6372dc29": {
          "model_module": "@jupyter-widgets/base",
          "model_name": "LayoutModel",
          "model_module_version": "1.2.0",
          "state": {
            "_model_module": "@jupyter-widgets/base",
            "_model_module_version": "1.2.0",
            "_model_name": "LayoutModel",
            "_view_count": null,
            "_view_module": "@jupyter-widgets/base",
            "_view_module_version": "1.2.0",
            "_view_name": "LayoutView",
            "align_content": null,
            "align_items": null,
            "align_self": null,
            "border": null,
            "bottom": null,
            "display": null,
            "flex": null,
            "flex_flow": null,
            "grid_area": null,
            "grid_auto_columns": null,
            "grid_auto_flow": null,
            "grid_auto_rows": null,
            "grid_column": null,
            "grid_gap": null,
            "grid_row": null,
            "grid_template_areas": null,
            "grid_template_columns": null,
            "grid_template_rows": null,
            "height": null,
            "justify_content": null,
            "justify_items": null,
            "left": null,
            "margin": null,
            "max_height": null,
            "max_width": null,
            "min_height": null,
            "min_width": null,
            "object_fit": null,
            "object_position": null,
            "order": null,
            "overflow": null,
            "overflow_x": null,
            "overflow_y": null,
            "padding": null,
            "right": null,
            "top": null,
            "visibility": null,
            "width": null
          }
        },
        "d77c097b16d14fbe83c13e1e5844e518": {
          "model_module": "@jupyter-widgets/controls",
          "model_name": "ButtonStyleModel",
          "model_module_version": "1.5.0",
          "state": {
            "_model_module": "@jupyter-widgets/controls",
            "_model_module_version": "1.5.0",
            "_model_name": "ButtonStyleModel",
            "_view_count": null,
            "_view_module": "@jupyter-widgets/base",
            "_view_module_version": "1.2.0",
            "_view_name": "StyleView",
            "button_color": null,
            "font_weight": ""
          }
        },
        "b6df76eab0154a75aa7f4428ee28d153": {
          "model_module": "@jupyter-widgets/base",
          "model_name": "LayoutModel",
          "model_module_version": "1.2.0",
          "state": {
            "_model_module": "@jupyter-widgets/base",
            "_model_module_version": "1.2.0",
            "_model_name": "LayoutModel",
            "_view_count": null,
            "_view_module": "@jupyter-widgets/base",
            "_view_module_version": "1.2.0",
            "_view_name": "LayoutView",
            "align_content": null,
            "align_items": null,
            "align_self": null,
            "border": null,
            "bottom": null,
            "display": null,
            "flex": null,
            "flex_flow": null,
            "grid_area": null,
            "grid_auto_columns": null,
            "grid_auto_flow": null,
            "grid_auto_rows": null,
            "grid_column": null,
            "grid_gap": null,
            "grid_row": null,
            "grid_template_areas": null,
            "grid_template_columns": null,
            "grid_template_rows": null,
            "height": null,
            "justify_content": null,
            "justify_items": null,
            "left": null,
            "margin": null,
            "max_height": null,
            "max_width": null,
            "min_height": null,
            "min_width": null,
            "object_fit": null,
            "object_position": null,
            "order": null,
            "overflow": null,
            "overflow_x": null,
            "overflow_y": null,
            "padding": null,
            "right": null,
            "top": null,
            "visibility": null,
            "width": null
          }
        },
        "d88c41fa39e64b6cbc81698d45d41968": {
          "model_module": "@jupyter-widgets/controls",
          "model_name": "DescriptionStyleModel",
          "model_module_version": "1.5.0",
          "state": {
            "_model_module": "@jupyter-widgets/controls",
            "_model_module_version": "1.5.0",
            "_model_name": "DescriptionStyleModel",
            "_view_count": null,
            "_view_module": "@jupyter-widgets/base",
            "_view_module_version": "1.2.0",
            "_view_name": "StyleView",
            "description_width": ""
          }
        },
        "375777ba64914372b0900bacc5c0a77b": {
          "model_module": "@jupyter-widgets/controls",
          "model_name": "LabelModel",
          "model_module_version": "1.5.0",
          "state": {
            "_dom_classes": [],
            "_model_module": "@jupyter-widgets/controls",
            "_model_module_version": "1.5.0",
            "_model_name": "LabelModel",
            "_view_count": null,
            "_view_module": "@jupyter-widgets/controls",
            "_view_module_version": "1.5.0",
            "_view_name": "LabelView",
            "description": "",
            "description_tooltip": null,
            "layout": "IPY_MODEL_64dd02bc09fc486f9ded9e68b3240b60",
            "placeholder": "​",
            "style": "IPY_MODEL_d3fe685625794a3199af103d60939d57",
            "value": "Connecting..."
          }
        },
        "64dd02bc09fc486f9ded9e68b3240b60": {
          "model_module": "@jupyter-widgets/base",
          "model_name": "LayoutModel",
          "model_module_version": "1.2.0",
          "state": {
            "_model_module": "@jupyter-widgets/base",
            "_model_module_version": "1.2.0",
            "_model_name": "LayoutModel",
            "_view_count": null,
            "_view_module": "@jupyter-widgets/base",
            "_view_module_version": "1.2.0",
            "_view_name": "LayoutView",
            "align_content": null,
            "align_items": null,
            "align_self": null,
            "border": null,
            "bottom": null,
            "display": null,
            "flex": null,
            "flex_flow": null,
            "grid_area": null,
            "grid_auto_columns": null,
            "grid_auto_flow": null,
            "grid_auto_rows": null,
            "grid_column": null,
            "grid_gap": null,
            "grid_row": null,
            "grid_template_areas": null,
            "grid_template_columns": null,
            "grid_template_rows": null,
            "height": null,
            "justify_content": null,
            "justify_items": null,
            "left": null,
            "margin": null,
            "max_height": null,
            "max_width": null,
            "min_height": null,
            "min_width": null,
            "object_fit": null,
            "object_position": null,
            "order": null,
            "overflow": null,
            "overflow_x": null,
            "overflow_y": null,
            "padding": null,
            "right": null,
            "top": null,
            "visibility": null,
            "width": null
          }
        },
        "d3fe685625794a3199af103d60939d57": {
          "model_module": "@jupyter-widgets/controls",
          "model_name": "DescriptionStyleModel",
          "model_module_version": "1.5.0",
          "state": {
            "_model_module": "@jupyter-widgets/controls",
            "_model_module_version": "1.5.0",
            "_model_name": "DescriptionStyleModel",
            "_view_count": null,
            "_view_module": "@jupyter-widgets/base",
            "_view_module_version": "1.2.0",
            "_view_name": "StyleView",
            "description_width": ""
          }
        },
        "c4d207776895430e9ee5d790a6a07122": {
          "model_module": "@jupyter-widgets/controls",
          "model_name": "LabelModel",
          "model_module_version": "1.5.0",
          "state": {
            "_dom_classes": [],
            "_model_module": "@jupyter-widgets/controls",
            "_model_module_version": "1.5.0",
            "_model_name": "LabelModel",
            "_view_count": null,
            "_view_module": "@jupyter-widgets/controls",
            "_view_module_version": "1.5.0",
            "_view_name": "LabelView",
            "description": "",
            "description_tooltip": null,
            "layout": "IPY_MODEL_78fab43b523949bd9552f5e32220c133",
            "placeholder": "​",
            "style": "IPY_MODEL_fca2525a9a3b41afa9d2d6f199222653",
            "value": "Token is valid (permission: write)."
          }
        },
        "4aa12d5672f14bbba844d430ef935a66": {
          "model_module": "@jupyter-widgets/controls",
          "model_name": "LabelModel",
          "model_module_version": "1.5.0",
          "state": {
            "_dom_classes": [],
            "_model_module": "@jupyter-widgets/controls",
            "_model_module_version": "1.5.0",
            "_model_name": "LabelModel",
            "_view_count": null,
            "_view_module": "@jupyter-widgets/controls",
            "_view_module_version": "1.5.0",
            "_view_name": "LabelView",
            "description": "",
            "description_tooltip": null,
            "layout": "IPY_MODEL_42090f48fe5a43318c70d88e93424969",
            "placeholder": "​",
            "style": "IPY_MODEL_de5ba366b94a4d018f546d205a05916b",
            "value": "Your token has been saved in your configured git credential helpers (store)."
          }
        },
        "b6f9fe1473524adc87be9b6dd80bf817": {
          "model_module": "@jupyter-widgets/controls",
          "model_name": "LabelModel",
          "model_module_version": "1.5.0",
          "state": {
            "_dom_classes": [],
            "_model_module": "@jupyter-widgets/controls",
            "_model_module_version": "1.5.0",
            "_model_name": "LabelModel",
            "_view_count": null,
            "_view_module": "@jupyter-widgets/controls",
            "_view_module_version": "1.5.0",
            "_view_name": "LabelView",
            "description": "",
            "description_tooltip": null,
            "layout": "IPY_MODEL_789e3c7e9bd34c748750ddc0c4c12f27",
            "placeholder": "​",
            "style": "IPY_MODEL_6ad183d1d24a45bdba0ae5ef453d9a1d",
            "value": "Your token has been saved to /root/.cache/huggingface/token"
          }
        },
        "b96e5bfbe60b4a489cdd07bee50f8d18": {
          "model_module": "@jupyter-widgets/controls",
          "model_name": "LabelModel",
          "model_module_version": "1.5.0",
          "state": {
            "_dom_classes": [],
            "_model_module": "@jupyter-widgets/controls",
            "_model_module_version": "1.5.0",
            "_model_name": "LabelModel",
            "_view_count": null,
            "_view_module": "@jupyter-widgets/controls",
            "_view_module_version": "1.5.0",
            "_view_name": "LabelView",
            "description": "",
            "description_tooltip": null,
            "layout": "IPY_MODEL_100ac4893b0f44c0834134a2980de442",
            "placeholder": "​",
            "style": "IPY_MODEL_8c5f99c48f5e4aacbf9b805b9a750d64",
            "value": "Login successful"
          }
        },
        "78fab43b523949bd9552f5e32220c133": {
          "model_module": "@jupyter-widgets/base",
          "model_name": "LayoutModel",
          "model_module_version": "1.2.0",
          "state": {
            "_model_module": "@jupyter-widgets/base",
            "_model_module_version": "1.2.0",
            "_model_name": "LayoutModel",
            "_view_count": null,
            "_view_module": "@jupyter-widgets/base",
            "_view_module_version": "1.2.0",
            "_view_name": "LayoutView",
            "align_content": null,
            "align_items": null,
            "align_self": null,
            "border": null,
            "bottom": null,
            "display": null,
            "flex": null,
            "flex_flow": null,
            "grid_area": null,
            "grid_auto_columns": null,
            "grid_auto_flow": null,
            "grid_auto_rows": null,
            "grid_column": null,
            "grid_gap": null,
            "grid_row": null,
            "grid_template_areas": null,
            "grid_template_columns": null,
            "grid_template_rows": null,
            "height": null,
            "justify_content": null,
            "justify_items": null,
            "left": null,
            "margin": null,
            "max_height": null,
            "max_width": null,
            "min_height": null,
            "min_width": null,
            "object_fit": null,
            "object_position": null,
            "order": null,
            "overflow": null,
            "overflow_x": null,
            "overflow_y": null,
            "padding": null,
            "right": null,
            "top": null,
            "visibility": null,
            "width": null
          }
        },
        "fca2525a9a3b41afa9d2d6f199222653": {
          "model_module": "@jupyter-widgets/controls",
          "model_name": "DescriptionStyleModel",
          "model_module_version": "1.5.0",
          "state": {
            "_model_module": "@jupyter-widgets/controls",
            "_model_module_version": "1.5.0",
            "_model_name": "DescriptionStyleModel",
            "_view_count": null,
            "_view_module": "@jupyter-widgets/base",
            "_view_module_version": "1.2.0",
            "_view_name": "StyleView",
            "description_width": ""
          }
        },
        "42090f48fe5a43318c70d88e93424969": {
          "model_module": "@jupyter-widgets/base",
          "model_name": "LayoutModel",
          "model_module_version": "1.2.0",
          "state": {
            "_model_module": "@jupyter-widgets/base",
            "_model_module_version": "1.2.0",
            "_model_name": "LayoutModel",
            "_view_count": null,
            "_view_module": "@jupyter-widgets/base",
            "_view_module_version": "1.2.0",
            "_view_name": "LayoutView",
            "align_content": null,
            "align_items": null,
            "align_self": null,
            "border": null,
            "bottom": null,
            "display": null,
            "flex": null,
            "flex_flow": null,
            "grid_area": null,
            "grid_auto_columns": null,
            "grid_auto_flow": null,
            "grid_auto_rows": null,
            "grid_column": null,
            "grid_gap": null,
            "grid_row": null,
            "grid_template_areas": null,
            "grid_template_columns": null,
            "grid_template_rows": null,
            "height": null,
            "justify_content": null,
            "justify_items": null,
            "left": null,
            "margin": null,
            "max_height": null,
            "max_width": null,
            "min_height": null,
            "min_width": null,
            "object_fit": null,
            "object_position": null,
            "order": null,
            "overflow": null,
            "overflow_x": null,
            "overflow_y": null,
            "padding": null,
            "right": null,
            "top": null,
            "visibility": null,
            "width": null
          }
        },
        "de5ba366b94a4d018f546d205a05916b": {
          "model_module": "@jupyter-widgets/controls",
          "model_name": "DescriptionStyleModel",
          "model_module_version": "1.5.0",
          "state": {
            "_model_module": "@jupyter-widgets/controls",
            "_model_module_version": "1.5.0",
            "_model_name": "DescriptionStyleModel",
            "_view_count": null,
            "_view_module": "@jupyter-widgets/base",
            "_view_module_version": "1.2.0",
            "_view_name": "StyleView",
            "description_width": ""
          }
        },
        "789e3c7e9bd34c748750ddc0c4c12f27": {
          "model_module": "@jupyter-widgets/base",
          "model_name": "LayoutModel",
          "model_module_version": "1.2.0",
          "state": {
            "_model_module": "@jupyter-widgets/base",
            "_model_module_version": "1.2.0",
            "_model_name": "LayoutModel",
            "_view_count": null,
            "_view_module": "@jupyter-widgets/base",
            "_view_module_version": "1.2.0",
            "_view_name": "LayoutView",
            "align_content": null,
            "align_items": null,
            "align_self": null,
            "border": null,
            "bottom": null,
            "display": null,
            "flex": null,
            "flex_flow": null,
            "grid_area": null,
            "grid_auto_columns": null,
            "grid_auto_flow": null,
            "grid_auto_rows": null,
            "grid_column": null,
            "grid_gap": null,
            "grid_row": null,
            "grid_template_areas": null,
            "grid_template_columns": null,
            "grid_template_rows": null,
            "height": null,
            "justify_content": null,
            "justify_items": null,
            "left": null,
            "margin": null,
            "max_height": null,
            "max_width": null,
            "min_height": null,
            "min_width": null,
            "object_fit": null,
            "object_position": null,
            "order": null,
            "overflow": null,
            "overflow_x": null,
            "overflow_y": null,
            "padding": null,
            "right": null,
            "top": null,
            "visibility": null,
            "width": null
          }
        },
        "6ad183d1d24a45bdba0ae5ef453d9a1d": {
          "model_module": "@jupyter-widgets/controls",
          "model_name": "DescriptionStyleModel",
          "model_module_version": "1.5.0",
          "state": {
            "_model_module": "@jupyter-widgets/controls",
            "_model_module_version": "1.5.0",
            "_model_name": "DescriptionStyleModel",
            "_view_count": null,
            "_view_module": "@jupyter-widgets/base",
            "_view_module_version": "1.2.0",
            "_view_name": "StyleView",
            "description_width": ""
          }
        },
        "100ac4893b0f44c0834134a2980de442": {
          "model_module": "@jupyter-widgets/base",
          "model_name": "LayoutModel",
          "model_module_version": "1.2.0",
          "state": {
            "_model_module": "@jupyter-widgets/base",
            "_model_module_version": "1.2.0",
            "_model_name": "LayoutModel",
            "_view_count": null,
            "_view_module": "@jupyter-widgets/base",
            "_view_module_version": "1.2.0",
            "_view_name": "LayoutView",
            "align_content": null,
            "align_items": null,
            "align_self": null,
            "border": null,
            "bottom": null,
            "display": null,
            "flex": null,
            "flex_flow": null,
            "grid_area": null,
            "grid_auto_columns": null,
            "grid_auto_flow": null,
            "grid_auto_rows": null,
            "grid_column": null,
            "grid_gap": null,
            "grid_row": null,
            "grid_template_areas": null,
            "grid_template_columns": null,
            "grid_template_rows": null,
            "height": null,
            "justify_content": null,
            "justify_items": null,
            "left": null,
            "margin": null,
            "max_height": null,
            "max_width": null,
            "min_height": null,
            "min_width": null,
            "object_fit": null,
            "object_position": null,
            "order": null,
            "overflow": null,
            "overflow_x": null,
            "overflow_y": null,
            "padding": null,
            "right": null,
            "top": null,
            "visibility": null,
            "width": null
          }
        },
        "8c5f99c48f5e4aacbf9b805b9a750d64": {
          "model_module": "@jupyter-widgets/controls",
          "model_name": "DescriptionStyleModel",
          "model_module_version": "1.5.0",
          "state": {
            "_model_module": "@jupyter-widgets/controls",
            "_model_module_version": "1.5.0",
            "_model_name": "DescriptionStyleModel",
            "_view_count": null,
            "_view_module": "@jupyter-widgets/base",
            "_view_module_version": "1.2.0",
            "_view_name": "StyleView",
            "description_width": ""
          }
        },
        "8be2467689b64a9c96609ad0e0e9ca22": {
          "model_module": "@jupyter-widgets/controls",
          "model_name": "HBoxModel",
          "model_module_version": "1.5.0",
          "state": {
            "_dom_classes": [],
            "_model_module": "@jupyter-widgets/controls",
            "_model_module_version": "1.5.0",
            "_model_name": "HBoxModel",
            "_view_count": null,
            "_view_module": "@jupyter-widgets/controls",
            "_view_module_version": "1.5.0",
            "_view_name": "HBoxView",
            "box_style": "",
            "children": [
              "IPY_MODEL_934ad97870b5409abf0f2ceafac89429",
              "IPY_MODEL_27e0e7e7c3304f619472b76c0be40dba",
              "IPY_MODEL_c2fd0c69a38f414ab5853ad901317f7f"
            ],
            "layout": "IPY_MODEL_dbd6106bf5c44c3682958657239fa076"
          }
        },
        "934ad97870b5409abf0f2ceafac89429": {
          "model_module": "@jupyter-widgets/controls",
          "model_name": "HTMLModel",
          "model_module_version": "1.5.0",
          "state": {
            "_dom_classes": [],
            "_model_module": "@jupyter-widgets/controls",
            "_model_module_version": "1.5.0",
            "_model_name": "HTMLModel",
            "_view_count": null,
            "_view_module": "@jupyter-widgets/controls",
            "_view_module_version": "1.5.0",
            "_view_name": "HTMLView",
            "description": "",
            "description_tooltip": null,
            "layout": "IPY_MODEL_e524354e0eed4806a1e45ffd5c636053",
            "placeholder": "​",
            "style": "IPY_MODEL_d9727f20637a49eca149124796c1fae5",
            "value": "100%"
          }
        },
        "27e0e7e7c3304f619472b76c0be40dba": {
          "model_module": "@jupyter-widgets/controls",
          "model_name": "FloatProgressModel",
          "model_module_version": "1.5.0",
          "state": {
            "_dom_classes": [],
            "_model_module": "@jupyter-widgets/controls",
            "_model_module_version": "1.5.0",
            "_model_name": "FloatProgressModel",
            "_view_count": null,
            "_view_module": "@jupyter-widgets/controls",
            "_view_module_version": "1.5.0",
            "_view_name": "ProgressView",
            "bar_style": "success",
            "description": "",
            "description_tooltip": null,
            "layout": "IPY_MODEL_07f459fbad2b4b36a3b3d9fe9f05b4b6",
            "max": 6,
            "min": 0,
            "orientation": "horizontal",
            "style": "IPY_MODEL_692b4351e6f94d40b3f926238e5a60c4",
            "value": 6
          }
        },
        "c2fd0c69a38f414ab5853ad901317f7f": {
          "model_module": "@jupyter-widgets/controls",
          "model_name": "HTMLModel",
          "model_module_version": "1.5.0",
          "state": {
            "_dom_classes": [],
            "_model_module": "@jupyter-widgets/controls",
            "_model_module_version": "1.5.0",
            "_model_name": "HTMLModel",
            "_view_count": null,
            "_view_module": "@jupyter-widgets/controls",
            "_view_module_version": "1.5.0",
            "_view_name": "HTMLView",
            "description": "",
            "description_tooltip": null,
            "layout": "IPY_MODEL_7959e099bf74475e94dbe37e3ae33d11",
            "placeholder": "​",
            "style": "IPY_MODEL_e600941ecae34454acd0533c995e073b",
            "value": " 6/6 [00:00&lt;00:00, 149.04ba/s]"
          }
        },
        "dbd6106bf5c44c3682958657239fa076": {
          "model_module": "@jupyter-widgets/base",
          "model_name": "LayoutModel",
          "model_module_version": "1.2.0",
          "state": {
            "_model_module": "@jupyter-widgets/base",
            "_model_module_version": "1.2.0",
            "_model_name": "LayoutModel",
            "_view_count": null,
            "_view_module": "@jupyter-widgets/base",
            "_view_module_version": "1.2.0",
            "_view_name": "LayoutView",
            "align_content": null,
            "align_items": null,
            "align_self": null,
            "border": null,
            "bottom": null,
            "display": null,
            "flex": null,
            "flex_flow": null,
            "grid_area": null,
            "grid_auto_columns": null,
            "grid_auto_flow": null,
            "grid_auto_rows": null,
            "grid_column": null,
            "grid_gap": null,
            "grid_row": null,
            "grid_template_areas": null,
            "grid_template_columns": null,
            "grid_template_rows": null,
            "height": null,
            "justify_content": null,
            "justify_items": null,
            "left": null,
            "margin": null,
            "max_height": null,
            "max_width": null,
            "min_height": null,
            "min_width": null,
            "object_fit": null,
            "object_position": null,
            "order": null,
            "overflow": null,
            "overflow_x": null,
            "overflow_y": null,
            "padding": null,
            "right": null,
            "top": null,
            "visibility": null,
            "width": null
          }
        },
        "e524354e0eed4806a1e45ffd5c636053": {
          "model_module": "@jupyter-widgets/base",
          "model_name": "LayoutModel",
          "model_module_version": "1.2.0",
          "state": {
            "_model_module": "@jupyter-widgets/base",
            "_model_module_version": "1.2.0",
            "_model_name": "LayoutModel",
            "_view_count": null,
            "_view_module": "@jupyter-widgets/base",
            "_view_module_version": "1.2.0",
            "_view_name": "LayoutView",
            "align_content": null,
            "align_items": null,
            "align_self": null,
            "border": null,
            "bottom": null,
            "display": null,
            "flex": null,
            "flex_flow": null,
            "grid_area": null,
            "grid_auto_columns": null,
            "grid_auto_flow": null,
            "grid_auto_rows": null,
            "grid_column": null,
            "grid_gap": null,
            "grid_row": null,
            "grid_template_areas": null,
            "grid_template_columns": null,
            "grid_template_rows": null,
            "height": null,
            "justify_content": null,
            "justify_items": null,
            "left": null,
            "margin": null,
            "max_height": null,
            "max_width": null,
            "min_height": null,
            "min_width": null,
            "object_fit": null,
            "object_position": null,
            "order": null,
            "overflow": null,
            "overflow_x": null,
            "overflow_y": null,
            "padding": null,
            "right": null,
            "top": null,
            "visibility": null,
            "width": null
          }
        },
        "d9727f20637a49eca149124796c1fae5": {
          "model_module": "@jupyter-widgets/controls",
          "model_name": "DescriptionStyleModel",
          "model_module_version": "1.5.0",
          "state": {
            "_model_module": "@jupyter-widgets/controls",
            "_model_module_version": "1.5.0",
            "_model_name": "DescriptionStyleModel",
            "_view_count": null,
            "_view_module": "@jupyter-widgets/base",
            "_view_module_version": "1.2.0",
            "_view_name": "StyleView",
            "description_width": ""
          }
        },
        "07f459fbad2b4b36a3b3d9fe9f05b4b6": {
          "model_module": "@jupyter-widgets/base",
          "model_name": "LayoutModel",
          "model_module_version": "1.2.0",
          "state": {
            "_model_module": "@jupyter-widgets/base",
            "_model_module_version": "1.2.0",
            "_model_name": "LayoutModel",
            "_view_count": null,
            "_view_module": "@jupyter-widgets/base",
            "_view_module_version": "1.2.0",
            "_view_name": "LayoutView",
            "align_content": null,
            "align_items": null,
            "align_self": null,
            "border": null,
            "bottom": null,
            "display": null,
            "flex": null,
            "flex_flow": null,
            "grid_area": null,
            "grid_auto_columns": null,
            "grid_auto_flow": null,
            "grid_auto_rows": null,
            "grid_column": null,
            "grid_gap": null,
            "grid_row": null,
            "grid_template_areas": null,
            "grid_template_columns": null,
            "grid_template_rows": null,
            "height": null,
            "justify_content": null,
            "justify_items": null,
            "left": null,
            "margin": null,
            "max_height": null,
            "max_width": null,
            "min_height": null,
            "min_width": null,
            "object_fit": null,
            "object_position": null,
            "order": null,
            "overflow": null,
            "overflow_x": null,
            "overflow_y": null,
            "padding": null,
            "right": null,
            "top": null,
            "visibility": null,
            "width": null
          }
        },
        "692b4351e6f94d40b3f926238e5a60c4": {
          "model_module": "@jupyter-widgets/controls",
          "model_name": "ProgressStyleModel",
          "model_module_version": "1.5.0",
          "state": {
            "_model_module": "@jupyter-widgets/controls",
            "_model_module_version": "1.5.0",
            "_model_name": "ProgressStyleModel",
            "_view_count": null,
            "_view_module": "@jupyter-widgets/base",
            "_view_module_version": "1.2.0",
            "_view_name": "StyleView",
            "bar_color": null,
            "description_width": ""
          }
        },
        "7959e099bf74475e94dbe37e3ae33d11": {
          "model_module": "@jupyter-widgets/base",
          "model_name": "LayoutModel",
          "model_module_version": "1.2.0",
          "state": {
            "_model_module": "@jupyter-widgets/base",
            "_model_module_version": "1.2.0",
            "_model_name": "LayoutModel",
            "_view_count": null,
            "_view_module": "@jupyter-widgets/base",
            "_view_module_version": "1.2.0",
            "_view_name": "LayoutView",
            "align_content": null,
            "align_items": null,
            "align_self": null,
            "border": null,
            "bottom": null,
            "display": null,
            "flex": null,
            "flex_flow": null,
            "grid_area": null,
            "grid_auto_columns": null,
            "grid_auto_flow": null,
            "grid_auto_rows": null,
            "grid_column": null,
            "grid_gap": null,
            "grid_row": null,
            "grid_template_areas": null,
            "grid_template_columns": null,
            "grid_template_rows": null,
            "height": null,
            "justify_content": null,
            "justify_items": null,
            "left": null,
            "margin": null,
            "max_height": null,
            "max_width": null,
            "min_height": null,
            "min_width": null,
            "object_fit": null,
            "object_position": null,
            "order": null,
            "overflow": null,
            "overflow_x": null,
            "overflow_y": null,
            "padding": null,
            "right": null,
            "top": null,
            "visibility": null,
            "width": null
          }
        },
        "e600941ecae34454acd0533c995e073b": {
          "model_module": "@jupyter-widgets/controls",
          "model_name": "DescriptionStyleModel",
          "model_module_version": "1.5.0",
          "state": {
            "_model_module": "@jupyter-widgets/controls",
            "_model_module_version": "1.5.0",
            "_model_name": "DescriptionStyleModel",
            "_view_count": null,
            "_view_module": "@jupyter-widgets/base",
            "_view_module_version": "1.2.0",
            "_view_name": "StyleView",
            "description_width": ""
          }
        },
        "fe77a6d945ac47439313489f20246dcf": {
          "model_module": "@jupyter-widgets/controls",
          "model_name": "HBoxModel",
          "model_module_version": "1.5.0",
          "state": {
            "_dom_classes": [],
            "_model_module": "@jupyter-widgets/controls",
            "_model_module_version": "1.5.0",
            "_model_name": "HBoxModel",
            "_view_count": null,
            "_view_module": "@jupyter-widgets/controls",
            "_view_module_version": "1.5.0",
            "_view_name": "HBoxView",
            "box_style": "",
            "children": [
              "IPY_MODEL_88cce81fac884667bc8770e5d4f8669c",
              "IPY_MODEL_d9690681795c45cfb89f5c0f1e182961",
              "IPY_MODEL_40adc93e58c54af485a2e5c747fc70ec"
            ],
            "layout": "IPY_MODEL_d03f10c0c9db406d8e5257531f3b3326"
          }
        },
        "88cce81fac884667bc8770e5d4f8669c": {
          "model_module": "@jupyter-widgets/controls",
          "model_name": "HTMLModel",
          "model_module_version": "1.5.0",
          "state": {
            "_dom_classes": [],
            "_model_module": "@jupyter-widgets/controls",
            "_model_module_version": "1.5.0",
            "_model_name": "HTMLModel",
            "_view_count": null,
            "_view_module": "@jupyter-widgets/controls",
            "_view_module_version": "1.5.0",
            "_view_name": "HTMLView",
            "description": "",
            "description_tooltip": null,
            "layout": "IPY_MODEL_c46625d4e9c44224a50ea6dfba33fd10",
            "placeholder": "​",
            "style": "IPY_MODEL_653bd85258884f61a0b6664123d7b77c",
            "value": "100%"
          }
        },
        "d9690681795c45cfb89f5c0f1e182961": {
          "model_module": "@jupyter-widgets/controls",
          "model_name": "FloatProgressModel",
          "model_module_version": "1.5.0",
          "state": {
            "_dom_classes": [],
            "_model_module": "@jupyter-widgets/controls",
            "_model_module_version": "1.5.0",
            "_model_name": "FloatProgressModel",
            "_view_count": null,
            "_view_module": "@jupyter-widgets/controls",
            "_view_module_version": "1.5.0",
            "_view_name": "ProgressView",
            "bar_style": "success",
            "description": "",
            "description_tooltip": null,
            "layout": "IPY_MODEL_03baae8f89cd4870939f61e4eef230ce",
            "max": 6,
            "min": 0,
            "orientation": "horizontal",
            "style": "IPY_MODEL_d349fd27647446ad826227d5d8b9c667",
            "value": 6
          }
        },
        "40adc93e58c54af485a2e5c747fc70ec": {
          "model_module": "@jupyter-widgets/controls",
          "model_name": "HTMLModel",
          "model_module_version": "1.5.0",
          "state": {
            "_dom_classes": [],
            "_model_module": "@jupyter-widgets/controls",
            "_model_module_version": "1.5.0",
            "_model_name": "HTMLModel",
            "_view_count": null,
            "_view_module": "@jupyter-widgets/controls",
            "_view_module_version": "1.5.0",
            "_view_name": "HTMLView",
            "description": "",
            "description_tooltip": null,
            "layout": "IPY_MODEL_6d4c0d062ef1498da76ed853964e4156",
            "placeholder": "​",
            "style": "IPY_MODEL_1555e868dbdb4b198d97e4eb552f6cf3",
            "value": " 6/6 [00:00&lt;00:00, 179.45ba/s]"
          }
        },
        "d03f10c0c9db406d8e5257531f3b3326": {
          "model_module": "@jupyter-widgets/base",
          "model_name": "LayoutModel",
          "model_module_version": "1.2.0",
          "state": {
            "_model_module": "@jupyter-widgets/base",
            "_model_module_version": "1.2.0",
            "_model_name": "LayoutModel",
            "_view_count": null,
            "_view_module": "@jupyter-widgets/base",
            "_view_module_version": "1.2.0",
            "_view_name": "LayoutView",
            "align_content": null,
            "align_items": null,
            "align_self": null,
            "border": null,
            "bottom": null,
            "display": null,
            "flex": null,
            "flex_flow": null,
            "grid_area": null,
            "grid_auto_columns": null,
            "grid_auto_flow": null,
            "grid_auto_rows": null,
            "grid_column": null,
            "grid_gap": null,
            "grid_row": null,
            "grid_template_areas": null,
            "grid_template_columns": null,
            "grid_template_rows": null,
            "height": null,
            "justify_content": null,
            "justify_items": null,
            "left": null,
            "margin": null,
            "max_height": null,
            "max_width": null,
            "min_height": null,
            "min_width": null,
            "object_fit": null,
            "object_position": null,
            "order": null,
            "overflow": null,
            "overflow_x": null,
            "overflow_y": null,
            "padding": null,
            "right": null,
            "top": null,
            "visibility": null,
            "width": null
          }
        },
        "c46625d4e9c44224a50ea6dfba33fd10": {
          "model_module": "@jupyter-widgets/base",
          "model_name": "LayoutModel",
          "model_module_version": "1.2.0",
          "state": {
            "_model_module": "@jupyter-widgets/base",
            "_model_module_version": "1.2.0",
            "_model_name": "LayoutModel",
            "_view_count": null,
            "_view_module": "@jupyter-widgets/base",
            "_view_module_version": "1.2.0",
            "_view_name": "LayoutView",
            "align_content": null,
            "align_items": null,
            "align_self": null,
            "border": null,
            "bottom": null,
            "display": null,
            "flex": null,
            "flex_flow": null,
            "grid_area": null,
            "grid_auto_columns": null,
            "grid_auto_flow": null,
            "grid_auto_rows": null,
            "grid_column": null,
            "grid_gap": null,
            "grid_row": null,
            "grid_template_areas": null,
            "grid_template_columns": null,
            "grid_template_rows": null,
            "height": null,
            "justify_content": null,
            "justify_items": null,
            "left": null,
            "margin": null,
            "max_height": null,
            "max_width": null,
            "min_height": null,
            "min_width": null,
            "object_fit": null,
            "object_position": null,
            "order": null,
            "overflow": null,
            "overflow_x": null,
            "overflow_y": null,
            "padding": null,
            "right": null,
            "top": null,
            "visibility": null,
            "width": null
          }
        },
        "653bd85258884f61a0b6664123d7b77c": {
          "model_module": "@jupyter-widgets/controls",
          "model_name": "DescriptionStyleModel",
          "model_module_version": "1.5.0",
          "state": {
            "_model_module": "@jupyter-widgets/controls",
            "_model_module_version": "1.5.0",
            "_model_name": "DescriptionStyleModel",
            "_view_count": null,
            "_view_module": "@jupyter-widgets/base",
            "_view_module_version": "1.2.0",
            "_view_name": "StyleView",
            "description_width": ""
          }
        },
        "03baae8f89cd4870939f61e4eef230ce": {
          "model_module": "@jupyter-widgets/base",
          "model_name": "LayoutModel",
          "model_module_version": "1.2.0",
          "state": {
            "_model_module": "@jupyter-widgets/base",
            "_model_module_version": "1.2.0",
            "_model_name": "LayoutModel",
            "_view_count": null,
            "_view_module": "@jupyter-widgets/base",
            "_view_module_version": "1.2.0",
            "_view_name": "LayoutView",
            "align_content": null,
            "align_items": null,
            "align_self": null,
            "border": null,
            "bottom": null,
            "display": null,
            "flex": null,
            "flex_flow": null,
            "grid_area": null,
            "grid_auto_columns": null,
            "grid_auto_flow": null,
            "grid_auto_rows": null,
            "grid_column": null,
            "grid_gap": null,
            "grid_row": null,
            "grid_template_areas": null,
            "grid_template_columns": null,
            "grid_template_rows": null,
            "height": null,
            "justify_content": null,
            "justify_items": null,
            "left": null,
            "margin": null,
            "max_height": null,
            "max_width": null,
            "min_height": null,
            "min_width": null,
            "object_fit": null,
            "object_position": null,
            "order": null,
            "overflow": null,
            "overflow_x": null,
            "overflow_y": null,
            "padding": null,
            "right": null,
            "top": null,
            "visibility": null,
            "width": null
          }
        },
        "d349fd27647446ad826227d5d8b9c667": {
          "model_module": "@jupyter-widgets/controls",
          "model_name": "ProgressStyleModel",
          "model_module_version": "1.5.0",
          "state": {
            "_model_module": "@jupyter-widgets/controls",
            "_model_module_version": "1.5.0",
            "_model_name": "ProgressStyleModel",
            "_view_count": null,
            "_view_module": "@jupyter-widgets/base",
            "_view_module_version": "1.2.0",
            "_view_name": "StyleView",
            "bar_color": null,
            "description_width": ""
          }
        },
        "6d4c0d062ef1498da76ed853964e4156": {
          "model_module": "@jupyter-widgets/base",
          "model_name": "LayoutModel",
          "model_module_version": "1.2.0",
          "state": {
            "_model_module": "@jupyter-widgets/base",
            "_model_module_version": "1.2.0",
            "_model_name": "LayoutModel",
            "_view_count": null,
            "_view_module": "@jupyter-widgets/base",
            "_view_module_version": "1.2.0",
            "_view_name": "LayoutView",
            "align_content": null,
            "align_items": null,
            "align_self": null,
            "border": null,
            "bottom": null,
            "display": null,
            "flex": null,
            "flex_flow": null,
            "grid_area": null,
            "grid_auto_columns": null,
            "grid_auto_flow": null,
            "grid_auto_rows": null,
            "grid_column": null,
            "grid_gap": null,
            "grid_row": null,
            "grid_template_areas": null,
            "grid_template_columns": null,
            "grid_template_rows": null,
            "height": null,
            "justify_content": null,
            "justify_items": null,
            "left": null,
            "margin": null,
            "max_height": null,
            "max_width": null,
            "min_height": null,
            "min_width": null,
            "object_fit": null,
            "object_position": null,
            "order": null,
            "overflow": null,
            "overflow_x": null,
            "overflow_y": null,
            "padding": null,
            "right": null,
            "top": null,
            "visibility": null,
            "width": null
          }
        },
        "1555e868dbdb4b198d97e4eb552f6cf3": {
          "model_module": "@jupyter-widgets/controls",
          "model_name": "DescriptionStyleModel",
          "model_module_version": "1.5.0",
          "state": {
            "_model_module": "@jupyter-widgets/controls",
            "_model_module_version": "1.5.0",
            "_model_name": "DescriptionStyleModel",
            "_view_count": null,
            "_view_module": "@jupyter-widgets/base",
            "_view_module_version": "1.2.0",
            "_view_name": "StyleView",
            "description_width": ""
          }
        },
        "46c362edbeb84872a8c8483b1d7b6e19": {
          "model_module": "@jupyter-widgets/controls",
          "model_name": "HBoxModel",
          "model_module_version": "1.5.0",
          "state": {
            "_dom_classes": [],
            "_model_module": "@jupyter-widgets/controls",
            "_model_module_version": "1.5.0",
            "_model_name": "HBoxModel",
            "_view_count": null,
            "_view_module": "@jupyter-widgets/controls",
            "_view_module_version": "1.5.0",
            "_view_name": "HBoxView",
            "box_style": "",
            "children": [
              "IPY_MODEL_5808fa546efb461da753f792c6c601a3",
              "IPY_MODEL_0de2bc955880419b9bd8833978ae0fa0",
              "IPY_MODEL_42b9270ee2174098abddc71ba497bb63"
            ],
            "layout": "IPY_MODEL_3560708ed90147869157b0759cc0c78c"
          }
        },
        "5808fa546efb461da753f792c6c601a3": {
          "model_module": "@jupyter-widgets/controls",
          "model_name": "HTMLModel",
          "model_module_version": "1.5.0",
          "state": {
            "_dom_classes": [],
            "_model_module": "@jupyter-widgets/controls",
            "_model_module_version": "1.5.0",
            "_model_name": "HTMLModel",
            "_view_count": null,
            "_view_module": "@jupyter-widgets/controls",
            "_view_module_version": "1.5.0",
            "_view_name": "HTMLView",
            "description": "",
            "description_tooltip": null,
            "layout": "IPY_MODEL_a5dab286db044eb092669caf32ca1989",
            "placeholder": "​",
            "style": "IPY_MODEL_d7b1d56867d34668ad3865eec10e9148",
            "value": ""
          }
        },
        "0de2bc955880419b9bd8833978ae0fa0": {
          "model_module": "@jupyter-widgets/controls",
          "model_name": "FloatProgressModel",
          "model_module_version": "1.5.0",
          "state": {
            "_dom_classes": [],
            "_model_module": "@jupyter-widgets/controls",
            "_model_module_version": "1.5.0",
            "_model_name": "FloatProgressModel",
            "_view_count": null,
            "_view_module": "@jupyter-widgets/controls",
            "_view_module_version": "1.5.0",
            "_view_name": "ProgressView",
            "bar_style": "success",
            "description": "",
            "description_tooltip": null,
            "layout": "IPY_MODEL_c7cd2616a25c4d8da4760b4e2b8d6152",
            "max": 1,
            "min": 0,
            "orientation": "horizontal",
            "style": "IPY_MODEL_70709613722e45349b7ee2a96f7832b7",
            "value": 1
          }
        },
        "42b9270ee2174098abddc71ba497bb63": {
          "model_module": "@jupyter-widgets/controls",
          "model_name": "HTMLModel",
          "model_module_version": "1.5.0",
          "state": {
            "_dom_classes": [],
            "_model_module": "@jupyter-widgets/controls",
            "_model_module_version": "1.5.0",
            "_model_name": "HTMLModel",
            "_view_count": null,
            "_view_module": "@jupyter-widgets/controls",
            "_view_module_version": "1.5.0",
            "_view_name": "HTMLView",
            "description": "",
            "description_tooltip": null,
            "layout": "IPY_MODEL_dc178826e6084c7aad4860f262dcabc0",
            "placeholder": "​",
            "style": "IPY_MODEL_29ae687a37134c11821b60e242824ed7",
            "value": " 4663/? [00:00&lt;00:00, 5806.94ex/s]"
          }
        },
        "3560708ed90147869157b0759cc0c78c": {
          "model_module": "@jupyter-widgets/base",
          "model_name": "LayoutModel",
          "model_module_version": "1.2.0",
          "state": {
            "_model_module": "@jupyter-widgets/base",
            "_model_module_version": "1.2.0",
            "_model_name": "LayoutModel",
            "_view_count": null,
            "_view_module": "@jupyter-widgets/base",
            "_view_module_version": "1.2.0",
            "_view_name": "LayoutView",
            "align_content": null,
            "align_items": null,
            "align_self": null,
            "border": null,
            "bottom": null,
            "display": null,
            "flex": null,
            "flex_flow": null,
            "grid_area": null,
            "grid_auto_columns": null,
            "grid_auto_flow": null,
            "grid_auto_rows": null,
            "grid_column": null,
            "grid_gap": null,
            "grid_row": null,
            "grid_template_areas": null,
            "grid_template_columns": null,
            "grid_template_rows": null,
            "height": null,
            "justify_content": null,
            "justify_items": null,
            "left": null,
            "margin": null,
            "max_height": null,
            "max_width": null,
            "min_height": null,
            "min_width": null,
            "object_fit": null,
            "object_position": null,
            "order": null,
            "overflow": null,
            "overflow_x": null,
            "overflow_y": null,
            "padding": null,
            "right": null,
            "top": null,
            "visibility": null,
            "width": null
          }
        },
        "a5dab286db044eb092669caf32ca1989": {
          "model_module": "@jupyter-widgets/base",
          "model_name": "LayoutModel",
          "model_module_version": "1.2.0",
          "state": {
            "_model_module": "@jupyter-widgets/base",
            "_model_module_version": "1.2.0",
            "_model_name": "LayoutModel",
            "_view_count": null,
            "_view_module": "@jupyter-widgets/base",
            "_view_module_version": "1.2.0",
            "_view_name": "LayoutView",
            "align_content": null,
            "align_items": null,
            "align_self": null,
            "border": null,
            "bottom": null,
            "display": null,
            "flex": null,
            "flex_flow": null,
            "grid_area": null,
            "grid_auto_columns": null,
            "grid_auto_flow": null,
            "grid_auto_rows": null,
            "grid_column": null,
            "grid_gap": null,
            "grid_row": null,
            "grid_template_areas": null,
            "grid_template_columns": null,
            "grid_template_rows": null,
            "height": null,
            "justify_content": null,
            "justify_items": null,
            "left": null,
            "margin": null,
            "max_height": null,
            "max_width": null,
            "min_height": null,
            "min_width": null,
            "object_fit": null,
            "object_position": null,
            "order": null,
            "overflow": null,
            "overflow_x": null,
            "overflow_y": null,
            "padding": null,
            "right": null,
            "top": null,
            "visibility": null,
            "width": null
          }
        },
        "d7b1d56867d34668ad3865eec10e9148": {
          "model_module": "@jupyter-widgets/controls",
          "model_name": "DescriptionStyleModel",
          "model_module_version": "1.5.0",
          "state": {
            "_model_module": "@jupyter-widgets/controls",
            "_model_module_version": "1.5.0",
            "_model_name": "DescriptionStyleModel",
            "_view_count": null,
            "_view_module": "@jupyter-widgets/base",
            "_view_module_version": "1.2.0",
            "_view_name": "StyleView",
            "description_width": ""
          }
        },
        "c7cd2616a25c4d8da4760b4e2b8d6152": {
          "model_module": "@jupyter-widgets/base",
          "model_name": "LayoutModel",
          "model_module_version": "1.2.0",
          "state": {
            "_model_module": "@jupyter-widgets/base",
            "_model_module_version": "1.2.0",
            "_model_name": "LayoutModel",
            "_view_count": null,
            "_view_module": "@jupyter-widgets/base",
            "_view_module_version": "1.2.0",
            "_view_name": "LayoutView",
            "align_content": null,
            "align_items": null,
            "align_self": null,
            "border": null,
            "bottom": null,
            "display": null,
            "flex": null,
            "flex_flow": null,
            "grid_area": null,
            "grid_auto_columns": null,
            "grid_auto_flow": null,
            "grid_auto_rows": null,
            "grid_column": null,
            "grid_gap": null,
            "grid_row": null,
            "grid_template_areas": null,
            "grid_template_columns": null,
            "grid_template_rows": null,
            "height": null,
            "justify_content": null,
            "justify_items": null,
            "left": null,
            "margin": null,
            "max_height": null,
            "max_width": null,
            "min_height": null,
            "min_width": null,
            "object_fit": null,
            "object_position": null,
            "order": null,
            "overflow": null,
            "overflow_x": null,
            "overflow_y": null,
            "padding": null,
            "right": null,
            "top": null,
            "visibility": null,
            "width": "20px"
          }
        },
        "70709613722e45349b7ee2a96f7832b7": {
          "model_module": "@jupyter-widgets/controls",
          "model_name": "ProgressStyleModel",
          "model_module_version": "1.5.0",
          "state": {
            "_model_module": "@jupyter-widgets/controls",
            "_model_module_version": "1.5.0",
            "_model_name": "ProgressStyleModel",
            "_view_count": null,
            "_view_module": "@jupyter-widgets/base",
            "_view_module_version": "1.2.0",
            "_view_name": "StyleView",
            "bar_color": null,
            "description_width": ""
          }
        },
        "dc178826e6084c7aad4860f262dcabc0": {
          "model_module": "@jupyter-widgets/base",
          "model_name": "LayoutModel",
          "model_module_version": "1.2.0",
          "state": {
            "_model_module": "@jupyter-widgets/base",
            "_model_module_version": "1.2.0",
            "_model_name": "LayoutModel",
            "_view_count": null,
            "_view_module": "@jupyter-widgets/base",
            "_view_module_version": "1.2.0",
            "_view_name": "LayoutView",
            "align_content": null,
            "align_items": null,
            "align_self": null,
            "border": null,
            "bottom": null,
            "display": null,
            "flex": null,
            "flex_flow": null,
            "grid_area": null,
            "grid_auto_columns": null,
            "grid_auto_flow": null,
            "grid_auto_rows": null,
            "grid_column": null,
            "grid_gap": null,
            "grid_row": null,
            "grid_template_areas": null,
            "grid_template_columns": null,
            "grid_template_rows": null,
            "height": null,
            "justify_content": null,
            "justify_items": null,
            "left": null,
            "margin": null,
            "max_height": null,
            "max_width": null,
            "min_height": null,
            "min_width": null,
            "object_fit": null,
            "object_position": null,
            "order": null,
            "overflow": null,
            "overflow_x": null,
            "overflow_y": null,
            "padding": null,
            "right": null,
            "top": null,
            "visibility": null,
            "width": null
          }
        },
        "29ae687a37134c11821b60e242824ed7": {
          "model_module": "@jupyter-widgets/controls",
          "model_name": "DescriptionStyleModel",
          "model_module_version": "1.5.0",
          "state": {
            "_model_module": "@jupyter-widgets/controls",
            "_model_module_version": "1.5.0",
            "_model_name": "DescriptionStyleModel",
            "_view_count": null,
            "_view_module": "@jupyter-widgets/base",
            "_view_module_version": "1.2.0",
            "_view_name": "StyleView",
            "description_width": ""
          }
        },
        "85b26ad4a87d458da0354a888a97bc4a": {
          "model_module": "@jupyter-widgets/controls",
          "model_name": "HBoxModel",
          "model_module_version": "1.5.0",
          "state": {
            "_dom_classes": [],
            "_model_module": "@jupyter-widgets/controls",
            "_model_module_version": "1.5.0",
            "_model_name": "HBoxModel",
            "_view_count": null,
            "_view_module": "@jupyter-widgets/controls",
            "_view_module_version": "1.5.0",
            "_view_name": "HBoxView",
            "box_style": "",
            "children": [
              "IPY_MODEL_027d3651a8fd4fbc8e4584c8e0524b63",
              "IPY_MODEL_45f89162a8cc4d00ab4009bcf540ecb3",
              "IPY_MODEL_4e54e5f066394cbb90e810819e080430"
            ],
            "layout": "IPY_MODEL_bcadae826cfe4fbe86aefe28f5960b04"
          }
        },
        "027d3651a8fd4fbc8e4584c8e0524b63": {
          "model_module": "@jupyter-widgets/controls",
          "model_name": "HTMLModel",
          "model_module_version": "1.5.0",
          "state": {
            "_dom_classes": [],
            "_model_module": "@jupyter-widgets/controls",
            "_model_module_version": "1.5.0",
            "_model_name": "HTMLModel",
            "_view_count": null,
            "_view_module": "@jupyter-widgets/controls",
            "_view_module_version": "1.5.0",
            "_view_name": "HTMLView",
            "description": "",
            "description_tooltip": null,
            "layout": "IPY_MODEL_672f90dee1914c07bddb0dfadcd7a521",
            "placeholder": "​",
            "style": "IPY_MODEL_00461a53518947cd8db0f902cce71309",
            "value": ""
          }
        },
        "45f89162a8cc4d00ab4009bcf540ecb3": {
          "model_module": "@jupyter-widgets/controls",
          "model_name": "FloatProgressModel",
          "model_module_version": "1.5.0",
          "state": {
            "_dom_classes": [],
            "_model_module": "@jupyter-widgets/controls",
            "_model_module_version": "1.5.0",
            "_model_name": "FloatProgressModel",
            "_view_count": null,
            "_view_module": "@jupyter-widgets/controls",
            "_view_module_version": "1.5.0",
            "_view_name": "ProgressView",
            "bar_style": "success",
            "description": "",
            "description_tooltip": null,
            "layout": "IPY_MODEL_1e8022ac0ed54f38a1e27833c4b0eb8f",
            "max": 1,
            "min": 0,
            "orientation": "horizontal",
            "style": "IPY_MODEL_d895ef401a2d48258ccc5d692d4a54c3",
            "value": 1
          }
        },
        "4e54e5f066394cbb90e810819e080430": {
          "model_module": "@jupyter-widgets/controls",
          "model_name": "HTMLModel",
          "model_module_version": "1.5.0",
          "state": {
            "_dom_classes": [],
            "_model_module": "@jupyter-widgets/controls",
            "_model_module_version": "1.5.0",
            "_model_name": "HTMLModel",
            "_view_count": null,
            "_view_module": "@jupyter-widgets/controls",
            "_view_module_version": "1.5.0",
            "_view_name": "HTMLView",
            "description": "",
            "description_tooltip": null,
            "layout": "IPY_MODEL_9dabd55e4cad4794a44eac0728744a70",
            "placeholder": "​",
            "style": "IPY_MODEL_ad54ac2253b24e458fa537f12cde94b9",
            "value": " 764/? [00:00&lt;00:00, 3704.83ex/s]"
          }
        },
        "bcadae826cfe4fbe86aefe28f5960b04": {
          "model_module": "@jupyter-widgets/base",
          "model_name": "LayoutModel",
          "model_module_version": "1.2.0",
          "state": {
            "_model_module": "@jupyter-widgets/base",
            "_model_module_version": "1.2.0",
            "_model_name": "LayoutModel",
            "_view_count": null,
            "_view_module": "@jupyter-widgets/base",
            "_view_module_version": "1.2.0",
            "_view_name": "LayoutView",
            "align_content": null,
            "align_items": null,
            "align_self": null,
            "border": null,
            "bottom": null,
            "display": null,
            "flex": null,
            "flex_flow": null,
            "grid_area": null,
            "grid_auto_columns": null,
            "grid_auto_flow": null,
            "grid_auto_rows": null,
            "grid_column": null,
            "grid_gap": null,
            "grid_row": null,
            "grid_template_areas": null,
            "grid_template_columns": null,
            "grid_template_rows": null,
            "height": null,
            "justify_content": null,
            "justify_items": null,
            "left": null,
            "margin": null,
            "max_height": null,
            "max_width": null,
            "min_height": null,
            "min_width": null,
            "object_fit": null,
            "object_position": null,
            "order": null,
            "overflow": null,
            "overflow_x": null,
            "overflow_y": null,
            "padding": null,
            "right": null,
            "top": null,
            "visibility": null,
            "width": null
          }
        },
        "672f90dee1914c07bddb0dfadcd7a521": {
          "model_module": "@jupyter-widgets/base",
          "model_name": "LayoutModel",
          "model_module_version": "1.2.0",
          "state": {
            "_model_module": "@jupyter-widgets/base",
            "_model_module_version": "1.2.0",
            "_model_name": "LayoutModel",
            "_view_count": null,
            "_view_module": "@jupyter-widgets/base",
            "_view_module_version": "1.2.0",
            "_view_name": "LayoutView",
            "align_content": null,
            "align_items": null,
            "align_self": null,
            "border": null,
            "bottom": null,
            "display": null,
            "flex": null,
            "flex_flow": null,
            "grid_area": null,
            "grid_auto_columns": null,
            "grid_auto_flow": null,
            "grid_auto_rows": null,
            "grid_column": null,
            "grid_gap": null,
            "grid_row": null,
            "grid_template_areas": null,
            "grid_template_columns": null,
            "grid_template_rows": null,
            "height": null,
            "justify_content": null,
            "justify_items": null,
            "left": null,
            "margin": null,
            "max_height": null,
            "max_width": null,
            "min_height": null,
            "min_width": null,
            "object_fit": null,
            "object_position": null,
            "order": null,
            "overflow": null,
            "overflow_x": null,
            "overflow_y": null,
            "padding": null,
            "right": null,
            "top": null,
            "visibility": null,
            "width": null
          }
        },
        "00461a53518947cd8db0f902cce71309": {
          "model_module": "@jupyter-widgets/controls",
          "model_name": "DescriptionStyleModel",
          "model_module_version": "1.5.0",
          "state": {
            "_model_module": "@jupyter-widgets/controls",
            "_model_module_version": "1.5.0",
            "_model_name": "DescriptionStyleModel",
            "_view_count": null,
            "_view_module": "@jupyter-widgets/base",
            "_view_module_version": "1.2.0",
            "_view_name": "StyleView",
            "description_width": ""
          }
        },
        "1e8022ac0ed54f38a1e27833c4b0eb8f": {
          "model_module": "@jupyter-widgets/base",
          "model_name": "LayoutModel",
          "model_module_version": "1.2.0",
          "state": {
            "_model_module": "@jupyter-widgets/base",
            "_model_module_version": "1.2.0",
            "_model_name": "LayoutModel",
            "_view_count": null,
            "_view_module": "@jupyter-widgets/base",
            "_view_module_version": "1.2.0",
            "_view_name": "LayoutView",
            "align_content": null,
            "align_items": null,
            "align_self": null,
            "border": null,
            "bottom": null,
            "display": null,
            "flex": null,
            "flex_flow": null,
            "grid_area": null,
            "grid_auto_columns": null,
            "grid_auto_flow": null,
            "grid_auto_rows": null,
            "grid_column": null,
            "grid_gap": null,
            "grid_row": null,
            "grid_template_areas": null,
            "grid_template_columns": null,
            "grid_template_rows": null,
            "height": null,
            "justify_content": null,
            "justify_items": null,
            "left": null,
            "margin": null,
            "max_height": null,
            "max_width": null,
            "min_height": null,
            "min_width": null,
            "object_fit": null,
            "object_position": null,
            "order": null,
            "overflow": null,
            "overflow_x": null,
            "overflow_y": null,
            "padding": null,
            "right": null,
            "top": null,
            "visibility": null,
            "width": "20px"
          }
        },
        "d895ef401a2d48258ccc5d692d4a54c3": {
          "model_module": "@jupyter-widgets/controls",
          "model_name": "ProgressStyleModel",
          "model_module_version": "1.5.0",
          "state": {
            "_model_module": "@jupyter-widgets/controls",
            "_model_module_version": "1.5.0",
            "_model_name": "ProgressStyleModel",
            "_view_count": null,
            "_view_module": "@jupyter-widgets/base",
            "_view_module_version": "1.2.0",
            "_view_name": "StyleView",
            "bar_color": null,
            "description_width": ""
          }
        },
        "9dabd55e4cad4794a44eac0728744a70": {
          "model_module": "@jupyter-widgets/base",
          "model_name": "LayoutModel",
          "model_module_version": "1.2.0",
          "state": {
            "_model_module": "@jupyter-widgets/base",
            "_model_module_version": "1.2.0",
            "_model_name": "LayoutModel",
            "_view_count": null,
            "_view_module": "@jupyter-widgets/base",
            "_view_module_version": "1.2.0",
            "_view_name": "LayoutView",
            "align_content": null,
            "align_items": null,
            "align_self": null,
            "border": null,
            "bottom": null,
            "display": null,
            "flex": null,
            "flex_flow": null,
            "grid_area": null,
            "grid_auto_columns": null,
            "grid_auto_flow": null,
            "grid_auto_rows": null,
            "grid_column": null,
            "grid_gap": null,
            "grid_row": null,
            "grid_template_areas": null,
            "grid_template_columns": null,
            "grid_template_rows": null,
            "height": null,
            "justify_content": null,
            "justify_items": null,
            "left": null,
            "margin": null,
            "max_height": null,
            "max_width": null,
            "min_height": null,
            "min_width": null,
            "object_fit": null,
            "object_position": null,
            "order": null,
            "overflow": null,
            "overflow_x": null,
            "overflow_y": null,
            "padding": null,
            "right": null,
            "top": null,
            "visibility": null,
            "width": null
          }
        },
        "ad54ac2253b24e458fa537f12cde94b9": {
          "model_module": "@jupyter-widgets/controls",
          "model_name": "DescriptionStyleModel",
          "model_module_version": "1.5.0",
          "state": {
            "_model_module": "@jupyter-widgets/controls",
            "_model_module_version": "1.5.0",
            "_model_name": "DescriptionStyleModel",
            "_view_count": null,
            "_view_module": "@jupyter-widgets/base",
            "_view_module_version": "1.2.0",
            "_view_name": "StyleView",
            "description_width": ""
          }
        },
        "654f2fbd938e422485ac226847bbbf97": {
          "model_module": "@jupyter-widgets/controls",
          "model_name": "HBoxModel",
          "model_module_version": "1.5.0",
          "state": {
            "_dom_classes": [],
            "_model_module": "@jupyter-widgets/controls",
            "_model_module_version": "1.5.0",
            "_model_name": "HBoxModel",
            "_view_count": null,
            "_view_module": "@jupyter-widgets/controls",
            "_view_module_version": "1.5.0",
            "_view_name": "HBoxView",
            "box_style": "",
            "children": [
              "IPY_MODEL_eebf3ee03ee84144bc139541c8b3f2ec",
              "IPY_MODEL_21a2e5834e8f47ee8083336de31bf774",
              "IPY_MODEL_f4272d4508694fe884391ce6af0617a6"
            ],
            "layout": "IPY_MODEL_497263ce7b0b43e199199f860956a19d"
          }
        },
        "eebf3ee03ee84144bc139541c8b3f2ec": {
          "model_module": "@jupyter-widgets/controls",
          "model_name": "HTMLModel",
          "model_module_version": "1.5.0",
          "state": {
            "_dom_classes": [],
            "_model_module": "@jupyter-widgets/controls",
            "_model_module_version": "1.5.0",
            "_model_name": "HTMLModel",
            "_view_count": null,
            "_view_module": "@jupyter-widgets/controls",
            "_view_module_version": "1.5.0",
            "_view_name": "HTMLView",
            "description": "",
            "description_tooltip": null,
            "layout": "IPY_MODEL_a67e2049e2094db1b043ed4b202fb978",
            "placeholder": "​",
            "style": "IPY_MODEL_9468a71912b04aadae68595034667438",
            "value": "100%"
          }
        },
        "21a2e5834e8f47ee8083336de31bf774": {
          "model_module": "@jupyter-widgets/controls",
          "model_name": "FloatProgressModel",
          "model_module_version": "1.5.0",
          "state": {
            "_dom_classes": [],
            "_model_module": "@jupyter-widgets/controls",
            "_model_module_version": "1.5.0",
            "_model_name": "FloatProgressModel",
            "_view_count": null,
            "_view_module": "@jupyter-widgets/controls",
            "_view_module_version": "1.5.0",
            "_view_name": "ProgressView",
            "bar_style": "success",
            "description": "",
            "description_tooltip": null,
            "layout": "IPY_MODEL_1df50976743c4e2dbdf7919911bc3c3e",
            "max": 1,
            "min": 0,
            "orientation": "horizontal",
            "style": "IPY_MODEL_47021ed14e4d47418890aee1d576c8c1",
            "value": 1
          }
        },
        "f4272d4508694fe884391ce6af0617a6": {
          "model_module": "@jupyter-widgets/controls",
          "model_name": "HTMLModel",
          "model_module_version": "1.5.0",
          "state": {
            "_dom_classes": [],
            "_model_module": "@jupyter-widgets/controls",
            "_model_module_version": "1.5.0",
            "_model_name": "HTMLModel",
            "_view_count": null,
            "_view_module": "@jupyter-widgets/controls",
            "_view_module_version": "1.5.0",
            "_view_name": "HTMLView",
            "description": "",
            "description_tooltip": null,
            "layout": "IPY_MODEL_92b06844327849f7b1b8fcd75ca49524",
            "placeholder": "​",
            "style": "IPY_MODEL_68571f171af441d69c41aade43efa9e1",
            "value": " 1/1 [00:00&lt;00:00, 19.33ba/s]"
          }
        },
        "497263ce7b0b43e199199f860956a19d": {
          "model_module": "@jupyter-widgets/base",
          "model_name": "LayoutModel",
          "model_module_version": "1.2.0",
          "state": {
            "_model_module": "@jupyter-widgets/base",
            "_model_module_version": "1.2.0",
            "_model_name": "LayoutModel",
            "_view_count": null,
            "_view_module": "@jupyter-widgets/base",
            "_view_module_version": "1.2.0",
            "_view_name": "LayoutView",
            "align_content": null,
            "align_items": null,
            "align_self": null,
            "border": null,
            "bottom": null,
            "display": null,
            "flex": null,
            "flex_flow": null,
            "grid_area": null,
            "grid_auto_columns": null,
            "grid_auto_flow": null,
            "grid_auto_rows": null,
            "grid_column": null,
            "grid_gap": null,
            "grid_row": null,
            "grid_template_areas": null,
            "grid_template_columns": null,
            "grid_template_rows": null,
            "height": null,
            "justify_content": null,
            "justify_items": null,
            "left": null,
            "margin": null,
            "max_height": null,
            "max_width": null,
            "min_height": null,
            "min_width": null,
            "object_fit": null,
            "object_position": null,
            "order": null,
            "overflow": null,
            "overflow_x": null,
            "overflow_y": null,
            "padding": null,
            "right": null,
            "top": null,
            "visibility": null,
            "width": null
          }
        },
        "a67e2049e2094db1b043ed4b202fb978": {
          "model_module": "@jupyter-widgets/base",
          "model_name": "LayoutModel",
          "model_module_version": "1.2.0",
          "state": {
            "_model_module": "@jupyter-widgets/base",
            "_model_module_version": "1.2.0",
            "_model_name": "LayoutModel",
            "_view_count": null,
            "_view_module": "@jupyter-widgets/base",
            "_view_module_version": "1.2.0",
            "_view_name": "LayoutView",
            "align_content": null,
            "align_items": null,
            "align_self": null,
            "border": null,
            "bottom": null,
            "display": null,
            "flex": null,
            "flex_flow": null,
            "grid_area": null,
            "grid_auto_columns": null,
            "grid_auto_flow": null,
            "grid_auto_rows": null,
            "grid_column": null,
            "grid_gap": null,
            "grid_row": null,
            "grid_template_areas": null,
            "grid_template_columns": null,
            "grid_template_rows": null,
            "height": null,
            "justify_content": null,
            "justify_items": null,
            "left": null,
            "margin": null,
            "max_height": null,
            "max_width": null,
            "min_height": null,
            "min_width": null,
            "object_fit": null,
            "object_position": null,
            "order": null,
            "overflow": null,
            "overflow_x": null,
            "overflow_y": null,
            "padding": null,
            "right": null,
            "top": null,
            "visibility": null,
            "width": null
          }
        },
        "9468a71912b04aadae68595034667438": {
          "model_module": "@jupyter-widgets/controls",
          "model_name": "DescriptionStyleModel",
          "model_module_version": "1.5.0",
          "state": {
            "_model_module": "@jupyter-widgets/controls",
            "_model_module_version": "1.5.0",
            "_model_name": "DescriptionStyleModel",
            "_view_count": null,
            "_view_module": "@jupyter-widgets/base",
            "_view_module_version": "1.2.0",
            "_view_name": "StyleView",
            "description_width": ""
          }
        },
        "1df50976743c4e2dbdf7919911bc3c3e": {
          "model_module": "@jupyter-widgets/base",
          "model_name": "LayoutModel",
          "model_module_version": "1.2.0",
          "state": {
            "_model_module": "@jupyter-widgets/base",
            "_model_module_version": "1.2.0",
            "_model_name": "LayoutModel",
            "_view_count": null,
            "_view_module": "@jupyter-widgets/base",
            "_view_module_version": "1.2.0",
            "_view_name": "LayoutView",
            "align_content": null,
            "align_items": null,
            "align_self": null,
            "border": null,
            "bottom": null,
            "display": null,
            "flex": null,
            "flex_flow": null,
            "grid_area": null,
            "grid_auto_columns": null,
            "grid_auto_flow": null,
            "grid_auto_rows": null,
            "grid_column": null,
            "grid_gap": null,
            "grid_row": null,
            "grid_template_areas": null,
            "grid_template_columns": null,
            "grid_template_rows": null,
            "height": null,
            "justify_content": null,
            "justify_items": null,
            "left": null,
            "margin": null,
            "max_height": null,
            "max_width": null,
            "min_height": null,
            "min_width": null,
            "object_fit": null,
            "object_position": null,
            "order": null,
            "overflow": null,
            "overflow_x": null,
            "overflow_y": null,
            "padding": null,
            "right": null,
            "top": null,
            "visibility": null,
            "width": null
          }
        },
        "47021ed14e4d47418890aee1d576c8c1": {
          "model_module": "@jupyter-widgets/controls",
          "model_name": "ProgressStyleModel",
          "model_module_version": "1.5.0",
          "state": {
            "_model_module": "@jupyter-widgets/controls",
            "_model_module_version": "1.5.0",
            "_model_name": "ProgressStyleModel",
            "_view_count": null,
            "_view_module": "@jupyter-widgets/base",
            "_view_module_version": "1.2.0",
            "_view_name": "StyleView",
            "bar_color": null,
            "description_width": ""
          }
        },
        "92b06844327849f7b1b8fcd75ca49524": {
          "model_module": "@jupyter-widgets/base",
          "model_name": "LayoutModel",
          "model_module_version": "1.2.0",
          "state": {
            "_model_module": "@jupyter-widgets/base",
            "_model_module_version": "1.2.0",
            "_model_name": "LayoutModel",
            "_view_count": null,
            "_view_module": "@jupyter-widgets/base",
            "_view_module_version": "1.2.0",
            "_view_name": "LayoutView",
            "align_content": null,
            "align_items": null,
            "align_self": null,
            "border": null,
            "bottom": null,
            "display": null,
            "flex": null,
            "flex_flow": null,
            "grid_area": null,
            "grid_auto_columns": null,
            "grid_auto_flow": null,
            "grid_auto_rows": null,
            "grid_column": null,
            "grid_gap": null,
            "grid_row": null,
            "grid_template_areas": null,
            "grid_template_columns": null,
            "grid_template_rows": null,
            "height": null,
            "justify_content": null,
            "justify_items": null,
            "left": null,
            "margin": null,
            "max_height": null,
            "max_width": null,
            "min_height": null,
            "min_width": null,
            "object_fit": null,
            "object_position": null,
            "order": null,
            "overflow": null,
            "overflow_x": null,
            "overflow_y": null,
            "padding": null,
            "right": null,
            "top": null,
            "visibility": null,
            "width": null
          }
        },
        "68571f171af441d69c41aade43efa9e1": {
          "model_module": "@jupyter-widgets/controls",
          "model_name": "DescriptionStyleModel",
          "model_module_version": "1.5.0",
          "state": {
            "_model_module": "@jupyter-widgets/controls",
            "_model_module_version": "1.5.0",
            "_model_name": "DescriptionStyleModel",
            "_view_count": null,
            "_view_module": "@jupyter-widgets/base",
            "_view_module_version": "1.2.0",
            "_view_name": "StyleView",
            "description_width": ""
          }
        },
        "60eb77aa4a43469baea6f2b4434c6102": {
          "model_module": "@jupyter-widgets/controls",
          "model_name": "HBoxModel",
          "model_module_version": "1.5.0",
          "state": {
            "_dom_classes": [],
            "_model_module": "@jupyter-widgets/controls",
            "_model_module_version": "1.5.0",
            "_model_name": "HBoxModel",
            "_view_count": null,
            "_view_module": "@jupyter-widgets/controls",
            "_view_module_version": "1.5.0",
            "_view_name": "HBoxView",
            "box_style": "",
            "children": [
              "IPY_MODEL_33220c61717546d28f40c83d0ff4beb6",
              "IPY_MODEL_9013e7df29994fd29e1c302a8b50ed19",
              "IPY_MODEL_c78c16d674cb44a5ac5d1dc5bdd99364"
            ],
            "layout": "IPY_MODEL_be943491fb7549a8a1b41103a6aa3dd5"
          }
        },
        "33220c61717546d28f40c83d0ff4beb6": {
          "model_module": "@jupyter-widgets/controls",
          "model_name": "HTMLModel",
          "model_module_version": "1.5.0",
          "state": {
            "_dom_classes": [],
            "_model_module": "@jupyter-widgets/controls",
            "_model_module_version": "1.5.0",
            "_model_name": "HTMLModel",
            "_view_count": null,
            "_view_module": "@jupyter-widgets/controls",
            "_view_module_version": "1.5.0",
            "_view_name": "HTMLView",
            "description": "",
            "description_tooltip": null,
            "layout": "IPY_MODEL_46b83a3155aa47298df89f9857754ec2",
            "placeholder": "​",
            "style": "IPY_MODEL_a88b6e2b09b4459481b2e23956e3e08c",
            "value": "100%"
          }
        },
        "9013e7df29994fd29e1c302a8b50ed19": {
          "model_module": "@jupyter-widgets/controls",
          "model_name": "FloatProgressModel",
          "model_module_version": "1.5.0",
          "state": {
            "_dom_classes": [],
            "_model_module": "@jupyter-widgets/controls",
            "_model_module_version": "1.5.0",
            "_model_name": "FloatProgressModel",
            "_view_count": null,
            "_view_module": "@jupyter-widgets/controls",
            "_view_module_version": "1.5.0",
            "_view_name": "ProgressView",
            "bar_style": "success",
            "description": "",
            "description_tooltip": null,
            "layout": "IPY_MODEL_93d349fa2ad94ab29f238be20ebbc55e",
            "max": 1,
            "min": 0,
            "orientation": "horizontal",
            "style": "IPY_MODEL_ad4211e0942f4b3e8affe1dad0264498",
            "value": 1
          }
        },
        "c78c16d674cb44a5ac5d1dc5bdd99364": {
          "model_module": "@jupyter-widgets/controls",
          "model_name": "HTMLModel",
          "model_module_version": "1.5.0",
          "state": {
            "_dom_classes": [],
            "_model_module": "@jupyter-widgets/controls",
            "_model_module_version": "1.5.0",
            "_model_name": "HTMLModel",
            "_view_count": null,
            "_view_module": "@jupyter-widgets/controls",
            "_view_module_version": "1.5.0",
            "_view_name": "HTMLView",
            "description": "",
            "description_tooltip": null,
            "layout": "IPY_MODEL_9f2864c864a9444fb704acf1e89ba648",
            "placeholder": "​",
            "style": "IPY_MODEL_d404b9347be24ae8b81ae3389fe65226",
            "value": " 1/1 [00:00&lt;00:00, 38.14ba/s]"
          }
        },
        "be943491fb7549a8a1b41103a6aa3dd5": {
          "model_module": "@jupyter-widgets/base",
          "model_name": "LayoutModel",
          "model_module_version": "1.2.0",
          "state": {
            "_model_module": "@jupyter-widgets/base",
            "_model_module_version": "1.2.0",
            "_model_name": "LayoutModel",
            "_view_count": null,
            "_view_module": "@jupyter-widgets/base",
            "_view_module_version": "1.2.0",
            "_view_name": "LayoutView",
            "align_content": null,
            "align_items": null,
            "align_self": null,
            "border": null,
            "bottom": null,
            "display": null,
            "flex": null,
            "flex_flow": null,
            "grid_area": null,
            "grid_auto_columns": null,
            "grid_auto_flow": null,
            "grid_auto_rows": null,
            "grid_column": null,
            "grid_gap": null,
            "grid_row": null,
            "grid_template_areas": null,
            "grid_template_columns": null,
            "grid_template_rows": null,
            "height": null,
            "justify_content": null,
            "justify_items": null,
            "left": null,
            "margin": null,
            "max_height": null,
            "max_width": null,
            "min_height": null,
            "min_width": null,
            "object_fit": null,
            "object_position": null,
            "order": null,
            "overflow": null,
            "overflow_x": null,
            "overflow_y": null,
            "padding": null,
            "right": null,
            "top": null,
            "visibility": null,
            "width": null
          }
        },
        "46b83a3155aa47298df89f9857754ec2": {
          "model_module": "@jupyter-widgets/base",
          "model_name": "LayoutModel",
          "model_module_version": "1.2.0",
          "state": {
            "_model_module": "@jupyter-widgets/base",
            "_model_module_version": "1.2.0",
            "_model_name": "LayoutModel",
            "_view_count": null,
            "_view_module": "@jupyter-widgets/base",
            "_view_module_version": "1.2.0",
            "_view_name": "LayoutView",
            "align_content": null,
            "align_items": null,
            "align_self": null,
            "border": null,
            "bottom": null,
            "display": null,
            "flex": null,
            "flex_flow": null,
            "grid_area": null,
            "grid_auto_columns": null,
            "grid_auto_flow": null,
            "grid_auto_rows": null,
            "grid_column": null,
            "grid_gap": null,
            "grid_row": null,
            "grid_template_areas": null,
            "grid_template_columns": null,
            "grid_template_rows": null,
            "height": null,
            "justify_content": null,
            "justify_items": null,
            "left": null,
            "margin": null,
            "max_height": null,
            "max_width": null,
            "min_height": null,
            "min_width": null,
            "object_fit": null,
            "object_position": null,
            "order": null,
            "overflow": null,
            "overflow_x": null,
            "overflow_y": null,
            "padding": null,
            "right": null,
            "top": null,
            "visibility": null,
            "width": null
          }
        },
        "a88b6e2b09b4459481b2e23956e3e08c": {
          "model_module": "@jupyter-widgets/controls",
          "model_name": "DescriptionStyleModel",
          "model_module_version": "1.5.0",
          "state": {
            "_model_module": "@jupyter-widgets/controls",
            "_model_module_version": "1.5.0",
            "_model_name": "DescriptionStyleModel",
            "_view_count": null,
            "_view_module": "@jupyter-widgets/base",
            "_view_module_version": "1.2.0",
            "_view_name": "StyleView",
            "description_width": ""
          }
        },
        "93d349fa2ad94ab29f238be20ebbc55e": {
          "model_module": "@jupyter-widgets/base",
          "model_name": "LayoutModel",
          "model_module_version": "1.2.0",
          "state": {
            "_model_module": "@jupyter-widgets/base",
            "_model_module_version": "1.2.0",
            "_model_name": "LayoutModel",
            "_view_count": null,
            "_view_module": "@jupyter-widgets/base",
            "_view_module_version": "1.2.0",
            "_view_name": "LayoutView",
            "align_content": null,
            "align_items": null,
            "align_self": null,
            "border": null,
            "bottom": null,
            "display": null,
            "flex": null,
            "flex_flow": null,
            "grid_area": null,
            "grid_auto_columns": null,
            "grid_auto_flow": null,
            "grid_auto_rows": null,
            "grid_column": null,
            "grid_gap": null,
            "grid_row": null,
            "grid_template_areas": null,
            "grid_template_columns": null,
            "grid_template_rows": null,
            "height": null,
            "justify_content": null,
            "justify_items": null,
            "left": null,
            "margin": null,
            "max_height": null,
            "max_width": null,
            "min_height": null,
            "min_width": null,
            "object_fit": null,
            "object_position": null,
            "order": null,
            "overflow": null,
            "overflow_x": null,
            "overflow_y": null,
            "padding": null,
            "right": null,
            "top": null,
            "visibility": null,
            "width": null
          }
        },
        "ad4211e0942f4b3e8affe1dad0264498": {
          "model_module": "@jupyter-widgets/controls",
          "model_name": "ProgressStyleModel",
          "model_module_version": "1.5.0",
          "state": {
            "_model_module": "@jupyter-widgets/controls",
            "_model_module_version": "1.5.0",
            "_model_name": "ProgressStyleModel",
            "_view_count": null,
            "_view_module": "@jupyter-widgets/base",
            "_view_module_version": "1.2.0",
            "_view_name": "StyleView",
            "bar_color": null,
            "description_width": ""
          }
        },
        "9f2864c864a9444fb704acf1e89ba648": {
          "model_module": "@jupyter-widgets/base",
          "model_name": "LayoutModel",
          "model_module_version": "1.2.0",
          "state": {
            "_model_module": "@jupyter-widgets/base",
            "_model_module_version": "1.2.0",
            "_model_name": "LayoutModel",
            "_view_count": null,
            "_view_module": "@jupyter-widgets/base",
            "_view_module_version": "1.2.0",
            "_view_name": "LayoutView",
            "align_content": null,
            "align_items": null,
            "align_self": null,
            "border": null,
            "bottom": null,
            "display": null,
            "flex": null,
            "flex_flow": null,
            "grid_area": null,
            "grid_auto_columns": null,
            "grid_auto_flow": null,
            "grid_auto_rows": null,
            "grid_column": null,
            "grid_gap": null,
            "grid_row": null,
            "grid_template_areas": null,
            "grid_template_columns": null,
            "grid_template_rows": null,
            "height": null,
            "justify_content": null,
            "justify_items": null,
            "left": null,
            "margin": null,
            "max_height": null,
            "max_width": null,
            "min_height": null,
            "min_width": null,
            "object_fit": null,
            "object_position": null,
            "order": null,
            "overflow": null,
            "overflow_x": null,
            "overflow_y": null,
            "padding": null,
            "right": null,
            "top": null,
            "visibility": null,
            "width": null
          }
        },
        "d404b9347be24ae8b81ae3389fe65226": {
          "model_module": "@jupyter-widgets/controls",
          "model_name": "DescriptionStyleModel",
          "model_module_version": "1.5.0",
          "state": {
            "_model_module": "@jupyter-widgets/controls",
            "_model_module_version": "1.5.0",
            "_model_name": "DescriptionStyleModel",
            "_view_count": null,
            "_view_module": "@jupyter-widgets/base",
            "_view_module_version": "1.2.0",
            "_view_name": "StyleView",
            "description_width": ""
          }
        },
        "bc78695a124c4429af3cd4df8f677e53": {
          "model_module": "@jupyter-widgets/controls",
          "model_name": "HBoxModel",
          "model_module_version": "1.5.0",
          "state": {
            "_dom_classes": [],
            "_model_module": "@jupyter-widgets/controls",
            "_model_module_version": "1.5.0",
            "_model_name": "HBoxModel",
            "_view_count": null,
            "_view_module": "@jupyter-widgets/controls",
            "_view_module_version": "1.5.0",
            "_view_name": "HBoxView",
            "box_style": "",
            "children": [
              "IPY_MODEL_42a86e119c264613ab77241fe4a38c2c",
              "IPY_MODEL_aabd946f93b644cb84f7e8bf3eaf7f22",
              "IPY_MODEL_f73c53a3e1b64f1dbab01aae6675fec1"
            ],
            "layout": "IPY_MODEL_eacf9efe381a4b7ca4ba1858a2e62af5"
          }
        },
        "42a86e119c264613ab77241fe4a38c2c": {
          "model_module": "@jupyter-widgets/controls",
          "model_name": "HTMLModel",
          "model_module_version": "1.5.0",
          "state": {
            "_dom_classes": [],
            "_model_module": "@jupyter-widgets/controls",
            "_model_module_version": "1.5.0",
            "_model_name": "HTMLModel",
            "_view_count": null,
            "_view_module": "@jupyter-widgets/controls",
            "_view_module_version": "1.5.0",
            "_view_name": "HTMLView",
            "description": "",
            "description_tooltip": null,
            "layout": "IPY_MODEL_a20138b8194c4ca5a0738cf9bcf8dff7",
            "placeholder": "​",
            "style": "IPY_MODEL_3b8244d24e9f48899432a27ebf818d05",
            "value": "100%"
          }
        },
        "aabd946f93b644cb84f7e8bf3eaf7f22": {
          "model_module": "@jupyter-widgets/controls",
          "model_name": "FloatProgressModel",
          "model_module_version": "1.5.0",
          "state": {
            "_dom_classes": [],
            "_model_module": "@jupyter-widgets/controls",
            "_model_module_version": "1.5.0",
            "_model_name": "FloatProgressModel",
            "_view_count": null,
            "_view_module": "@jupyter-widgets/controls",
            "_view_module_version": "1.5.0",
            "_view_name": "ProgressView",
            "bar_style": "success",
            "description": "",
            "description_tooltip": null,
            "layout": "IPY_MODEL_0c14f083848e412badf7ee77e11ddc85",
            "max": 5,
            "min": 0,
            "orientation": "horizontal",
            "style": "IPY_MODEL_e6edd045059b40caa76a9132abe95deb",
            "value": 5
          }
        },
        "f73c53a3e1b64f1dbab01aae6675fec1": {
          "model_module": "@jupyter-widgets/controls",
          "model_name": "HTMLModel",
          "model_module_version": "1.5.0",
          "state": {
            "_dom_classes": [],
            "_model_module": "@jupyter-widgets/controls",
            "_model_module_version": "1.5.0",
            "_model_name": "HTMLModel",
            "_view_count": null,
            "_view_module": "@jupyter-widgets/controls",
            "_view_module_version": "1.5.0",
            "_view_name": "HTMLView",
            "description": "",
            "description_tooltip": null,
            "layout": "IPY_MODEL_19059f77f2b94063a65b25c154ae25d0",
            "placeholder": "​",
            "style": "IPY_MODEL_404978d290ff4e2bb33a59762f9a5927",
            "value": " 5/5 [00:00&lt;00:00, 114.18ba/s]"
          }
        },
        "eacf9efe381a4b7ca4ba1858a2e62af5": {
          "model_module": "@jupyter-widgets/base",
          "model_name": "LayoutModel",
          "model_module_version": "1.2.0",
          "state": {
            "_model_module": "@jupyter-widgets/base",
            "_model_module_version": "1.2.0",
            "_model_name": "LayoutModel",
            "_view_count": null,
            "_view_module": "@jupyter-widgets/base",
            "_view_module_version": "1.2.0",
            "_view_name": "LayoutView",
            "align_content": null,
            "align_items": null,
            "align_self": null,
            "border": null,
            "bottom": null,
            "display": null,
            "flex": null,
            "flex_flow": null,
            "grid_area": null,
            "grid_auto_columns": null,
            "grid_auto_flow": null,
            "grid_auto_rows": null,
            "grid_column": null,
            "grid_gap": null,
            "grid_row": null,
            "grid_template_areas": null,
            "grid_template_columns": null,
            "grid_template_rows": null,
            "height": null,
            "justify_content": null,
            "justify_items": null,
            "left": null,
            "margin": null,
            "max_height": null,
            "max_width": null,
            "min_height": null,
            "min_width": null,
            "object_fit": null,
            "object_position": null,
            "order": null,
            "overflow": null,
            "overflow_x": null,
            "overflow_y": null,
            "padding": null,
            "right": null,
            "top": null,
            "visibility": null,
            "width": null
          }
        },
        "a20138b8194c4ca5a0738cf9bcf8dff7": {
          "model_module": "@jupyter-widgets/base",
          "model_name": "LayoutModel",
          "model_module_version": "1.2.0",
          "state": {
            "_model_module": "@jupyter-widgets/base",
            "_model_module_version": "1.2.0",
            "_model_name": "LayoutModel",
            "_view_count": null,
            "_view_module": "@jupyter-widgets/base",
            "_view_module_version": "1.2.0",
            "_view_name": "LayoutView",
            "align_content": null,
            "align_items": null,
            "align_self": null,
            "border": null,
            "bottom": null,
            "display": null,
            "flex": null,
            "flex_flow": null,
            "grid_area": null,
            "grid_auto_columns": null,
            "grid_auto_flow": null,
            "grid_auto_rows": null,
            "grid_column": null,
            "grid_gap": null,
            "grid_row": null,
            "grid_template_areas": null,
            "grid_template_columns": null,
            "grid_template_rows": null,
            "height": null,
            "justify_content": null,
            "justify_items": null,
            "left": null,
            "margin": null,
            "max_height": null,
            "max_width": null,
            "min_height": null,
            "min_width": null,
            "object_fit": null,
            "object_position": null,
            "order": null,
            "overflow": null,
            "overflow_x": null,
            "overflow_y": null,
            "padding": null,
            "right": null,
            "top": null,
            "visibility": null,
            "width": null
          }
        },
        "3b8244d24e9f48899432a27ebf818d05": {
          "model_module": "@jupyter-widgets/controls",
          "model_name": "DescriptionStyleModel",
          "model_module_version": "1.5.0",
          "state": {
            "_model_module": "@jupyter-widgets/controls",
            "_model_module_version": "1.5.0",
            "_model_name": "DescriptionStyleModel",
            "_view_count": null,
            "_view_module": "@jupyter-widgets/base",
            "_view_module_version": "1.2.0",
            "_view_name": "StyleView",
            "description_width": ""
          }
        },
        "0c14f083848e412badf7ee77e11ddc85": {
          "model_module": "@jupyter-widgets/base",
          "model_name": "LayoutModel",
          "model_module_version": "1.2.0",
          "state": {
            "_model_module": "@jupyter-widgets/base",
            "_model_module_version": "1.2.0",
            "_model_name": "LayoutModel",
            "_view_count": null,
            "_view_module": "@jupyter-widgets/base",
            "_view_module_version": "1.2.0",
            "_view_name": "LayoutView",
            "align_content": null,
            "align_items": null,
            "align_self": null,
            "border": null,
            "bottom": null,
            "display": null,
            "flex": null,
            "flex_flow": null,
            "grid_area": null,
            "grid_auto_columns": null,
            "grid_auto_flow": null,
            "grid_auto_rows": null,
            "grid_column": null,
            "grid_gap": null,
            "grid_row": null,
            "grid_template_areas": null,
            "grid_template_columns": null,
            "grid_template_rows": null,
            "height": null,
            "justify_content": null,
            "justify_items": null,
            "left": null,
            "margin": null,
            "max_height": null,
            "max_width": null,
            "min_height": null,
            "min_width": null,
            "object_fit": null,
            "object_position": null,
            "order": null,
            "overflow": null,
            "overflow_x": null,
            "overflow_y": null,
            "padding": null,
            "right": null,
            "top": null,
            "visibility": null,
            "width": null
          }
        },
        "e6edd045059b40caa76a9132abe95deb": {
          "model_module": "@jupyter-widgets/controls",
          "model_name": "ProgressStyleModel",
          "model_module_version": "1.5.0",
          "state": {
            "_model_module": "@jupyter-widgets/controls",
            "_model_module_version": "1.5.0",
            "_model_name": "ProgressStyleModel",
            "_view_count": null,
            "_view_module": "@jupyter-widgets/base",
            "_view_module_version": "1.2.0",
            "_view_name": "StyleView",
            "bar_color": null,
            "description_width": ""
          }
        },
        "19059f77f2b94063a65b25c154ae25d0": {
          "model_module": "@jupyter-widgets/base",
          "model_name": "LayoutModel",
          "model_module_version": "1.2.0",
          "state": {
            "_model_module": "@jupyter-widgets/base",
            "_model_module_version": "1.2.0",
            "_model_name": "LayoutModel",
            "_view_count": null,
            "_view_module": "@jupyter-widgets/base",
            "_view_module_version": "1.2.0",
            "_view_name": "LayoutView",
            "align_content": null,
            "align_items": null,
            "align_self": null,
            "border": null,
            "bottom": null,
            "display": null,
            "flex": null,
            "flex_flow": null,
            "grid_area": null,
            "grid_auto_columns": null,
            "grid_auto_flow": null,
            "grid_auto_rows": null,
            "grid_column": null,
            "grid_gap": null,
            "grid_row": null,
            "grid_template_areas": null,
            "grid_template_columns": null,
            "grid_template_rows": null,
            "height": null,
            "justify_content": null,
            "justify_items": null,
            "left": null,
            "margin": null,
            "max_height": null,
            "max_width": null,
            "min_height": null,
            "min_width": null,
            "object_fit": null,
            "object_position": null,
            "order": null,
            "overflow": null,
            "overflow_x": null,
            "overflow_y": null,
            "padding": null,
            "right": null,
            "top": null,
            "visibility": null,
            "width": null
          }
        },
        "404978d290ff4e2bb33a59762f9a5927": {
          "model_module": "@jupyter-widgets/controls",
          "model_name": "DescriptionStyleModel",
          "model_module_version": "1.5.0",
          "state": {
            "_model_module": "@jupyter-widgets/controls",
            "_model_module_version": "1.5.0",
            "_model_name": "DescriptionStyleModel",
            "_view_count": null,
            "_view_module": "@jupyter-widgets/base",
            "_view_module_version": "1.2.0",
            "_view_name": "StyleView",
            "description_width": ""
          }
        },
        "062992bc20d04bf383c7eb292cb56290": {
          "model_module": "@jupyter-widgets/controls",
          "model_name": "HBoxModel",
          "model_module_version": "1.5.0",
          "state": {
            "_dom_classes": [],
            "_model_module": "@jupyter-widgets/controls",
            "_model_module_version": "1.5.0",
            "_model_name": "HBoxModel",
            "_view_count": null,
            "_view_module": "@jupyter-widgets/controls",
            "_view_module_version": "1.5.0",
            "_view_name": "HBoxView",
            "box_style": "",
            "children": [
              "IPY_MODEL_11f2cee9f3ae4189a9be58649907844c",
              "IPY_MODEL_826afee414f044d282adad30f4ed7416",
              "IPY_MODEL_4653163288924e40af91775e11a67f48"
            ],
            "layout": "IPY_MODEL_ba6e98e72af44fa79ae9f5e8e44b9d05"
          }
        },
        "11f2cee9f3ae4189a9be58649907844c": {
          "model_module": "@jupyter-widgets/controls",
          "model_name": "HTMLModel",
          "model_module_version": "1.5.0",
          "state": {
            "_dom_classes": [],
            "_model_module": "@jupyter-widgets/controls",
            "_model_module_version": "1.5.0",
            "_model_name": "HTMLModel",
            "_view_count": null,
            "_view_module": "@jupyter-widgets/controls",
            "_view_module_version": "1.5.0",
            "_view_name": "HTMLView",
            "description": "",
            "description_tooltip": null,
            "layout": "IPY_MODEL_7944b6f1534f45138c5363eafd3253b0",
            "placeholder": "​",
            "style": "IPY_MODEL_861561fab1284c9caaf973dc50f9eb59",
            "value": "100%"
          }
        },
        "826afee414f044d282adad30f4ed7416": {
          "model_module": "@jupyter-widgets/controls",
          "model_name": "FloatProgressModel",
          "model_module_version": "1.5.0",
          "state": {
            "_dom_classes": [],
            "_model_module": "@jupyter-widgets/controls",
            "_model_module_version": "1.5.0",
            "_model_name": "FloatProgressModel",
            "_view_count": null,
            "_view_module": "@jupyter-widgets/controls",
            "_view_module_version": "1.5.0",
            "_view_name": "ProgressView",
            "bar_style": "success",
            "description": "",
            "description_tooltip": null,
            "layout": "IPY_MODEL_56d43ad0e66c47d5a41ec35018bb84a1",
            "max": 5,
            "min": 0,
            "orientation": "horizontal",
            "style": "IPY_MODEL_f141d50a8d16432e86723c8b1610a3aa",
            "value": 5
          }
        },
        "4653163288924e40af91775e11a67f48": {
          "model_module": "@jupyter-widgets/controls",
          "model_name": "HTMLModel",
          "model_module_version": "1.5.0",
          "state": {
            "_dom_classes": [],
            "_model_module": "@jupyter-widgets/controls",
            "_model_module_version": "1.5.0",
            "_model_name": "HTMLModel",
            "_view_count": null,
            "_view_module": "@jupyter-widgets/controls",
            "_view_module_version": "1.5.0",
            "_view_name": "HTMLView",
            "description": "",
            "description_tooltip": null,
            "layout": "IPY_MODEL_4f65f59673d64ddf86bf38d735be10dc",
            "placeholder": "​",
            "style": "IPY_MODEL_e8e6953e788940cfb7e4dada0f463a1e",
            "value": " 5/5 [00:00&lt;00:00, 73.98ba/s]"
          }
        },
        "ba6e98e72af44fa79ae9f5e8e44b9d05": {
          "model_module": "@jupyter-widgets/base",
          "model_name": "LayoutModel",
          "model_module_version": "1.2.0",
          "state": {
            "_model_module": "@jupyter-widgets/base",
            "_model_module_version": "1.2.0",
            "_model_name": "LayoutModel",
            "_view_count": null,
            "_view_module": "@jupyter-widgets/base",
            "_view_module_version": "1.2.0",
            "_view_name": "LayoutView",
            "align_content": null,
            "align_items": null,
            "align_self": null,
            "border": null,
            "bottom": null,
            "display": null,
            "flex": null,
            "flex_flow": null,
            "grid_area": null,
            "grid_auto_columns": null,
            "grid_auto_flow": null,
            "grid_auto_rows": null,
            "grid_column": null,
            "grid_gap": null,
            "grid_row": null,
            "grid_template_areas": null,
            "grid_template_columns": null,
            "grid_template_rows": null,
            "height": null,
            "justify_content": null,
            "justify_items": null,
            "left": null,
            "margin": null,
            "max_height": null,
            "max_width": null,
            "min_height": null,
            "min_width": null,
            "object_fit": null,
            "object_position": null,
            "order": null,
            "overflow": null,
            "overflow_x": null,
            "overflow_y": null,
            "padding": null,
            "right": null,
            "top": null,
            "visibility": null,
            "width": null
          }
        },
        "7944b6f1534f45138c5363eafd3253b0": {
          "model_module": "@jupyter-widgets/base",
          "model_name": "LayoutModel",
          "model_module_version": "1.2.0",
          "state": {
            "_model_module": "@jupyter-widgets/base",
            "_model_module_version": "1.2.0",
            "_model_name": "LayoutModel",
            "_view_count": null,
            "_view_module": "@jupyter-widgets/base",
            "_view_module_version": "1.2.0",
            "_view_name": "LayoutView",
            "align_content": null,
            "align_items": null,
            "align_self": null,
            "border": null,
            "bottom": null,
            "display": null,
            "flex": null,
            "flex_flow": null,
            "grid_area": null,
            "grid_auto_columns": null,
            "grid_auto_flow": null,
            "grid_auto_rows": null,
            "grid_column": null,
            "grid_gap": null,
            "grid_row": null,
            "grid_template_areas": null,
            "grid_template_columns": null,
            "grid_template_rows": null,
            "height": null,
            "justify_content": null,
            "justify_items": null,
            "left": null,
            "margin": null,
            "max_height": null,
            "max_width": null,
            "min_height": null,
            "min_width": null,
            "object_fit": null,
            "object_position": null,
            "order": null,
            "overflow": null,
            "overflow_x": null,
            "overflow_y": null,
            "padding": null,
            "right": null,
            "top": null,
            "visibility": null,
            "width": null
          }
        },
        "861561fab1284c9caaf973dc50f9eb59": {
          "model_module": "@jupyter-widgets/controls",
          "model_name": "DescriptionStyleModel",
          "model_module_version": "1.5.0",
          "state": {
            "_model_module": "@jupyter-widgets/controls",
            "_model_module_version": "1.5.0",
            "_model_name": "DescriptionStyleModel",
            "_view_count": null,
            "_view_module": "@jupyter-widgets/base",
            "_view_module_version": "1.2.0",
            "_view_name": "StyleView",
            "description_width": ""
          }
        },
        "56d43ad0e66c47d5a41ec35018bb84a1": {
          "model_module": "@jupyter-widgets/base",
          "model_name": "LayoutModel",
          "model_module_version": "1.2.0",
          "state": {
            "_model_module": "@jupyter-widgets/base",
            "_model_module_version": "1.2.0",
            "_model_name": "LayoutModel",
            "_view_count": null,
            "_view_module": "@jupyter-widgets/base",
            "_view_module_version": "1.2.0",
            "_view_name": "LayoutView",
            "align_content": null,
            "align_items": null,
            "align_self": null,
            "border": null,
            "bottom": null,
            "display": null,
            "flex": null,
            "flex_flow": null,
            "grid_area": null,
            "grid_auto_columns": null,
            "grid_auto_flow": null,
            "grid_auto_rows": null,
            "grid_column": null,
            "grid_gap": null,
            "grid_row": null,
            "grid_template_areas": null,
            "grid_template_columns": null,
            "grid_template_rows": null,
            "height": null,
            "justify_content": null,
            "justify_items": null,
            "left": null,
            "margin": null,
            "max_height": null,
            "max_width": null,
            "min_height": null,
            "min_width": null,
            "object_fit": null,
            "object_position": null,
            "order": null,
            "overflow": null,
            "overflow_x": null,
            "overflow_y": null,
            "padding": null,
            "right": null,
            "top": null,
            "visibility": null,
            "width": null
          }
        },
        "f141d50a8d16432e86723c8b1610a3aa": {
          "model_module": "@jupyter-widgets/controls",
          "model_name": "ProgressStyleModel",
          "model_module_version": "1.5.0",
          "state": {
            "_model_module": "@jupyter-widgets/controls",
            "_model_module_version": "1.5.0",
            "_model_name": "ProgressStyleModel",
            "_view_count": null,
            "_view_module": "@jupyter-widgets/base",
            "_view_module_version": "1.2.0",
            "_view_name": "StyleView",
            "bar_color": null,
            "description_width": ""
          }
        },
        "4f65f59673d64ddf86bf38d735be10dc": {
          "model_module": "@jupyter-widgets/base",
          "model_name": "LayoutModel",
          "model_module_version": "1.2.0",
          "state": {
            "_model_module": "@jupyter-widgets/base",
            "_model_module_version": "1.2.0",
            "_model_name": "LayoutModel",
            "_view_count": null,
            "_view_module": "@jupyter-widgets/base",
            "_view_module_version": "1.2.0",
            "_view_name": "LayoutView",
            "align_content": null,
            "align_items": null,
            "align_self": null,
            "border": null,
            "bottom": null,
            "display": null,
            "flex": null,
            "flex_flow": null,
            "grid_area": null,
            "grid_auto_columns": null,
            "grid_auto_flow": null,
            "grid_auto_rows": null,
            "grid_column": null,
            "grid_gap": null,
            "grid_row": null,
            "grid_template_areas": null,
            "grid_template_columns": null,
            "grid_template_rows": null,
            "height": null,
            "justify_content": null,
            "justify_items": null,
            "left": null,
            "margin": null,
            "max_height": null,
            "max_width": null,
            "min_height": null,
            "min_width": null,
            "object_fit": null,
            "object_position": null,
            "order": null,
            "overflow": null,
            "overflow_x": null,
            "overflow_y": null,
            "padding": null,
            "right": null,
            "top": null,
            "visibility": null,
            "width": null
          }
        },
        "e8e6953e788940cfb7e4dada0f463a1e": {
          "model_module": "@jupyter-widgets/controls",
          "model_name": "DescriptionStyleModel",
          "model_module_version": "1.5.0",
          "state": {
            "_model_module": "@jupyter-widgets/controls",
            "_model_module_version": "1.5.0",
            "_model_name": "DescriptionStyleModel",
            "_view_count": null,
            "_view_module": "@jupyter-widgets/base",
            "_view_module_version": "1.2.0",
            "_view_name": "StyleView",
            "description_width": ""
          }
        },
        "5b0894ce455949cdbb666becb895b138": {
          "model_module": "@jupyter-widgets/controls",
          "model_name": "HBoxModel",
          "model_module_version": "1.5.0",
          "state": {
            "_dom_classes": [],
            "_model_module": "@jupyter-widgets/controls",
            "_model_module_version": "1.5.0",
            "_model_name": "HBoxModel",
            "_view_count": null,
            "_view_module": "@jupyter-widgets/controls",
            "_view_module_version": "1.5.0",
            "_view_name": "HBoxView",
            "box_style": "",
            "children": [
              "IPY_MODEL_533c341f12504140b16b009a26a97b2e",
              "IPY_MODEL_92a5e28c895045b0ae0c16be05785be8",
              "IPY_MODEL_22051d7515c0472ead83b25e42368d89"
            ],
            "layout": "IPY_MODEL_bb102d515e6048f496a0d27d444119cc"
          }
        },
        "533c341f12504140b16b009a26a97b2e": {
          "model_module": "@jupyter-widgets/controls",
          "model_name": "HTMLModel",
          "model_module_version": "1.5.0",
          "state": {
            "_dom_classes": [],
            "_model_module": "@jupyter-widgets/controls",
            "_model_module_version": "1.5.0",
            "_model_name": "HTMLModel",
            "_view_count": null,
            "_view_module": "@jupyter-widgets/controls",
            "_view_module_version": "1.5.0",
            "_view_name": "HTMLView",
            "description": "",
            "description_tooltip": null,
            "layout": "IPY_MODEL_d77eec33779748f3ab49c578a2d2c439",
            "placeholder": "​",
            "style": "IPY_MODEL_329fc8d165d4474b955d1495629323c4",
            "value": "100%"
          }
        },
        "92a5e28c895045b0ae0c16be05785be8": {
          "model_module": "@jupyter-widgets/controls",
          "model_name": "FloatProgressModel",
          "model_module_version": "1.5.0",
          "state": {
            "_dom_classes": [],
            "_model_module": "@jupyter-widgets/controls",
            "_model_module_version": "1.5.0",
            "_model_name": "FloatProgressModel",
            "_view_count": null,
            "_view_module": "@jupyter-widgets/controls",
            "_view_module_version": "1.5.0",
            "_view_name": "ProgressView",
            "bar_style": "success",
            "description": "",
            "description_tooltip": null,
            "layout": "IPY_MODEL_ed680436997c460e93c22957ba411cfd",
            "max": 1,
            "min": 0,
            "orientation": "horizontal",
            "style": "IPY_MODEL_9172ca1a7d7140fd90400e892c5f7dde",
            "value": 1
          }
        },
        "22051d7515c0472ead83b25e42368d89": {
          "model_module": "@jupyter-widgets/controls",
          "model_name": "HTMLModel",
          "model_module_version": "1.5.0",
          "state": {
            "_dom_classes": [],
            "_model_module": "@jupyter-widgets/controls",
            "_model_module_version": "1.5.0",
            "_model_name": "HTMLModel",
            "_view_count": null,
            "_view_module": "@jupyter-widgets/controls",
            "_view_module_version": "1.5.0",
            "_view_name": "HTMLView",
            "description": "",
            "description_tooltip": null,
            "layout": "IPY_MODEL_6d390f41b9a9420f9bc9ed0f88255d3e",
            "placeholder": "​",
            "style": "IPY_MODEL_cd5ee12a91ab490c882befd6df49e428",
            "value": " 1/1 [00:00&lt;00:00, 49.70ba/s]"
          }
        },
        "bb102d515e6048f496a0d27d444119cc": {
          "model_module": "@jupyter-widgets/base",
          "model_name": "LayoutModel",
          "model_module_version": "1.2.0",
          "state": {
            "_model_module": "@jupyter-widgets/base",
            "_model_module_version": "1.2.0",
            "_model_name": "LayoutModel",
            "_view_count": null,
            "_view_module": "@jupyter-widgets/base",
            "_view_module_version": "1.2.0",
            "_view_name": "LayoutView",
            "align_content": null,
            "align_items": null,
            "align_self": null,
            "border": null,
            "bottom": null,
            "display": null,
            "flex": null,
            "flex_flow": null,
            "grid_area": null,
            "grid_auto_columns": null,
            "grid_auto_flow": null,
            "grid_auto_rows": null,
            "grid_column": null,
            "grid_gap": null,
            "grid_row": null,
            "grid_template_areas": null,
            "grid_template_columns": null,
            "grid_template_rows": null,
            "height": null,
            "justify_content": null,
            "justify_items": null,
            "left": null,
            "margin": null,
            "max_height": null,
            "max_width": null,
            "min_height": null,
            "min_width": null,
            "object_fit": null,
            "object_position": null,
            "order": null,
            "overflow": null,
            "overflow_x": null,
            "overflow_y": null,
            "padding": null,
            "right": null,
            "top": null,
            "visibility": null,
            "width": null
          }
        },
        "d77eec33779748f3ab49c578a2d2c439": {
          "model_module": "@jupyter-widgets/base",
          "model_name": "LayoutModel",
          "model_module_version": "1.2.0",
          "state": {
            "_model_module": "@jupyter-widgets/base",
            "_model_module_version": "1.2.0",
            "_model_name": "LayoutModel",
            "_view_count": null,
            "_view_module": "@jupyter-widgets/base",
            "_view_module_version": "1.2.0",
            "_view_name": "LayoutView",
            "align_content": null,
            "align_items": null,
            "align_self": null,
            "border": null,
            "bottom": null,
            "display": null,
            "flex": null,
            "flex_flow": null,
            "grid_area": null,
            "grid_auto_columns": null,
            "grid_auto_flow": null,
            "grid_auto_rows": null,
            "grid_column": null,
            "grid_gap": null,
            "grid_row": null,
            "grid_template_areas": null,
            "grid_template_columns": null,
            "grid_template_rows": null,
            "height": null,
            "justify_content": null,
            "justify_items": null,
            "left": null,
            "margin": null,
            "max_height": null,
            "max_width": null,
            "min_height": null,
            "min_width": null,
            "object_fit": null,
            "object_position": null,
            "order": null,
            "overflow": null,
            "overflow_x": null,
            "overflow_y": null,
            "padding": null,
            "right": null,
            "top": null,
            "visibility": null,
            "width": null
          }
        },
        "329fc8d165d4474b955d1495629323c4": {
          "model_module": "@jupyter-widgets/controls",
          "model_name": "DescriptionStyleModel",
          "model_module_version": "1.5.0",
          "state": {
            "_model_module": "@jupyter-widgets/controls",
            "_model_module_version": "1.5.0",
            "_model_name": "DescriptionStyleModel",
            "_view_count": null,
            "_view_module": "@jupyter-widgets/base",
            "_view_module_version": "1.2.0",
            "_view_name": "StyleView",
            "description_width": ""
          }
        },
        "ed680436997c460e93c22957ba411cfd": {
          "model_module": "@jupyter-widgets/base",
          "model_name": "LayoutModel",
          "model_module_version": "1.2.0",
          "state": {
            "_model_module": "@jupyter-widgets/base",
            "_model_module_version": "1.2.0",
            "_model_name": "LayoutModel",
            "_view_count": null,
            "_view_module": "@jupyter-widgets/base",
            "_view_module_version": "1.2.0",
            "_view_name": "LayoutView",
            "align_content": null,
            "align_items": null,
            "align_self": null,
            "border": null,
            "bottom": null,
            "display": null,
            "flex": null,
            "flex_flow": null,
            "grid_area": null,
            "grid_auto_columns": null,
            "grid_auto_flow": null,
            "grid_auto_rows": null,
            "grid_column": null,
            "grid_gap": null,
            "grid_row": null,
            "grid_template_areas": null,
            "grid_template_columns": null,
            "grid_template_rows": null,
            "height": null,
            "justify_content": null,
            "justify_items": null,
            "left": null,
            "margin": null,
            "max_height": null,
            "max_width": null,
            "min_height": null,
            "min_width": null,
            "object_fit": null,
            "object_position": null,
            "order": null,
            "overflow": null,
            "overflow_x": null,
            "overflow_y": null,
            "padding": null,
            "right": null,
            "top": null,
            "visibility": null,
            "width": null
          }
        },
        "9172ca1a7d7140fd90400e892c5f7dde": {
          "model_module": "@jupyter-widgets/controls",
          "model_name": "ProgressStyleModel",
          "model_module_version": "1.5.0",
          "state": {
            "_model_module": "@jupyter-widgets/controls",
            "_model_module_version": "1.5.0",
            "_model_name": "ProgressStyleModel",
            "_view_count": null,
            "_view_module": "@jupyter-widgets/base",
            "_view_module_version": "1.2.0",
            "_view_name": "StyleView",
            "bar_color": null,
            "description_width": ""
          }
        },
        "6d390f41b9a9420f9bc9ed0f88255d3e": {
          "model_module": "@jupyter-widgets/base",
          "model_name": "LayoutModel",
          "model_module_version": "1.2.0",
          "state": {
            "_model_module": "@jupyter-widgets/base",
            "_model_module_version": "1.2.0",
            "_model_name": "LayoutModel",
            "_view_count": null,
            "_view_module": "@jupyter-widgets/base",
            "_view_module_version": "1.2.0",
            "_view_name": "LayoutView",
            "align_content": null,
            "align_items": null,
            "align_self": null,
            "border": null,
            "bottom": null,
            "display": null,
            "flex": null,
            "flex_flow": null,
            "grid_area": null,
            "grid_auto_columns": null,
            "grid_auto_flow": null,
            "grid_auto_rows": null,
            "grid_column": null,
            "grid_gap": null,
            "grid_row": null,
            "grid_template_areas": null,
            "grid_template_columns": null,
            "grid_template_rows": null,
            "height": null,
            "justify_content": null,
            "justify_items": null,
            "left": null,
            "margin": null,
            "max_height": null,
            "max_width": null,
            "min_height": null,
            "min_width": null,
            "object_fit": null,
            "object_position": null,
            "order": null,
            "overflow": null,
            "overflow_x": null,
            "overflow_y": null,
            "padding": null,
            "right": null,
            "top": null,
            "visibility": null,
            "width": null
          }
        },
        "cd5ee12a91ab490c882befd6df49e428": {
          "model_module": "@jupyter-widgets/controls",
          "model_name": "DescriptionStyleModel",
          "model_module_version": "1.5.0",
          "state": {
            "_model_module": "@jupyter-widgets/controls",
            "_model_module_version": "1.5.0",
            "_model_name": "DescriptionStyleModel",
            "_view_count": null,
            "_view_module": "@jupyter-widgets/base",
            "_view_module_version": "1.2.0",
            "_view_name": "StyleView",
            "description_width": ""
          }
        },
        "93b157ef5e0f4a77ad5becea923ec97a": {
          "model_module": "@jupyter-widgets/controls",
          "model_name": "HBoxModel",
          "model_module_version": "1.5.0",
          "state": {
            "_dom_classes": [],
            "_model_module": "@jupyter-widgets/controls",
            "_model_module_version": "1.5.0",
            "_model_name": "HBoxModel",
            "_view_count": null,
            "_view_module": "@jupyter-widgets/controls",
            "_view_module_version": "1.5.0",
            "_view_name": "HBoxView",
            "box_style": "",
            "children": [
              "IPY_MODEL_661f4441ca074830ba5a8ff629a327a8",
              "IPY_MODEL_48a42a23115d4c7d96a2baa2393e38f6",
              "IPY_MODEL_9e02be8202304f1fa6e09403f7efe38a"
            ],
            "layout": "IPY_MODEL_c6cfaca312d2402faa9fcd65f4e42a65"
          }
        },
        "661f4441ca074830ba5a8ff629a327a8": {
          "model_module": "@jupyter-widgets/controls",
          "model_name": "HTMLModel",
          "model_module_version": "1.5.0",
          "state": {
            "_dom_classes": [],
            "_model_module": "@jupyter-widgets/controls",
            "_model_module_version": "1.5.0",
            "_model_name": "HTMLModel",
            "_view_count": null,
            "_view_module": "@jupyter-widgets/controls",
            "_view_module_version": "1.5.0",
            "_view_name": "HTMLView",
            "description": "",
            "description_tooltip": null,
            "layout": "IPY_MODEL_e6f01534de684955838d926eb2c298da",
            "placeholder": "​",
            "style": "IPY_MODEL_cedcbbabb32c4964b1f02174629b3c80",
            "value": "100%"
          }
        },
        "48a42a23115d4c7d96a2baa2393e38f6": {
          "model_module": "@jupyter-widgets/controls",
          "model_name": "FloatProgressModel",
          "model_module_version": "1.5.0",
          "state": {
            "_dom_classes": [],
            "_model_module": "@jupyter-widgets/controls",
            "_model_module_version": "1.5.0",
            "_model_name": "FloatProgressModel",
            "_view_count": null,
            "_view_module": "@jupyter-widgets/controls",
            "_view_module_version": "1.5.0",
            "_view_name": "ProgressView",
            "bar_style": "success",
            "description": "",
            "description_tooltip": null,
            "layout": "IPY_MODEL_ee96bb6ad6b042869e579e64dd23856d",
            "max": 1,
            "min": 0,
            "orientation": "horizontal",
            "style": "IPY_MODEL_4c269f598fe64b43bee81006df304cb6",
            "value": 1
          }
        },
        "9e02be8202304f1fa6e09403f7efe38a": {
          "model_module": "@jupyter-widgets/controls",
          "model_name": "HTMLModel",
          "model_module_version": "1.5.0",
          "state": {
            "_dom_classes": [],
            "_model_module": "@jupyter-widgets/controls",
            "_model_module_version": "1.5.0",
            "_model_name": "HTMLModel",
            "_view_count": null,
            "_view_module": "@jupyter-widgets/controls",
            "_view_module_version": "1.5.0",
            "_view_name": "HTMLView",
            "description": "",
            "description_tooltip": null,
            "layout": "IPY_MODEL_fafaea533c9d4588a0a9aeee97a8ba6b",
            "placeholder": "​",
            "style": "IPY_MODEL_46b8470486f34980b0e9c45e041ca9de",
            "value": " 1/1 [00:00&lt;00:00, 37.18ba/s]"
          }
        },
        "c6cfaca312d2402faa9fcd65f4e42a65": {
          "model_module": "@jupyter-widgets/base",
          "model_name": "LayoutModel",
          "model_module_version": "1.2.0",
          "state": {
            "_model_module": "@jupyter-widgets/base",
            "_model_module_version": "1.2.0",
            "_model_name": "LayoutModel",
            "_view_count": null,
            "_view_module": "@jupyter-widgets/base",
            "_view_module_version": "1.2.0",
            "_view_name": "LayoutView",
            "align_content": null,
            "align_items": null,
            "align_self": null,
            "border": null,
            "bottom": null,
            "display": null,
            "flex": null,
            "flex_flow": null,
            "grid_area": null,
            "grid_auto_columns": null,
            "grid_auto_flow": null,
            "grid_auto_rows": null,
            "grid_column": null,
            "grid_gap": null,
            "grid_row": null,
            "grid_template_areas": null,
            "grid_template_columns": null,
            "grid_template_rows": null,
            "height": null,
            "justify_content": null,
            "justify_items": null,
            "left": null,
            "margin": null,
            "max_height": null,
            "max_width": null,
            "min_height": null,
            "min_width": null,
            "object_fit": null,
            "object_position": null,
            "order": null,
            "overflow": null,
            "overflow_x": null,
            "overflow_y": null,
            "padding": null,
            "right": null,
            "top": null,
            "visibility": null,
            "width": null
          }
        },
        "e6f01534de684955838d926eb2c298da": {
          "model_module": "@jupyter-widgets/base",
          "model_name": "LayoutModel",
          "model_module_version": "1.2.0",
          "state": {
            "_model_module": "@jupyter-widgets/base",
            "_model_module_version": "1.2.0",
            "_model_name": "LayoutModel",
            "_view_count": null,
            "_view_module": "@jupyter-widgets/base",
            "_view_module_version": "1.2.0",
            "_view_name": "LayoutView",
            "align_content": null,
            "align_items": null,
            "align_self": null,
            "border": null,
            "bottom": null,
            "display": null,
            "flex": null,
            "flex_flow": null,
            "grid_area": null,
            "grid_auto_columns": null,
            "grid_auto_flow": null,
            "grid_auto_rows": null,
            "grid_column": null,
            "grid_gap": null,
            "grid_row": null,
            "grid_template_areas": null,
            "grid_template_columns": null,
            "grid_template_rows": null,
            "height": null,
            "justify_content": null,
            "justify_items": null,
            "left": null,
            "margin": null,
            "max_height": null,
            "max_width": null,
            "min_height": null,
            "min_width": null,
            "object_fit": null,
            "object_position": null,
            "order": null,
            "overflow": null,
            "overflow_x": null,
            "overflow_y": null,
            "padding": null,
            "right": null,
            "top": null,
            "visibility": null,
            "width": null
          }
        },
        "cedcbbabb32c4964b1f02174629b3c80": {
          "model_module": "@jupyter-widgets/controls",
          "model_name": "DescriptionStyleModel",
          "model_module_version": "1.5.0",
          "state": {
            "_model_module": "@jupyter-widgets/controls",
            "_model_module_version": "1.5.0",
            "_model_name": "DescriptionStyleModel",
            "_view_count": null,
            "_view_module": "@jupyter-widgets/base",
            "_view_module_version": "1.2.0",
            "_view_name": "StyleView",
            "description_width": ""
          }
        },
        "ee96bb6ad6b042869e579e64dd23856d": {
          "model_module": "@jupyter-widgets/base",
          "model_name": "LayoutModel",
          "model_module_version": "1.2.0",
          "state": {
            "_model_module": "@jupyter-widgets/base",
            "_model_module_version": "1.2.0",
            "_model_name": "LayoutModel",
            "_view_count": null,
            "_view_module": "@jupyter-widgets/base",
            "_view_module_version": "1.2.0",
            "_view_name": "LayoutView",
            "align_content": null,
            "align_items": null,
            "align_self": null,
            "border": null,
            "bottom": null,
            "display": null,
            "flex": null,
            "flex_flow": null,
            "grid_area": null,
            "grid_auto_columns": null,
            "grid_auto_flow": null,
            "grid_auto_rows": null,
            "grid_column": null,
            "grid_gap": null,
            "grid_row": null,
            "grid_template_areas": null,
            "grid_template_columns": null,
            "grid_template_rows": null,
            "height": null,
            "justify_content": null,
            "justify_items": null,
            "left": null,
            "margin": null,
            "max_height": null,
            "max_width": null,
            "min_height": null,
            "min_width": null,
            "object_fit": null,
            "object_position": null,
            "order": null,
            "overflow": null,
            "overflow_x": null,
            "overflow_y": null,
            "padding": null,
            "right": null,
            "top": null,
            "visibility": null,
            "width": null
          }
        },
        "4c269f598fe64b43bee81006df304cb6": {
          "model_module": "@jupyter-widgets/controls",
          "model_name": "ProgressStyleModel",
          "model_module_version": "1.5.0",
          "state": {
            "_model_module": "@jupyter-widgets/controls",
            "_model_module_version": "1.5.0",
            "_model_name": "ProgressStyleModel",
            "_view_count": null,
            "_view_module": "@jupyter-widgets/base",
            "_view_module_version": "1.2.0",
            "_view_name": "StyleView",
            "bar_color": null,
            "description_width": ""
          }
        },
        "fafaea533c9d4588a0a9aeee97a8ba6b": {
          "model_module": "@jupyter-widgets/base",
          "model_name": "LayoutModel",
          "model_module_version": "1.2.0",
          "state": {
            "_model_module": "@jupyter-widgets/base",
            "_model_module_version": "1.2.0",
            "_model_name": "LayoutModel",
            "_view_count": null,
            "_view_module": "@jupyter-widgets/base",
            "_view_module_version": "1.2.0",
            "_view_name": "LayoutView",
            "align_content": null,
            "align_items": null,
            "align_self": null,
            "border": null,
            "bottom": null,
            "display": null,
            "flex": null,
            "flex_flow": null,
            "grid_area": null,
            "grid_auto_columns": null,
            "grid_auto_flow": null,
            "grid_auto_rows": null,
            "grid_column": null,
            "grid_gap": null,
            "grid_row": null,
            "grid_template_areas": null,
            "grid_template_columns": null,
            "grid_template_rows": null,
            "height": null,
            "justify_content": null,
            "justify_items": null,
            "left": null,
            "margin": null,
            "max_height": null,
            "max_width": null,
            "min_height": null,
            "min_width": null,
            "object_fit": null,
            "object_position": null,
            "order": null,
            "overflow": null,
            "overflow_x": null,
            "overflow_y": null,
            "padding": null,
            "right": null,
            "top": null,
            "visibility": null,
            "width": null
          }
        },
        "46b8470486f34980b0e9c45e041ca9de": {
          "model_module": "@jupyter-widgets/controls",
          "model_name": "DescriptionStyleModel",
          "model_module_version": "1.5.0",
          "state": {
            "_model_module": "@jupyter-widgets/controls",
            "_model_module_version": "1.5.0",
            "_model_name": "DescriptionStyleModel",
            "_view_count": null,
            "_view_module": "@jupyter-widgets/base",
            "_view_module_version": "1.2.0",
            "_view_name": "StyleView",
            "description_width": ""
          }
        },
        "f411962da88841f0b371fe14c803c986": {
          "model_module": "@jupyter-widgets/controls",
          "model_name": "HBoxModel",
          "model_module_version": "1.5.0",
          "state": {
            "_dom_classes": [],
            "_model_module": "@jupyter-widgets/controls",
            "_model_module_version": "1.5.0",
            "_model_name": "HBoxModel",
            "_view_count": null,
            "_view_module": "@jupyter-widgets/controls",
            "_view_module_version": "1.5.0",
            "_view_name": "HBoxView",
            "box_style": "",
            "children": [
              "IPY_MODEL_12faf42139174cac894e2a11b610c983",
              "IPY_MODEL_cface63a4e1947b8a8b2a9fdc1a48dc7",
              "IPY_MODEL_009b6c5f347f4cee920c299110c64ac6"
            ],
            "layout": "IPY_MODEL_981173cb58db4fb2acfaf63b0d1997b8"
          }
        },
        "12faf42139174cac894e2a11b610c983": {
          "model_module": "@jupyter-widgets/controls",
          "model_name": "HTMLModel",
          "model_module_version": "1.5.0",
          "state": {
            "_dom_classes": [],
            "_model_module": "@jupyter-widgets/controls",
            "_model_module_version": "1.5.0",
            "_model_name": "HTMLModel",
            "_view_count": null,
            "_view_module": "@jupyter-widgets/controls",
            "_view_module_version": "1.5.0",
            "_view_name": "HTMLView",
            "description": "",
            "description_tooltip": null,
            "layout": "IPY_MODEL_cae83e9a97ae45a9bdb137393b4947eb",
            "placeholder": "​",
            "style": "IPY_MODEL_4884a1235df84256914854792394fd62",
            "value": "Downloading: "
          }
        },
        "cface63a4e1947b8a8b2a9fdc1a48dc7": {
          "model_module": "@jupyter-widgets/controls",
          "model_name": "FloatProgressModel",
          "model_module_version": "1.5.0",
          "state": {
            "_dom_classes": [],
            "_model_module": "@jupyter-widgets/controls",
            "_model_module_version": "1.5.0",
            "_model_name": "FloatProgressModel",
            "_view_count": null,
            "_view_module": "@jupyter-widgets/controls",
            "_view_module_version": "1.5.0",
            "_view_name": "ProgressView",
            "bar_style": "success",
            "description": "",
            "description_tooltip": null,
            "layout": "IPY_MODEL_f8afa1f1d1f24bf2a69ddaa76296ed97",
            "max": 1901,
            "min": 0,
            "orientation": "horizontal",
            "style": "IPY_MODEL_a54596eddbee4e7c83a5ec56461a12ee",
            "value": 1901
          }
        },
        "009b6c5f347f4cee920c299110c64ac6": {
          "model_module": "@jupyter-widgets/controls",
          "model_name": "HTMLModel",
          "model_module_version": "1.5.0",
          "state": {
            "_dom_classes": [],
            "_model_module": "@jupyter-widgets/controls",
            "_model_module_version": "1.5.0",
            "_model_name": "HTMLModel",
            "_view_count": null,
            "_view_module": "@jupyter-widgets/controls",
            "_view_module_version": "1.5.0",
            "_view_name": "HTMLView",
            "description": "",
            "description_tooltip": null,
            "layout": "IPY_MODEL_2e793b759e4347f9816c85a7527c0828",
            "placeholder": "​",
            "style": "IPY_MODEL_9e53081c85dd4815a9bbbcc0a409a530",
            "value": " 4.48k/? [00:00&lt;00:00, 200kB/s]"
          }
        },
        "981173cb58db4fb2acfaf63b0d1997b8": {
          "model_module": "@jupyter-widgets/base",
          "model_name": "LayoutModel",
          "model_module_version": "1.2.0",
          "state": {
            "_model_module": "@jupyter-widgets/base",
            "_model_module_version": "1.2.0",
            "_model_name": "LayoutModel",
            "_view_count": null,
            "_view_module": "@jupyter-widgets/base",
            "_view_module_version": "1.2.0",
            "_view_name": "LayoutView",
            "align_content": null,
            "align_items": null,
            "align_self": null,
            "border": null,
            "bottom": null,
            "display": null,
            "flex": null,
            "flex_flow": null,
            "grid_area": null,
            "grid_auto_columns": null,
            "grid_auto_flow": null,
            "grid_auto_rows": null,
            "grid_column": null,
            "grid_gap": null,
            "grid_row": null,
            "grid_template_areas": null,
            "grid_template_columns": null,
            "grid_template_rows": null,
            "height": null,
            "justify_content": null,
            "justify_items": null,
            "left": null,
            "margin": null,
            "max_height": null,
            "max_width": null,
            "min_height": null,
            "min_width": null,
            "object_fit": null,
            "object_position": null,
            "order": null,
            "overflow": null,
            "overflow_x": null,
            "overflow_y": null,
            "padding": null,
            "right": null,
            "top": null,
            "visibility": null,
            "width": null
          }
        },
        "cae83e9a97ae45a9bdb137393b4947eb": {
          "model_module": "@jupyter-widgets/base",
          "model_name": "LayoutModel",
          "model_module_version": "1.2.0",
          "state": {
            "_model_module": "@jupyter-widgets/base",
            "_model_module_version": "1.2.0",
            "_model_name": "LayoutModel",
            "_view_count": null,
            "_view_module": "@jupyter-widgets/base",
            "_view_module_version": "1.2.0",
            "_view_name": "LayoutView",
            "align_content": null,
            "align_items": null,
            "align_self": null,
            "border": null,
            "bottom": null,
            "display": null,
            "flex": null,
            "flex_flow": null,
            "grid_area": null,
            "grid_auto_columns": null,
            "grid_auto_flow": null,
            "grid_auto_rows": null,
            "grid_column": null,
            "grid_gap": null,
            "grid_row": null,
            "grid_template_areas": null,
            "grid_template_columns": null,
            "grid_template_rows": null,
            "height": null,
            "justify_content": null,
            "justify_items": null,
            "left": null,
            "margin": null,
            "max_height": null,
            "max_width": null,
            "min_height": null,
            "min_width": null,
            "object_fit": null,
            "object_position": null,
            "order": null,
            "overflow": null,
            "overflow_x": null,
            "overflow_y": null,
            "padding": null,
            "right": null,
            "top": null,
            "visibility": null,
            "width": null
          }
        },
        "4884a1235df84256914854792394fd62": {
          "model_module": "@jupyter-widgets/controls",
          "model_name": "DescriptionStyleModel",
          "model_module_version": "1.5.0",
          "state": {
            "_model_module": "@jupyter-widgets/controls",
            "_model_module_version": "1.5.0",
            "_model_name": "DescriptionStyleModel",
            "_view_count": null,
            "_view_module": "@jupyter-widgets/base",
            "_view_module_version": "1.2.0",
            "_view_name": "StyleView",
            "description_width": ""
          }
        },
        "f8afa1f1d1f24bf2a69ddaa76296ed97": {
          "model_module": "@jupyter-widgets/base",
          "model_name": "LayoutModel",
          "model_module_version": "1.2.0",
          "state": {
            "_model_module": "@jupyter-widgets/base",
            "_model_module_version": "1.2.0",
            "_model_name": "LayoutModel",
            "_view_count": null,
            "_view_module": "@jupyter-widgets/base",
            "_view_module_version": "1.2.0",
            "_view_name": "LayoutView",
            "align_content": null,
            "align_items": null,
            "align_self": null,
            "border": null,
            "bottom": null,
            "display": null,
            "flex": null,
            "flex_flow": null,
            "grid_area": null,
            "grid_auto_columns": null,
            "grid_auto_flow": null,
            "grid_auto_rows": null,
            "grid_column": null,
            "grid_gap": null,
            "grid_row": null,
            "grid_template_areas": null,
            "grid_template_columns": null,
            "grid_template_rows": null,
            "height": null,
            "justify_content": null,
            "justify_items": null,
            "left": null,
            "margin": null,
            "max_height": null,
            "max_width": null,
            "min_height": null,
            "min_width": null,
            "object_fit": null,
            "object_position": null,
            "order": null,
            "overflow": null,
            "overflow_x": null,
            "overflow_y": null,
            "padding": null,
            "right": null,
            "top": null,
            "visibility": null,
            "width": null
          }
        },
        "a54596eddbee4e7c83a5ec56461a12ee": {
          "model_module": "@jupyter-widgets/controls",
          "model_name": "ProgressStyleModel",
          "model_module_version": "1.5.0",
          "state": {
            "_model_module": "@jupyter-widgets/controls",
            "_model_module_version": "1.5.0",
            "_model_name": "ProgressStyleModel",
            "_view_count": null,
            "_view_module": "@jupyter-widgets/base",
            "_view_module_version": "1.2.0",
            "_view_name": "StyleView",
            "bar_color": null,
            "description_width": ""
          }
        },
        "2e793b759e4347f9816c85a7527c0828": {
          "model_module": "@jupyter-widgets/base",
          "model_name": "LayoutModel",
          "model_module_version": "1.2.0",
          "state": {
            "_model_module": "@jupyter-widgets/base",
            "_model_module_version": "1.2.0",
            "_model_name": "LayoutModel",
            "_view_count": null,
            "_view_module": "@jupyter-widgets/base",
            "_view_module_version": "1.2.0",
            "_view_name": "LayoutView",
            "align_content": null,
            "align_items": null,
            "align_self": null,
            "border": null,
            "bottom": null,
            "display": null,
            "flex": null,
            "flex_flow": null,
            "grid_area": null,
            "grid_auto_columns": null,
            "grid_auto_flow": null,
            "grid_auto_rows": null,
            "grid_column": null,
            "grid_gap": null,
            "grid_row": null,
            "grid_template_areas": null,
            "grid_template_columns": null,
            "grid_template_rows": null,
            "height": null,
            "justify_content": null,
            "justify_items": null,
            "left": null,
            "margin": null,
            "max_height": null,
            "max_width": null,
            "min_height": null,
            "min_width": null,
            "object_fit": null,
            "object_position": null,
            "order": null,
            "overflow": null,
            "overflow_x": null,
            "overflow_y": null,
            "padding": null,
            "right": null,
            "top": null,
            "visibility": null,
            "width": null
          }
        },
        "9e53081c85dd4815a9bbbcc0a409a530": {
          "model_module": "@jupyter-widgets/controls",
          "model_name": "DescriptionStyleModel",
          "model_module_version": "1.5.0",
          "state": {
            "_model_module": "@jupyter-widgets/controls",
            "_model_module_version": "1.5.0",
            "_model_name": "DescriptionStyleModel",
            "_view_count": null,
            "_view_module": "@jupyter-widgets/base",
            "_view_module_version": "1.2.0",
            "_view_name": "StyleView",
            "description_width": ""
          }
        },
        "2965f78da23b47c682cb8c9bc2a60a7b": {
          "model_module": "@jupyter-widgets/controls",
          "model_name": "HBoxModel",
          "model_module_version": "1.5.0",
          "state": {
            "_dom_classes": [],
            "_model_module": "@jupyter-widgets/controls",
            "_model_module_version": "1.5.0",
            "_model_name": "HBoxModel",
            "_view_count": null,
            "_view_module": "@jupyter-widgets/controls",
            "_view_module_version": "1.5.0",
            "_view_name": "HBoxView",
            "box_style": "",
            "children": [
              "IPY_MODEL_ec2b493bec474822812bc997966d83e0",
              "IPY_MODEL_fa8bd185471c41a5a4fa743745b39ae8",
              "IPY_MODEL_be02b78b88cb4c26967b606a206e891d"
            ],
            "layout": "IPY_MODEL_432be82ae86e463a9c4b05e94da1b0ae"
          }
        },
        "ec2b493bec474822812bc997966d83e0": {
          "model_module": "@jupyter-widgets/controls",
          "model_name": "HTMLModel",
          "model_module_version": "1.5.0",
          "state": {
            "_dom_classes": [],
            "_model_module": "@jupyter-widgets/controls",
            "_model_module_version": "1.5.0",
            "_model_name": "HTMLModel",
            "_view_count": null,
            "_view_module": "@jupyter-widgets/controls",
            "_view_module_version": "1.5.0",
            "_view_name": "HTMLView",
            "description": "",
            "description_tooltip": null,
            "layout": "IPY_MODEL_02d4d64cd42f4eafb0abd13ca84a1e49",
            "placeholder": "​",
            "style": "IPY_MODEL_32daa39d064c4643b5106681d532350b",
            "value": "Downloading (…)lve/main/config.json: 100%"
          }
        },
        "fa8bd185471c41a5a4fa743745b39ae8": {
          "model_module": "@jupyter-widgets/controls",
          "model_name": "FloatProgressModel",
          "model_module_version": "1.5.0",
          "state": {
            "_dom_classes": [],
            "_model_module": "@jupyter-widgets/controls",
            "_model_module_version": "1.5.0",
            "_model_name": "FloatProgressModel",
            "_view_count": null,
            "_view_module": "@jupyter-widgets/controls",
            "_view_module_version": "1.5.0",
            "_view_name": "ProgressView",
            "bar_style": "success",
            "description": "",
            "description_tooltip": null,
            "layout": "IPY_MODEL_999822b44b424e089da4cc38eed3aa90",
            "max": 1768,
            "min": 0,
            "orientation": "horizontal",
            "style": "IPY_MODEL_e11510bc256e47af8d64bb379cb42c4d",
            "value": 1768
          }
        },
        "be02b78b88cb4c26967b606a206e891d": {
          "model_module": "@jupyter-widgets/controls",
          "model_name": "HTMLModel",
          "model_module_version": "1.5.0",
          "state": {
            "_dom_classes": [],
            "_model_module": "@jupyter-widgets/controls",
            "_model_module_version": "1.5.0",
            "_model_name": "HTMLModel",
            "_view_count": null,
            "_view_module": "@jupyter-widgets/controls",
            "_view_module_version": "1.5.0",
            "_view_name": "HTMLView",
            "description": "",
            "description_tooltip": null,
            "layout": "IPY_MODEL_aff09e52a95b4cfba36c63ecf34f2bb2",
            "placeholder": "​",
            "style": "IPY_MODEL_87b720bc65774248bea86117f3690661",
            "value": " 1.77k/1.77k [00:00&lt;00:00, 117kB/s]"
          }
        },
        "432be82ae86e463a9c4b05e94da1b0ae": {
          "model_module": "@jupyter-widgets/base",
          "model_name": "LayoutModel",
          "model_module_version": "1.2.0",
          "state": {
            "_model_module": "@jupyter-widgets/base",
            "_model_module_version": "1.2.0",
            "_model_name": "LayoutModel",
            "_view_count": null,
            "_view_module": "@jupyter-widgets/base",
            "_view_module_version": "1.2.0",
            "_view_name": "LayoutView",
            "align_content": null,
            "align_items": null,
            "align_self": null,
            "border": null,
            "bottom": null,
            "display": null,
            "flex": null,
            "flex_flow": null,
            "grid_area": null,
            "grid_auto_columns": null,
            "grid_auto_flow": null,
            "grid_auto_rows": null,
            "grid_column": null,
            "grid_gap": null,
            "grid_row": null,
            "grid_template_areas": null,
            "grid_template_columns": null,
            "grid_template_rows": null,
            "height": null,
            "justify_content": null,
            "justify_items": null,
            "left": null,
            "margin": null,
            "max_height": null,
            "max_width": null,
            "min_height": null,
            "min_width": null,
            "object_fit": null,
            "object_position": null,
            "order": null,
            "overflow": null,
            "overflow_x": null,
            "overflow_y": null,
            "padding": null,
            "right": null,
            "top": null,
            "visibility": null,
            "width": null
          }
        },
        "02d4d64cd42f4eafb0abd13ca84a1e49": {
          "model_module": "@jupyter-widgets/base",
          "model_name": "LayoutModel",
          "model_module_version": "1.2.0",
          "state": {
            "_model_module": "@jupyter-widgets/base",
            "_model_module_version": "1.2.0",
            "_model_name": "LayoutModel",
            "_view_count": null,
            "_view_module": "@jupyter-widgets/base",
            "_view_module_version": "1.2.0",
            "_view_name": "LayoutView",
            "align_content": null,
            "align_items": null,
            "align_self": null,
            "border": null,
            "bottom": null,
            "display": null,
            "flex": null,
            "flex_flow": null,
            "grid_area": null,
            "grid_auto_columns": null,
            "grid_auto_flow": null,
            "grid_auto_rows": null,
            "grid_column": null,
            "grid_gap": null,
            "grid_row": null,
            "grid_template_areas": null,
            "grid_template_columns": null,
            "grid_template_rows": null,
            "height": null,
            "justify_content": null,
            "justify_items": null,
            "left": null,
            "margin": null,
            "max_height": null,
            "max_width": null,
            "min_height": null,
            "min_width": null,
            "object_fit": null,
            "object_position": null,
            "order": null,
            "overflow": null,
            "overflow_x": null,
            "overflow_y": null,
            "padding": null,
            "right": null,
            "top": null,
            "visibility": null,
            "width": null
          }
        },
        "32daa39d064c4643b5106681d532350b": {
          "model_module": "@jupyter-widgets/controls",
          "model_name": "DescriptionStyleModel",
          "model_module_version": "1.5.0",
          "state": {
            "_model_module": "@jupyter-widgets/controls",
            "_model_module_version": "1.5.0",
            "_model_name": "DescriptionStyleModel",
            "_view_count": null,
            "_view_module": "@jupyter-widgets/base",
            "_view_module_version": "1.2.0",
            "_view_name": "StyleView",
            "description_width": ""
          }
        },
        "999822b44b424e089da4cc38eed3aa90": {
          "model_module": "@jupyter-widgets/base",
          "model_name": "LayoutModel",
          "model_module_version": "1.2.0",
          "state": {
            "_model_module": "@jupyter-widgets/base",
            "_model_module_version": "1.2.0",
            "_model_name": "LayoutModel",
            "_view_count": null,
            "_view_module": "@jupyter-widgets/base",
            "_view_module_version": "1.2.0",
            "_view_name": "LayoutView",
            "align_content": null,
            "align_items": null,
            "align_self": null,
            "border": null,
            "bottom": null,
            "display": null,
            "flex": null,
            "flex_flow": null,
            "grid_area": null,
            "grid_auto_columns": null,
            "grid_auto_flow": null,
            "grid_auto_rows": null,
            "grid_column": null,
            "grid_gap": null,
            "grid_row": null,
            "grid_template_areas": null,
            "grid_template_columns": null,
            "grid_template_rows": null,
            "height": null,
            "justify_content": null,
            "justify_items": null,
            "left": null,
            "margin": null,
            "max_height": null,
            "max_width": null,
            "min_height": null,
            "min_width": null,
            "object_fit": null,
            "object_position": null,
            "order": null,
            "overflow": null,
            "overflow_x": null,
            "overflow_y": null,
            "padding": null,
            "right": null,
            "top": null,
            "visibility": null,
            "width": null
          }
        },
        "e11510bc256e47af8d64bb379cb42c4d": {
          "model_module": "@jupyter-widgets/controls",
          "model_name": "ProgressStyleModel",
          "model_module_version": "1.5.0",
          "state": {
            "_model_module": "@jupyter-widgets/controls",
            "_model_module_version": "1.5.0",
            "_model_name": "ProgressStyleModel",
            "_view_count": null,
            "_view_module": "@jupyter-widgets/base",
            "_view_module_version": "1.2.0",
            "_view_name": "StyleView",
            "bar_color": null,
            "description_width": ""
          }
        },
        "aff09e52a95b4cfba36c63ecf34f2bb2": {
          "model_module": "@jupyter-widgets/base",
          "model_name": "LayoutModel",
          "model_module_version": "1.2.0",
          "state": {
            "_model_module": "@jupyter-widgets/base",
            "_model_module_version": "1.2.0",
            "_model_name": "LayoutModel",
            "_view_count": null,
            "_view_module": "@jupyter-widgets/base",
            "_view_module_version": "1.2.0",
            "_view_name": "LayoutView",
            "align_content": null,
            "align_items": null,
            "align_self": null,
            "border": null,
            "bottom": null,
            "display": null,
            "flex": null,
            "flex_flow": null,
            "grid_area": null,
            "grid_auto_columns": null,
            "grid_auto_flow": null,
            "grid_auto_rows": null,
            "grid_column": null,
            "grid_gap": null,
            "grid_row": null,
            "grid_template_areas": null,
            "grid_template_columns": null,
            "grid_template_rows": null,
            "height": null,
            "justify_content": null,
            "justify_items": null,
            "left": null,
            "margin": null,
            "max_height": null,
            "max_width": null,
            "min_height": null,
            "min_width": null,
            "object_fit": null,
            "object_position": null,
            "order": null,
            "overflow": null,
            "overflow_x": null,
            "overflow_y": null,
            "padding": null,
            "right": null,
            "top": null,
            "visibility": null,
            "width": null
          }
        },
        "87b720bc65774248bea86117f3690661": {
          "model_module": "@jupyter-widgets/controls",
          "model_name": "DescriptionStyleModel",
          "model_module_version": "1.5.0",
          "state": {
            "_model_module": "@jupyter-widgets/controls",
            "_model_module_version": "1.5.0",
            "_model_name": "DescriptionStyleModel",
            "_view_count": null,
            "_view_module": "@jupyter-widgets/base",
            "_view_module_version": "1.2.0",
            "_view_name": "StyleView",
            "description_width": ""
          }
        },
        "e94a68d294ca473bb7ca530ff6976ffe": {
          "model_module": "@jupyter-widgets/controls",
          "model_name": "HBoxModel",
          "model_module_version": "1.5.0",
          "state": {
            "_dom_classes": [],
            "_model_module": "@jupyter-widgets/controls",
            "_model_module_version": "1.5.0",
            "_model_name": "HBoxModel",
            "_view_count": null,
            "_view_module": "@jupyter-widgets/controls",
            "_view_module_version": "1.5.0",
            "_view_name": "HBoxView",
            "box_style": "",
            "children": [
              "IPY_MODEL_01c355c177a34836a2d9a0b59a0705c7",
              "IPY_MODEL_42fc0b63fe0c4676a367c0752f010591",
              "IPY_MODEL_e1545e058a0f4791aa697ba596301ff8"
            ],
            "layout": "IPY_MODEL_ce839f52fb38449496c401c92bed3807"
          }
        },
        "01c355c177a34836a2d9a0b59a0705c7": {
          "model_module": "@jupyter-widgets/controls",
          "model_name": "HTMLModel",
          "model_module_version": "1.5.0",
          "state": {
            "_dom_classes": [],
            "_model_module": "@jupyter-widgets/controls",
            "_model_module_version": "1.5.0",
            "_model_name": "HTMLModel",
            "_view_count": null,
            "_view_module": "@jupyter-widgets/controls",
            "_view_module_version": "1.5.0",
            "_view_name": "HTMLView",
            "description": "",
            "description_tooltip": null,
            "layout": "IPY_MODEL_00fdb0dbe2e94fba9b2eefa1feacff3f",
            "placeholder": "​",
            "style": "IPY_MODEL_36fbbd48de16488c8e52a0b61dcc3f35",
            "value": "Downloading pytorch_model.bin: 100%"
          }
        },
        "42fc0b63fe0c4676a367c0752f010591": {
          "model_module": "@jupyter-widgets/controls",
          "model_name": "FloatProgressModel",
          "model_module_version": "1.5.0",
          "state": {
            "_dom_classes": [],
            "_model_module": "@jupyter-widgets/controls",
            "_model_module_version": "1.5.0",
            "_model_name": "FloatProgressModel",
            "_view_count": null,
            "_view_module": "@jupyter-widgets/controls",
            "_view_module_version": "1.5.0",
            "_view_name": "ProgressView",
            "bar_style": "success",
            "description": "",
            "description_tooltip": null,
            "layout": "IPY_MODEL_2b24eaba85744e0da20fb3fef16c9453",
            "max": 1269737156,
            "min": 0,
            "orientation": "horizontal",
            "style": "IPY_MODEL_d7045cf368874f219f09bbdecd8d918e",
            "value": 1269737156
          }
        },
        "e1545e058a0f4791aa697ba596301ff8": {
          "model_module": "@jupyter-widgets/controls",
          "model_name": "HTMLModel",
          "model_module_version": "1.5.0",
          "state": {
            "_dom_classes": [],
            "_model_module": "@jupyter-widgets/controls",
            "_model_module_version": "1.5.0",
            "_model_name": "HTMLModel",
            "_view_count": null,
            "_view_module": "@jupyter-widgets/controls",
            "_view_module_version": "1.5.0",
            "_view_name": "HTMLView",
            "description": "",
            "description_tooltip": null,
            "layout": "IPY_MODEL_8f3beee7b97642608381ed9c597ea295",
            "placeholder": "​",
            "style": "IPY_MODEL_81db01912308421ca127b0e9b472afd5",
            "value": " 1.27G/1.27G [01:23&lt;00:00, 14.5MB/s]"
          }
        },
        "ce839f52fb38449496c401c92bed3807": {
          "model_module": "@jupyter-widgets/base",
          "model_name": "LayoutModel",
          "model_module_version": "1.2.0",
          "state": {
            "_model_module": "@jupyter-widgets/base",
            "_model_module_version": "1.2.0",
            "_model_name": "LayoutModel",
            "_view_count": null,
            "_view_module": "@jupyter-widgets/base",
            "_view_module_version": "1.2.0",
            "_view_name": "LayoutView",
            "align_content": null,
            "align_items": null,
            "align_self": null,
            "border": null,
            "bottom": null,
            "display": null,
            "flex": null,
            "flex_flow": null,
            "grid_area": null,
            "grid_auto_columns": null,
            "grid_auto_flow": null,
            "grid_auto_rows": null,
            "grid_column": null,
            "grid_gap": null,
            "grid_row": null,
            "grid_template_areas": null,
            "grid_template_columns": null,
            "grid_template_rows": null,
            "height": null,
            "justify_content": null,
            "justify_items": null,
            "left": null,
            "margin": null,
            "max_height": null,
            "max_width": null,
            "min_height": null,
            "min_width": null,
            "object_fit": null,
            "object_position": null,
            "order": null,
            "overflow": null,
            "overflow_x": null,
            "overflow_y": null,
            "padding": null,
            "right": null,
            "top": null,
            "visibility": null,
            "width": null
          }
        },
        "00fdb0dbe2e94fba9b2eefa1feacff3f": {
          "model_module": "@jupyter-widgets/base",
          "model_name": "LayoutModel",
          "model_module_version": "1.2.0",
          "state": {
            "_model_module": "@jupyter-widgets/base",
            "_model_module_version": "1.2.0",
            "_model_name": "LayoutModel",
            "_view_count": null,
            "_view_module": "@jupyter-widgets/base",
            "_view_module_version": "1.2.0",
            "_view_name": "LayoutView",
            "align_content": null,
            "align_items": null,
            "align_self": null,
            "border": null,
            "bottom": null,
            "display": null,
            "flex": null,
            "flex_flow": null,
            "grid_area": null,
            "grid_auto_columns": null,
            "grid_auto_flow": null,
            "grid_auto_rows": null,
            "grid_column": null,
            "grid_gap": null,
            "grid_row": null,
            "grid_template_areas": null,
            "grid_template_columns": null,
            "grid_template_rows": null,
            "height": null,
            "justify_content": null,
            "justify_items": null,
            "left": null,
            "margin": null,
            "max_height": null,
            "max_width": null,
            "min_height": null,
            "min_width": null,
            "object_fit": null,
            "object_position": null,
            "order": null,
            "overflow": null,
            "overflow_x": null,
            "overflow_y": null,
            "padding": null,
            "right": null,
            "top": null,
            "visibility": null,
            "width": null
          }
        },
        "36fbbd48de16488c8e52a0b61dcc3f35": {
          "model_module": "@jupyter-widgets/controls",
          "model_name": "DescriptionStyleModel",
          "model_module_version": "1.5.0",
          "state": {
            "_model_module": "@jupyter-widgets/controls",
            "_model_module_version": "1.5.0",
            "_model_name": "DescriptionStyleModel",
            "_view_count": null,
            "_view_module": "@jupyter-widgets/base",
            "_view_module_version": "1.2.0",
            "_view_name": "StyleView",
            "description_width": ""
          }
        },
        "2b24eaba85744e0da20fb3fef16c9453": {
          "model_module": "@jupyter-widgets/base",
          "model_name": "LayoutModel",
          "model_module_version": "1.2.0",
          "state": {
            "_model_module": "@jupyter-widgets/base",
            "_model_module_version": "1.2.0",
            "_model_name": "LayoutModel",
            "_view_count": null,
            "_view_module": "@jupyter-widgets/base",
            "_view_module_version": "1.2.0",
            "_view_name": "LayoutView",
            "align_content": null,
            "align_items": null,
            "align_self": null,
            "border": null,
            "bottom": null,
            "display": null,
            "flex": null,
            "flex_flow": null,
            "grid_area": null,
            "grid_auto_columns": null,
            "grid_auto_flow": null,
            "grid_auto_rows": null,
            "grid_column": null,
            "grid_gap": null,
            "grid_row": null,
            "grid_template_areas": null,
            "grid_template_columns": null,
            "grid_template_rows": null,
            "height": null,
            "justify_content": null,
            "justify_items": null,
            "left": null,
            "margin": null,
            "max_height": null,
            "max_width": null,
            "min_height": null,
            "min_width": null,
            "object_fit": null,
            "object_position": null,
            "order": null,
            "overflow": null,
            "overflow_x": null,
            "overflow_y": null,
            "padding": null,
            "right": null,
            "top": null,
            "visibility": null,
            "width": null
          }
        },
        "d7045cf368874f219f09bbdecd8d918e": {
          "model_module": "@jupyter-widgets/controls",
          "model_name": "ProgressStyleModel",
          "model_module_version": "1.5.0",
          "state": {
            "_model_module": "@jupyter-widgets/controls",
            "_model_module_version": "1.5.0",
            "_model_name": "ProgressStyleModel",
            "_view_count": null,
            "_view_module": "@jupyter-widgets/base",
            "_view_module_version": "1.2.0",
            "_view_name": "StyleView",
            "bar_color": null,
            "description_width": ""
          }
        },
        "8f3beee7b97642608381ed9c597ea295": {
          "model_module": "@jupyter-widgets/base",
          "model_name": "LayoutModel",
          "model_module_version": "1.2.0",
          "state": {
            "_model_module": "@jupyter-widgets/base",
            "_model_module_version": "1.2.0",
            "_model_name": "LayoutModel",
            "_view_count": null,
            "_view_module": "@jupyter-widgets/base",
            "_view_module_version": "1.2.0",
            "_view_name": "LayoutView",
            "align_content": null,
            "align_items": null,
            "align_self": null,
            "border": null,
            "bottom": null,
            "display": null,
            "flex": null,
            "flex_flow": null,
            "grid_area": null,
            "grid_auto_columns": null,
            "grid_auto_flow": null,
            "grid_auto_rows": null,
            "grid_column": null,
            "grid_gap": null,
            "grid_row": null,
            "grid_template_areas": null,
            "grid_template_columns": null,
            "grid_template_rows": null,
            "height": null,
            "justify_content": null,
            "justify_items": null,
            "left": null,
            "margin": null,
            "max_height": null,
            "max_width": null,
            "min_height": null,
            "min_width": null,
            "object_fit": null,
            "object_position": null,
            "order": null,
            "overflow": null,
            "overflow_x": null,
            "overflow_y": null,
            "padding": null,
            "right": null,
            "top": null,
            "visibility": null,
            "width": null
          }
        },
        "81db01912308421ca127b0e9b472afd5": {
          "model_module": "@jupyter-widgets/controls",
          "model_name": "DescriptionStyleModel",
          "model_module_version": "1.5.0",
          "state": {
            "_model_module": "@jupyter-widgets/controls",
            "_model_module_version": "1.5.0",
            "_model_name": "DescriptionStyleModel",
            "_view_count": null,
            "_view_module": "@jupyter-widgets/base",
            "_view_module_version": "1.2.0",
            "_view_name": "StyleView",
            "description_width": ""
          }
        }
      }
    }
  },
  "nbformat": 4,
  "nbformat_minor": 0
}